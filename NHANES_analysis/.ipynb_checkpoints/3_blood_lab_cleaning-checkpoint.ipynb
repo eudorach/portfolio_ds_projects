{
 "cells": [
  {
   "cell_type": "markdown",
   "id": "29bcfc20-25e9-46de-b91d-73fa6cc376c1",
   "metadata": {},
   "source": [
    "# Blood Lab Data Cleaning"
   ]
  },
  {
   "cell_type": "code",
   "execution_count": 1,
   "id": "9a5f40a9-1134-48bd-b328-752d0970c7d2",
   "metadata": {},
   "outputs": [
    {
     "name": "stdout",
     "output_type": "stream",
     "text": [
      "Requirement already satisfied: pyreadstat in c:\\users\\rschu\\anaconda3\\lib\\site-packages (1.3.0)\n",
      "Requirement already satisfied: pandas>=1.2.0 in c:\\users\\rschu\\anaconda3\\lib\\site-packages (from pyreadstat) (2.2.2)\n",
      "Requirement already satisfied: numpy>=1.26.0 in c:\\users\\rschu\\anaconda3\\lib\\site-packages (from pandas>=1.2.0->pyreadstat) (1.26.4)\n",
      "Requirement already satisfied: python-dateutil>=2.8.2 in c:\\users\\rschu\\anaconda3\\lib\\site-packages (from pandas>=1.2.0->pyreadstat) (2.9.0.post0)\n",
      "Requirement already satisfied: pytz>=2020.1 in c:\\users\\rschu\\anaconda3\\lib\\site-packages (from pandas>=1.2.0->pyreadstat) (2024.1)\n",
      "Requirement already satisfied: tzdata>=2022.7 in c:\\users\\rschu\\anaconda3\\lib\\site-packages (from pandas>=1.2.0->pyreadstat) (2023.3)\n",
      "Requirement already satisfied: six>=1.5 in c:\\users\\rschu\\anaconda3\\lib\\site-packages (from python-dateutil>=2.8.2->pandas>=1.2.0->pyreadstat) (1.16.0)\n"
     ]
    }
   ],
   "source": [
    "import pandas as pd\n",
    "import numpy as np\n",
    "import seaborn as sns\n",
    "import os\n",
    "!pip install pyreadstat\n",
    "import pyreadstat #since the data files are .xpt files, this library is needed to import the table\n",
    "import re\n",
    "import requests\n",
    "from bs4 import BeautifulSoup\n",
    "from nhanes_utils import to_snake_case, get_common_nan_ids, standardize_id_column, drop_rows_with_common_nan_ids"
   ]
  },
  {
   "cell_type": "markdown",
   "id": "a51eaa85-ee99-4657-9590-ca84d7f2bbc4",
   "metadata": {},
   "source": [
    "### Alpha-1-acid glycoprotein (AGP)\n",
    "\n",
    "Alpha-1-acid glycoprotein (AGP), also known as orosomucoid (ORM), is an acute-phase serum protein present in humans and many animal species. It is produced in response to inflammation, although its precise biological role remains under investigation and somewhat ambiguous [2]. According to Ceciliani et al. (2019), AGP may play a role in immunometabolism, a function potentially relevant to understanding the obesity epidemic in the U.S.\n",
    "\n",
    "In the NHANES dataset, AGP levels were measured in children aged 3–5 years and females aged 12–49 years. This data offers an opportunity to explore potential correlations between AGP serum concentrations and obesity prevalence among the female participants in the study."
   ]
  },
  {
   "cell_type": "code",
   "execution_count": 2,
   "id": "db22b0a3-e14d-49aa-93c4-7f714b7ffea4",
   "metadata": {},
   "outputs": [],
   "source": [
    "file_path = '2017-2020/blood/1.P_SSAGP.xpt'\n",
    "\n",
    "df_b1, meta = pyreadstat.read_xport(file_path)\n",
    "df_b1 = standardize_id_column(df_b1)"
   ]
  },
  {
   "cell_type": "code",
   "execution_count": 3,
   "id": "bee2938f-f742-48ed-84be-6fa6bf1f9231",
   "metadata": {},
   "outputs": [
    {
     "data": {
      "text/html": [
       "<div>\n",
       "<style scoped>\n",
       "    .dataframe tbody tr th:only-of-type {\n",
       "        vertical-align: middle;\n",
       "    }\n",
       "\n",
       "    .dataframe tbody tr th {\n",
       "        vertical-align: top;\n",
       "    }\n",
       "\n",
       "    .dataframe thead th {\n",
       "        text-align: right;\n",
       "    }\n",
       "</style>\n",
       "<table border=\"1\" class=\"dataframe\">\n",
       "  <thead>\n",
       "    <tr style=\"text-align: right;\">\n",
       "      <th></th>\n",
       "      <th>participant_id</th>\n",
       "      <th>WTSSAGPP</th>\n",
       "      <th>SSAGP</th>\n",
       "    </tr>\n",
       "  </thead>\n",
       "  <tbody>\n",
       "    <tr>\n",
       "      <th>0</th>\n",
       "      <td>109264.0</td>\n",
       "      <td>0.000000</td>\n",
       "      <td>NaN</td>\n",
       "    </tr>\n",
       "    <tr>\n",
       "      <th>1</th>\n",
       "      <td>109266.0</td>\n",
       "      <td>10003.783188</td>\n",
       "      <td>0.796</td>\n",
       "    </tr>\n",
       "    <tr>\n",
       "      <th>2</th>\n",
       "      <td>109277.0</td>\n",
       "      <td>23329.384783</td>\n",
       "      <td>0.746</td>\n",
       "    </tr>\n",
       "    <tr>\n",
       "      <th>3</th>\n",
       "      <td>109279.0</td>\n",
       "      <td>14416.168293</td>\n",
       "      <td>0.940</td>\n",
       "    </tr>\n",
       "    <tr>\n",
       "      <th>4</th>\n",
       "      <td>109284.0</td>\n",
       "      <td>17705.030492</td>\n",
       "      <td>1.080</td>\n",
       "    </tr>\n",
       "    <tr>\n",
       "      <th>5</th>\n",
       "      <td>109286.0</td>\n",
       "      <td>21951.734438</td>\n",
       "      <td>0.358</td>\n",
       "    </tr>\n",
       "    <tr>\n",
       "      <th>6</th>\n",
       "      <td>109288.0</td>\n",
       "      <td>0.000000</td>\n",
       "      <td>NaN</td>\n",
       "    </tr>\n",
       "    <tr>\n",
       "      <th>7</th>\n",
       "      <td>109291.0</td>\n",
       "      <td>25981.105960</td>\n",
       "      <td>0.766</td>\n",
       "    </tr>\n",
       "    <tr>\n",
       "      <th>8</th>\n",
       "      <td>109297.0</td>\n",
       "      <td>0.000000</td>\n",
       "      <td>NaN</td>\n",
       "    </tr>\n",
       "    <tr>\n",
       "      <th>9</th>\n",
       "      <td>109309.0</td>\n",
       "      <td>0.000000</td>\n",
       "      <td>NaN</td>\n",
       "    </tr>\n",
       "  </tbody>\n",
       "</table>\n",
       "</div>"
      ],
      "text/plain": [
       "   participant_id      WTSSAGPP  SSAGP\n",
       "0        109264.0      0.000000    NaN\n",
       "1        109266.0  10003.783188  0.796\n",
       "2        109277.0  23329.384783  0.746\n",
       "3        109279.0  14416.168293  0.940\n",
       "4        109284.0  17705.030492  1.080\n",
       "5        109286.0  21951.734438  0.358\n",
       "6        109288.0      0.000000    NaN\n",
       "7        109291.0  25981.105960  0.766\n",
       "8        109297.0      0.000000    NaN\n",
       "9        109309.0      0.000000    NaN"
      ]
     },
     "execution_count": 3,
     "metadata": {},
     "output_type": "execute_result"
    }
   ],
   "source": [
    "df_b1.head(10)"
   ]
  },
  {
   "cell_type": "code",
   "execution_count": 4,
   "id": "43fbb55a-ef73-4202-a154-ebc9fad489cc",
   "metadata": {},
   "outputs": [
    {
     "data": {
      "text/plain": [
       "(3823, 3)"
      ]
     },
     "execution_count": 4,
     "metadata": {},
     "output_type": "execute_result"
    }
   ],
   "source": [
    "df_b1.shape"
   ]
  },
  {
   "cell_type": "code",
   "execution_count": 5,
   "id": "8bf65020-e67d-4f94-8101-45abed7db331",
   "metadata": {},
   "outputs": [],
   "source": [
    "df_b1 = df_b1.rename(columns={\n",
    "    'SSAGP': 'alpha_1_agp_g_l'\n",
    "})"
   ]
  },
  {
   "cell_type": "code",
   "execution_count": 6,
   "id": "b6c60404-bf5e-4480-bcf2-1d0bed8f18f5",
   "metadata": {},
   "outputs": [
    {
     "data": {
      "text/html": [
       "<div>\n",
       "<style scoped>\n",
       "    .dataframe tbody tr th:only-of-type {\n",
       "        vertical-align: middle;\n",
       "    }\n",
       "\n",
       "    .dataframe tbody tr th {\n",
       "        vertical-align: top;\n",
       "    }\n",
       "\n",
       "    .dataframe thead th {\n",
       "        text-align: right;\n",
       "    }\n",
       "</style>\n",
       "<table border=\"1\" class=\"dataframe\">\n",
       "  <thead>\n",
       "    <tr style=\"text-align: right;\">\n",
       "      <th></th>\n",
       "      <th>participant_id</th>\n",
       "      <th>WTSSAGPP</th>\n",
       "      <th>alpha_1_agp_g_l</th>\n",
       "    </tr>\n",
       "  </thead>\n",
       "  <tbody>\n",
       "    <tr>\n",
       "      <th>0</th>\n",
       "      <td>109264.0</td>\n",
       "      <td>0.000000</td>\n",
       "      <td>NaN</td>\n",
       "    </tr>\n",
       "    <tr>\n",
       "      <th>1</th>\n",
       "      <td>109266.0</td>\n",
       "      <td>10003.783188</td>\n",
       "      <td>0.796</td>\n",
       "    </tr>\n",
       "    <tr>\n",
       "      <th>2</th>\n",
       "      <td>109277.0</td>\n",
       "      <td>23329.384783</td>\n",
       "      <td>0.746</td>\n",
       "    </tr>\n",
       "    <tr>\n",
       "      <th>3</th>\n",
       "      <td>109279.0</td>\n",
       "      <td>14416.168293</td>\n",
       "      <td>0.940</td>\n",
       "    </tr>\n",
       "    <tr>\n",
       "      <th>4</th>\n",
       "      <td>109284.0</td>\n",
       "      <td>17705.030492</td>\n",
       "      <td>1.080</td>\n",
       "    </tr>\n",
       "  </tbody>\n",
       "</table>\n",
       "</div>"
      ],
      "text/plain": [
       "   participant_id      WTSSAGPP  alpha_1_agp_g_l\n",
       "0        109264.0      0.000000              NaN\n",
       "1        109266.0  10003.783188            0.796\n",
       "2        109277.0  23329.384783            0.746\n",
       "3        109279.0  14416.168293            0.940\n",
       "4        109284.0  17705.030492            1.080"
      ]
     },
     "execution_count": 6,
     "metadata": {},
     "output_type": "execute_result"
    }
   ],
   "source": [
    "df_b1.head()"
   ]
  },
  {
   "cell_type": "code",
   "execution_count": 7,
   "id": "def2657d-2f13-413a-adda-3a10d11763ac",
   "metadata": {},
   "outputs": [],
   "source": [
    "df_b1 = df_b1.drop('WTSSAGPP', axis=1)"
   ]
  },
  {
   "cell_type": "code",
   "execution_count": 8,
   "id": "37bc8281-5b96-4aed-9e2c-fe01ad2bd29f",
   "metadata": {},
   "outputs": [],
   "source": [
    "df_b1 = df_b1.dropna(subset = ['alpha_1_agp_g_l'])"
   ]
  },
  {
   "cell_type": "code",
   "execution_count": 9,
   "id": "22bc5a59-886a-46e6-90d3-ac3d4d262599",
   "metadata": {},
   "outputs": [
    {
     "data": {
      "text/html": [
       "<div>\n",
       "<style scoped>\n",
       "    .dataframe tbody tr th:only-of-type {\n",
       "        vertical-align: middle;\n",
       "    }\n",
       "\n",
       "    .dataframe tbody tr th {\n",
       "        vertical-align: top;\n",
       "    }\n",
       "\n",
       "    .dataframe thead th {\n",
       "        text-align: right;\n",
       "    }\n",
       "</style>\n",
       "<table border=\"1\" class=\"dataframe\">\n",
       "  <thead>\n",
       "    <tr style=\"text-align: right;\">\n",
       "      <th></th>\n",
       "      <th>participant_id</th>\n",
       "      <th>alpha_1_agp_g_l</th>\n",
       "    </tr>\n",
       "  </thead>\n",
       "  <tbody>\n",
       "    <tr>\n",
       "      <th>1</th>\n",
       "      <td>109266.0</td>\n",
       "      <td>0.796</td>\n",
       "    </tr>\n",
       "    <tr>\n",
       "      <th>2</th>\n",
       "      <td>109277.0</td>\n",
       "      <td>0.746</td>\n",
       "    </tr>\n",
       "    <tr>\n",
       "      <th>3</th>\n",
       "      <td>109279.0</td>\n",
       "      <td>0.940</td>\n",
       "    </tr>\n",
       "    <tr>\n",
       "      <th>4</th>\n",
       "      <td>109284.0</td>\n",
       "      <td>1.080</td>\n",
       "    </tr>\n",
       "    <tr>\n",
       "      <th>5</th>\n",
       "      <td>109286.0</td>\n",
       "      <td>0.358</td>\n",
       "    </tr>\n",
       "  </tbody>\n",
       "</table>\n",
       "</div>"
      ],
      "text/plain": [
       "   participant_id  alpha_1_agp_g_l\n",
       "1        109266.0            0.796\n",
       "2        109277.0            0.746\n",
       "3        109279.0            0.940\n",
       "4        109284.0            1.080\n",
       "5        109286.0            0.358"
      ]
     },
     "execution_count": 9,
     "metadata": {},
     "output_type": "execute_result"
    }
   ],
   "source": [
    "df_b1.head(5)"
   ]
  },
  {
   "cell_type": "markdown",
   "id": "57f71d88-d77f-4656-b807-d3ccc23b60a2",
   "metadata": {},
   "source": [
    "### Lipid Panel\n",
    "\n",
    "Lipids are essential molecules that support a range of physiological functions, including hormone production and cellular structure. However, excessive lipid levels—particularly certain types—are associated with increased risk of cardiovascular disease.\n",
    "\n",
    "To assess lipid status, a fasting lipid panel is commonly used. This test typically includes measurements of:\n",
    "- LDL (low-density lipoprotein, or “bad” cholesterol),\n",
    "- HDL (high-density lipoprotein, or “good” cholesterol),\n",
    "- Total cholesterol, and\n",
    "- Triglycerides\n",
    "\n",
    "The NHANES dataset includes all of these values, enabling analysis of lipid profiles across a large representative population. This section focuses on cleaning and preparing these variables for analysis."
   ]
  },
  {
   "cell_type": "code",
   "execution_count": 10,
   "id": "740b7005-1f15-43ab-aec0-5f872cab4ba7",
   "metadata": {},
   "outputs": [],
   "source": [
    "file_path = '2017-2020/blood/2.P_HDL.xpt'\n",
    "\n",
    "df_b2, meta = pyreadstat.read_xport(file_path)\n",
    "df_b2 = standardize_id_column(df_b2)"
   ]
  },
  {
   "cell_type": "code",
   "execution_count": 11,
   "id": "86aed9ae-9371-4f1a-9506-f618e73b70b2",
   "metadata": {},
   "outputs": [
    {
     "data": {
      "text/html": [
       "<div>\n",
       "<style scoped>\n",
       "    .dataframe tbody tr th:only-of-type {\n",
       "        vertical-align: middle;\n",
       "    }\n",
       "\n",
       "    .dataframe tbody tr th {\n",
       "        vertical-align: top;\n",
       "    }\n",
       "\n",
       "    .dataframe thead th {\n",
       "        text-align: right;\n",
       "    }\n",
       "</style>\n",
       "<table border=\"1\" class=\"dataframe\">\n",
       "  <thead>\n",
       "    <tr style=\"text-align: right;\">\n",
       "      <th></th>\n",
       "      <th>participant_id</th>\n",
       "      <th>LBDHDD</th>\n",
       "      <th>LBDHDDSI</th>\n",
       "    </tr>\n",
       "  </thead>\n",
       "  <tbody>\n",
       "    <tr>\n",
       "      <th>0</th>\n",
       "      <td>109264.0</td>\n",
       "      <td>72.0</td>\n",
       "      <td>1.86</td>\n",
       "    </tr>\n",
       "    <tr>\n",
       "      <th>1</th>\n",
       "      <td>109266.0</td>\n",
       "      <td>56.0</td>\n",
       "      <td>1.45</td>\n",
       "    </tr>\n",
       "    <tr>\n",
       "      <th>2</th>\n",
       "      <td>109270.0</td>\n",
       "      <td>47.0</td>\n",
       "      <td>1.22</td>\n",
       "    </tr>\n",
       "    <tr>\n",
       "      <th>3</th>\n",
       "      <td>109271.0</td>\n",
       "      <td>33.0</td>\n",
       "      <td>0.85</td>\n",
       "    </tr>\n",
       "    <tr>\n",
       "      <th>4</th>\n",
       "      <td>109273.0</td>\n",
       "      <td>42.0</td>\n",
       "      <td>1.09</td>\n",
       "    </tr>\n",
       "  </tbody>\n",
       "</table>\n",
       "</div>"
      ],
      "text/plain": [
       "   participant_id  LBDHDD  LBDHDDSI\n",
       "0        109264.0    72.0      1.86\n",
       "1        109266.0    56.0      1.45\n",
       "2        109270.0    47.0      1.22\n",
       "3        109271.0    33.0      0.85\n",
       "4        109273.0    42.0      1.09"
      ]
     },
     "execution_count": 11,
     "metadata": {},
     "output_type": "execute_result"
    }
   ],
   "source": [
    "df_b2.head()"
   ]
  },
  {
   "cell_type": "code",
   "execution_count": 12,
   "id": "8bec8aee-6e7b-4142-8931-e20a2c23a4b7",
   "metadata": {},
   "outputs": [],
   "source": [
    "df_b2 = df_b2.rename(columns ={\n",
    "    'LBDHDD':'direct_hdl_mg_dl',\n",
    "    'LBDHDDSI':'direct_hdl_mmol_l'\n",
    "})"
   ]
  },
  {
   "cell_type": "code",
   "execution_count": 13,
   "id": "2e5f2be7-1aa6-4eae-8c38-963d217b7a41",
   "metadata": {
    "tags": []
   },
   "outputs": [
    {
     "data": {
      "text/plain": [
       "participant_id          0\n",
       "direct_hdl_mg_dl     1370\n",
       "direct_hdl_mmol_l    1370\n",
       "dtype: int64"
      ]
     },
     "execution_count": 13,
     "metadata": {},
     "output_type": "execute_result"
    }
   ],
   "source": [
    "df_b2.isnull().sum()"
   ]
  },
  {
   "cell_type": "code",
   "execution_count": 14,
   "id": "440b5430-1838-4494-8bd4-38e79f508051",
   "metadata": {},
   "outputs": [
    {
     "name": "stdout",
     "output_type": "stream",
     "text": [
      "Number of NaNs in direct_hdl_mg_dl: 1370\n",
      "Number of NaNs in direct_hdl_mmol_l: 1370\n",
      "Number of IDs with NaNs in both columns: 1370\n"
     ]
    }
   ],
   "source": [
    "common_nan = get_common_nan_ids(df_b2, 'direct_hdl_mg_dl', 'direct_hdl_mmol_l', id_col='participant_id')"
   ]
  },
  {
   "cell_type": "code",
   "execution_count": 15,
   "id": "6fc8813b-430a-4e5e-b010-305c5427d2e8",
   "metadata": {},
   "outputs": [
    {
     "name": "stdout",
     "output_type": "stream",
     "text": [
      "Rows dropped where both direct_hdl_mg_dl and direct_hdl_mmol_l were NaN: 1370\n"
     ]
    }
   ],
   "source": [
    "df_b2 = drop_rows_with_common_nan_ids(df_b2, 'direct_hdl_mg_dl', 'direct_hdl_mmol_l', id_col='participant_id')"
   ]
  },
  {
   "cell_type": "code",
   "execution_count": 16,
   "id": "734d3a98-262d-4a51-a4f2-b5a74efa7ebf",
   "metadata": {},
   "outputs": [],
   "source": [
    "file_path = '2017-2020/blood/3.P_TRIGLY.xpt'\n",
    "\n",
    "df_b3, meta = pyreadstat.read_xport(file_path)\n",
    "df_b3 = standardize_id_column(df_b3)"
   ]
  },
  {
   "cell_type": "code",
   "execution_count": 17,
   "id": "75330e04-e0ca-4451-8580-b41427f50924",
   "metadata": {},
   "outputs": [
    {
     "data": {
      "text/plain": [
       "['participant_id',\n",
       " 'WTSAFPRP',\n",
       " 'LBXTR',\n",
       " 'LBDTRSI',\n",
       " 'LBDLDL',\n",
       " 'LBDLDLSI',\n",
       " 'LBDLDLM',\n",
       " 'LBDLDMSI',\n",
       " 'LBDLDLN',\n",
       " 'LBDLDNSI']"
      ]
     },
     "execution_count": 17,
     "metadata": {},
     "output_type": "execute_result"
    }
   ],
   "source": [
    "df_b3.columns.to_list()"
   ]
  },
  {
   "cell_type": "code",
   "execution_count": 18,
   "id": "595c628f-9962-48bf-8fba-ef36696f7b0b",
   "metadata": {},
   "outputs": [],
   "source": [
    "df_b3 = df_b3.rename(columns={\n",
    "    'LBXTR':'triglyceride_mg_dl',\n",
    "    'LBDTRSI':'triglyceride_mmol_l',\n",
    "    'LBDLDL':'ldl_friedewald_mg_dl',\n",
    "    'LBDLDLSI':'ldl_friedwalkd_mmol_l',\n",
    "    'LBDLDLM': 'ldl_martin_hopkins_mg_dl',\n",
    "    'LBDLDMSI': 'ldl_martin_hopkins_mmol_l',\n",
    "    'LBDLDLN':'ldl_nih_mg_dl',\n",
    "    'LBDLDNSI':'ldl_nih_mmol_l'\n",
    "})"
   ]
  },
  {
   "cell_type": "code",
   "execution_count": 19,
   "id": "e6e4e8fc-3f0f-4526-b3bb-6e159c0be2d2",
   "metadata": {},
   "outputs": [],
   "source": [
    "df_b3 = df_b3.drop('WTSAFPRP', axis=1)"
   ]
  },
  {
   "cell_type": "code",
   "execution_count": 20,
   "id": "a01bd5ef-0b01-45b0-a4e2-a26b7bfbb383",
   "metadata": {},
   "outputs": [
    {
     "data": {
      "text/plain": [
       "participant_id                 0\n",
       "triglyceride_mg_dl           440\n",
       "triglyceride_mmol_l          440\n",
       "ldl_friedewald_mg_dl         473\n",
       "ldl_friedwalkd_mmol_l        473\n",
       "ldl_martin_hopkins_mg_dl     473\n",
       "ldl_martin_hopkins_mmol_l    473\n",
       "ldl_nih_mg_dl                448\n",
       "ldl_nih_mmol_l               448\n",
       "dtype: int64"
      ]
     },
     "execution_count": 20,
     "metadata": {},
     "output_type": "execute_result"
    }
   ],
   "source": [
    "df_b3.isnull().sum()"
   ]
  },
  {
   "cell_type": "code",
   "execution_count": 21,
   "id": "d771daf4-3526-44ac-b461-4a030a5ed857",
   "metadata": {},
   "outputs": [
    {
     "name": "stdout",
     "output_type": "stream",
     "text": [
      "Number of rows missing all cholesterol values: 440\n"
     ]
    }
   ],
   "source": [
    "value_cols = [col for col in df_b3.columns if col != 'participant_id']\n",
    "rows_all_nan = df_b3[value_cols].isna().all(axis=1)\n",
    "print(f\"Number of rows missing all cholesterol values: {rows_all_nan.sum()}\")"
   ]
  },
  {
   "cell_type": "code",
   "execution_count": 22,
   "id": "d74aa95f-6b6a-40b7-a461-b1446b28d768",
   "metadata": {},
   "outputs": [
    {
     "name": "stdout",
     "output_type": "stream",
     "text": [
      "Number of rows dropped: 440\n"
     ]
    }
   ],
   "source": [
    "# Drop rows where all value columns are NaN (excluding participant_id)\n",
    "df_b3_cleaned = df_b3[~rows_all_nan].copy()\n",
    "\n",
    "print(f\"Number of rows dropped: {rows_all_nan.sum()}\")"
   ]
  },
  {
   "cell_type": "code",
   "execution_count": 23,
   "id": "bb135b85-f330-4a9d-abea-3be2f4f31a1d",
   "metadata": {},
   "outputs": [],
   "source": [
    "file_path = '2017-2020/blood/4.P_TCHOL.xpt'\n",
    "\n",
    "df_b4, meta = pyreadstat.read_xport(file_path)\n",
    "df_b4 = standardize_id_column(df_b4)"
   ]
  },
  {
   "cell_type": "code",
   "execution_count": 24,
   "id": "2274f9e4-54b2-4aea-8ce0-f29696d9d39d",
   "metadata": {},
   "outputs": [
    {
     "data": {
      "text/html": [
       "<div>\n",
       "<style scoped>\n",
       "    .dataframe tbody tr th:only-of-type {\n",
       "        vertical-align: middle;\n",
       "    }\n",
       "\n",
       "    .dataframe tbody tr th {\n",
       "        vertical-align: top;\n",
       "    }\n",
       "\n",
       "    .dataframe thead th {\n",
       "        text-align: right;\n",
       "    }\n",
       "</style>\n",
       "<table border=\"1\" class=\"dataframe\">\n",
       "  <thead>\n",
       "    <tr style=\"text-align: right;\">\n",
       "      <th></th>\n",
       "      <th>participant_id</th>\n",
       "      <th>LBXTC</th>\n",
       "      <th>LBDTCSI</th>\n",
       "    </tr>\n",
       "  </thead>\n",
       "  <tbody>\n",
       "    <tr>\n",
       "      <th>0</th>\n",
       "      <td>109264.0</td>\n",
       "      <td>166.0</td>\n",
       "      <td>4.29</td>\n",
       "    </tr>\n",
       "    <tr>\n",
       "      <th>1</th>\n",
       "      <td>109266.0</td>\n",
       "      <td>195.0</td>\n",
       "      <td>5.04</td>\n",
       "    </tr>\n",
       "    <tr>\n",
       "      <th>2</th>\n",
       "      <td>109270.0</td>\n",
       "      <td>103.0</td>\n",
       "      <td>2.66</td>\n",
       "    </tr>\n",
       "    <tr>\n",
       "      <th>3</th>\n",
       "      <td>109271.0</td>\n",
       "      <td>147.0</td>\n",
       "      <td>3.80</td>\n",
       "    </tr>\n",
       "    <tr>\n",
       "      <th>4</th>\n",
       "      <td>109273.0</td>\n",
       "      <td>164.0</td>\n",
       "      <td>4.24</td>\n",
       "    </tr>\n",
       "  </tbody>\n",
       "</table>\n",
       "</div>"
      ],
      "text/plain": [
       "   participant_id  LBXTC  LBDTCSI\n",
       "0        109264.0  166.0     4.29\n",
       "1        109266.0  195.0     5.04\n",
       "2        109270.0  103.0     2.66\n",
       "3        109271.0  147.0     3.80\n",
       "4        109273.0  164.0     4.24"
      ]
     },
     "execution_count": 24,
     "metadata": {},
     "output_type": "execute_result"
    }
   ],
   "source": [
    "df_b4.head()"
   ]
  },
  {
   "cell_type": "code",
   "execution_count": 25,
   "id": "a1972125-5dca-4f63-8637-3ff3b9e92086",
   "metadata": {},
   "outputs": [],
   "source": [
    "df_b4 = df_b4.rename(columns={\n",
    "    'LBXTC': 'total_cholesterol_mg_dl',\n",
    "    'LBDTCSI':'total_cholesterol_mmol_l'\n",
    "})"
   ]
  },
  {
   "cell_type": "code",
   "execution_count": 26,
   "id": "95801a14-087e-4dd3-be19-abcf72612e25",
   "metadata": {},
   "outputs": [
    {
     "data": {
      "text/plain": [
       "participant_id                 0\n",
       "total_cholesterol_mg_dl     1370\n",
       "total_cholesterol_mmol_l    1370\n",
       "dtype: int64"
      ]
     },
     "execution_count": 26,
     "metadata": {},
     "output_type": "execute_result"
    }
   ],
   "source": [
    "df_b4.isnull().sum()"
   ]
  },
  {
   "cell_type": "code",
   "execution_count": 27,
   "id": "2441a69e-1cfb-408a-84f9-2c968568aa3e",
   "metadata": {},
   "outputs": [
    {
     "name": "stdout",
     "output_type": "stream",
     "text": [
      "Number of NaNs in total_cholesterol_mg_dl: 1370\n",
      "Number of NaNs in total_cholesterol_mmol_l: 1370\n",
      "Number of IDs with NaNs in both columns: 1370\n"
     ]
    }
   ],
   "source": [
    "common_nan = get_common_nan_ids(df_b4, 'total_cholesterol_mg_dl', 'total_cholesterol_mmol_l', id_col='participant_id')"
   ]
  },
  {
   "cell_type": "code",
   "execution_count": 28,
   "id": "8d0f7811-ba83-4500-a4af-83e759b61f25",
   "metadata": {},
   "outputs": [
    {
     "name": "stdout",
     "output_type": "stream",
     "text": [
      "Rows dropped where both total_cholesterol_mg_dl and total_cholesterol_mmol_l were NaN: 1370\n"
     ]
    }
   ],
   "source": [
    "df_b4 = drop_rows_with_common_nan_ids(df_b4, 'total_cholesterol_mg_dl', 'total_cholesterol_mmol_l', id_col='participant_id')"
   ]
  },
  {
   "cell_type": "markdown",
   "id": "8632ceef-94db-4390-81b4-2171a1fa3181",
   "metadata": {},
   "source": [
    "**Chromium and Cobalt (Blood)**\n",
    "\n",
    "NHANES data on chromium and cobalt levels were collected on patients aged 40-150 years old. "
   ]
  },
  {
   "cell_type": "code",
   "execution_count": 29,
   "id": "66523941-a91b-4625-a777-ff58850e856f",
   "metadata": {},
   "outputs": [],
   "source": [
    "file_path = '2017-2020/blood/5.P_CRCO.xpt'\n",
    "\n",
    "df_b5, meta = pyreadstat.read_xport(file_path)\n",
    "df_b5 = standardize_id_column(df_b5)"
   ]
  },
  {
   "cell_type": "code",
   "execution_count": 30,
   "id": "f0405074-33ea-4e8c-8ca4-69ade7ca1d80",
   "metadata": {},
   "outputs": [
    {
     "data": {
      "text/plain": [
       "['participant_id',\n",
       " 'LBXBCR',\n",
       " 'LBDBCRSI',\n",
       " 'LBDBCRLC',\n",
       " 'LBXBCO',\n",
       " 'LBDBCOSI',\n",
       " 'LBDBCOLC']"
      ]
     },
     "execution_count": 30,
     "metadata": {},
     "output_type": "execute_result"
    }
   ],
   "source": [
    "df_b5.columns.to_list()"
   ]
  },
  {
   "cell_type": "code",
   "execution_count": 31,
   "id": "45a05862-b871-4028-a491-5506d1abc9f2",
   "metadata": {},
   "outputs": [],
   "source": [
    "df_b5 = df_b5.rename(columns={\n",
    "    'LBXBCR':'chromium_blood_ug_l', \n",
    "    'LBDBCRSI': 'chromium_blood_nmol_l',\n",
    "    'LBDBCRLC':'chromium_blood_comment', \n",
    "    'LBXBCO':'cobalt_blood_ug_l', \n",
    "    'LBDBCOSI':'cobalt_blood_nmol_l', \n",
    "    'LBDBCOLC' :'cobalt_blood_comment'\n",
    "})"
   ]
  },
  {
   "cell_type": "code",
   "execution_count": 32,
   "id": "c99cc0bf-f56b-49f0-bbd5-5a1e86606023",
   "metadata": {},
   "outputs": [
    {
     "data": {
      "text/plain": [
       "participant_id              0\n",
       "chromium_blood_ug_l       302\n",
       "chromium_blood_nmol_l     302\n",
       "chromium_blood_comment    302\n",
       "cobalt_blood_ug_l         299\n",
       "cobalt_blood_nmol_l       299\n",
       "cobalt_blood_comment      299\n",
       "dtype: int64"
      ]
     },
     "execution_count": 32,
     "metadata": {},
     "output_type": "execute_result"
    }
   ],
   "source": [
    "df_b5.isnull().sum()"
   ]
  },
  {
   "cell_type": "code",
   "execution_count": 33,
   "id": "876d95f7-b7f4-4848-af70-7493e399d917",
   "metadata": {},
   "outputs": [
    {
     "name": "stdout",
     "output_type": "stream",
     "text": [
      "Number of NaNs in chromium_blood_ug_l: 302\n",
      "Number of NaNs in cobalt_blood_ug_l: 299\n",
      "Number of IDs with NaNs in both columns: 297\n"
     ]
    }
   ],
   "source": [
    "common_nan = get_common_nan_ids(df_b5, 'chromium_blood_ug_l', 'cobalt_blood_ug_l', id_col='participant_id')"
   ]
  },
  {
   "cell_type": "code",
   "execution_count": 34,
   "id": "449d1614-2242-4308-9d94-4a5390629f68",
   "metadata": {},
   "outputs": [
    {
     "name": "stdout",
     "output_type": "stream",
     "text": [
      "Rows dropped where both chromium_blood_ug_l and cobalt_blood_ug_l were NaN: 297\n"
     ]
    }
   ],
   "source": [
    "df_b5 = drop_rows_with_common_nan_ids(df_b5, 'chromium_blood_ug_l', 'cobalt_blood_ug_l', id_col='participant_id')"
   ]
  },
  {
   "cell_type": "markdown",
   "id": "0c36ef50-73ed-47d5-959e-fd765d39126a",
   "metadata": {},
   "source": [
    "### Complete Blood Count with Differential\n",
    "\n",
    "CBC with diff is the most common blood work that is ordered for a baseline lab. CBC can be useful to assess the patients for acute inflammation in the body and anemia. \n",
    "\n",
    "There are many values that are extracted and assessed through the CBC panel. To more efficiently extract the information, the decision was made to utilize webscraping rather than individually typing out each lab value. The units for each of the columns is included in the README file for this project."
   ]
  },
  {
   "cell_type": "code",
   "execution_count": 35,
   "id": "8cde4c8a-ec30-4c4a-9c19-cb7dad8f2186",
   "metadata": {},
   "outputs": [],
   "source": [
    "file_path = '2017-2020/blood/6.P_CBC.xpt'\n",
    "\n",
    "df_b6, meta = pyreadstat.read_xport(file_path)\n",
    "df_b6 = standardize_id_column(df_b6)"
   ]
  },
  {
   "cell_type": "code",
   "execution_count": 36,
   "id": "e5aa61d7-a5fb-48ae-8bc1-9959857838c2",
   "metadata": {},
   "outputs": [],
   "source": [
    "url = \"https://wwwn.cdc.gov/Nchs/Data/Nhanes/Public/2017/DataFiles/P_CBC.htm\"\n",
    "\n",
    "df_info_raw = pd.read_html(url)[0]\n",
    "\n",
    "# Use the first row as the header\n",
    "df_info_raw.columns = df_info_raw.iloc[0]\n",
    "df_info = df_info_raw.drop(index=0).reset_index(drop=True)"
   ]
  },
  {
   "cell_type": "code",
   "execution_count": 37,
   "id": "17ece0cd-111b-41c8-ba74-5e49ab5a64ea",
   "metadata": {},
   "outputs": [
    {
     "data": {
      "text/html": [
       "<div>\n",
       "<style scoped>\n",
       "    .dataframe tbody tr th:only-of-type {\n",
       "        vertical-align: middle;\n",
       "    }\n",
       "\n",
       "    .dataframe tbody tr th {\n",
       "        vertical-align: top;\n",
       "    }\n",
       "\n",
       "    .dataframe thead th {\n",
       "        text-align: right;\n",
       "    }\n",
       "</style>\n",
       "<table border=\"1\" class=\"dataframe\">\n",
       "  <thead>\n",
       "    <tr style=\"text-align: right;\">\n",
       "      <th></th>\n",
       "      <th>Variable  Name</th>\n",
       "      <th>Analyte  Description</th>\n",
       "      <th>LLOD</th>\n",
       "      <th>ULOD</th>\n",
       "      <th>Units</th>\n",
       "    </tr>\n",
       "  </thead>\n",
       "  <tbody>\n",
       "    <tr>\n",
       "      <th>0</th>\n",
       "      <td>LBXWBCSI</td>\n",
       "      <td>White blood cell count</td>\n",
       "      <td>0.020</td>\n",
       "      <td>363.000</td>\n",
       "      <td>x  103 cells/uL</td>\n",
       "    </tr>\n",
       "    <tr>\n",
       "      <th>1</th>\n",
       "      <td>LBXLYPCT</td>\n",
       "      <td>Lymphocyte percent</td>\n",
       "      <td>0.00</td>\n",
       "      <td>100.00</td>\n",
       "      <td>%</td>\n",
       "    </tr>\n",
       "    <tr>\n",
       "      <th>2</th>\n",
       "      <td>LBXMOPCT</td>\n",
       "      <td>Monocyte percent</td>\n",
       "      <td>0.00</td>\n",
       "      <td>100.00</td>\n",
       "      <td>%</td>\n",
       "    </tr>\n",
       "    <tr>\n",
       "      <th>3</th>\n",
       "      <td>LBXNEPCT</td>\n",
       "      <td>Segmented neutrophils percent</td>\n",
       "      <td>0.00</td>\n",
       "      <td>100.00</td>\n",
       "      <td>%</td>\n",
       "    </tr>\n",
       "    <tr>\n",
       "      <th>4</th>\n",
       "      <td>LBXEOPCT</td>\n",
       "      <td>Eosinophils percent</td>\n",
       "      <td>0.00</td>\n",
       "      <td>100.00</td>\n",
       "      <td>%</td>\n",
       "    </tr>\n",
       "  </tbody>\n",
       "</table>\n",
       "</div>"
      ],
      "text/plain": [
       "0 Variable  Name           Analyte  Description   LLOD     ULOD  \\\n",
       "0       LBXWBCSI         White blood cell count  0.020  363.000   \n",
       "1       LBXLYPCT             Lymphocyte percent   0.00   100.00   \n",
       "2       LBXMOPCT               Monocyte percent   0.00   100.00   \n",
       "3       LBXNEPCT  Segmented neutrophils percent   0.00   100.00   \n",
       "4       LBXEOPCT            Eosinophils percent   0.00   100.00   \n",
       "\n",
       "0            Units  \n",
       "0  x  103 cells/uL  \n",
       "1                %  \n",
       "2                %  \n",
       "3                %  \n",
       "4                %  "
      ]
     },
     "execution_count": 37,
     "metadata": {},
     "output_type": "execute_result"
    }
   ],
   "source": [
    "df_info.head()"
   ]
  },
  {
   "cell_type": "code",
   "execution_count": 38,
   "id": "b48a6483-46b9-4dc4-aa43-3de1b8e4b57f",
   "metadata": {},
   "outputs": [
    {
     "data": {
      "text/plain": [
       "['Variable  Name', 'Analyte  Description', 'LLOD', 'ULOD', 'Units']"
      ]
     },
     "execution_count": 38,
     "metadata": {},
     "output_type": "execute_result"
    }
   ],
   "source": [
    "df_info.columns.to_list()"
   ]
  },
  {
   "cell_type": "code",
   "execution_count": 39,
   "id": "0ef69fc9-cc06-4d2e-b611-0bff92cd6daf",
   "metadata": {},
   "outputs": [],
   "source": [
    "rename_dict = {\n",
    "    row[\"Variable  Name\"]: to_snake_case(row[\"Analyte  Description\"])\n",
    "    for _, row in df_info.iterrows()\n",
    "    if row[\"Variable  Name\"] in df_b6.columns\n",
    "}"
   ]
  },
  {
   "cell_type": "code",
   "execution_count": 40,
   "id": "283c9b40-1b3c-4279-b696-1d59bca70ca6",
   "metadata": {},
   "outputs": [],
   "source": [
    "df_b6 = df_b6.rename(columns=rename_dict)"
   ]
  },
  {
   "cell_type": "code",
   "execution_count": 41,
   "id": "26b5ae5e-f5b5-4867-8ea6-4f1db7689763",
   "metadata": {},
   "outputs": [
    {
     "data": {
      "text/html": [
       "<div>\n",
       "<style scoped>\n",
       "    .dataframe tbody tr th:only-of-type {\n",
       "        vertical-align: middle;\n",
       "    }\n",
       "\n",
       "    .dataframe tbody tr th {\n",
       "        vertical-align: top;\n",
       "    }\n",
       "\n",
       "    .dataframe thead th {\n",
       "        text-align: right;\n",
       "    }\n",
       "</style>\n",
       "<table border=\"1\" class=\"dataframe\">\n",
       "  <thead>\n",
       "    <tr style=\"text-align: right;\">\n",
       "      <th></th>\n",
       "      <th>participant_id</th>\n",
       "      <th>white_blood_cell_count</th>\n",
       "      <th>lymphocyte_percent</th>\n",
       "      <th>monocyte_percent</th>\n",
       "      <th>segmented_neutrophils_percent</th>\n",
       "      <th>eosinophils_percent</th>\n",
       "      <th>basophils_percent</th>\n",
       "      <th>LBDLYMNO</th>\n",
       "      <th>LBDMONO</th>\n",
       "      <th>LBDNENO</th>\n",
       "      <th>...</th>\n",
       "      <th>red_blood_cell_count</th>\n",
       "      <th>hemoglobin</th>\n",
       "      <th>LBXHCT</th>\n",
       "      <th>mean_cell_volume</th>\n",
       "      <th>LBXMC</th>\n",
       "      <th>LBXMCHSI</th>\n",
       "      <th>red_cell_distribution_width</th>\n",
       "      <th>platelet_count</th>\n",
       "      <th>mean_platelet_volume</th>\n",
       "      <th>LBXNRBC</th>\n",
       "    </tr>\n",
       "  </thead>\n",
       "  <tbody>\n",
       "    <tr>\n",
       "      <th>0</th>\n",
       "      <td>109263.0</td>\n",
       "      <td>NaN</td>\n",
       "      <td>NaN</td>\n",
       "      <td>NaN</td>\n",
       "      <td>NaN</td>\n",
       "      <td>NaN</td>\n",
       "      <td>NaN</td>\n",
       "      <td>NaN</td>\n",
       "      <td>NaN</td>\n",
       "      <td>NaN</td>\n",
       "      <td>...</td>\n",
       "      <td>NaN</td>\n",
       "      <td>NaN</td>\n",
       "      <td>NaN</td>\n",
       "      <td>NaN</td>\n",
       "      <td>NaN</td>\n",
       "      <td>NaN</td>\n",
       "      <td>NaN</td>\n",
       "      <td>NaN</td>\n",
       "      <td>NaN</td>\n",
       "      <td>NaN</td>\n",
       "    </tr>\n",
       "    <tr>\n",
       "      <th>1</th>\n",
       "      <td>109264.0</td>\n",
       "      <td>4.5</td>\n",
       "      <td>45.6</td>\n",
       "      <td>6.2</td>\n",
       "      <td>46.4</td>\n",
       "      <td>1.4</td>\n",
       "      <td>0.5</td>\n",
       "      <td>2.1</td>\n",
       "      <td>0.3</td>\n",
       "      <td>2.1</td>\n",
       "      <td>...</td>\n",
       "      <td>4.80</td>\n",
       "      <td>13.7</td>\n",
       "      <td>40.5</td>\n",
       "      <td>84.3</td>\n",
       "      <td>33.7</td>\n",
       "      <td>28.4</td>\n",
       "      <td>13.1</td>\n",
       "      <td>263.0</td>\n",
       "      <td>8.2</td>\n",
       "      <td>0.1</td>\n",
       "    </tr>\n",
       "    <tr>\n",
       "      <th>2</th>\n",
       "      <td>109265.0</td>\n",
       "      <td>9.5</td>\n",
       "      <td>46.4</td>\n",
       "      <td>10.9</td>\n",
       "      <td>39.2</td>\n",
       "      <td>2.9</td>\n",
       "      <td>0.7</td>\n",
       "      <td>4.4</td>\n",
       "      <td>1.0</td>\n",
       "      <td>3.7</td>\n",
       "      <td>...</td>\n",
       "      <td>4.50</td>\n",
       "      <td>12.6</td>\n",
       "      <td>36.6</td>\n",
       "      <td>81.2</td>\n",
       "      <td>34.4</td>\n",
       "      <td>27.9</td>\n",
       "      <td>13.1</td>\n",
       "      <td>286.0</td>\n",
       "      <td>6.6</td>\n",
       "      <td>0.1</td>\n",
       "    </tr>\n",
       "    <tr>\n",
       "      <th>3</th>\n",
       "      <td>109266.0</td>\n",
       "      <td>7.8</td>\n",
       "      <td>34.5</td>\n",
       "      <td>6.0</td>\n",
       "      <td>58.3</td>\n",
       "      <td>0.8</td>\n",
       "      <td>0.5</td>\n",
       "      <td>2.7</td>\n",
       "      <td>0.5</td>\n",
       "      <td>4.5</td>\n",
       "      <td>...</td>\n",
       "      <td>4.35</td>\n",
       "      <td>12.3</td>\n",
       "      <td>36.5</td>\n",
       "      <td>83.7</td>\n",
       "      <td>33.6</td>\n",
       "      <td>28.1</td>\n",
       "      <td>14.0</td>\n",
       "      <td>314.0</td>\n",
       "      <td>6.9</td>\n",
       "      <td>0.1</td>\n",
       "    </tr>\n",
       "    <tr>\n",
       "      <th>4</th>\n",
       "      <td>109269.0</td>\n",
       "      <td>9.1</td>\n",
       "      <td>38.3</td>\n",
       "      <td>7.8</td>\n",
       "      <td>48.8</td>\n",
       "      <td>4.1</td>\n",
       "      <td>1.1</td>\n",
       "      <td>3.5</td>\n",
       "      <td>0.7</td>\n",
       "      <td>4.4</td>\n",
       "      <td>...</td>\n",
       "      <td>4.21</td>\n",
       "      <td>11.7</td>\n",
       "      <td>33.5</td>\n",
       "      <td>79.6</td>\n",
       "      <td>34.9</td>\n",
       "      <td>27.8</td>\n",
       "      <td>13.4</td>\n",
       "      <td>287.0</td>\n",
       "      <td>6.9</td>\n",
       "      <td>0.1</td>\n",
       "    </tr>\n",
       "  </tbody>\n",
       "</table>\n",
       "<p>5 rows × 22 columns</p>\n",
       "</div>"
      ],
      "text/plain": [
       "   participant_id  white_blood_cell_count  lymphocyte_percent  \\\n",
       "0        109263.0                     NaN                 NaN   \n",
       "1        109264.0                     4.5                45.6   \n",
       "2        109265.0                     9.5                46.4   \n",
       "3        109266.0                     7.8                34.5   \n",
       "4        109269.0                     9.1                38.3   \n",
       "\n",
       "   monocyte_percent  segmented_neutrophils_percent  eosinophils_percent  \\\n",
       "0               NaN                            NaN                  NaN   \n",
       "1               6.2                           46.4                  1.4   \n",
       "2              10.9                           39.2                  2.9   \n",
       "3               6.0                           58.3                  0.8   \n",
       "4               7.8                           48.8                  4.1   \n",
       "\n",
       "   basophils_percent  LBDLYMNO  LBDMONO  LBDNENO  ...  red_blood_cell_count  \\\n",
       "0                NaN       NaN      NaN      NaN  ...                   NaN   \n",
       "1                0.5       2.1      0.3      2.1  ...                  4.80   \n",
       "2                0.7       4.4      1.0      3.7  ...                  4.50   \n",
       "3                0.5       2.7      0.5      4.5  ...                  4.35   \n",
       "4                1.1       3.5      0.7      4.4  ...                  4.21   \n",
       "\n",
       "   hemoglobin  LBXHCT  mean_cell_volume  LBXMC  LBXMCHSI  \\\n",
       "0         NaN     NaN               NaN    NaN       NaN   \n",
       "1        13.7    40.5              84.3   33.7      28.4   \n",
       "2        12.6    36.6              81.2   34.4      27.9   \n",
       "3        12.3    36.5              83.7   33.6      28.1   \n",
       "4        11.7    33.5              79.6   34.9      27.8   \n",
       "\n",
       "   red_cell_distribution_width  platelet_count  mean_platelet_volume  LBXNRBC  \n",
       "0                          NaN             NaN                   NaN      NaN  \n",
       "1                         13.1           263.0                   8.2      0.1  \n",
       "2                         13.1           286.0                   6.6      0.1  \n",
       "3                         14.0           314.0                   6.9      0.1  \n",
       "4                         13.4           287.0                   6.9      0.1  \n",
       "\n",
       "[5 rows x 22 columns]"
      ]
     },
     "execution_count": 41,
     "metadata": {},
     "output_type": "execute_result"
    }
   ],
   "source": [
    "df_b6.head()"
   ]
  },
  {
   "cell_type": "code",
   "execution_count": 42,
   "id": "157f1f70-0be7-48a0-917b-1a8cd33e529d",
   "metadata": {},
   "outputs": [
    {
     "data": {
      "text/plain": [
       "['participant_id',\n",
       " 'white_blood_cell_count',\n",
       " 'lymphocyte_percent',\n",
       " 'monocyte_percent',\n",
       " 'segmented_neutrophils_percent',\n",
       " 'eosinophils_percent',\n",
       " 'basophils_percent',\n",
       " 'LBDLYMNO',\n",
       " 'LBDMONO',\n",
       " 'LBDNENO',\n",
       " 'LBDEONO',\n",
       " 'LBDBANO',\n",
       " 'red_blood_cell_count',\n",
       " 'hemoglobin',\n",
       " 'LBXHCT',\n",
       " 'mean_cell_volume',\n",
       " 'LBXMC',\n",
       " 'LBXMCHSI',\n",
       " 'red_cell_distribution_width',\n",
       " 'platelet_count',\n",
       " 'mean_platelet_volume',\n",
       " 'LBXNRBC']"
      ]
     },
     "execution_count": 42,
     "metadata": {},
     "output_type": "execute_result"
    }
   ],
   "source": [
    "df_b6.columns.to_list()\n",
    "\n",
    "#Some of the names were renamed based on what was available on the first table in the URL. For the other ones that were not, they were manually renamed"
   ]
  },
  {
   "cell_type": "code",
   "execution_count": 43,
   "id": "1861413a-28ae-45cd-af95-b16e487db828",
   "metadata": {},
   "outputs": [],
   "source": [
    "df_b6 = df_b6.rename(columns={\n",
    " 'LBDLYMNO': 'lymphocyte_number',\n",
    " 'LBDMONO': 'monocyte_number',\n",
    " 'LBDNENO':'segmented_neutrophils_number',\n",
    " 'LBDEONO':'eosinophils_number',\n",
    " 'LBDBANO':'basophils_number',\n",
    " 'LBXHCT':'hematocrit_percent',\n",
    " 'LBXMC':'mean_cell_hgb_concentration',\n",
    " 'LBXMCHSI':'mean_cell_hemoglobin',\n",
    " 'LBXNRBC':'nucelated_red_blood_cells'\n",
    "})"
   ]
  },
  {
   "cell_type": "code",
   "execution_count": 44,
   "id": "dfd2d434-2ba3-4bf3-ad48-d8c364b7b715",
   "metadata": {},
   "outputs": [
    {
     "data": {
      "text/plain": [
       "Index(['participant_id', 'white_blood_cell_count', 'lymphocyte_percent',\n",
       "       'monocyte_percent', 'segmented_neutrophils_percent',\n",
       "       'eosinophils_percent', 'basophils_percent', 'lymphocyte_number',\n",
       "       'monocyte_number', 'segmented_neutrophils_number', 'eosinophils_number',\n",
       "       'basophils_number', 'red_blood_cell_count', 'hemoglobin',\n",
       "       'hematocrit_percent', 'mean_cell_volume', 'mean_cell_hgb_concentration',\n",
       "       'mean_cell_hemoglobin', 'red_cell_distribution_width', 'platelet_count',\n",
       "       'mean_platelet_volume', 'nucelated_red_blood_cells'],\n",
       "      dtype='object')"
      ]
     },
     "execution_count": 44,
     "metadata": {},
     "output_type": "execute_result"
    }
   ],
   "source": [
    "df_b6.columns"
   ]
  },
  {
   "cell_type": "code",
   "execution_count": 45,
   "id": "432d8944-6ab6-451a-a79c-93bb0ba7aee5",
   "metadata": {},
   "outputs": [
    {
     "data": {
      "text/plain": [
       "participant_id                      0\n",
       "white_blood_cell_count           1616\n",
       "lymphocyte_percent               1621\n",
       "monocyte_percent                 1621\n",
       "segmented_neutrophils_percent    1621\n",
       "eosinophils_percent              1621\n",
       "basophils_percent                1621\n",
       "lymphocyte_number                1621\n",
       "monocyte_number                  1621\n",
       "segmented_neutrophils_number     1621\n",
       "eosinophils_number               1621\n",
       "basophils_number                 1621\n",
       "red_blood_cell_count             1616\n",
       "hemoglobin                       1616\n",
       "hematocrit_percent               1616\n",
       "mean_cell_volume                 1616\n",
       "mean_cell_hgb_concentration      1616\n",
       "mean_cell_hemoglobin             1616\n",
       "red_cell_distribution_width      1616\n",
       "platelet_count                   1616\n",
       "mean_platelet_volume             1616\n",
       "nucelated_red_blood_cells        1621\n",
       "dtype: int64"
      ]
     },
     "execution_count": 45,
     "metadata": {},
     "output_type": "execute_result"
    }
   ],
   "source": [
    "df_b6.isnull().sum()"
   ]
  },
  {
   "cell_type": "code",
   "execution_count": 46,
   "id": "59f9c565-1b03-4e4b-a6ad-e96642a4e4ec",
   "metadata": {},
   "outputs": [
    {
     "name": "stdout",
     "output_type": "stream",
     "text": [
      "Number of rows missing all CBC values: 1616\n"
     ]
    }
   ],
   "source": [
    "value_cols = [col for col in df_b6.columns if col != 'participant_id']\n",
    "rows_all_nan = df_b6[value_cols].isna().all(axis=1)\n",
    "print(f\"Number of rows missing all CBC values: {rows_all_nan.sum()}\")"
   ]
  },
  {
   "cell_type": "code",
   "execution_count": 47,
   "id": "3ea15b89-2441-480c-9c67-d635e8bfb8ff",
   "metadata": {},
   "outputs": [
    {
     "name": "stdout",
     "output_type": "stream",
     "text": [
      "Number of rows dropped: 1616\n"
     ]
    }
   ],
   "source": [
    "# Drop rows where all value columns are NaN (excluding participant_id)\n",
    "df_b6_cleaned = df_b6[~rows_all_nan].copy()\n",
    "\n",
    "print(f\"Number of rows dropped: {rows_all_nan.sum()}\")"
   ]
  },
  {
   "cell_type": "markdown",
   "id": "d76530d1-1640-4d58-b1c8-8d7fa6e27a2a",
   "metadata": {},
   "source": [
    "### Cotinine\n",
    "\n",
    "Cotinine is a metabolite that is produced when nicotine is processed. Its long half-life makes it a good marker for assessing tobacco exposure or usage. "
   ]
  },
  {
   "cell_type": "code",
   "execution_count": 48,
   "id": "ac2d7113-2a2a-460f-8ff9-0d474f4374eb",
   "metadata": {},
   "outputs": [],
   "source": [
    "file_path = '2017-2020/blood/7.P_COT.xpt'\n",
    "\n",
    "df_b7, meta = pyreadstat.read_xport(file_path)\n",
    "df_b7 = standardize_id_column(df_b7)"
   ]
  },
  {
   "cell_type": "code",
   "execution_count": 49,
   "id": "d6fdc29f-342f-463d-8b82-c406101c0498",
   "metadata": {},
   "outputs": [
    {
     "data": {
      "text/plain": [
       "['participant_id', 'LBXCOT', 'LBDCOTLC', 'LBXHCOT', 'LBDHCOLC']"
      ]
     },
     "execution_count": 49,
     "metadata": {},
     "output_type": "execute_result"
    }
   ],
   "source": [
    "df_b7.columns.to_list()"
   ]
  },
  {
   "cell_type": "code",
   "execution_count": 50,
   "id": "55350d66-5436-47b6-b351-03ea6627eaff",
   "metadata": {},
   "outputs": [],
   "source": [
    "df_b7 = df_b7.rename(columns={\n",
    "    'LBXCOT':'serum_cotinine_ng_ml',\n",
    "    'LBDCOTLC':'serum_cotinine_comment',\n",
    "    'LBXHCOT':'serum_hydroxycotinine_ng_ml',\n",
    "    'LBDHCOLC':'serum_hydroxycotinine_comment'\n",
    "})"
   ]
  },
  {
   "cell_type": "code",
   "execution_count": 51,
   "id": "b54d66f2-5e08-4167-bcf3-c897e8dd3e1c",
   "metadata": {},
   "outputs": [
    {
     "data": {
      "text/plain": [
       "participant_id                      0\n",
       "serum_cotinine_ng_ml             1632\n",
       "serum_cotinine_comment           1632\n",
       "serum_hydroxycotinine_ng_ml      1632\n",
       "serum_hydroxycotinine_comment    1632\n",
       "dtype: int64"
      ]
     },
     "execution_count": 51,
     "metadata": {},
     "output_type": "execute_result"
    }
   ],
   "source": [
    "df_b7.isnull().sum()"
   ]
  },
  {
   "cell_type": "code",
   "execution_count": 52,
   "id": "457148f8-2a08-4862-9b5e-3154ffc9ca81",
   "metadata": {},
   "outputs": [
    {
     "name": "stdout",
     "output_type": "stream",
     "text": [
      "Number of NaNs in serum_cotinine_ng_ml: 1632\n",
      "Number of NaNs in serum_hydroxycotinine_ng_ml: 1632\n",
      "Number of IDs with NaNs in both columns: 1632\n"
     ]
    }
   ],
   "source": [
    "common_nan = get_common_nan_ids(df_b7, 'serum_cotinine_ng_ml', 'serum_hydroxycotinine_ng_ml', id_col='participant_id')"
   ]
  },
  {
   "cell_type": "code",
   "execution_count": 53,
   "id": "31b2e4c0-3d33-460d-8c38-fa614e4c1f1f",
   "metadata": {},
   "outputs": [
    {
     "name": "stdout",
     "output_type": "stream",
     "text": [
      "Rows dropped where both serum_cotinine_ng_ml and serum_hydroxycotinine_ng_ml were NaN: 1632\n"
     ]
    }
   ],
   "source": [
    "df_b7 = drop_rows_with_common_nan_ids(df_b7, 'serum_cotinine_ng_ml', 'serum_hydroxycotinine_ng_ml', id_col='participant_id')"
   ]
  },
  {
   "cell_type": "markdown",
   "id": "cee3dde9-d1cf-4488-9d0d-740a8f82c498",
   "metadata": {},
   "source": [
    "### Cytomegalovirus\n",
    "\n",
    "Cytomegalovirus (CMV) is a double-stranded DNA virus that causes flu-like symptoms in immunocompetant population but can cause organ damage in immunocompromised (i.e. HIV/AIDS) population. CMV virus is transmitted via bodily fluids including sexual contact [12]. \n",
    "\n",
    "Avidity tests for whether the CMV infection was recent or in the past. Low avidity shows recent infection and high avidity shows past infeciton."
   ]
  },
  {
   "cell_type": "code",
   "execution_count": 54,
   "id": "48089826-93c0-4b09-a683-883ae4e8008c",
   "metadata": {},
   "outputs": [],
   "source": [
    "file_path = '2017-2020/blood/8.P_CMV.xpt'\n",
    "\n",
    "df_b8, meta = pyreadstat.read_xport(file_path)\n",
    "df_b8 = standardize_id_column(df_b8)"
   ]
  },
  {
   "cell_type": "code",
   "execution_count": 55,
   "id": "b3a98a73-60a1-46c5-96fd-104934aa915c",
   "metadata": {},
   "outputs": [
    {
     "data": {
      "text/plain": [
       "['participant_id', 'LBXIGG', 'LBXIGM', 'LBXIGGA']"
      ]
     },
     "execution_count": 55,
     "metadata": {},
     "output_type": "execute_result"
    }
   ],
   "source": [
    "df_b8.columns.to_list()"
   ]
  },
  {
   "cell_type": "code",
   "execution_count": 56,
   "id": "6797e27d-ef61-4eee-99a0-777ce084a5d9",
   "metadata": {},
   "outputs": [],
   "source": [
    "df_b8 = df_b8.rename(columns={\n",
    "    'LBXIGG':'cmv_igg',\n",
    "    'LBXIGM':'cmv_igm', \n",
    "    'LBXIGGA':'cmv_igg_avidity'\n",
    "})"
   ]
  },
  {
   "cell_type": "code",
   "execution_count": 57,
   "id": "c44af815-5a03-4650-a134-e13e52d1c0cc",
   "metadata": {},
   "outputs": [
    {
     "data": {
      "text/plain": [
       "participant_id        0\n",
       "cmv_igg             617\n",
       "cmv_igm             617\n",
       "cmv_igg_avidity    1307\n",
       "dtype: int64"
      ]
     },
     "execution_count": 57,
     "metadata": {},
     "output_type": "execute_result"
    }
   ],
   "source": [
    "df_b8.isnull().sum()\n",
    "\n",
    "#there are missing avidity value which would indicate that the person was never infected with CMV. The null values for the IgG and IgM would indicate missing data so rows without these two values will be dropped"
   ]
  },
  {
   "cell_type": "code",
   "execution_count": 58,
   "id": "fef9dd65-75e7-4f09-93a8-933874264c45",
   "metadata": {},
   "outputs": [
    {
     "name": "stdout",
     "output_type": "stream",
     "text": [
      "Number of NaNs in cmv_igg: 617\n",
      "Number of NaNs in cmv_igm: 617\n",
      "Number of IDs with NaNs in both columns: 617\n"
     ]
    }
   ],
   "source": [
    "common_nan = get_common_nan_ids(df_b8, 'cmv_igg', 'cmv_igm', id_col='participant_id')"
   ]
  },
  {
   "cell_type": "code",
   "execution_count": 59,
   "id": "f2cdfbb1-438d-4d26-9747-497b9c08b9eb",
   "metadata": {},
   "outputs": [
    {
     "name": "stdout",
     "output_type": "stream",
     "text": [
      "Rows dropped where both cmv_igg and cmv_igm were NaN: 617\n"
     ]
    }
   ],
   "source": [
    "df_b8 = drop_rows_with_common_nan_ids(df_b8, 'cmv_igg', 'cmv_igm', id_col='participant_id')"
   ]
  },
  {
   "cell_type": "markdown",
   "id": "4431bef7-14b3-44cc-b8e9-a1e17a63e720",
   "metadata": {},
   "source": [
    "### Ethylene Oxide\n",
    "\n",
    "Ethylene Oxide (EtO) is a colorless gas that is used to produce various materials as well as sterilize medical equipments. Exposure to EtO most often is due to aerosolization. EtO is a well-known carcinogen and long term exposure to this substance could lead to blood cancers such as non-Hodgkin lymphoma, myeloma and lymphocytic leukemia [13].\n",
    "\n",
    "The unit for EtO measurement in the blood is picomoles per gram of hemoglobin (pmol/g Hb)."
   ]
  },
  {
   "cell_type": "code",
   "execution_count": 60,
   "id": "0f64221e-32e7-480b-a802-1b4c0851557c",
   "metadata": {},
   "outputs": [],
   "source": [
    "file_path = '2017-2020/blood/9.P_ETHOX.xpt'\n",
    "\n",
    "df_b9, meta = pyreadstat.read_xport(file_path)\n",
    "df_b9 = standardize_id_column(df_b9)"
   ]
  },
  {
   "cell_type": "code",
   "execution_count": 61,
   "id": "3d9762d7-be39-4070-831e-88e61a80a236",
   "metadata": {},
   "outputs": [
    {
     "data": {
      "text/plain": [
       "['participant_id', 'WTSAPRP', 'LBXEOA', 'LBDEOALC']"
      ]
     },
     "execution_count": 61,
     "metadata": {},
     "output_type": "execute_result"
    }
   ],
   "source": [
    "df_b9.columns.to_list()"
   ]
  },
  {
   "cell_type": "code",
   "execution_count": 62,
   "id": "a7205957-8b51-4dd5-8837-f5163303b90c",
   "metadata": {},
   "outputs": [],
   "source": [
    "df_b9 = df_b9.drop('WTSAPRP',axis=1)"
   ]
  },
  {
   "cell_type": "code",
   "execution_count": 63,
   "id": "d38dd6b4-5b0d-495e-b563-ca104e90209e",
   "metadata": {},
   "outputs": [],
   "source": [
    "df_b9 = df_b9.rename(columns={\n",
    "    'LBXEOA':'eto_pmol_g_hb',\n",
    "    'LBDEOALC':'eto_comment'\n",
    "})"
   ]
  },
  {
   "cell_type": "code",
   "execution_count": 64,
   "id": "fe79d8c7-a0ee-40f0-88a7-ee4813d42c48",
   "metadata": {},
   "outputs": [
    {
     "data": {
      "text/plain": [
       "participant_id      0\n",
       "eto_pmol_g_hb     424\n",
       "eto_comment       424\n",
       "dtype: int64"
      ]
     },
     "execution_count": 64,
     "metadata": {},
     "output_type": "execute_result"
    }
   ],
   "source": [
    "df_b9.isnull().sum()"
   ]
  },
  {
   "cell_type": "code",
   "execution_count": 65,
   "id": "93bb5c97-c54f-4372-af6a-7e82de1d92ca",
   "metadata": {},
   "outputs": [],
   "source": [
    "df_b9 = df_b9.dropna(subset=['eto_pmol_g_hb'])"
   ]
  },
  {
   "cell_type": "code",
   "execution_count": 66,
   "id": "4a9e6d4d-c42d-4c0e-b87c-9002a8769e50",
   "metadata": {},
   "outputs": [
    {
     "data": {
      "text/html": [
       "<div>\n",
       "<style scoped>\n",
       "    .dataframe tbody tr th:only-of-type {\n",
       "        vertical-align: middle;\n",
       "    }\n",
       "\n",
       "    .dataframe tbody tr th {\n",
       "        vertical-align: top;\n",
       "    }\n",
       "\n",
       "    .dataframe thead th {\n",
       "        text-align: right;\n",
       "    }\n",
       "</style>\n",
       "<table border=\"1\" class=\"dataframe\">\n",
       "  <thead>\n",
       "    <tr style=\"text-align: right;\">\n",
       "      <th></th>\n",
       "      <th>participant_id</th>\n",
       "      <th>eto_pmol_g_hb</th>\n",
       "      <th>eto_comment</th>\n",
       "    </tr>\n",
       "  </thead>\n",
       "  <tbody>\n",
       "    <tr>\n",
       "      <th>0</th>\n",
       "      <td>109266.0</td>\n",
       "      <td>18.7</td>\n",
       "      <td>0.0</td>\n",
       "    </tr>\n",
       "    <tr>\n",
       "      <th>1</th>\n",
       "      <td>109270.0</td>\n",
       "      <td>37.7</td>\n",
       "      <td>0.0</td>\n",
       "    </tr>\n",
       "    <tr>\n",
       "      <th>2</th>\n",
       "      <td>109273.0</td>\n",
       "      <td>359.0</td>\n",
       "      <td>0.0</td>\n",
       "    </tr>\n",
       "    <tr>\n",
       "      <th>3</th>\n",
       "      <td>109274.0</td>\n",
       "      <td>61.2</td>\n",
       "      <td>0.0</td>\n",
       "    </tr>\n",
       "    <tr>\n",
       "      <th>5</th>\n",
       "      <td>109290.0</td>\n",
       "      <td>25.5</td>\n",
       "      <td>0.0</td>\n",
       "    </tr>\n",
       "  </tbody>\n",
       "</table>\n",
       "</div>"
      ],
      "text/plain": [
       "   participant_id  eto_pmol_g_hb  eto_comment\n",
       "0        109266.0           18.7          0.0\n",
       "1        109270.0           37.7          0.0\n",
       "2        109273.0          359.0          0.0\n",
       "3        109274.0           61.2          0.0\n",
       "5        109290.0           25.5          0.0"
      ]
     },
     "execution_count": 66,
     "metadata": {},
     "output_type": "execute_result"
    }
   ],
   "source": [
    "df_b9.head()"
   ]
  },
  {
   "cell_type": "markdown",
   "id": "7713423f-6af4-4967-9757-d4320de14493",
   "metadata": {},
   "source": [
    "### Ferritin and iron panel\n",
    "\n",
    "Ferritin and iron panel are used to assess someone's iron status. Low values in the iron panel and ferritin along with clinical symptoms are corroborated to diagnose iron deficiency anemia. "
   ]
  },
  {
   "cell_type": "code",
   "execution_count": 67,
   "id": "663d1a9d-37ac-43b7-8562-410f24d0fc98",
   "metadata": {},
   "outputs": [],
   "source": [
    "file_path = '2017-2020/blood/10.P_FERTIN.xpt'\n",
    "\n",
    "df_b10, meta = pyreadstat.read_xport(file_path)\n",
    "df_b10 = standardize_id_column(df_b10)"
   ]
  },
  {
   "cell_type": "code",
   "execution_count": 68,
   "id": "06b2512d-075d-49ff-b60d-d2c7b70bfca9",
   "metadata": {},
   "outputs": [
    {
     "data": {
      "text/html": [
       "<div>\n",
       "<style scoped>\n",
       "    .dataframe tbody tr th:only-of-type {\n",
       "        vertical-align: middle;\n",
       "    }\n",
       "\n",
       "    .dataframe tbody tr th {\n",
       "        vertical-align: top;\n",
       "    }\n",
       "\n",
       "    .dataframe thead th {\n",
       "        text-align: right;\n",
       "    }\n",
       "</style>\n",
       "<table border=\"1\" class=\"dataframe\">\n",
       "  <thead>\n",
       "    <tr style=\"text-align: right;\">\n",
       "      <th></th>\n",
       "      <th>participant_id</th>\n",
       "      <th>LBXFER</th>\n",
       "      <th>LBDFERSI</th>\n",
       "    </tr>\n",
       "  </thead>\n",
       "  <tbody>\n",
       "    <tr>\n",
       "      <th>0</th>\n",
       "      <td>109263.0</td>\n",
       "      <td>NaN</td>\n",
       "      <td>NaN</td>\n",
       "    </tr>\n",
       "    <tr>\n",
       "      <th>1</th>\n",
       "      <td>109264.0</td>\n",
       "      <td>15.7</td>\n",
       "      <td>15.7</td>\n",
       "    </tr>\n",
       "    <tr>\n",
       "      <th>2</th>\n",
       "      <td>109265.0</td>\n",
       "      <td>42.1</td>\n",
       "      <td>42.1</td>\n",
       "    </tr>\n",
       "    <tr>\n",
       "      <th>3</th>\n",
       "      <td>109266.0</td>\n",
       "      <td>11.6</td>\n",
       "      <td>11.6</td>\n",
       "    </tr>\n",
       "    <tr>\n",
       "      <th>4</th>\n",
       "      <td>109269.0</td>\n",
       "      <td>41.7</td>\n",
       "      <td>41.7</td>\n",
       "    </tr>\n",
       "  </tbody>\n",
       "</table>\n",
       "</div>"
      ],
      "text/plain": [
       "   participant_id  LBXFER  LBDFERSI\n",
       "0        109263.0     NaN       NaN\n",
       "1        109264.0    15.7      15.7\n",
       "2        109265.0    42.1      42.1\n",
       "3        109266.0    11.6      11.6\n",
       "4        109269.0    41.7      41.7"
      ]
     },
     "execution_count": 68,
     "metadata": {},
     "output_type": "execute_result"
    }
   ],
   "source": [
    "df_b10.head()"
   ]
  },
  {
   "cell_type": "code",
   "execution_count": 69,
   "id": "16cd8996-1363-4c92-bb13-c7220ae60d95",
   "metadata": {},
   "outputs": [],
   "source": [
    "df_b10 = df_b10.rename(columns={\n",
    "    'LBXFER':'ferritin_ng_ml',\n",
    "    'LBDFERSI':'ferritin_ug_l'\n",
    "})"
   ]
  },
  {
   "cell_type": "code",
   "execution_count": 70,
   "id": "84c4f716-cf5b-43b0-afc7-9ef6e3009b25",
   "metadata": {},
   "outputs": [
    {
     "data": {
      "text/plain": [
       "participant_id       0\n",
       "ferritin_ng_ml    1426\n",
       "ferritin_ug_l     1426\n",
       "dtype: int64"
      ]
     },
     "execution_count": 70,
     "metadata": {},
     "output_type": "execute_result"
    }
   ],
   "source": [
    "df_b10.isnull().sum()"
   ]
  },
  {
   "cell_type": "code",
   "execution_count": 71,
   "id": "179bedeb-b8a1-4831-a1a7-ac6f76a25f8f",
   "metadata": {},
   "outputs": [
    {
     "name": "stdout",
     "output_type": "stream",
     "text": [
      "Number of NaNs in ferritin_ng_ml: 1426\n",
      "Number of NaNs in ferritin_ug_l: 1426\n",
      "Number of IDs with NaNs in both columns: 1426\n"
     ]
    }
   ],
   "source": [
    "common_nan = get_common_nan_ids(df_b10, 'ferritin_ng_ml', 'ferritin_ug_l', id_col='participant_id')"
   ]
  },
  {
   "cell_type": "code",
   "execution_count": 72,
   "id": "391dba8c-8086-44c9-ab95-a8d0b32cc7cd",
   "metadata": {},
   "outputs": [
    {
     "name": "stdout",
     "output_type": "stream",
     "text": [
      "Rows dropped where both ferritin_ng_ml and ferritin_ug_l were NaN: 1426\n"
     ]
    }
   ],
   "source": [
    "df_b10 = drop_rows_with_common_nan_ids(df_b10, 'ferritin_ng_ml', 'ferritin_ug_l', id_col='participant_id')"
   ]
  },
  {
   "cell_type": "code",
   "execution_count": 73,
   "id": "474f3cc6-51dd-4b46-9ac8-51a83d96dd27",
   "metadata": {},
   "outputs": [],
   "source": [
    "file_path = '2017-2020/blood/11.P_FETIB.xpt'\n",
    "\n",
    "df_b11, meta = pyreadstat.read_xport(file_path)\n",
    "df_b11 = standardize_id_column(df_b11)"
   ]
  },
  {
   "cell_type": "code",
   "execution_count": 74,
   "id": "80f415f9-ffb1-4491-9a5e-a7ce4e720736",
   "metadata": {},
   "outputs": [
    {
     "data": {
      "text/plain": [
       "['participant_id',\n",
       " 'LBXIRN',\n",
       " 'LBDIRNSI',\n",
       " 'LBXUIB',\n",
       " 'LBDUIBLC',\n",
       " 'LBDUIBSI',\n",
       " 'LBDTIB',\n",
       " 'LBDTIBSI',\n",
       " 'LBDPCT']"
      ]
     },
     "execution_count": 74,
     "metadata": {},
     "output_type": "execute_result"
    }
   ],
   "source": [
    "df_b11.columns.to_list()"
   ]
  },
  {
   "cell_type": "code",
   "execution_count": 75,
   "id": "3351c36a-29cb-4377-8f77-899507675d20",
   "metadata": {},
   "outputs": [],
   "source": [
    "df_b11 = df_b11.rename(columns={\n",
    " 'LBXIRN':'iron_frozen_ug_dl',\n",
    " 'LBDIRNSI':'iron_frozen_umol_l',\n",
    " 'LBXUIB':'uibc_ug_dl',\n",
    " 'LBDUIBLC':'uibc_comment',\n",
    " 'LBDUIBSI':'uibc_umol_l',\n",
    " 'LBDTIB':'tibc_ug_dl',\n",
    " 'LBDTIBSI':'tibc_umol_l',\n",
    " 'LBDPCT':'transferrin_saturation'\n",
    "})"
   ]
  },
  {
   "cell_type": "code",
   "execution_count": 76,
   "id": "71ec7dd2-8b1d-4429-967a-3bc3b9b6543c",
   "metadata": {},
   "outputs": [
    {
     "data": {
      "text/plain": [
       "participant_id              0\n",
       "iron_frozen_ug_dl         904\n",
       "iron_frozen_umol_l        904\n",
       "uibc_ug_dl                949\n",
       "uibc_comment              949\n",
       "uibc_umol_l               949\n",
       "tibc_ug_dl                956\n",
       "tibc_umol_l               956\n",
       "transferrin_saturation    956\n",
       "dtype: int64"
      ]
     },
     "execution_count": 76,
     "metadata": {},
     "output_type": "execute_result"
    }
   ],
   "source": [
    "df_b11.isnull().sum()"
   ]
  },
  {
   "cell_type": "code",
   "execution_count": 77,
   "id": "f29dfee8-7f73-4c0f-b8aa-cbc83c83287a",
   "metadata": {},
   "outputs": [
    {
     "name": "stdout",
     "output_type": "stream",
     "text": [
      "Number of rows missing all iron panel values: 904\n"
     ]
    }
   ],
   "source": [
    "value_cols = [col for col in df_b11.columns if col != 'participant_id']\n",
    "rows_all_nan = df_b11[value_cols].isna().all(axis=1)\n",
    "print(f\"Number of rows missing all iron panel values: {rows_all_nan.sum()}\")"
   ]
  },
  {
   "cell_type": "code",
   "execution_count": 78,
   "id": "cd6f0c2e-47ae-4a32-8bca-a451775aefbc",
   "metadata": {},
   "outputs": [
    {
     "name": "stdout",
     "output_type": "stream",
     "text": [
      "Number of rows dropped: 904\n"
     ]
    }
   ],
   "source": [
    "# Drop rows where all value columns are NaN (excluding participant_id)\n",
    "df_b11_cleaned = df_b11[~rows_all_nan].copy()\n",
    "\n",
    "print(f\"Number of rows dropped: {rows_all_nan.sum()}\")"
   ]
  },
  {
   "cell_type": "markdown",
   "id": "7e59262c-3745-4076-9a51-8f7fe28e3c8d",
   "metadata": {},
   "source": [
    "### Folate\n"
   ]
  },
  {
   "cell_type": "code",
   "execution_count": 79,
   "id": "80afde75-811f-425e-a939-dc7e46d1bab9",
   "metadata": {},
   "outputs": [],
   "source": [
    "file_path = '2017-2020/blood/12.P_FOLATE.xpt'\n",
    "\n",
    "df_b12, meta = pyreadstat.read_xport(file_path)\n",
    "df_b12 = standardize_id_column(df_b12)"
   ]
  },
  {
   "cell_type": "code",
   "execution_count": 80,
   "id": "115d79d9-4167-4b6b-beea-35d14dc9425e",
   "metadata": {},
   "outputs": [
    {
     "data": {
      "text/plain": [
       "Index(['participant_id', 'WTFOLPRP', 'LBDRFO', 'LBDRFOSI'], dtype='object')"
      ]
     },
     "execution_count": 80,
     "metadata": {},
     "output_type": "execute_result"
    }
   ],
   "source": [
    "df_b12.columns"
   ]
  },
  {
   "cell_type": "code",
   "execution_count": 81,
   "id": "cbe523c5-ef5f-4f54-8ebf-785f5b791916",
   "metadata": {},
   "outputs": [],
   "source": [
    "df_b12 = df_b12.drop('WTFOLPRP', axis=1)"
   ]
  },
  {
   "cell_type": "code",
   "execution_count": 82,
   "id": "3269aa80-ef5a-4072-9535-053f113877a0",
   "metadata": {},
   "outputs": [],
   "source": [
    "df_b12 = df_b12.rename(columns={\n",
    "    'LBDRFO':'rbc_folate_ng_ml',\n",
    "    'LBDRFOSI':'rbc_folate_nmol_l'\n",
    "})"
   ]
  },
  {
   "cell_type": "code",
   "execution_count": 83,
   "id": "e18651e8-2a5a-4762-a02c-f3b34d696758",
   "metadata": {},
   "outputs": [
    {
     "data": {
      "text/plain": [
       "participant_id         0\n",
       "rbc_folate_ng_ml     966\n",
       "rbc_folate_nmol_l    966\n",
       "dtype: int64"
      ]
     },
     "execution_count": 83,
     "metadata": {},
     "output_type": "execute_result"
    }
   ],
   "source": [
    "df_b12.isnull().sum()"
   ]
  },
  {
   "cell_type": "code",
   "execution_count": 84,
   "id": "20f178f6-00b9-4356-9070-4071b8c19af4",
   "metadata": {},
   "outputs": [
    {
     "name": "stdout",
     "output_type": "stream",
     "text": [
      "Number of NaNs in rbc_folate_ng_ml: 966\n",
      "Number of NaNs in rbc_folate_nmol_l: 966\n",
      "Number of IDs with NaNs in both columns: 966\n"
     ]
    }
   ],
   "source": [
    "common_nan = get_common_nan_ids(df_b12, 'rbc_folate_ng_ml', 'rbc_folate_nmol_l', id_col='participant_id')"
   ]
  },
  {
   "cell_type": "code",
   "execution_count": 85,
   "id": "78577dfe-e9da-44c6-b529-2e9dad170803",
   "metadata": {},
   "outputs": [
    {
     "name": "stdout",
     "output_type": "stream",
     "text": [
      "Rows dropped where both rbc_folate_ng_ml and rbc_folate_nmol_l were NaN: 966\n"
     ]
    }
   ],
   "source": [
    "df_b12 = drop_rows_with_common_nan_ids(df_b12, 'rbc_folate_ng_ml', 'rbc_folate_nmol_l', id_col='participant_id')"
   ]
  },
  {
   "cell_type": "code",
   "execution_count": 86,
   "id": "9ff599bf-3a31-44cf-8c8d-db4c14265dd0",
   "metadata": {},
   "outputs": [],
   "source": [
    "file_path = '2017-2020/blood/13.P_FOLFMS.xpt'\n",
    "\n",
    "df_b13, meta = pyreadstat.read_xport(file_path)\n",
    "df_b13 = standardize_id_column(df_b13)\n",
    "\n",
    "#There are a lot of technical names for these values so webscraping will be done instead of manual renaming of the columns"
   ]
  },
  {
   "cell_type": "code",
   "execution_count": 87,
   "id": "3a2cda0c-8732-4786-867f-8b1ce49ca060",
   "metadata": {},
   "outputs": [],
   "source": [
    "url = \"https://wwwn.cdc.gov/Nchs/Data/Nhanes/Public/2017/DataFiles/P_FOLFMS.htm\"\n",
    "response = requests.get(url)\n",
    "soup = BeautifulSoup(response.content, \"html.parser\")\n",
    "\n",
    "# Pattern: match things like \"LBDRFOSI - RBC folate (nmol/L)\"\n",
    "pattern = re.compile(r'^([A-Z0-9_]+)\\s*-\\s*(.+)$')\n",
    "\n",
    "rename_dict = {}\n",
    "\n",
    "# Loop through all h3 tags and filter those that match our pattern\n",
    "for tag in soup.find_all('h3'):\n",
    "    text = tag.get_text(strip=True)\n",
    "    match = pattern.match(text)\n",
    "    if match:\n",
    "        var_name = match.group(1)\n",
    "        description = match.group(2)\n",
    "                \n",
    "        clean_name = to_snake_case(description)\n",
    "        rename_dict[var_name] = clean_name"
   ]
  },
  {
   "cell_type": "code",
   "execution_count": 88,
   "id": "6df97030-d7bc-4622-bd0a-97ccd2bc57c5",
   "metadata": {},
   "outputs": [],
   "source": [
    "# Only keep entries in rename_dict where the variable name is in df_b13\n",
    "filtered_rename_dict = {\n",
    "    k: v for k, v in rename_dict.items() if k in df_b13.columns\n",
    "}\n",
    "\n",
    "# Rename columns in df_b13\n",
    "df_b13 = df_b13.rename(columns=filtered_rename_dict)"
   ]
  },
  {
   "cell_type": "code",
   "execution_count": 89,
   "id": "8cd7e804-f07e-47f2-86da-1e6be3ca97c6",
   "metadata": {},
   "outputs": [
    {
     "data": {
      "text/html": [
       "<div>\n",
       "<style scoped>\n",
       "    .dataframe tbody tr th:only-of-type {\n",
       "        vertical-align: middle;\n",
       "    }\n",
       "\n",
       "    .dataframe tbody tr th {\n",
       "        vertical-align: top;\n",
       "    }\n",
       "\n",
       "    .dataframe thead th {\n",
       "        text-align: right;\n",
       "    }\n",
       "</style>\n",
       "<table border=\"1\" class=\"dataframe\">\n",
       "  <thead>\n",
       "    <tr style=\"text-align: right;\">\n",
       "      <th></th>\n",
       "      <th>participant_id</th>\n",
       "      <th>folate_folate_form_weight_pre_pandemic</th>\n",
       "      <th>serum_total_folate_nmol_l</th>\n",
       "      <th>serum_total_folate_ng_ml</th>\n",
       "      <th>5_methyl_tetrahydrofolate_nmol_l</th>\n",
       "      <th>5_methyl_tetrahydrofolate_cmt</th>\n",
       "      <th>folic_acid_nmol_l</th>\n",
       "      <th>folic_acid_cmt</th>\n",
       "      <th>5_formyl_tetrahydrofolate_nmol_l</th>\n",
       "      <th>5_formyl_tetrahydrofolate_cmt</th>\n",
       "      <th>tetrahydrofolate_nmol_l</th>\n",
       "      <th>tetrahydrofolate_cmt</th>\n",
       "      <th>510_methenyl_tetrahydrofolate_nmol_l</th>\n",
       "      <th>510_methenyl_tetrahydrofolate_cmt</th>\n",
       "      <th>mefox_oxidation_product_nmol_l</th>\n",
       "      <th>mefox_oxidation_product_cmt</th>\n",
       "    </tr>\n",
       "  </thead>\n",
       "  <tbody>\n",
       "    <tr>\n",
       "      <th>0</th>\n",
       "      <td>109264.0</td>\n",
       "      <td>13078.844740</td>\n",
       "      <td>75.7</td>\n",
       "      <td>33.4</td>\n",
       "      <td>74.2</td>\n",
       "      <td>0.0</td>\n",
       "      <td>0.347</td>\n",
       "      <td>0.0</td>\n",
       "      <td>0.141</td>\n",
       "      <td>1.0</td>\n",
       "      <td>0.909</td>\n",
       "      <td>0.0</td>\n",
       "      <td>0.141</td>\n",
       "      <td>1.0</td>\n",
       "      <td>0.692</td>\n",
       "      <td>0.0</td>\n",
       "    </tr>\n",
       "    <tr>\n",
       "      <th>1</th>\n",
       "      <td>109265.0</td>\n",
       "      <td>51567.643136</td>\n",
       "      <td>28.6</td>\n",
       "      <td>12.6</td>\n",
       "      <td>27.6</td>\n",
       "      <td>0.0</td>\n",
       "      <td>0.344</td>\n",
       "      <td>0.0</td>\n",
       "      <td>0.141</td>\n",
       "      <td>1.0</td>\n",
       "      <td>0.418</td>\n",
       "      <td>0.0</td>\n",
       "      <td>0.141</td>\n",
       "      <td>1.0</td>\n",
       "      <td>0.511</td>\n",
       "      <td>0.0</td>\n",
       "    </tr>\n",
       "    <tr>\n",
       "      <th>2</th>\n",
       "      <td>109266.0</td>\n",
       "      <td>8998.028716</td>\n",
       "      <td>42.4</td>\n",
       "      <td>18.7</td>\n",
       "      <td>41.4</td>\n",
       "      <td>0.0</td>\n",
       "      <td>0.402</td>\n",
       "      <td>0.0</td>\n",
       "      <td>0.141</td>\n",
       "      <td>1.0</td>\n",
       "      <td>0.340</td>\n",
       "      <td>0.0</td>\n",
       "      <td>0.141</td>\n",
       "      <td>1.0</td>\n",
       "      <td>0.661</td>\n",
       "      <td>0.0</td>\n",
       "    </tr>\n",
       "    <tr>\n",
       "      <th>3</th>\n",
       "      <td>109269.0</td>\n",
       "      <td>17148.100260</td>\n",
       "      <td>50.6</td>\n",
       "      <td>22.3</td>\n",
       "      <td>48.5</td>\n",
       "      <td>0.0</td>\n",
       "      <td>0.444</td>\n",
       "      <td>0.0</td>\n",
       "      <td>0.141</td>\n",
       "      <td>1.0</td>\n",
       "      <td>1.410</td>\n",
       "      <td>0.0</td>\n",
       "      <td>0.141</td>\n",
       "      <td>1.0</td>\n",
       "      <td>0.761</td>\n",
       "      <td>0.0</td>\n",
       "    </tr>\n",
       "    <tr>\n",
       "      <th>4</th>\n",
       "      <td>109270.0</td>\n",
       "      <td>13466.605962</td>\n",
       "      <td>31.1</td>\n",
       "      <td>13.7</td>\n",
       "      <td>28.6</td>\n",
       "      <td>0.0</td>\n",
       "      <td>1.460</td>\n",
       "      <td>0.0</td>\n",
       "      <td>0.141</td>\n",
       "      <td>1.0</td>\n",
       "      <td>0.719</td>\n",
       "      <td>0.0</td>\n",
       "      <td>0.141</td>\n",
       "      <td>1.0</td>\n",
       "      <td>2.180</td>\n",
       "      <td>0.0</td>\n",
       "    </tr>\n",
       "  </tbody>\n",
       "</table>\n",
       "</div>"
      ],
      "text/plain": [
       "   participant_id  folate_folate_form_weight_pre_pandemic  \\\n",
       "0        109264.0                            13078.844740   \n",
       "1        109265.0                            51567.643136   \n",
       "2        109266.0                             8998.028716   \n",
       "3        109269.0                            17148.100260   \n",
       "4        109270.0                            13466.605962   \n",
       "\n",
       "   serum_total_folate_nmol_l  serum_total_folate_ng_ml  \\\n",
       "0                       75.7                      33.4   \n",
       "1                       28.6                      12.6   \n",
       "2                       42.4                      18.7   \n",
       "3                       50.6                      22.3   \n",
       "4                       31.1                      13.7   \n",
       "\n",
       "   5_methyl_tetrahydrofolate_nmol_l  5_methyl_tetrahydrofolate_cmt  \\\n",
       "0                              74.2                            0.0   \n",
       "1                              27.6                            0.0   \n",
       "2                              41.4                            0.0   \n",
       "3                              48.5                            0.0   \n",
       "4                              28.6                            0.0   \n",
       "\n",
       "   folic_acid_nmol_l  folic_acid_cmt  5_formyl_tetrahydrofolate_nmol_l  \\\n",
       "0              0.347             0.0                             0.141   \n",
       "1              0.344             0.0                             0.141   \n",
       "2              0.402             0.0                             0.141   \n",
       "3              0.444             0.0                             0.141   \n",
       "4              1.460             0.0                             0.141   \n",
       "\n",
       "   5_formyl_tetrahydrofolate_cmt  tetrahydrofolate_nmol_l  \\\n",
       "0                            1.0                    0.909   \n",
       "1                            1.0                    0.418   \n",
       "2                            1.0                    0.340   \n",
       "3                            1.0                    1.410   \n",
       "4                            1.0                    0.719   \n",
       "\n",
       "   tetrahydrofolate_cmt  510_methenyl_tetrahydrofolate_nmol_l  \\\n",
       "0                   0.0                                 0.141   \n",
       "1                   0.0                                 0.141   \n",
       "2                   0.0                                 0.141   \n",
       "3                   0.0                                 0.141   \n",
       "4                   0.0                                 0.141   \n",
       "\n",
       "   510_methenyl_tetrahydrofolate_cmt  mefox_oxidation_product_nmol_l  \\\n",
       "0                                1.0                           0.692   \n",
       "1                                1.0                           0.511   \n",
       "2                                1.0                           0.661   \n",
       "3                                1.0                           0.761   \n",
       "4                                1.0                           2.180   \n",
       "\n",
       "   mefox_oxidation_product_cmt  \n",
       "0                          0.0  \n",
       "1                          0.0  \n",
       "2                          0.0  \n",
       "3                          0.0  \n",
       "4                          0.0  "
      ]
     },
     "execution_count": 89,
     "metadata": {},
     "output_type": "execute_result"
    }
   ],
   "source": [
    "df_b13.head()"
   ]
  },
  {
   "cell_type": "code",
   "execution_count": 90,
   "id": "18f8406b-596a-4a32-ad0c-97a50fb4335a",
   "metadata": {},
   "outputs": [
    {
     "data": {
      "text/plain": [
       "['participant_id',\n",
       " 'folate_folate_form_weight_pre_pandemic',\n",
       " 'serum_total_folate_nmol_l',\n",
       " 'serum_total_folate_ng_ml',\n",
       " '5_methyl_tetrahydrofolate_nmol_l',\n",
       " '5_methyl_tetrahydrofolate_cmt',\n",
       " 'folic_acid_nmol_l',\n",
       " 'folic_acid_cmt',\n",
       " '5_formyl_tetrahydrofolate_nmol_l',\n",
       " '5_formyl_tetrahydrofolate_cmt',\n",
       " 'tetrahydrofolate_nmol_l',\n",
       " 'tetrahydrofolate_cmt',\n",
       " '510_methenyl_tetrahydrofolate_nmol_l',\n",
       " '510_methenyl_tetrahydrofolate_cmt',\n",
       " 'mefox_oxidation_product_nmol_l',\n",
       " 'mefox_oxidation_product_cmt']"
      ]
     },
     "execution_count": 90,
     "metadata": {},
     "output_type": "execute_result"
    }
   ],
   "source": [
    "df_b13.columns.to_list()"
   ]
  },
  {
   "cell_type": "code",
   "execution_count": 91,
   "id": "c4925566-29ce-4b7c-8701-3e4bdaf69317",
   "metadata": {},
   "outputs": [],
   "source": [
    "df_b13 = df_b13.drop('folate_folate_form_weight_pre_pandemic',axis=1)"
   ]
  },
  {
   "cell_type": "code",
   "execution_count": 92,
   "id": "40bde877-c14c-4dbb-afc9-b1785db11b0c",
   "metadata": {},
   "outputs": [
    {
     "data": {
      "text/plain": [
       "participant_id                             0\n",
       "serum_total_folate_nmol_l               1052\n",
       "serum_total_folate_ng_ml                1052\n",
       "5_methyl_tetrahydrofolate_nmol_l        1052\n",
       "5_methyl_tetrahydrofolate_cmt           1052\n",
       "folic_acid_nmol_l                       1052\n",
       "folic_acid_cmt                          1052\n",
       "5_formyl_tetrahydrofolate_nmol_l        1052\n",
       "5_formyl_tetrahydrofolate_cmt           1052\n",
       "tetrahydrofolate_nmol_l                 1052\n",
       "tetrahydrofolate_cmt                    1052\n",
       "510_methenyl_tetrahydrofolate_nmol_l    1052\n",
       "510_methenyl_tetrahydrofolate_cmt       1052\n",
       "mefox_oxidation_product_nmol_l          1052\n",
       "mefox_oxidation_product_cmt             1052\n",
       "dtype: int64"
      ]
     },
     "execution_count": 92,
     "metadata": {},
     "output_type": "execute_result"
    }
   ],
   "source": [
    "df_b13.isnull().sum()"
   ]
  },
  {
   "cell_type": "code",
   "execution_count": 93,
   "id": "083d70bd-7d99-4e3c-b2a6-81e3e8c2fb3c",
   "metadata": {},
   "outputs": [
    {
     "name": "stdout",
     "output_type": "stream",
     "text": [
      "Number of rows missing all folate values: 1052\n"
     ]
    }
   ],
   "source": [
    "value_cols = [col for col in df_b13.columns if col != 'participant_id']\n",
    "rows_all_nan = df_b13[value_cols].isna().all(axis=1)\n",
    "print(f\"Number of rows missing all folate values: {rows_all_nan.sum()}\")"
   ]
  },
  {
   "cell_type": "code",
   "execution_count": 94,
   "id": "49a88936-fcf8-4bfd-903e-a623aebbc355",
   "metadata": {},
   "outputs": [
    {
     "name": "stdout",
     "output_type": "stream",
     "text": [
      "Number of rows dropped: 1052\n"
     ]
    }
   ],
   "source": [
    "# Drop rows where all value columns are NaN (excluding participant_id)\n",
    "df_b13_cleaned = df_b13[~rows_all_nan].copy()\n",
    "\n",
    "print(f\"Number of rows dropped: {rows_all_nan.sum()}\")"
   ]
  },
  {
   "cell_type": "markdown",
   "id": "5162735c-14c2-43a2-8333-86e61e553204",
   "metadata": {},
   "source": [
    "### Glycohemoglobin (%)"
   ]
  },
  {
   "cell_type": "code",
   "execution_count": 95,
   "id": "76d06a01-4151-468f-8254-9b61b448d302",
   "metadata": {},
   "outputs": [],
   "source": [
    "file_path = '2017-2020/blood/14.P_GHB.xpt'\n",
    "\n",
    "df_b14, meta = pyreadstat.read_xport(file_path)\n",
    "df_b14 = standardize_id_column(df_b14)"
   ]
  },
  {
   "cell_type": "code",
   "execution_count": 96,
   "id": "286c8e9d-adbe-4f69-a5a8-eed7281b1f43",
   "metadata": {},
   "outputs": [
    {
     "data": {
      "text/html": [
       "<div>\n",
       "<style scoped>\n",
       "    .dataframe tbody tr th:only-of-type {\n",
       "        vertical-align: middle;\n",
       "    }\n",
       "\n",
       "    .dataframe tbody tr th {\n",
       "        vertical-align: top;\n",
       "    }\n",
       "\n",
       "    .dataframe thead th {\n",
       "        text-align: right;\n",
       "    }\n",
       "</style>\n",
       "<table border=\"1\" class=\"dataframe\">\n",
       "  <thead>\n",
       "    <tr style=\"text-align: right;\">\n",
       "      <th></th>\n",
       "      <th>participant_id</th>\n",
       "      <th>LBXGH</th>\n",
       "    </tr>\n",
       "  </thead>\n",
       "  <tbody>\n",
       "    <tr>\n",
       "      <th>0</th>\n",
       "      <td>109264.0</td>\n",
       "      <td>5.3</td>\n",
       "    </tr>\n",
       "    <tr>\n",
       "      <th>1</th>\n",
       "      <td>109266.0</td>\n",
       "      <td>5.2</td>\n",
       "    </tr>\n",
       "    <tr>\n",
       "      <th>2</th>\n",
       "      <td>109271.0</td>\n",
       "      <td>5.6</td>\n",
       "    </tr>\n",
       "    <tr>\n",
       "      <th>3</th>\n",
       "      <td>109273.0</td>\n",
       "      <td>5.1</td>\n",
       "    </tr>\n",
       "    <tr>\n",
       "      <th>4</th>\n",
       "      <td>109274.0</td>\n",
       "      <td>5.7</td>\n",
       "    </tr>\n",
       "  </tbody>\n",
       "</table>\n",
       "</div>"
      ],
      "text/plain": [
       "   participant_id  LBXGH\n",
       "0        109264.0    5.3\n",
       "1        109266.0    5.2\n",
       "2        109271.0    5.6\n",
       "3        109273.0    5.1\n",
       "4        109274.0    5.7"
      ]
     },
     "execution_count": 96,
     "metadata": {},
     "output_type": "execute_result"
    }
   ],
   "source": [
    "df_b14.head()"
   ]
  },
  {
   "cell_type": "code",
   "execution_count": 97,
   "id": "1ba4c25c-3447-4525-ab91-cf977706ca83",
   "metadata": {},
   "outputs": [],
   "source": [
    "df_b14 = df_b14.rename(columns = {'LBXGH':'glycohemoglobin_percent'})"
   ]
  },
  {
   "cell_type": "code",
   "execution_count": 98,
   "id": "819a3aa7-40dc-44cf-9490-bc226fc837ff",
   "metadata": {},
   "outputs": [
    {
     "data": {
      "text/plain": [
       "participant_id               0\n",
       "glycohemoglobin_percent    672\n",
       "dtype: int64"
      ]
     },
     "execution_count": 98,
     "metadata": {},
     "output_type": "execute_result"
    }
   ],
   "source": [
    "df_b14.isnull().sum()"
   ]
  },
  {
   "cell_type": "code",
   "execution_count": 99,
   "id": "ed4173b2-d617-4d38-bf40-f8a5be10dc1f",
   "metadata": {},
   "outputs": [],
   "source": [
    "df_b14 = df_b14.dropna(subset=['glycohemoglobin_percent'])"
   ]
  },
  {
   "cell_type": "markdown",
   "id": "4d936b71-d838-4a5a-b0c1-4934412536a6",
   "metadata": {},
   "source": [
    "### High-Sensitivity C-Reactive Protein"
   ]
  },
  {
   "cell_type": "code",
   "execution_count": 102,
   "id": "c95204fb-af7a-46b8-bb4e-1cc239c02fc1",
   "metadata": {},
   "outputs": [],
   "source": [
    "file_path = '2017-2020/blood/15.P_HSCRP.xpt'\n",
    "\n",
    "df_b15, meta = pyreadstat.read_xport(file_path)\n",
    "df_b15 = standardize_id_column(df_b15)"
   ]
  },
  {
   "cell_type": "code",
   "execution_count": 103,
   "id": "015cf3a1-59e2-4705-8bff-746281002ecd",
   "metadata": {},
   "outputs": [
    {
     "data": {
      "text/html": [
       "<div>\n",
       "<style scoped>\n",
       "    .dataframe tbody tr th:only-of-type {\n",
       "        vertical-align: middle;\n",
       "    }\n",
       "\n",
       "    .dataframe tbody tr th {\n",
       "        vertical-align: top;\n",
       "    }\n",
       "\n",
       "    .dataframe thead th {\n",
       "        text-align: right;\n",
       "    }\n",
       "</style>\n",
       "<table border=\"1\" class=\"dataframe\">\n",
       "  <thead>\n",
       "    <tr style=\"text-align: right;\">\n",
       "      <th></th>\n",
       "      <th>participant_id</th>\n",
       "      <th>LBXHSCRP</th>\n",
       "      <th>LBDHRPLC</th>\n",
       "    </tr>\n",
       "  </thead>\n",
       "  <tbody>\n",
       "    <tr>\n",
       "      <th>0</th>\n",
       "      <td>109263.0</td>\n",
       "      <td>NaN</td>\n",
       "      <td>NaN</td>\n",
       "    </tr>\n",
       "    <tr>\n",
       "      <th>1</th>\n",
       "      <td>109264.0</td>\n",
       "      <td>0.11</td>\n",
       "      <td>1.0</td>\n",
       "    </tr>\n",
       "    <tr>\n",
       "      <th>2</th>\n",
       "      <td>109265.0</td>\n",
       "      <td>0.31</td>\n",
       "      <td>0.0</td>\n",
       "    </tr>\n",
       "    <tr>\n",
       "      <th>3</th>\n",
       "      <td>109266.0</td>\n",
       "      <td>0.72</td>\n",
       "      <td>0.0</td>\n",
       "    </tr>\n",
       "    <tr>\n",
       "      <th>4</th>\n",
       "      <td>109269.0</td>\n",
       "      <td>0.73</td>\n",
       "      <td>0.0</td>\n",
       "    </tr>\n",
       "  </tbody>\n",
       "</table>\n",
       "</div>"
      ],
      "text/plain": [
       "   participant_id  LBXHSCRP  LBDHRPLC\n",
       "0        109263.0       NaN       NaN\n",
       "1        109264.0      0.11       1.0\n",
       "2        109265.0      0.31       0.0\n",
       "3        109266.0      0.72       0.0\n",
       "4        109269.0      0.73       0.0"
      ]
     },
     "execution_count": 103,
     "metadata": {},
     "output_type": "execute_result"
    }
   ],
   "source": [
    "df_b15.head()"
   ]
  },
  {
   "cell_type": "code",
   "execution_count": 104,
   "id": "eb2eeacc-4e23-489e-b4c9-7e9a774c194a",
   "metadata": {},
   "outputs": [],
   "source": [
    "df_b15 = df_b15.rename(columns = {\n",
    "    'LBXHSCRP':'hs_crp_mg_l',\n",
    "    'LBDHRPLC':'hs_crp_cmt'\n",
    "})"
   ]
  },
  {
   "cell_type": "code",
   "execution_count": 105,
   "id": "9c31ccc2-965c-4822-91d8-1feea42bef4c",
   "metadata": {},
   "outputs": [
    {
     "data": {
      "text/plain": [
       "participant_id       0\n",
       "hs_crp_mg_l       2158\n",
       "hs_crp_cmt        2158\n",
       "dtype: int64"
      ]
     },
     "execution_count": 105,
     "metadata": {},
     "output_type": "execute_result"
    }
   ],
   "source": [
    "df_b15.isnull().sum()"
   ]
  },
  {
   "cell_type": "code",
   "execution_count": 106,
   "id": "20c10a78-6cb3-4567-b2b1-8fce782431d1",
   "metadata": {},
   "outputs": [],
   "source": [
    "df_b15 = df_b15.dropna(subset=['hs_crp_mg_l'])"
   ]
  },
  {
   "cell_type": "markdown",
   "id": "25403660-e72d-4c0f-b3ea-4140e5daa9a3",
   "metadata": {},
   "source": [
    "### Inorganic metyl and ethyl mercury"
   ]
  },
  {
   "cell_type": "code",
   "execution_count": 107,
   "id": "3d046e96-fdfc-4e2f-bddc-605860f996c3",
   "metadata": {},
   "outputs": [],
   "source": [
    "file_path = '2017-2020/blood/16.P_IHGEM.xpt'\n",
    "\n",
    "df_b16, meta = pyreadstat.read_xport(file_path)\n",
    "df_b16 = standardize_id_column(df_b16)"
   ]
  },
  {
   "cell_type": "code",
   "execution_count": null,
   "id": "e2b4937d-6cf5-4bec-88dd-5e154a3caf12",
   "metadata": {},
   "outputs": [],
   "source": []
  }
 ],
 "metadata": {
  "kernelspec": {
   "display_name": "Python 3 (ipykernel)",
   "language": "python",
   "name": "python3"
  },
  "language_info": {
   "codemirror_mode": {
    "name": "ipython",
    "version": 3
   },
   "file_extension": ".py",
   "mimetype": "text/x-python",
   "name": "python",
   "nbconvert_exporter": "python",
   "pygments_lexer": "ipython3",
   "version": "3.12.7"
  }
 },
 "nbformat": 4,
 "nbformat_minor": 5
}
