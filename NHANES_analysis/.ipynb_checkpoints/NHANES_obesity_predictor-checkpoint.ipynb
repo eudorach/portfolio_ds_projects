{
 "cells": [
  {
   "cell_type": "markdown",
   "id": "ba7f0bd9-3291-4e35-b4a9-c5703bec2df4",
   "metadata": {},
   "source": [
    "# Exploring Physiological Predictors of Obesity Using NHANES and Relational Data Models"
   ]
  },
  {
   "cell_type": "markdown",
   "id": "a62682ee-9bc2-4cd6-924b-403a5e0595b3",
   "metadata": {},
   "source": [
    "## Introduction\n",
    "\n",
    "The National Health and Nutrition Examination Survey (NHANES) provides comprehensive data on the health and nutritional status of the U.S. population. Given the ongoing obesity epidemic in the United States, analyzing this dataset offers a valuable opportunity to understand factors contributing to obesity.\n",
    "\n",
    "While lifestyle choices play a significant role, physiological factors are also important contributors. This project aims to explore NHANES data to identify potential correlations and predictors related to obesity. Ultimately, these insights could help inform strategies to prevent the development of obesity in at-risk populations."
   ]
  },
  {
   "cell_type": "markdown",
   "id": "98a2385c-de1d-4bbc-a4ef-a46f38c66af7",
   "metadata": {},
   "source": [
    "## Objective\n",
    "\n",
    "This project aims to:\n",
    "\n",
    "* Clean and preprocess the NHANES datasets from 2017–2020, focusing on demographics and biometrics.\n",
    "* Create a relational database structure that organizes the cleaned data for easy querying and analysis.\n",
    "* Explore potential correlations between physiological and lifestyle factors with obesity-related measures.\n",
    "* Develop preliminary predictive models to identify key predictors of obesity using the cleaned data.\n",
    "* Document the data cleaning process thoroughly to ensure reproducibility and transparency."
   ]
  },
  {
   "cell_type": "markdown",
   "id": "72294f48-8122-43bc-b2f7-dec4e4519d54",
   "metadata": {},
   "source": [
    "## Import Libraries & Setup"
   ]
  },
  {
   "cell_type": "code",
   "execution_count": 1,
   "id": "e89833de-47d3-4a3d-a47f-70914be1bc05",
   "metadata": {},
   "outputs": [
    {
     "name": "stdout",
     "output_type": "stream",
     "text": [
      "Requirement already satisfied: pyreadstat in c:\\users\\rschu\\anaconda3\\lib\\site-packages (1.3.0)\n",
      "Requirement already satisfied: pandas>=1.2.0 in c:\\users\\rschu\\anaconda3\\lib\\site-packages (from pyreadstat) (2.2.2)\n",
      "Requirement already satisfied: numpy>=1.26.0 in c:\\users\\rschu\\anaconda3\\lib\\site-packages (from pandas>=1.2.0->pyreadstat) (1.26.4)\n",
      "Requirement already satisfied: python-dateutil>=2.8.2 in c:\\users\\rschu\\anaconda3\\lib\\site-packages (from pandas>=1.2.0->pyreadstat) (2.9.0.post0)\n",
      "Requirement already satisfied: pytz>=2020.1 in c:\\users\\rschu\\anaconda3\\lib\\site-packages (from pandas>=1.2.0->pyreadstat) (2024.1)\n",
      "Requirement already satisfied: tzdata>=2022.7 in c:\\users\\rschu\\anaconda3\\lib\\site-packages (from pandas>=1.2.0->pyreadstat) (2023.3)\n",
      "Requirement already satisfied: six>=1.5 in c:\\users\\rschu\\anaconda3\\lib\\site-packages (from python-dateutil>=2.8.2->pandas>=1.2.0->pyreadstat) (1.16.0)\n"
     ]
    }
   ],
   "source": [
    "import pandas as pd\n",
    "import numpy as np\n",
    "import seaborn as sns\n",
    "import os\n",
    "!pip install pyreadstat\n",
    "import pyreadstat #since the data files are .xpt files, this library is needed to import the table"
   ]
  },
  {
   "cell_type": "markdown",
   "id": "83079371-b6be-475d-ada0-fa580e1b2ede",
   "metadata": {},
   "source": [
    "## Data Cleaning\n",
    "\n",
    "Prior to initiating the data cleaning process, the required Python libraries are imported. Relevant NHANES datasets will be loaded sequentially at each step to maintain clarity and focus. This approach facilitates exploration of the data structure, variable types, and initial summaries, enabling a comprehensive understanding of the data's scope and quality."
   ]
  },
  {
   "cell_type": "markdown",
   "id": "018c98de-838d-4e6b-bab9-82108dd9d7da",
   "metadata": {},
   "source": [
    "### Demographics Data Cleaning"
   ]
  },
  {
   "cell_type": "code",
   "execution_count": 2,
   "id": "6fee66c6-af7a-406d-a2cd-99bb5f5821b4",
   "metadata": {},
   "outputs": [],
   "source": [
    "def standardize_id_column(df, original_id='SEQN', new_id='participant_id'):\n",
    "    \"\"\"\n",
    "    Renames the identifier column in a DataFrame from original_id to new_id.\n",
    "    If the original_id is not present, returns the DataFrame unchanged.\n",
    "\n",
    "    Parameters:\n",
    "    - df: pandas DataFrame\n",
    "    - original_id: name of the identifier column to replace (default 'SEQN')\n",
    "    - new_id: standardized name to use (default 'participant_id')\n",
    "\n",
    "    Returns:\n",
    "    - DataFrame with standardized ID column\n",
    "    \"\"\"\n",
    "    if original_id in df.columns:\n",
    "        df = df.rename(columns={original_id: new_id})\n",
    "    return df"
   ]
  },
  {
   "cell_type": "code",
   "execution_count": 3,
   "id": "09d4be67-6b70-4e25-b152-5b6edcc9cf15",
   "metadata": {},
   "outputs": [],
   "source": [
    "file_path = '2017-2020/2017-2020.P_DEMO.xpt'\n",
    "\n",
    "df_demo, meta = pyreadstat.read_xport(file_path)\n",
    "df_demo = standardize_id_column(df_demo)"
   ]
  },
  {
   "cell_type": "code",
   "execution_count": 4,
   "id": "6747684d-6789-4a15-8f2c-83eb5e3577c7",
   "metadata": {},
   "outputs": [
    {
     "data": {
      "text/html": [
       "<div>\n",
       "<style scoped>\n",
       "    .dataframe tbody tr th:only-of-type {\n",
       "        vertical-align: middle;\n",
       "    }\n",
       "\n",
       "    .dataframe tbody tr th {\n",
       "        vertical-align: top;\n",
       "    }\n",
       "\n",
       "    .dataframe thead th {\n",
       "        text-align: right;\n",
       "    }\n",
       "</style>\n",
       "<table border=\"1\" class=\"dataframe\">\n",
       "  <thead>\n",
       "    <tr style=\"text-align: right;\">\n",
       "      <th></th>\n",
       "      <th>participant_id</th>\n",
       "      <th>SDDSRVYR</th>\n",
       "      <th>RIDSTATR</th>\n",
       "      <th>RIAGENDR</th>\n",
       "      <th>RIDAGEYR</th>\n",
       "      <th>RIDAGEMN</th>\n",
       "      <th>RIDRETH1</th>\n",
       "      <th>RIDRETH3</th>\n",
       "      <th>RIDEXMON</th>\n",
       "      <th>DMDBORN4</th>\n",
       "      <th>...</th>\n",
       "      <th>FIAINTRP</th>\n",
       "      <th>MIALANG</th>\n",
       "      <th>MIAPROXY</th>\n",
       "      <th>MIAINTRP</th>\n",
       "      <th>AIALANGA</th>\n",
       "      <th>WTINTPRP</th>\n",
       "      <th>WTMECPRP</th>\n",
       "      <th>SDMVPSU</th>\n",
       "      <th>SDMVSTRA</th>\n",
       "      <th>INDFMPIR</th>\n",
       "    </tr>\n",
       "  </thead>\n",
       "  <tbody>\n",
       "    <tr>\n",
       "      <th>0</th>\n",
       "      <td>109263.0</td>\n",
       "      <td>66.0</td>\n",
       "      <td>2.0</td>\n",
       "      <td>1.0</td>\n",
       "      <td>2.0</td>\n",
       "      <td>NaN</td>\n",
       "      <td>5.0</td>\n",
       "      <td>6.0</td>\n",
       "      <td>2.0</td>\n",
       "      <td>1.0</td>\n",
       "      <td>...</td>\n",
       "      <td>2.0</td>\n",
       "      <td>NaN</td>\n",
       "      <td>NaN</td>\n",
       "      <td>NaN</td>\n",
       "      <td>NaN</td>\n",
       "      <td>7891.762435</td>\n",
       "      <td>8951.815567</td>\n",
       "      <td>3.0</td>\n",
       "      <td>156.0</td>\n",
       "      <td>4.66</td>\n",
       "    </tr>\n",
       "    <tr>\n",
       "      <th>1</th>\n",
       "      <td>109264.0</td>\n",
       "      <td>66.0</td>\n",
       "      <td>2.0</td>\n",
       "      <td>2.0</td>\n",
       "      <td>13.0</td>\n",
       "      <td>NaN</td>\n",
       "      <td>1.0</td>\n",
       "      <td>1.0</td>\n",
       "      <td>2.0</td>\n",
       "      <td>1.0</td>\n",
       "      <td>...</td>\n",
       "      <td>2.0</td>\n",
       "      <td>1.0</td>\n",
       "      <td>2.0</td>\n",
       "      <td>2.0</td>\n",
       "      <td>1.0</td>\n",
       "      <td>11689.747264</td>\n",
       "      <td>12271.157043</td>\n",
       "      <td>1.0</td>\n",
       "      <td>155.0</td>\n",
       "      <td>0.83</td>\n",
       "    </tr>\n",
       "    <tr>\n",
       "      <th>2</th>\n",
       "      <td>109265.0</td>\n",
       "      <td>66.0</td>\n",
       "      <td>2.0</td>\n",
       "      <td>1.0</td>\n",
       "      <td>2.0</td>\n",
       "      <td>NaN</td>\n",
       "      <td>3.0</td>\n",
       "      <td>3.0</td>\n",
       "      <td>2.0</td>\n",
       "      <td>1.0</td>\n",
       "      <td>...</td>\n",
       "      <td>2.0</td>\n",
       "      <td>NaN</td>\n",
       "      <td>NaN</td>\n",
       "      <td>NaN</td>\n",
       "      <td>NaN</td>\n",
       "      <td>16273.825939</td>\n",
       "      <td>16658.764203</td>\n",
       "      <td>1.0</td>\n",
       "      <td>157.0</td>\n",
       "      <td>3.06</td>\n",
       "    </tr>\n",
       "    <tr>\n",
       "      <th>3</th>\n",
       "      <td>109266.0</td>\n",
       "      <td>66.0</td>\n",
       "      <td>2.0</td>\n",
       "      <td>2.0</td>\n",
       "      <td>29.0</td>\n",
       "      <td>NaN</td>\n",
       "      <td>5.0</td>\n",
       "      <td>6.0</td>\n",
       "      <td>2.0</td>\n",
       "      <td>2.0</td>\n",
       "      <td>...</td>\n",
       "      <td>2.0</td>\n",
       "      <td>1.0</td>\n",
       "      <td>2.0</td>\n",
       "      <td>2.0</td>\n",
       "      <td>1.0</td>\n",
       "      <td>7825.646112</td>\n",
       "      <td>8154.968193</td>\n",
       "      <td>2.0</td>\n",
       "      <td>168.0</td>\n",
       "      <td>5.00</td>\n",
       "    </tr>\n",
       "    <tr>\n",
       "      <th>4</th>\n",
       "      <td>109267.0</td>\n",
       "      <td>66.0</td>\n",
       "      <td>1.0</td>\n",
       "      <td>2.0</td>\n",
       "      <td>21.0</td>\n",
       "      <td>NaN</td>\n",
       "      <td>2.0</td>\n",
       "      <td>2.0</td>\n",
       "      <td>NaN</td>\n",
       "      <td>2.0</td>\n",
       "      <td>...</td>\n",
       "      <td>2.0</td>\n",
       "      <td>NaN</td>\n",
       "      <td>NaN</td>\n",
       "      <td>NaN</td>\n",
       "      <td>NaN</td>\n",
       "      <td>26379.991724</td>\n",
       "      <td>0.000000</td>\n",
       "      <td>1.0</td>\n",
       "      <td>156.0</td>\n",
       "      <td>5.00</td>\n",
       "    </tr>\n",
       "    <tr>\n",
       "      <th>5</th>\n",
       "      <td>109268.0</td>\n",
       "      <td>66.0</td>\n",
       "      <td>1.0</td>\n",
       "      <td>2.0</td>\n",
       "      <td>18.0</td>\n",
       "      <td>NaN</td>\n",
       "      <td>3.0</td>\n",
       "      <td>3.0</td>\n",
       "      <td>NaN</td>\n",
       "      <td>1.0</td>\n",
       "      <td>...</td>\n",
       "      <td>2.0</td>\n",
       "      <td>NaN</td>\n",
       "      <td>NaN</td>\n",
       "      <td>NaN</td>\n",
       "      <td>NaN</td>\n",
       "      <td>19639.221008</td>\n",
       "      <td>0.000000</td>\n",
       "      <td>1.0</td>\n",
       "      <td>155.0</td>\n",
       "      <td>1.66</td>\n",
       "    </tr>\n",
       "    <tr>\n",
       "      <th>6</th>\n",
       "      <td>109269.0</td>\n",
       "      <td>66.0</td>\n",
       "      <td>2.0</td>\n",
       "      <td>1.0</td>\n",
       "      <td>2.0</td>\n",
       "      <td>NaN</td>\n",
       "      <td>2.0</td>\n",
       "      <td>2.0</td>\n",
       "      <td>1.0</td>\n",
       "      <td>1.0</td>\n",
       "      <td>...</td>\n",
       "      <td>2.0</td>\n",
       "      <td>NaN</td>\n",
       "      <td>NaN</td>\n",
       "      <td>NaN</td>\n",
       "      <td>NaN</td>\n",
       "      <td>5906.250521</td>\n",
       "      <td>6848.271782</td>\n",
       "      <td>2.0</td>\n",
       "      <td>152.0</td>\n",
       "      <td>0.96</td>\n",
       "    </tr>\n",
       "    <tr>\n",
       "      <th>7</th>\n",
       "      <td>109270.0</td>\n",
       "      <td>66.0</td>\n",
       "      <td>2.0</td>\n",
       "      <td>2.0</td>\n",
       "      <td>11.0</td>\n",
       "      <td>NaN</td>\n",
       "      <td>4.0</td>\n",
       "      <td>4.0</td>\n",
       "      <td>1.0</td>\n",
       "      <td>1.0</td>\n",
       "      <td>...</td>\n",
       "      <td>2.0</td>\n",
       "      <td>1.0</td>\n",
       "      <td>2.0</td>\n",
       "      <td>2.0</td>\n",
       "      <td>NaN</td>\n",
       "      <td>4613.057696</td>\n",
       "      <td>4886.930378</td>\n",
       "      <td>1.0</td>\n",
       "      <td>150.0</td>\n",
       "      <td>1.88</td>\n",
       "    </tr>\n",
       "    <tr>\n",
       "      <th>8</th>\n",
       "      <td>109271.0</td>\n",
       "      <td>66.0</td>\n",
       "      <td>2.0</td>\n",
       "      <td>1.0</td>\n",
       "      <td>49.0</td>\n",
       "      <td>NaN</td>\n",
       "      <td>3.0</td>\n",
       "      <td>3.0</td>\n",
       "      <td>2.0</td>\n",
       "      <td>1.0</td>\n",
       "      <td>...</td>\n",
       "      <td>2.0</td>\n",
       "      <td>1.0</td>\n",
       "      <td>2.0</td>\n",
       "      <td>2.0</td>\n",
       "      <td>1.0</td>\n",
       "      <td>8481.589837</td>\n",
       "      <td>8658.732873</td>\n",
       "      <td>1.0</td>\n",
       "      <td>167.0</td>\n",
       "      <td>NaN</td>\n",
       "    </tr>\n",
       "    <tr>\n",
       "      <th>9</th>\n",
       "      <td>109272.0</td>\n",
       "      <td>66.0</td>\n",
       "      <td>2.0</td>\n",
       "      <td>1.0</td>\n",
       "      <td>0.0</td>\n",
       "      <td>3.0</td>\n",
       "      <td>1.0</td>\n",
       "      <td>1.0</td>\n",
       "      <td>2.0</td>\n",
       "      <td>1.0</td>\n",
       "      <td>...</td>\n",
       "      <td>2.0</td>\n",
       "      <td>NaN</td>\n",
       "      <td>NaN</td>\n",
       "      <td>NaN</td>\n",
       "      <td>NaN</td>\n",
       "      <td>7037.380216</td>\n",
       "      <td>7872.776233</td>\n",
       "      <td>1.0</td>\n",
       "      <td>155.0</td>\n",
       "      <td>0.73</td>\n",
       "    </tr>\n",
       "  </tbody>\n",
       "</table>\n",
       "<p>10 rows × 29 columns</p>\n",
       "</div>"
      ],
      "text/plain": [
       "   participant_id  SDDSRVYR  RIDSTATR  RIAGENDR  RIDAGEYR  RIDAGEMN  RIDRETH1  \\\n",
       "0        109263.0      66.0       2.0       1.0       2.0       NaN       5.0   \n",
       "1        109264.0      66.0       2.0       2.0      13.0       NaN       1.0   \n",
       "2        109265.0      66.0       2.0       1.0       2.0       NaN       3.0   \n",
       "3        109266.0      66.0       2.0       2.0      29.0       NaN       5.0   \n",
       "4        109267.0      66.0       1.0       2.0      21.0       NaN       2.0   \n",
       "5        109268.0      66.0       1.0       2.0      18.0       NaN       3.0   \n",
       "6        109269.0      66.0       2.0       1.0       2.0       NaN       2.0   \n",
       "7        109270.0      66.0       2.0       2.0      11.0       NaN       4.0   \n",
       "8        109271.0      66.0       2.0       1.0      49.0       NaN       3.0   \n",
       "9        109272.0      66.0       2.0       1.0       0.0       3.0       1.0   \n",
       "\n",
       "   RIDRETH3  RIDEXMON  DMDBORN4  ...  FIAINTRP  MIALANG  MIAPROXY  MIAINTRP  \\\n",
       "0       6.0       2.0       1.0  ...       2.0      NaN       NaN       NaN   \n",
       "1       1.0       2.0       1.0  ...       2.0      1.0       2.0       2.0   \n",
       "2       3.0       2.0       1.0  ...       2.0      NaN       NaN       NaN   \n",
       "3       6.0       2.0       2.0  ...       2.0      1.0       2.0       2.0   \n",
       "4       2.0       NaN       2.0  ...       2.0      NaN       NaN       NaN   \n",
       "5       3.0       NaN       1.0  ...       2.0      NaN       NaN       NaN   \n",
       "6       2.0       1.0       1.0  ...       2.0      NaN       NaN       NaN   \n",
       "7       4.0       1.0       1.0  ...       2.0      1.0       2.0       2.0   \n",
       "8       3.0       2.0       1.0  ...       2.0      1.0       2.0       2.0   \n",
       "9       1.0       2.0       1.0  ...       2.0      NaN       NaN       NaN   \n",
       "\n",
       "   AIALANGA      WTINTPRP      WTMECPRP  SDMVPSU  SDMVSTRA  INDFMPIR  \n",
       "0       NaN   7891.762435   8951.815567      3.0     156.0      4.66  \n",
       "1       1.0  11689.747264  12271.157043      1.0     155.0      0.83  \n",
       "2       NaN  16273.825939  16658.764203      1.0     157.0      3.06  \n",
       "3       1.0   7825.646112   8154.968193      2.0     168.0      5.00  \n",
       "4       NaN  26379.991724      0.000000      1.0     156.0      5.00  \n",
       "5       NaN  19639.221008      0.000000      1.0     155.0      1.66  \n",
       "6       NaN   5906.250521   6848.271782      2.0     152.0      0.96  \n",
       "7       NaN   4613.057696   4886.930378      1.0     150.0      1.88  \n",
       "8       1.0   8481.589837   8658.732873      1.0     167.0       NaN  \n",
       "9       NaN   7037.380216   7872.776233      1.0     155.0      0.73  \n",
       "\n",
       "[10 rows x 29 columns]"
      ]
     },
     "execution_count": 4,
     "metadata": {},
     "output_type": "execute_result"
    }
   ],
   "source": [
    "df_demo.head(10)"
   ]
  },
  {
   "cell_type": "markdown",
   "id": "d9d9eb8e-b5ac-42d0-a625-6b699e27e53e",
   "metadata": {},
   "source": [
    "Many of the original column names in the dataset are not immediately intuitive. To improve readability and facilitate analysis, we will first list all column names and then rename them with more straightforward, descriptive labels. The original column descriptions can be referenced here: NHANES Demographics Codebook.\n",
    "\n",
    "Additionally, based on the project’s scope, several columns that are not relevant to our analysis will be dropped to streamline the dataset."
   ]
  },
  {
   "cell_type": "code",
   "execution_count": 5,
   "id": "1b7da144-e9c9-4554-bd88-8b122e7e6c9b",
   "metadata": {},
   "outputs": [
    {
     "data": {
      "text/plain": [
       "Index(['participant_id', 'SDDSRVYR', 'RIDSTATR', 'RIAGENDR', 'RIDAGEYR',\n",
       "       'RIDAGEMN', 'RIDRETH1', 'RIDRETH3', 'RIDEXMON', 'DMDBORN4', 'DMDYRUSZ',\n",
       "       'DMDEDUC2', 'DMDMARTZ', 'RIDEXPRG', 'SIALANG', 'SIAPROXY', 'SIAINTRP',\n",
       "       'FIALANG', 'FIAPROXY', 'FIAINTRP', 'MIALANG', 'MIAPROXY', 'MIAINTRP',\n",
       "       'AIALANGA', 'WTINTPRP', 'WTMECPRP', 'SDMVPSU', 'SDMVSTRA', 'INDFMPIR'],\n",
       "      dtype='object')"
      ]
     },
     "execution_count": 5,
     "metadata": {},
     "output_type": "execute_result"
    }
   ],
   "source": [
    "df_demo.columns"
   ]
  },
  {
   "cell_type": "code",
   "execution_count": 6,
   "id": "0f8a97cd-b44c-4879-8518-c094cf295c53",
   "metadata": {},
   "outputs": [],
   "source": [
    "df_demo.drop(['SDDSRVYR','RIDAGEMN','RIDRETH1','RIDEXMON','DMDBORN4','DMDYRUSZ','RIDEXPRG','SIALANG', \n",
    "         'SIAPROXY', 'SIAINTRP','FIALANG','FIAPROXY', 'FIAINTRP', 'MIALANG', 'MIAPROXY', \n",
    "         'MIAINTRP', 'AIALANGA','WTINTPRP', 'WTMECPRP', 'SDMVPSU', 'SDMVSTRA'],\n",
    "        axis=1,inplace=True, errors='ignore')"
   ]
  },
  {
   "cell_type": "code",
   "execution_count": 7,
   "id": "06d3c659-7ea2-4e70-9c9d-9b316086945c",
   "metadata": {},
   "outputs": [
    {
     "data": {
      "text/plain": [
       "Index(['participant_id', 'RIDSTATR', 'RIAGENDR', 'RIDAGEYR', 'RIDRETH3',\n",
       "       'DMDEDUC2', 'DMDMARTZ', 'INDFMPIR'],\n",
       "      dtype='object')"
      ]
     },
     "execution_count": 7,
     "metadata": {},
     "output_type": "execute_result"
    }
   ],
   "source": [
    "df_demo.columns"
   ]
  },
  {
   "cell_type": "code",
   "execution_count": 8,
   "id": "a993d06a-35e3-4b0c-815c-1e182676cd29",
   "metadata": {},
   "outputs": [],
   "source": [
    "df_demo = df_demo.rename(columns={\n",
    "    'RIAGENDR': 'gender',\n",
    "    'RIDAGEYR' : 'age_year',\n",
    "    'RIDRETH3' : 'race',\n",
    "    'DMDEDUC2' : 'education_level', \n",
    "    'DMDMARTZ' : 'marital_status',\n",
    "    'INDFMPIR' : 'family_income_poverty',\n",
    "    'RIDSTATR' : 'interview_exam_status'\n",
    "})"
   ]
  },
  {
   "cell_type": "code",
   "execution_count": 9,
   "id": "32792b7d-3b4d-4d0f-9091-d81c0c9b62f3",
   "metadata": {},
   "outputs": [
    {
     "data": {
      "text/html": [
       "<div>\n",
       "<style scoped>\n",
       "    .dataframe tbody tr th:only-of-type {\n",
       "        vertical-align: middle;\n",
       "    }\n",
       "\n",
       "    .dataframe tbody tr th {\n",
       "        vertical-align: top;\n",
       "    }\n",
       "\n",
       "    .dataframe thead th {\n",
       "        text-align: right;\n",
       "    }\n",
       "</style>\n",
       "<table border=\"1\" class=\"dataframe\">\n",
       "  <thead>\n",
       "    <tr style=\"text-align: right;\">\n",
       "      <th></th>\n",
       "      <th>participant_id</th>\n",
       "      <th>interview_exam_status</th>\n",
       "      <th>gender</th>\n",
       "      <th>age_year</th>\n",
       "      <th>race</th>\n",
       "      <th>education_level</th>\n",
       "      <th>marital_status</th>\n",
       "      <th>family_income_poverty</th>\n",
       "    </tr>\n",
       "  </thead>\n",
       "  <tbody>\n",
       "    <tr>\n",
       "      <th>0</th>\n",
       "      <td>109263.0</td>\n",
       "      <td>2.0</td>\n",
       "      <td>1.0</td>\n",
       "      <td>2.0</td>\n",
       "      <td>6.0</td>\n",
       "      <td>NaN</td>\n",
       "      <td>NaN</td>\n",
       "      <td>4.66</td>\n",
       "    </tr>\n",
       "    <tr>\n",
       "      <th>1</th>\n",
       "      <td>109264.0</td>\n",
       "      <td>2.0</td>\n",
       "      <td>2.0</td>\n",
       "      <td>13.0</td>\n",
       "      <td>1.0</td>\n",
       "      <td>NaN</td>\n",
       "      <td>NaN</td>\n",
       "      <td>0.83</td>\n",
       "    </tr>\n",
       "    <tr>\n",
       "      <th>2</th>\n",
       "      <td>109265.0</td>\n",
       "      <td>2.0</td>\n",
       "      <td>1.0</td>\n",
       "      <td>2.0</td>\n",
       "      <td>3.0</td>\n",
       "      <td>NaN</td>\n",
       "      <td>NaN</td>\n",
       "      <td>3.06</td>\n",
       "    </tr>\n",
       "    <tr>\n",
       "      <th>3</th>\n",
       "      <td>109266.0</td>\n",
       "      <td>2.0</td>\n",
       "      <td>2.0</td>\n",
       "      <td>29.0</td>\n",
       "      <td>6.0</td>\n",
       "      <td>5.0</td>\n",
       "      <td>3.0</td>\n",
       "      <td>5.00</td>\n",
       "    </tr>\n",
       "    <tr>\n",
       "      <th>4</th>\n",
       "      <td>109267.0</td>\n",
       "      <td>1.0</td>\n",
       "      <td>2.0</td>\n",
       "      <td>21.0</td>\n",
       "      <td>2.0</td>\n",
       "      <td>4.0</td>\n",
       "      <td>3.0</td>\n",
       "      <td>5.00</td>\n",
       "    </tr>\n",
       "    <tr>\n",
       "      <th>5</th>\n",
       "      <td>109268.0</td>\n",
       "      <td>1.0</td>\n",
       "      <td>2.0</td>\n",
       "      <td>18.0</td>\n",
       "      <td>3.0</td>\n",
       "      <td>NaN</td>\n",
       "      <td>NaN</td>\n",
       "      <td>1.66</td>\n",
       "    </tr>\n",
       "    <tr>\n",
       "      <th>6</th>\n",
       "      <td>109269.0</td>\n",
       "      <td>2.0</td>\n",
       "      <td>1.0</td>\n",
       "      <td>2.0</td>\n",
       "      <td>2.0</td>\n",
       "      <td>NaN</td>\n",
       "      <td>NaN</td>\n",
       "      <td>0.96</td>\n",
       "    </tr>\n",
       "    <tr>\n",
       "      <th>7</th>\n",
       "      <td>109270.0</td>\n",
       "      <td>2.0</td>\n",
       "      <td>2.0</td>\n",
       "      <td>11.0</td>\n",
       "      <td>4.0</td>\n",
       "      <td>NaN</td>\n",
       "      <td>NaN</td>\n",
       "      <td>1.88</td>\n",
       "    </tr>\n",
       "    <tr>\n",
       "      <th>8</th>\n",
       "      <td>109271.0</td>\n",
       "      <td>2.0</td>\n",
       "      <td>1.0</td>\n",
       "      <td>49.0</td>\n",
       "      <td>3.0</td>\n",
       "      <td>2.0</td>\n",
       "      <td>3.0</td>\n",
       "      <td>NaN</td>\n",
       "    </tr>\n",
       "    <tr>\n",
       "      <th>9</th>\n",
       "      <td>109272.0</td>\n",
       "      <td>2.0</td>\n",
       "      <td>1.0</td>\n",
       "      <td>0.0</td>\n",
       "      <td>1.0</td>\n",
       "      <td>NaN</td>\n",
       "      <td>NaN</td>\n",
       "      <td>0.73</td>\n",
       "    </tr>\n",
       "  </tbody>\n",
       "</table>\n",
       "</div>"
      ],
      "text/plain": [
       "   participant_id  interview_exam_status  gender  age_year  race  \\\n",
       "0        109263.0                    2.0     1.0       2.0   6.0   \n",
       "1        109264.0                    2.0     2.0      13.0   1.0   \n",
       "2        109265.0                    2.0     1.0       2.0   3.0   \n",
       "3        109266.0                    2.0     2.0      29.0   6.0   \n",
       "4        109267.0                    1.0     2.0      21.0   2.0   \n",
       "5        109268.0                    1.0     2.0      18.0   3.0   \n",
       "6        109269.0                    2.0     1.0       2.0   2.0   \n",
       "7        109270.0                    2.0     2.0      11.0   4.0   \n",
       "8        109271.0                    2.0     1.0      49.0   3.0   \n",
       "9        109272.0                    2.0     1.0       0.0   1.0   \n",
       "\n",
       "   education_level  marital_status  family_income_poverty  \n",
       "0              NaN             NaN                   4.66  \n",
       "1              NaN             NaN                   0.83  \n",
       "2              NaN             NaN                   3.06  \n",
       "3              5.0             3.0                   5.00  \n",
       "4              4.0             3.0                   5.00  \n",
       "5              NaN             NaN                   1.66  \n",
       "6              NaN             NaN                   0.96  \n",
       "7              NaN             NaN                   1.88  \n",
       "8              2.0             3.0                    NaN  \n",
       "9              NaN             NaN                   0.73  "
      ]
     },
     "execution_count": 9,
     "metadata": {},
     "output_type": "execute_result"
    }
   ],
   "source": [
    "df_demo.head(10)"
   ]
  },
  {
   "cell_type": "code",
   "execution_count": 10,
   "id": "062523ca-d648-4369-984a-faaef46c99ec",
   "metadata": {},
   "outputs": [
    {
     "data": {
      "text/plain": [
       "participant_id           float64\n",
       "interview_exam_status    float64\n",
       "gender                   float64\n",
       "age_year                 float64\n",
       "race                     float64\n",
       "education_level          float64\n",
       "marital_status           float64\n",
       "family_income_poverty    float64\n",
       "dtype: object"
      ]
     },
     "execution_count": 10,
     "metadata": {},
     "output_type": "execute_result"
    }
   ],
   "source": [
    "df_demo.dtypes"
   ]
  },
  {
   "cell_type": "code",
   "execution_count": 11,
   "id": "65919ba2-a18b-4cd8-83f2-dd65e266919b",
   "metadata": {},
   "outputs": [
    {
     "data": {
      "text/plain": [
       "(15560, 8)"
      ]
     },
     "execution_count": 11,
     "metadata": {},
     "output_type": "execute_result"
    }
   ],
   "source": [
    "df_demo.shape"
   ]
  },
  {
   "cell_type": "code",
   "execution_count": 12,
   "id": "a17b3604-50a0-497d-b8ee-98b1fa997bdf",
   "metadata": {},
   "outputs": [
    {
     "data": {
      "text/plain": [
       "participant_id              0\n",
       "interview_exam_status       0\n",
       "gender                      0\n",
       "age_year                    0\n",
       "race                        0\n",
       "education_level          6328\n",
       "marital_status           6328\n",
       "family_income_poverty    2201\n",
       "dtype: int64"
      ]
     },
     "execution_count": 12,
     "metadata": {},
     "output_type": "execute_result"
    }
   ],
   "source": [
    "df_demo.isnull().sum()"
   ]
  },
  {
   "cell_type": "code",
   "execution_count": 13,
   "id": "0e966203-6762-4bd8-af19-03cad5137420",
   "metadata": {
    "scrolled": true
   },
   "outputs": [
    {
     "data": {
      "text/html": [
       "<div>\n",
       "<style scoped>\n",
       "    .dataframe tbody tr th:only-of-type {\n",
       "        vertical-align: middle;\n",
       "    }\n",
       "\n",
       "    .dataframe tbody tr th {\n",
       "        vertical-align: top;\n",
       "    }\n",
       "\n",
       "    .dataframe thead th {\n",
       "        text-align: right;\n",
       "    }\n",
       "</style>\n",
       "<table border=\"1\" class=\"dataframe\">\n",
       "  <thead>\n",
       "    <tr style=\"text-align: right;\">\n",
       "      <th></th>\n",
       "      <th>participant_id</th>\n",
       "      <th>interview_exam_status</th>\n",
       "      <th>gender</th>\n",
       "      <th>age_year</th>\n",
       "      <th>race</th>\n",
       "      <th>education_level</th>\n",
       "      <th>marital_status</th>\n",
       "      <th>family_income_poverty</th>\n",
       "    </tr>\n",
       "  </thead>\n",
       "  <tbody>\n",
       "    <tr>\n",
       "      <th>count</th>\n",
       "      <td>15560.00000</td>\n",
       "      <td>15560.000000</td>\n",
       "      <td>15560.000000</td>\n",
       "      <td>15560.000000</td>\n",
       "      <td>15560.000000</td>\n",
       "      <td>9232.000000</td>\n",
       "      <td>9232.000000</td>\n",
       "      <td>13359.000000</td>\n",
       "    </tr>\n",
       "    <tr>\n",
       "      <th>mean</th>\n",
       "      <td>117042.50000</td>\n",
       "      <td>1.919023</td>\n",
       "      <td>1.503792</td>\n",
       "      <td>33.742481</td>\n",
       "      <td>3.486118</td>\n",
       "      <td>3.551993</td>\n",
       "      <td>1.708622</td>\n",
       "      <td>2.405937</td>\n",
       "    </tr>\n",
       "    <tr>\n",
       "      <th>std</th>\n",
       "      <td>4491.92943</td>\n",
       "      <td>0.272808</td>\n",
       "      <td>0.500002</td>\n",
       "      <td>25.320532</td>\n",
       "      <td>1.622734</td>\n",
       "      <td>1.214109</td>\n",
       "      <td>2.755878</td>\n",
       "      <td>1.634346</td>\n",
       "    </tr>\n",
       "    <tr>\n",
       "      <th>min</th>\n",
       "      <td>109263.00000</td>\n",
       "      <td>1.000000</td>\n",
       "      <td>1.000000</td>\n",
       "      <td>0.000000</td>\n",
       "      <td>1.000000</td>\n",
       "      <td>1.000000</td>\n",
       "      <td>1.000000</td>\n",
       "      <td>0.000000</td>\n",
       "    </tr>\n",
       "    <tr>\n",
       "      <th>25%</th>\n",
       "      <td>113152.75000</td>\n",
       "      <td>2.000000</td>\n",
       "      <td>1.000000</td>\n",
       "      <td>10.000000</td>\n",
       "      <td>3.000000</td>\n",
       "      <td>3.000000</td>\n",
       "      <td>1.000000</td>\n",
       "      <td>1.020000</td>\n",
       "    </tr>\n",
       "    <tr>\n",
       "      <th>50%</th>\n",
       "      <td>117042.50000</td>\n",
       "      <td>2.000000</td>\n",
       "      <td>2.000000</td>\n",
       "      <td>30.000000</td>\n",
       "      <td>3.000000</td>\n",
       "      <td>4.000000</td>\n",
       "      <td>1.000000</td>\n",
       "      <td>1.960000</td>\n",
       "    </tr>\n",
       "    <tr>\n",
       "      <th>75%</th>\n",
       "      <td>120932.25000</td>\n",
       "      <td>2.000000</td>\n",
       "      <td>2.000000</td>\n",
       "      <td>56.000000</td>\n",
       "      <td>4.000000</td>\n",
       "      <td>4.000000</td>\n",
       "      <td>2.000000</td>\n",
       "      <td>3.880000</td>\n",
       "    </tr>\n",
       "    <tr>\n",
       "      <th>max</th>\n",
       "      <td>124822.00000</td>\n",
       "      <td>2.000000</td>\n",
       "      <td>2.000000</td>\n",
       "      <td>80.000000</td>\n",
       "      <td>7.000000</td>\n",
       "      <td>9.000000</td>\n",
       "      <td>99.000000</td>\n",
       "      <td>5.000000</td>\n",
       "    </tr>\n",
       "  </tbody>\n",
       "</table>\n",
       "</div>"
      ],
      "text/plain": [
       "       participant_id  interview_exam_status        gender      age_year  \\\n",
       "count     15560.00000           15560.000000  15560.000000  15560.000000   \n",
       "mean     117042.50000               1.919023      1.503792     33.742481   \n",
       "std        4491.92943               0.272808      0.500002     25.320532   \n",
       "min      109263.00000               1.000000      1.000000      0.000000   \n",
       "25%      113152.75000               2.000000      1.000000     10.000000   \n",
       "50%      117042.50000               2.000000      2.000000     30.000000   \n",
       "75%      120932.25000               2.000000      2.000000     56.000000   \n",
       "max      124822.00000               2.000000      2.000000     80.000000   \n",
       "\n",
       "               race  education_level  marital_status  family_income_poverty  \n",
       "count  15560.000000      9232.000000     9232.000000           13359.000000  \n",
       "mean       3.486118         3.551993        1.708622               2.405937  \n",
       "std        1.622734         1.214109        2.755878               1.634346  \n",
       "min        1.000000         1.000000        1.000000               0.000000  \n",
       "25%        3.000000         3.000000        1.000000               1.020000  \n",
       "50%        3.000000         4.000000        1.000000               1.960000  \n",
       "75%        4.000000         4.000000        2.000000               3.880000  \n",
       "max        7.000000         9.000000       99.000000               5.000000  "
      ]
     },
     "execution_count": 13,
     "metadata": {},
     "output_type": "execute_result"
    }
   ],
   "source": [
    "df_demo.describe()"
   ]
  },
  {
   "cell_type": "markdown",
   "id": "e62fe1d5-a135-4b08-a40a-3e243fd1fe55",
   "metadata": {},
   "source": [
    "Based on the NHANES data documentation, the variable RIDSTATR (renamed as interview_exam_status) indicates whether a participant completed only the interview (1) or both the interview and physical examination (2). Since this project focuses on physical and medical examination data, participants with a value of 1 will be excluded. After filtering out these participants, the interview_exam_status column will be dropped, as it will no longer provide useful information."
   ]
  },
  {
   "cell_type": "code",
   "execution_count": 14,
   "id": "21e0416d-4663-40da-829b-c27d4eb7fb00",
   "metadata": {},
   "outputs": [],
   "source": [
    "df_demo = df_demo[df_demo['interview_exam_status'] != 1]"
   ]
  },
  {
   "cell_type": "code",
   "execution_count": 15,
   "id": "1f1d2543-3c78-41b4-843f-4074789355e1",
   "metadata": {},
   "outputs": [
    {
     "data": {
      "text/html": [
       "<div>\n",
       "<style scoped>\n",
       "    .dataframe tbody tr th:only-of-type {\n",
       "        vertical-align: middle;\n",
       "    }\n",
       "\n",
       "    .dataframe tbody tr th {\n",
       "        vertical-align: top;\n",
       "    }\n",
       "\n",
       "    .dataframe thead th {\n",
       "        text-align: right;\n",
       "    }\n",
       "</style>\n",
       "<table border=\"1\" class=\"dataframe\">\n",
       "  <thead>\n",
       "    <tr style=\"text-align: right;\">\n",
       "      <th></th>\n",
       "      <th>participant_id</th>\n",
       "      <th>interview_exam_status</th>\n",
       "      <th>gender</th>\n",
       "      <th>age_year</th>\n",
       "      <th>race</th>\n",
       "      <th>education_level</th>\n",
       "      <th>marital_status</th>\n",
       "      <th>family_income_poverty</th>\n",
       "    </tr>\n",
       "  </thead>\n",
       "  <tbody>\n",
       "    <tr>\n",
       "      <th>0</th>\n",
       "      <td>109263.0</td>\n",
       "      <td>2.0</td>\n",
       "      <td>1.0</td>\n",
       "      <td>2.0</td>\n",
       "      <td>6.0</td>\n",
       "      <td>NaN</td>\n",
       "      <td>NaN</td>\n",
       "      <td>4.66</td>\n",
       "    </tr>\n",
       "    <tr>\n",
       "      <th>1</th>\n",
       "      <td>109264.0</td>\n",
       "      <td>2.0</td>\n",
       "      <td>2.0</td>\n",
       "      <td>13.0</td>\n",
       "      <td>1.0</td>\n",
       "      <td>NaN</td>\n",
       "      <td>NaN</td>\n",
       "      <td>0.83</td>\n",
       "    </tr>\n",
       "    <tr>\n",
       "      <th>2</th>\n",
       "      <td>109265.0</td>\n",
       "      <td>2.0</td>\n",
       "      <td>1.0</td>\n",
       "      <td>2.0</td>\n",
       "      <td>3.0</td>\n",
       "      <td>NaN</td>\n",
       "      <td>NaN</td>\n",
       "      <td>3.06</td>\n",
       "    </tr>\n",
       "    <tr>\n",
       "      <th>3</th>\n",
       "      <td>109266.0</td>\n",
       "      <td>2.0</td>\n",
       "      <td>2.0</td>\n",
       "      <td>29.0</td>\n",
       "      <td>6.0</td>\n",
       "      <td>5.0</td>\n",
       "      <td>3.0</td>\n",
       "      <td>5.00</td>\n",
       "    </tr>\n",
       "    <tr>\n",
       "      <th>6</th>\n",
       "      <td>109269.0</td>\n",
       "      <td>2.0</td>\n",
       "      <td>1.0</td>\n",
       "      <td>2.0</td>\n",
       "      <td>2.0</td>\n",
       "      <td>NaN</td>\n",
       "      <td>NaN</td>\n",
       "      <td>0.96</td>\n",
       "    </tr>\n",
       "    <tr>\n",
       "      <th>7</th>\n",
       "      <td>109270.0</td>\n",
       "      <td>2.0</td>\n",
       "      <td>2.0</td>\n",
       "      <td>11.0</td>\n",
       "      <td>4.0</td>\n",
       "      <td>NaN</td>\n",
       "      <td>NaN</td>\n",
       "      <td>1.88</td>\n",
       "    </tr>\n",
       "    <tr>\n",
       "      <th>8</th>\n",
       "      <td>109271.0</td>\n",
       "      <td>2.0</td>\n",
       "      <td>1.0</td>\n",
       "      <td>49.0</td>\n",
       "      <td>3.0</td>\n",
       "      <td>2.0</td>\n",
       "      <td>3.0</td>\n",
       "      <td>NaN</td>\n",
       "    </tr>\n",
       "    <tr>\n",
       "      <th>9</th>\n",
       "      <td>109272.0</td>\n",
       "      <td>2.0</td>\n",
       "      <td>1.0</td>\n",
       "      <td>0.0</td>\n",
       "      <td>1.0</td>\n",
       "      <td>NaN</td>\n",
       "      <td>NaN</td>\n",
       "      <td>0.73</td>\n",
       "    </tr>\n",
       "    <tr>\n",
       "      <th>10</th>\n",
       "      <td>109273.0</td>\n",
       "      <td>2.0</td>\n",
       "      <td>1.0</td>\n",
       "      <td>36.0</td>\n",
       "      <td>3.0</td>\n",
       "      <td>4.0</td>\n",
       "      <td>3.0</td>\n",
       "      <td>0.83</td>\n",
       "    </tr>\n",
       "    <tr>\n",
       "      <th>11</th>\n",
       "      <td>109274.0</td>\n",
       "      <td>2.0</td>\n",
       "      <td>1.0</td>\n",
       "      <td>68.0</td>\n",
       "      <td>7.0</td>\n",
       "      <td>4.0</td>\n",
       "      <td>3.0</td>\n",
       "      <td>1.20</td>\n",
       "    </tr>\n",
       "  </tbody>\n",
       "</table>\n",
       "</div>"
      ],
      "text/plain": [
       "    participant_id  interview_exam_status  gender  age_year  race  \\\n",
       "0         109263.0                    2.0     1.0       2.0   6.0   \n",
       "1         109264.0                    2.0     2.0      13.0   1.0   \n",
       "2         109265.0                    2.0     1.0       2.0   3.0   \n",
       "3         109266.0                    2.0     2.0      29.0   6.0   \n",
       "6         109269.0                    2.0     1.0       2.0   2.0   \n",
       "7         109270.0                    2.0     2.0      11.0   4.0   \n",
       "8         109271.0                    2.0     1.0      49.0   3.0   \n",
       "9         109272.0                    2.0     1.0       0.0   1.0   \n",
       "10        109273.0                    2.0     1.0      36.0   3.0   \n",
       "11        109274.0                    2.0     1.0      68.0   7.0   \n",
       "\n",
       "    education_level  marital_status  family_income_poverty  \n",
       "0               NaN             NaN                   4.66  \n",
       "1               NaN             NaN                   0.83  \n",
       "2               NaN             NaN                   3.06  \n",
       "3               5.0             3.0                   5.00  \n",
       "6               NaN             NaN                   0.96  \n",
       "7               NaN             NaN                   1.88  \n",
       "8               2.0             3.0                    NaN  \n",
       "9               NaN             NaN                   0.73  \n",
       "10              4.0             3.0                   0.83  \n",
       "11              4.0             3.0                   1.20  "
      ]
     },
     "execution_count": 15,
     "metadata": {},
     "output_type": "execute_result"
    }
   ],
   "source": [
    "df_demo.head(10)"
   ]
  },
  {
   "cell_type": "code",
   "execution_count": 16,
   "id": "65865fb3-799d-401b-889f-b03aa93c4008",
   "metadata": {},
   "outputs": [],
   "source": [
    "df_demo.drop(['interview_exam_status'], axis = 1, inplace = True)"
   ]
  },
  {
   "cell_type": "code",
   "execution_count": 17,
   "id": "f55b16f0-bfd1-49e8-9db3-7a61def35ea9",
   "metadata": {},
   "outputs": [
    {
     "data": {
      "text/plain": [
       "(14300, 7)"
      ]
     },
     "execution_count": 17,
     "metadata": {},
     "output_type": "execute_result"
    }
   ],
   "source": [
    "df_demo.shape"
   ]
  },
  {
   "cell_type": "markdown",
   "id": "c48f5574-9613-4520-a257-ed0c04c98d4a",
   "metadata": {},
   "source": [
    "After the initial cleaning process, the resulting dataset contains approximately 143,000 rows and 7 columns.\n",
    "\n",
    "To maintain consistency with the original NHANES coding and to support traceability, the decision was made to retain the raw categorical values for columns containing encoded data (such as gender, race/ethnicity, and education level). These encoded values follow NHANES's standard coding conventions and will be referenced using corresponding lookup tables or detailed clarifications provided in the README."
   ]
  },
  {
   "cell_type": "code",
   "execution_count": 18,
   "id": "c742c3b6-b8ef-4c35-b177-006a09a9a34f",
   "metadata": {},
   "outputs": [
    {
     "data": {
      "text/html": [
       "<div>\n",
       "<style scoped>\n",
       "    .dataframe tbody tr th:only-of-type {\n",
       "        vertical-align: middle;\n",
       "    }\n",
       "\n",
       "    .dataframe tbody tr th {\n",
       "        vertical-align: top;\n",
       "    }\n",
       "\n",
       "    .dataframe thead th {\n",
       "        text-align: right;\n",
       "    }\n",
       "</style>\n",
       "<table border=\"1\" class=\"dataframe\">\n",
       "  <thead>\n",
       "    <tr style=\"text-align: right;\">\n",
       "      <th></th>\n",
       "      <th>participant_id</th>\n",
       "      <th>gender</th>\n",
       "      <th>age_year</th>\n",
       "      <th>race</th>\n",
       "      <th>education_level</th>\n",
       "      <th>marital_status</th>\n",
       "      <th>family_income_poverty</th>\n",
       "    </tr>\n",
       "  </thead>\n",
       "  <tbody>\n",
       "    <tr>\n",
       "      <th>0</th>\n",
       "      <td>109263.0</td>\n",
       "      <td>1.0</td>\n",
       "      <td>2.0</td>\n",
       "      <td>6.0</td>\n",
       "      <td>NaN</td>\n",
       "      <td>NaN</td>\n",
       "      <td>4.66</td>\n",
       "    </tr>\n",
       "    <tr>\n",
       "      <th>1</th>\n",
       "      <td>109264.0</td>\n",
       "      <td>2.0</td>\n",
       "      <td>13.0</td>\n",
       "      <td>1.0</td>\n",
       "      <td>NaN</td>\n",
       "      <td>NaN</td>\n",
       "      <td>0.83</td>\n",
       "    </tr>\n",
       "    <tr>\n",
       "      <th>2</th>\n",
       "      <td>109265.0</td>\n",
       "      <td>1.0</td>\n",
       "      <td>2.0</td>\n",
       "      <td>3.0</td>\n",
       "      <td>NaN</td>\n",
       "      <td>NaN</td>\n",
       "      <td>3.06</td>\n",
       "    </tr>\n",
       "    <tr>\n",
       "      <th>3</th>\n",
       "      <td>109266.0</td>\n",
       "      <td>2.0</td>\n",
       "      <td>29.0</td>\n",
       "      <td>6.0</td>\n",
       "      <td>5.0</td>\n",
       "      <td>3.0</td>\n",
       "      <td>5.00</td>\n",
       "    </tr>\n",
       "    <tr>\n",
       "      <th>6</th>\n",
       "      <td>109269.0</td>\n",
       "      <td>1.0</td>\n",
       "      <td>2.0</td>\n",
       "      <td>2.0</td>\n",
       "      <td>NaN</td>\n",
       "      <td>NaN</td>\n",
       "      <td>0.96</td>\n",
       "    </tr>\n",
       "    <tr>\n",
       "      <th>7</th>\n",
       "      <td>109270.0</td>\n",
       "      <td>2.0</td>\n",
       "      <td>11.0</td>\n",
       "      <td>4.0</td>\n",
       "      <td>NaN</td>\n",
       "      <td>NaN</td>\n",
       "      <td>1.88</td>\n",
       "    </tr>\n",
       "    <tr>\n",
       "      <th>8</th>\n",
       "      <td>109271.0</td>\n",
       "      <td>1.0</td>\n",
       "      <td>49.0</td>\n",
       "      <td>3.0</td>\n",
       "      <td>2.0</td>\n",
       "      <td>3.0</td>\n",
       "      <td>NaN</td>\n",
       "    </tr>\n",
       "    <tr>\n",
       "      <th>9</th>\n",
       "      <td>109272.0</td>\n",
       "      <td>1.0</td>\n",
       "      <td>0.0</td>\n",
       "      <td>1.0</td>\n",
       "      <td>NaN</td>\n",
       "      <td>NaN</td>\n",
       "      <td>0.73</td>\n",
       "    </tr>\n",
       "    <tr>\n",
       "      <th>10</th>\n",
       "      <td>109273.0</td>\n",
       "      <td>1.0</td>\n",
       "      <td>36.0</td>\n",
       "      <td>3.0</td>\n",
       "      <td>4.0</td>\n",
       "      <td>3.0</td>\n",
       "      <td>0.83</td>\n",
       "    </tr>\n",
       "    <tr>\n",
       "      <th>11</th>\n",
       "      <td>109274.0</td>\n",
       "      <td>1.0</td>\n",
       "      <td>68.0</td>\n",
       "      <td>7.0</td>\n",
       "      <td>4.0</td>\n",
       "      <td>3.0</td>\n",
       "      <td>1.20</td>\n",
       "    </tr>\n",
       "  </tbody>\n",
       "</table>\n",
       "</div>"
      ],
      "text/plain": [
       "    participant_id  gender  age_year  race  education_level  marital_status  \\\n",
       "0         109263.0     1.0       2.0   6.0              NaN             NaN   \n",
       "1         109264.0     2.0      13.0   1.0              NaN             NaN   \n",
       "2         109265.0     1.0       2.0   3.0              NaN             NaN   \n",
       "3         109266.0     2.0      29.0   6.0              5.0             3.0   \n",
       "6         109269.0     1.0       2.0   2.0              NaN             NaN   \n",
       "7         109270.0     2.0      11.0   4.0              NaN             NaN   \n",
       "8         109271.0     1.0      49.0   3.0              2.0             3.0   \n",
       "9         109272.0     1.0       0.0   1.0              NaN             NaN   \n",
       "10        109273.0     1.0      36.0   3.0              4.0             3.0   \n",
       "11        109274.0     1.0      68.0   7.0              4.0             3.0   \n",
       "\n",
       "    family_income_poverty  \n",
       "0                    4.66  \n",
       "1                    0.83  \n",
       "2                    3.06  \n",
       "3                    5.00  \n",
       "6                    0.96  \n",
       "7                    1.88  \n",
       "8                     NaN  \n",
       "9                    0.73  \n",
       "10                   0.83  \n",
       "11                   1.20  "
      ]
     },
     "execution_count": 18,
     "metadata": {},
     "output_type": "execute_result"
    }
   ],
   "source": [
    "df_demo.head(10)"
   ]
  },
  {
   "cell_type": "markdown",
   "id": "a5988870-d79f-42fb-be0e-9ce22e0b7e0d",
   "metadata": {},
   "source": [
    "At this stage, missing values (NaN) in other columns are retained to maximize the number of participants included in the dataset. This approach preserves potential correlations with other lab and physical examination variables. The cleaned dataframe has been saved as a CSV file for subsequent import into a relational database."
   ]
  },
  {
   "cell_type": "code",
   "execution_count": 19,
   "id": "5aad7f0d-7163-42a7-a0da-ee43d58bb647",
   "metadata": {},
   "outputs": [],
   "source": [
    "df_demo.to_csv('cleaned_demographics.csv', index=False)"
   ]
  },
  {
   "cell_type": "markdown",
   "id": "7513f4fe-e740-4c79-ab9b-bb40e6ba9968",
   "metadata": {},
   "source": [
    "The same cleaning and preprocessing steps will be applied to the other tables and datasets to ensure consistency and maintain data quality for the forthcoming analysis."
   ]
  },
  {
   "cell_type": "markdown",
   "id": "7fb925eb-6d81-443b-ad35-b14ea22f9928",
   "metadata": {},
   "source": [
    "### Body Measures Data Cleaning"
   ]
  },
  {
   "cell_type": "code",
   "execution_count": 20,
   "id": "21fd532f-3dc4-4661-99c9-c586cd762ef7",
   "metadata": {},
   "outputs": [],
   "source": [
    "file_path = '2017-2020/2017-2020.P_BMX.xpt'\n",
    "\n",
    "df_bmx, meta = pyreadstat.read_xport(file_path)\n",
    "df_bmx = standardize_id_column(df_bmx)"
   ]
  },
  {
   "cell_type": "code",
   "execution_count": 21,
   "id": "bb679ed3-d7ae-4ccb-8c61-0c0d11252e07",
   "metadata": {
    "scrolled": true
   },
   "outputs": [
    {
     "data": {
      "text/html": [
       "<div>\n",
       "<style scoped>\n",
       "    .dataframe tbody tr th:only-of-type {\n",
       "        vertical-align: middle;\n",
       "    }\n",
       "\n",
       "    .dataframe tbody tr th {\n",
       "        vertical-align: top;\n",
       "    }\n",
       "\n",
       "    .dataframe thead th {\n",
       "        text-align: right;\n",
       "    }\n",
       "</style>\n",
       "<table border=\"1\" class=\"dataframe\">\n",
       "  <thead>\n",
       "    <tr style=\"text-align: right;\">\n",
       "      <th></th>\n",
       "      <th>participant_id</th>\n",
       "      <th>BMDSTATS</th>\n",
       "      <th>BMXWT</th>\n",
       "      <th>BMIWT</th>\n",
       "      <th>BMXRECUM</th>\n",
       "      <th>BMIRECUM</th>\n",
       "      <th>BMXHEAD</th>\n",
       "      <th>BMIHEAD</th>\n",
       "      <th>BMXHT</th>\n",
       "      <th>BMIHT</th>\n",
       "      <th>...</th>\n",
       "      <th>BMXLEG</th>\n",
       "      <th>BMILEG</th>\n",
       "      <th>BMXARML</th>\n",
       "      <th>BMIARML</th>\n",
       "      <th>BMXARMC</th>\n",
       "      <th>BMIARMC</th>\n",
       "      <th>BMXWAIST</th>\n",
       "      <th>BMIWAIST</th>\n",
       "      <th>BMXHIP</th>\n",
       "      <th>BMIHIP</th>\n",
       "    </tr>\n",
       "  </thead>\n",
       "  <tbody>\n",
       "    <tr>\n",
       "      <th>0</th>\n",
       "      <td>109263.0</td>\n",
       "      <td>4.0</td>\n",
       "      <td>NaN</td>\n",
       "      <td>NaN</td>\n",
       "      <td>NaN</td>\n",
       "      <td>NaN</td>\n",
       "      <td>NaN</td>\n",
       "      <td>NaN</td>\n",
       "      <td>NaN</td>\n",
       "      <td>NaN</td>\n",
       "      <td>...</td>\n",
       "      <td>NaN</td>\n",
       "      <td>NaN</td>\n",
       "      <td>NaN</td>\n",
       "      <td>NaN</td>\n",
       "      <td>NaN</td>\n",
       "      <td>NaN</td>\n",
       "      <td>NaN</td>\n",
       "      <td>NaN</td>\n",
       "      <td>NaN</td>\n",
       "      <td>NaN</td>\n",
       "    </tr>\n",
       "    <tr>\n",
       "      <th>1</th>\n",
       "      <td>109264.0</td>\n",
       "      <td>1.0</td>\n",
       "      <td>42.2</td>\n",
       "      <td>NaN</td>\n",
       "      <td>NaN</td>\n",
       "      <td>NaN</td>\n",
       "      <td>NaN</td>\n",
       "      <td>NaN</td>\n",
       "      <td>154.7</td>\n",
       "      <td>NaN</td>\n",
       "      <td>...</td>\n",
       "      <td>36.3</td>\n",
       "      <td>NaN</td>\n",
       "      <td>33.8</td>\n",
       "      <td>NaN</td>\n",
       "      <td>22.7</td>\n",
       "      <td>NaN</td>\n",
       "      <td>63.8</td>\n",
       "      <td>NaN</td>\n",
       "      <td>85.0</td>\n",
       "      <td>NaN</td>\n",
       "    </tr>\n",
       "    <tr>\n",
       "      <th>2</th>\n",
       "      <td>109265.0</td>\n",
       "      <td>1.0</td>\n",
       "      <td>12.0</td>\n",
       "      <td>NaN</td>\n",
       "      <td>91.6</td>\n",
       "      <td>NaN</td>\n",
       "      <td>NaN</td>\n",
       "      <td>NaN</td>\n",
       "      <td>89.3</td>\n",
       "      <td>NaN</td>\n",
       "      <td>...</td>\n",
       "      <td>NaN</td>\n",
       "      <td>NaN</td>\n",
       "      <td>18.6</td>\n",
       "      <td>NaN</td>\n",
       "      <td>14.8</td>\n",
       "      <td>NaN</td>\n",
       "      <td>41.2</td>\n",
       "      <td>NaN</td>\n",
       "      <td>NaN</td>\n",
       "      <td>NaN</td>\n",
       "    </tr>\n",
       "    <tr>\n",
       "      <th>3</th>\n",
       "      <td>109266.0</td>\n",
       "      <td>1.0</td>\n",
       "      <td>97.1</td>\n",
       "      <td>NaN</td>\n",
       "      <td>NaN</td>\n",
       "      <td>NaN</td>\n",
       "      <td>NaN</td>\n",
       "      <td>NaN</td>\n",
       "      <td>160.2</td>\n",
       "      <td>NaN</td>\n",
       "      <td>...</td>\n",
       "      <td>40.8</td>\n",
       "      <td>NaN</td>\n",
       "      <td>34.7</td>\n",
       "      <td>NaN</td>\n",
       "      <td>35.8</td>\n",
       "      <td>NaN</td>\n",
       "      <td>117.9</td>\n",
       "      <td>NaN</td>\n",
       "      <td>126.1</td>\n",
       "      <td>NaN</td>\n",
       "    </tr>\n",
       "    <tr>\n",
       "      <th>4</th>\n",
       "      <td>109269.0</td>\n",
       "      <td>3.0</td>\n",
       "      <td>13.6</td>\n",
       "      <td>NaN</td>\n",
       "      <td>90.9</td>\n",
       "      <td>NaN</td>\n",
       "      <td>NaN</td>\n",
       "      <td>NaN</td>\n",
       "      <td>NaN</td>\n",
       "      <td>1.0</td>\n",
       "      <td>...</td>\n",
       "      <td>NaN</td>\n",
       "      <td>NaN</td>\n",
       "      <td>NaN</td>\n",
       "      <td>1.0</td>\n",
       "      <td>NaN</td>\n",
       "      <td>1.0</td>\n",
       "      <td>NaN</td>\n",
       "      <td>1.0</td>\n",
       "      <td>NaN</td>\n",
       "      <td>NaN</td>\n",
       "    </tr>\n",
       "    <tr>\n",
       "      <th>5</th>\n",
       "      <td>109270.0</td>\n",
       "      <td>1.0</td>\n",
       "      <td>75.3</td>\n",
       "      <td>NaN</td>\n",
       "      <td>NaN</td>\n",
       "      <td>NaN</td>\n",
       "      <td>NaN</td>\n",
       "      <td>NaN</td>\n",
       "      <td>156.0</td>\n",
       "      <td>NaN</td>\n",
       "      <td>...</td>\n",
       "      <td>42.6</td>\n",
       "      <td>NaN</td>\n",
       "      <td>36.1</td>\n",
       "      <td>NaN</td>\n",
       "      <td>31.0</td>\n",
       "      <td>NaN</td>\n",
       "      <td>91.4</td>\n",
       "      <td>NaN</td>\n",
       "      <td>NaN</td>\n",
       "      <td>NaN</td>\n",
       "    </tr>\n",
       "    <tr>\n",
       "      <th>6</th>\n",
       "      <td>109271.0</td>\n",
       "      <td>1.0</td>\n",
       "      <td>98.8</td>\n",
       "      <td>NaN</td>\n",
       "      <td>NaN</td>\n",
       "      <td>NaN</td>\n",
       "      <td>NaN</td>\n",
       "      <td>NaN</td>\n",
       "      <td>182.3</td>\n",
       "      <td>NaN</td>\n",
       "      <td>...</td>\n",
       "      <td>40.1</td>\n",
       "      <td>NaN</td>\n",
       "      <td>42.0</td>\n",
       "      <td>NaN</td>\n",
       "      <td>38.2</td>\n",
       "      <td>NaN</td>\n",
       "      <td>120.4</td>\n",
       "      <td>NaN</td>\n",
       "      <td>108.2</td>\n",
       "      <td>NaN</td>\n",
       "    </tr>\n",
       "    <tr>\n",
       "      <th>7</th>\n",
       "      <td>109272.0</td>\n",
       "      <td>1.0</td>\n",
       "      <td>7.1</td>\n",
       "      <td>NaN</td>\n",
       "      <td>63.6</td>\n",
       "      <td>NaN</td>\n",
       "      <td>41.3</td>\n",
       "      <td>NaN</td>\n",
       "      <td>NaN</td>\n",
       "      <td>NaN</td>\n",
       "      <td>...</td>\n",
       "      <td>NaN</td>\n",
       "      <td>NaN</td>\n",
       "      <td>13.0</td>\n",
       "      <td>NaN</td>\n",
       "      <td>15.5</td>\n",
       "      <td>NaN</td>\n",
       "      <td>NaN</td>\n",
       "      <td>NaN</td>\n",
       "      <td>NaN</td>\n",
       "      <td>NaN</td>\n",
       "    </tr>\n",
       "    <tr>\n",
       "      <th>8</th>\n",
       "      <td>109273.0</td>\n",
       "      <td>1.0</td>\n",
       "      <td>74.3</td>\n",
       "      <td>NaN</td>\n",
       "      <td>NaN</td>\n",
       "      <td>NaN</td>\n",
       "      <td>NaN</td>\n",
       "      <td>NaN</td>\n",
       "      <td>184.2</td>\n",
       "      <td>NaN</td>\n",
       "      <td>...</td>\n",
       "      <td>41.0</td>\n",
       "      <td>NaN</td>\n",
       "      <td>41.1</td>\n",
       "      <td>NaN</td>\n",
       "      <td>30.2</td>\n",
       "      <td>NaN</td>\n",
       "      <td>86.8</td>\n",
       "      <td>NaN</td>\n",
       "      <td>94.5</td>\n",
       "      <td>NaN</td>\n",
       "    </tr>\n",
       "    <tr>\n",
       "      <th>9</th>\n",
       "      <td>109274.0</td>\n",
       "      <td>1.0</td>\n",
       "      <td>103.7</td>\n",
       "      <td>NaN</td>\n",
       "      <td>NaN</td>\n",
       "      <td>NaN</td>\n",
       "      <td>NaN</td>\n",
       "      <td>NaN</td>\n",
       "      <td>185.3</td>\n",
       "      <td>NaN</td>\n",
       "      <td>...</td>\n",
       "      <td>44.0</td>\n",
       "      <td>NaN</td>\n",
       "      <td>47.0</td>\n",
       "      <td>NaN</td>\n",
       "      <td>32.0</td>\n",
       "      <td>NaN</td>\n",
       "      <td>109.6</td>\n",
       "      <td>NaN</td>\n",
       "      <td>107.8</td>\n",
       "      <td>NaN</td>\n",
       "    </tr>\n",
       "  </tbody>\n",
       "</table>\n",
       "<p>10 rows × 22 columns</p>\n",
       "</div>"
      ],
      "text/plain": [
       "   participant_id  BMDSTATS  BMXWT  BMIWT  BMXRECUM  BMIRECUM  BMXHEAD  \\\n",
       "0        109263.0       4.0    NaN    NaN       NaN       NaN      NaN   \n",
       "1        109264.0       1.0   42.2    NaN       NaN       NaN      NaN   \n",
       "2        109265.0       1.0   12.0    NaN      91.6       NaN      NaN   \n",
       "3        109266.0       1.0   97.1    NaN       NaN       NaN      NaN   \n",
       "4        109269.0       3.0   13.6    NaN      90.9       NaN      NaN   \n",
       "5        109270.0       1.0   75.3    NaN       NaN       NaN      NaN   \n",
       "6        109271.0       1.0   98.8    NaN       NaN       NaN      NaN   \n",
       "7        109272.0       1.0    7.1    NaN      63.6       NaN     41.3   \n",
       "8        109273.0       1.0   74.3    NaN       NaN       NaN      NaN   \n",
       "9        109274.0       1.0  103.7    NaN       NaN       NaN      NaN   \n",
       "\n",
       "   BMIHEAD  BMXHT  BMIHT  ...  BMXLEG  BMILEG  BMXARML  BMIARML  BMXARMC  \\\n",
       "0      NaN    NaN    NaN  ...     NaN     NaN      NaN      NaN      NaN   \n",
       "1      NaN  154.7    NaN  ...    36.3     NaN     33.8      NaN     22.7   \n",
       "2      NaN   89.3    NaN  ...     NaN     NaN     18.6      NaN     14.8   \n",
       "3      NaN  160.2    NaN  ...    40.8     NaN     34.7      NaN     35.8   \n",
       "4      NaN    NaN    1.0  ...     NaN     NaN      NaN      1.0      NaN   \n",
       "5      NaN  156.0    NaN  ...    42.6     NaN     36.1      NaN     31.0   \n",
       "6      NaN  182.3    NaN  ...    40.1     NaN     42.0      NaN     38.2   \n",
       "7      NaN    NaN    NaN  ...     NaN     NaN     13.0      NaN     15.5   \n",
       "8      NaN  184.2    NaN  ...    41.0     NaN     41.1      NaN     30.2   \n",
       "9      NaN  185.3    NaN  ...    44.0     NaN     47.0      NaN     32.0   \n",
       "\n",
       "   BMIARMC  BMXWAIST  BMIWAIST  BMXHIP  BMIHIP  \n",
       "0      NaN       NaN       NaN     NaN     NaN  \n",
       "1      NaN      63.8       NaN    85.0     NaN  \n",
       "2      NaN      41.2       NaN     NaN     NaN  \n",
       "3      NaN     117.9       NaN   126.1     NaN  \n",
       "4      1.0       NaN       1.0     NaN     NaN  \n",
       "5      NaN      91.4       NaN     NaN     NaN  \n",
       "6      NaN     120.4       NaN   108.2     NaN  \n",
       "7      NaN       NaN       NaN     NaN     NaN  \n",
       "8      NaN      86.8       NaN    94.5     NaN  \n",
       "9      NaN     109.6       NaN   107.8     NaN  \n",
       "\n",
       "[10 rows x 22 columns]"
      ]
     },
     "execution_count": 21,
     "metadata": {},
     "output_type": "execute_result"
    }
   ],
   "source": [
    "df_bmx.head(10)"
   ]
  },
  {
   "cell_type": "code",
   "execution_count": 22,
   "id": "8cbb5e6a-03e4-4701-9396-2c438652797e",
   "metadata": {},
   "outputs": [
    {
     "data": {
      "text/plain": [
       "(14300, 22)"
      ]
     },
     "execution_count": 22,
     "metadata": {},
     "output_type": "execute_result"
    }
   ],
   "source": [
    "df_bmx.shape"
   ]
  },
  {
   "cell_type": "code",
   "execution_count": 23,
   "id": "6149a010-6953-43b5-96dc-1a963d295c0e",
   "metadata": {},
   "outputs": [
    {
     "data": {
      "text/plain": [
       "participant_id        0\n",
       "BMDSTATS              0\n",
       "BMXWT               225\n",
       "BMIWT             13712\n",
       "BMXRECUM          12830\n",
       "BMIRECUM          14257\n",
       "BMXHEAD           13990\n",
       "BMIHEAD           14300\n",
       "BMXHT              1143\n",
       "BMIHT             14129\n",
       "BMXBMI             1163\n",
       "BMDBMIC            9551\n",
       "BMXLEG             3316\n",
       "BMILEG            13812\n",
       "BMXARML             810\n",
       "BMIARML           13813\n",
       "BMXARMC             816\n",
       "BMIARMC           13807\n",
       "BMXWAIST           1726\n",
       "BMIWAIST          13683\n",
       "BMXHIP             4438\n",
       "BMIHIP            13924\n",
       "dtype: int64"
      ]
     },
     "execution_count": 23,
     "metadata": {},
     "output_type": "execute_result"
    }
   ],
   "source": [
    "df_bmx.isnull().sum()"
   ]
  },
  {
   "cell_type": "markdown",
   "id": "6fdd08cf-0520-4e85-aec3-ef6a7dd7edfc",
   "metadata": {},
   "source": [
    "Looking at the document associated with this dataset, each of the column and their contents were assessed. There are participants without body measurement data, which will be excluded. "
   ]
  },
  {
   "cell_type": "code",
   "execution_count": 24,
   "id": "1fb56f44-1b1a-424c-9f87-824a0ca83294",
   "metadata": {},
   "outputs": [],
   "source": [
    "df_bmx = df_bmx[df_bmx['BMDSTATS'] != 4]"
   ]
  },
  {
   "cell_type": "code",
   "execution_count": 25,
   "id": "87e635a8-4ce9-4f5a-b469-e8b08be68af4",
   "metadata": {},
   "outputs": [
    {
     "data": {
      "text/plain": [
       "(14107, 22)"
      ]
     },
     "execution_count": 25,
     "metadata": {},
     "output_type": "execute_result"
    }
   ],
   "source": [
    "df_bmx.shape"
   ]
  },
  {
   "cell_type": "markdown",
   "id": "3363af87-21a6-402c-8cd8-a1e0fbccb6a4",
   "metadata": {},
   "source": [
    "The head circumference is measured for children 0 years - 6 months old. Since this value is obtained only for a small portion of the participant population, the decision was made to drop that column. \n",
    "\n",
    "There are some columns with comments to explain some of the missing data and the decision was made to keep those. The rest of the columns will be renamed to be more intuitive."
   ]
  },
  {
   "cell_type": "code",
   "execution_count": 26,
   "id": "e63a896b-4e77-4c03-8113-dd0e69e90c9c",
   "metadata": {},
   "outputs": [],
   "source": [
    "df_bmx.drop(['BMDSTATS','BMXHEAD','BMIHEAD'], axis = 1, inplace = True)"
   ]
  },
  {
   "cell_type": "code",
   "execution_count": 27,
   "id": "fb2b397f-57d7-4494-9064-ad2d067e4b43",
   "metadata": {},
   "outputs": [
    {
     "data": {
      "text/plain": [
       "Index(['participant_id', 'BMXWT', 'BMIWT', 'BMXRECUM', 'BMIRECUM', 'BMXHT',\n",
       "       'BMIHT', 'BMXBMI', 'BMDBMIC', 'BMXLEG', 'BMILEG', 'BMXARML', 'BMIARML',\n",
       "       'BMXARMC', 'BMIARMC', 'BMXWAIST', 'BMIWAIST', 'BMXHIP', 'BMIHIP'],\n",
       "      dtype='object')"
      ]
     },
     "execution_count": 27,
     "metadata": {},
     "output_type": "execute_result"
    }
   ],
   "source": [
    "df_bmx.columns"
   ]
  },
  {
   "cell_type": "code",
   "execution_count": 28,
   "id": "2b1e35b6-c4c5-441e-82c8-6752b92a0a05",
   "metadata": {},
   "outputs": [],
   "source": [
    "df_bmx = df_bmx.rename(columns={\n",
    "    'BMXWT':'weight_kg',\n",
    "    'BMIWT': 'weight_comment',\n",
    "    'BMXRECUM': 'recumbent_length_cm',\n",
    "    'BMIRECUM': 'recumbent_length_comment',\n",
    "    'BMXHT': 'standing_height', \n",
    "    'BMIHT': 'standing_height_comment',\n",
    "    'BMXBMI': 'bmi',\n",
    "    'BMDBMIC': 'bmi_category_child',\n",
    "    'BMXLEG': 'upper_leg_cm',\n",
    "    'BMILEG': 'upper_leg_comment',\n",
    "    'BMXARML': 'upper_arm_cm',\n",
    "    'BMIARML': 'upper_arm_comment',\n",
    "    'BMXARMC': 'arm_circumference_cm',\n",
    "    'BMIARMC': 'arm_circ_comment',\n",
    "    'BMXWAIST': 'waist_circ_cm',\n",
    "    'BMIWAIST': 'waist_circ_comment', \n",
    "    'BMXHIP': 'hip_circ_cm', \n",
    "    'BMIHIP': 'hip_circ_comment'\n",
    "})"
   ]
  },
  {
   "cell_type": "code",
   "execution_count": 29,
   "id": "0f1e18c9-2647-40bf-ba7f-e656c612eb92",
   "metadata": {},
   "outputs": [
    {
     "data": {
      "text/html": [
       "<div>\n",
       "<style scoped>\n",
       "    .dataframe tbody tr th:only-of-type {\n",
       "        vertical-align: middle;\n",
       "    }\n",
       "\n",
       "    .dataframe tbody tr th {\n",
       "        vertical-align: top;\n",
       "    }\n",
       "\n",
       "    .dataframe thead th {\n",
       "        text-align: right;\n",
       "    }\n",
       "</style>\n",
       "<table border=\"1\" class=\"dataframe\">\n",
       "  <thead>\n",
       "    <tr style=\"text-align: right;\">\n",
       "      <th></th>\n",
       "      <th>participant_id</th>\n",
       "      <th>weight_kg</th>\n",
       "      <th>weight_comment</th>\n",
       "      <th>recumbent_length_cm</th>\n",
       "      <th>recumbent_length_comment</th>\n",
       "      <th>standing_height</th>\n",
       "      <th>standing_height_comment</th>\n",
       "      <th>bmi</th>\n",
       "      <th>bmi_category_child</th>\n",
       "      <th>upper_leg_cm</th>\n",
       "      <th>upper_leg_comment</th>\n",
       "      <th>upper_arm_cm</th>\n",
       "      <th>upper_arm_comment</th>\n",
       "      <th>arm_circumference_cm</th>\n",
       "      <th>arm_circ_comment</th>\n",
       "      <th>waist_circ_cm</th>\n",
       "      <th>waist_circ_comment</th>\n",
       "      <th>hip_circ_cm</th>\n",
       "      <th>hip_circ_comment</th>\n",
       "    </tr>\n",
       "  </thead>\n",
       "  <tbody>\n",
       "    <tr>\n",
       "      <th>1</th>\n",
       "      <td>109264.0</td>\n",
       "      <td>42.2</td>\n",
       "      <td>NaN</td>\n",
       "      <td>NaN</td>\n",
       "      <td>NaN</td>\n",
       "      <td>154.7</td>\n",
       "      <td>NaN</td>\n",
       "      <td>17.6</td>\n",
       "      <td>2.0</td>\n",
       "      <td>36.3</td>\n",
       "      <td>NaN</td>\n",
       "      <td>33.8</td>\n",
       "      <td>NaN</td>\n",
       "      <td>22.7</td>\n",
       "      <td>NaN</td>\n",
       "      <td>63.8</td>\n",
       "      <td>NaN</td>\n",
       "      <td>85.0</td>\n",
       "      <td>NaN</td>\n",
       "    </tr>\n",
       "    <tr>\n",
       "      <th>2</th>\n",
       "      <td>109265.0</td>\n",
       "      <td>12.0</td>\n",
       "      <td>NaN</td>\n",
       "      <td>91.6</td>\n",
       "      <td>NaN</td>\n",
       "      <td>89.3</td>\n",
       "      <td>NaN</td>\n",
       "      <td>15.0</td>\n",
       "      <td>2.0</td>\n",
       "      <td>NaN</td>\n",
       "      <td>NaN</td>\n",
       "      <td>18.6</td>\n",
       "      <td>NaN</td>\n",
       "      <td>14.8</td>\n",
       "      <td>NaN</td>\n",
       "      <td>41.2</td>\n",
       "      <td>NaN</td>\n",
       "      <td>NaN</td>\n",
       "      <td>NaN</td>\n",
       "    </tr>\n",
       "    <tr>\n",
       "      <th>3</th>\n",
       "      <td>109266.0</td>\n",
       "      <td>97.1</td>\n",
       "      <td>NaN</td>\n",
       "      <td>NaN</td>\n",
       "      <td>NaN</td>\n",
       "      <td>160.2</td>\n",
       "      <td>NaN</td>\n",
       "      <td>37.8</td>\n",
       "      <td>NaN</td>\n",
       "      <td>40.8</td>\n",
       "      <td>NaN</td>\n",
       "      <td>34.7</td>\n",
       "      <td>NaN</td>\n",
       "      <td>35.8</td>\n",
       "      <td>NaN</td>\n",
       "      <td>117.9</td>\n",
       "      <td>NaN</td>\n",
       "      <td>126.1</td>\n",
       "      <td>NaN</td>\n",
       "    </tr>\n",
       "    <tr>\n",
       "      <th>4</th>\n",
       "      <td>109269.0</td>\n",
       "      <td>13.6</td>\n",
       "      <td>NaN</td>\n",
       "      <td>90.9</td>\n",
       "      <td>NaN</td>\n",
       "      <td>NaN</td>\n",
       "      <td>1.0</td>\n",
       "      <td>NaN</td>\n",
       "      <td>NaN</td>\n",
       "      <td>NaN</td>\n",
       "      <td>NaN</td>\n",
       "      <td>NaN</td>\n",
       "      <td>1.0</td>\n",
       "      <td>NaN</td>\n",
       "      <td>1.0</td>\n",
       "      <td>NaN</td>\n",
       "      <td>1.0</td>\n",
       "      <td>NaN</td>\n",
       "      <td>NaN</td>\n",
       "    </tr>\n",
       "    <tr>\n",
       "      <th>5</th>\n",
       "      <td>109270.0</td>\n",
       "      <td>75.3</td>\n",
       "      <td>NaN</td>\n",
       "      <td>NaN</td>\n",
       "      <td>NaN</td>\n",
       "      <td>156.0</td>\n",
       "      <td>NaN</td>\n",
       "      <td>30.9</td>\n",
       "      <td>4.0</td>\n",
       "      <td>42.6</td>\n",
       "      <td>NaN</td>\n",
       "      <td>36.1</td>\n",
       "      <td>NaN</td>\n",
       "      <td>31.0</td>\n",
       "      <td>NaN</td>\n",
       "      <td>91.4</td>\n",
       "      <td>NaN</td>\n",
       "      <td>NaN</td>\n",
       "      <td>NaN</td>\n",
       "    </tr>\n",
       "    <tr>\n",
       "      <th>6</th>\n",
       "      <td>109271.0</td>\n",
       "      <td>98.8</td>\n",
       "      <td>NaN</td>\n",
       "      <td>NaN</td>\n",
       "      <td>NaN</td>\n",
       "      <td>182.3</td>\n",
       "      <td>NaN</td>\n",
       "      <td>29.7</td>\n",
       "      <td>NaN</td>\n",
       "      <td>40.1</td>\n",
       "      <td>NaN</td>\n",
       "      <td>42.0</td>\n",
       "      <td>NaN</td>\n",
       "      <td>38.2</td>\n",
       "      <td>NaN</td>\n",
       "      <td>120.4</td>\n",
       "      <td>NaN</td>\n",
       "      <td>108.2</td>\n",
       "      <td>NaN</td>\n",
       "    </tr>\n",
       "    <tr>\n",
       "      <th>7</th>\n",
       "      <td>109272.0</td>\n",
       "      <td>7.1</td>\n",
       "      <td>NaN</td>\n",
       "      <td>63.6</td>\n",
       "      <td>NaN</td>\n",
       "      <td>NaN</td>\n",
       "      <td>NaN</td>\n",
       "      <td>NaN</td>\n",
       "      <td>NaN</td>\n",
       "      <td>NaN</td>\n",
       "      <td>NaN</td>\n",
       "      <td>13.0</td>\n",
       "      <td>NaN</td>\n",
       "      <td>15.5</td>\n",
       "      <td>NaN</td>\n",
       "      <td>NaN</td>\n",
       "      <td>NaN</td>\n",
       "      <td>NaN</td>\n",
       "      <td>NaN</td>\n",
       "    </tr>\n",
       "    <tr>\n",
       "      <th>8</th>\n",
       "      <td>109273.0</td>\n",
       "      <td>74.3</td>\n",
       "      <td>NaN</td>\n",
       "      <td>NaN</td>\n",
       "      <td>NaN</td>\n",
       "      <td>184.2</td>\n",
       "      <td>NaN</td>\n",
       "      <td>21.9</td>\n",
       "      <td>NaN</td>\n",
       "      <td>41.0</td>\n",
       "      <td>NaN</td>\n",
       "      <td>41.1</td>\n",
       "      <td>NaN</td>\n",
       "      <td>30.2</td>\n",
       "      <td>NaN</td>\n",
       "      <td>86.8</td>\n",
       "      <td>NaN</td>\n",
       "      <td>94.5</td>\n",
       "      <td>NaN</td>\n",
       "    </tr>\n",
       "    <tr>\n",
       "      <th>9</th>\n",
       "      <td>109274.0</td>\n",
       "      <td>103.7</td>\n",
       "      <td>NaN</td>\n",
       "      <td>NaN</td>\n",
       "      <td>NaN</td>\n",
       "      <td>185.3</td>\n",
       "      <td>NaN</td>\n",
       "      <td>30.2</td>\n",
       "      <td>NaN</td>\n",
       "      <td>44.0</td>\n",
       "      <td>NaN</td>\n",
       "      <td>47.0</td>\n",
       "      <td>NaN</td>\n",
       "      <td>32.0</td>\n",
       "      <td>NaN</td>\n",
       "      <td>109.6</td>\n",
       "      <td>NaN</td>\n",
       "      <td>107.8</td>\n",
       "      <td>NaN</td>\n",
       "    </tr>\n",
       "    <tr>\n",
       "      <th>10</th>\n",
       "      <td>109275.0</td>\n",
       "      <td>20.9</td>\n",
       "      <td>NaN</td>\n",
       "      <td>NaN</td>\n",
       "      <td>NaN</td>\n",
       "      <td>120.4</td>\n",
       "      <td>NaN</td>\n",
       "      <td>14.4</td>\n",
       "      <td>2.0</td>\n",
       "      <td>NaN</td>\n",
       "      <td>NaN</td>\n",
       "      <td>NaN</td>\n",
       "      <td>1.0</td>\n",
       "      <td>NaN</td>\n",
       "      <td>1.0</td>\n",
       "      <td>NaN</td>\n",
       "      <td>1.0</td>\n",
       "      <td>NaN</td>\n",
       "      <td>NaN</td>\n",
       "    </tr>\n",
       "  </tbody>\n",
       "</table>\n",
       "</div>"
      ],
      "text/plain": [
       "    participant_id  weight_kg  weight_comment  recumbent_length_cm  \\\n",
       "1         109264.0       42.2             NaN                  NaN   \n",
       "2         109265.0       12.0             NaN                 91.6   \n",
       "3         109266.0       97.1             NaN                  NaN   \n",
       "4         109269.0       13.6             NaN                 90.9   \n",
       "5         109270.0       75.3             NaN                  NaN   \n",
       "6         109271.0       98.8             NaN                  NaN   \n",
       "7         109272.0        7.1             NaN                 63.6   \n",
       "8         109273.0       74.3             NaN                  NaN   \n",
       "9         109274.0      103.7             NaN                  NaN   \n",
       "10        109275.0       20.9             NaN                  NaN   \n",
       "\n",
       "    recumbent_length_comment  standing_height  standing_height_comment   bmi  \\\n",
       "1                        NaN            154.7                      NaN  17.6   \n",
       "2                        NaN             89.3                      NaN  15.0   \n",
       "3                        NaN            160.2                      NaN  37.8   \n",
       "4                        NaN              NaN                      1.0   NaN   \n",
       "5                        NaN            156.0                      NaN  30.9   \n",
       "6                        NaN            182.3                      NaN  29.7   \n",
       "7                        NaN              NaN                      NaN   NaN   \n",
       "8                        NaN            184.2                      NaN  21.9   \n",
       "9                        NaN            185.3                      NaN  30.2   \n",
       "10                       NaN            120.4                      NaN  14.4   \n",
       "\n",
       "    bmi_category_child  upper_leg_cm  upper_leg_comment  upper_arm_cm  \\\n",
       "1                  2.0          36.3                NaN          33.8   \n",
       "2                  2.0           NaN                NaN          18.6   \n",
       "3                  NaN          40.8                NaN          34.7   \n",
       "4                  NaN           NaN                NaN           NaN   \n",
       "5                  4.0          42.6                NaN          36.1   \n",
       "6                  NaN          40.1                NaN          42.0   \n",
       "7                  NaN           NaN                NaN          13.0   \n",
       "8                  NaN          41.0                NaN          41.1   \n",
       "9                  NaN          44.0                NaN          47.0   \n",
       "10                 2.0           NaN                NaN           NaN   \n",
       "\n",
       "    upper_arm_comment  arm_circumference_cm  arm_circ_comment  waist_circ_cm  \\\n",
       "1                 NaN                  22.7               NaN           63.8   \n",
       "2                 NaN                  14.8               NaN           41.2   \n",
       "3                 NaN                  35.8               NaN          117.9   \n",
       "4                 1.0                   NaN               1.0            NaN   \n",
       "5                 NaN                  31.0               NaN           91.4   \n",
       "6                 NaN                  38.2               NaN          120.4   \n",
       "7                 NaN                  15.5               NaN            NaN   \n",
       "8                 NaN                  30.2               NaN           86.8   \n",
       "9                 NaN                  32.0               NaN          109.6   \n",
       "10                1.0                   NaN               1.0            NaN   \n",
       "\n",
       "    waist_circ_comment  hip_circ_cm  hip_circ_comment  \n",
       "1                  NaN         85.0               NaN  \n",
       "2                  NaN          NaN               NaN  \n",
       "3                  NaN        126.1               NaN  \n",
       "4                  1.0          NaN               NaN  \n",
       "5                  NaN          NaN               NaN  \n",
       "6                  NaN        108.2               NaN  \n",
       "7                  NaN          NaN               NaN  \n",
       "8                  NaN         94.5               NaN  \n",
       "9                  NaN        107.8               NaN  \n",
       "10                 1.0          NaN               NaN  "
      ]
     },
     "execution_count": 29,
     "metadata": {},
     "output_type": "execute_result"
    }
   ],
   "source": [
    "df_bmx.head(10)"
   ]
  },
  {
   "cell_type": "markdown",
   "id": "2ee0c70e-954a-43fd-bbe9-6f024efbf71d",
   "metadata": {},
   "source": [
    "With the comment sections, most of the sections are marked \"Could not obtain\". The comment sections that only have such notation was removed, as the lack of value is self evident with missing values (NaN)."
   ]
  },
  {
   "cell_type": "code",
   "execution_count": 30,
   "id": "9a44b58f-72cc-4222-b7fc-eece2aba2d87",
   "metadata": {},
   "outputs": [],
   "source": [
    "df_bmx.drop(['recumbent_length_comment','upper_leg_comment','upper_arm_comment',\n",
    "         'arm_circ_comment','waist_circ_comment','hip_circ_comment'], axis = 1, inplace = True)"
   ]
  },
  {
   "cell_type": "code",
   "execution_count": 31,
   "id": "b92ca957-1df8-492a-aa4f-03cdb80ce868",
   "metadata": {},
   "outputs": [
    {
     "data": {
      "text/html": [
       "<div>\n",
       "<style scoped>\n",
       "    .dataframe tbody tr th:only-of-type {\n",
       "        vertical-align: middle;\n",
       "    }\n",
       "\n",
       "    .dataframe tbody tr th {\n",
       "        vertical-align: top;\n",
       "    }\n",
       "\n",
       "    .dataframe thead th {\n",
       "        text-align: right;\n",
       "    }\n",
       "</style>\n",
       "<table border=\"1\" class=\"dataframe\">\n",
       "  <thead>\n",
       "    <tr style=\"text-align: right;\">\n",
       "      <th></th>\n",
       "      <th>participant_id</th>\n",
       "      <th>weight_kg</th>\n",
       "      <th>weight_comment</th>\n",
       "      <th>recumbent_length_cm</th>\n",
       "      <th>standing_height</th>\n",
       "      <th>standing_height_comment</th>\n",
       "      <th>bmi</th>\n",
       "      <th>bmi_category_child</th>\n",
       "      <th>upper_leg_cm</th>\n",
       "      <th>upper_arm_cm</th>\n",
       "      <th>arm_circumference_cm</th>\n",
       "      <th>waist_circ_cm</th>\n",
       "      <th>hip_circ_cm</th>\n",
       "    </tr>\n",
       "  </thead>\n",
       "  <tbody>\n",
       "    <tr>\n",
       "      <th>1</th>\n",
       "      <td>109264.0</td>\n",
       "      <td>42.2</td>\n",
       "      <td>NaN</td>\n",
       "      <td>NaN</td>\n",
       "      <td>154.7</td>\n",
       "      <td>NaN</td>\n",
       "      <td>17.6</td>\n",
       "      <td>2.0</td>\n",
       "      <td>36.3</td>\n",
       "      <td>33.8</td>\n",
       "      <td>22.7</td>\n",
       "      <td>63.8</td>\n",
       "      <td>85.0</td>\n",
       "    </tr>\n",
       "    <tr>\n",
       "      <th>2</th>\n",
       "      <td>109265.0</td>\n",
       "      <td>12.0</td>\n",
       "      <td>NaN</td>\n",
       "      <td>91.6</td>\n",
       "      <td>89.3</td>\n",
       "      <td>NaN</td>\n",
       "      <td>15.0</td>\n",
       "      <td>2.0</td>\n",
       "      <td>NaN</td>\n",
       "      <td>18.6</td>\n",
       "      <td>14.8</td>\n",
       "      <td>41.2</td>\n",
       "      <td>NaN</td>\n",
       "    </tr>\n",
       "    <tr>\n",
       "      <th>3</th>\n",
       "      <td>109266.0</td>\n",
       "      <td>97.1</td>\n",
       "      <td>NaN</td>\n",
       "      <td>NaN</td>\n",
       "      <td>160.2</td>\n",
       "      <td>NaN</td>\n",
       "      <td>37.8</td>\n",
       "      <td>NaN</td>\n",
       "      <td>40.8</td>\n",
       "      <td>34.7</td>\n",
       "      <td>35.8</td>\n",
       "      <td>117.9</td>\n",
       "      <td>126.1</td>\n",
       "    </tr>\n",
       "    <tr>\n",
       "      <th>4</th>\n",
       "      <td>109269.0</td>\n",
       "      <td>13.6</td>\n",
       "      <td>NaN</td>\n",
       "      <td>90.9</td>\n",
       "      <td>NaN</td>\n",
       "      <td>1.0</td>\n",
       "      <td>NaN</td>\n",
       "      <td>NaN</td>\n",
       "      <td>NaN</td>\n",
       "      <td>NaN</td>\n",
       "      <td>NaN</td>\n",
       "      <td>NaN</td>\n",
       "      <td>NaN</td>\n",
       "    </tr>\n",
       "    <tr>\n",
       "      <th>5</th>\n",
       "      <td>109270.0</td>\n",
       "      <td>75.3</td>\n",
       "      <td>NaN</td>\n",
       "      <td>NaN</td>\n",
       "      <td>156.0</td>\n",
       "      <td>NaN</td>\n",
       "      <td>30.9</td>\n",
       "      <td>4.0</td>\n",
       "      <td>42.6</td>\n",
       "      <td>36.1</td>\n",
       "      <td>31.0</td>\n",
       "      <td>91.4</td>\n",
       "      <td>NaN</td>\n",
       "    </tr>\n",
       "    <tr>\n",
       "      <th>6</th>\n",
       "      <td>109271.0</td>\n",
       "      <td>98.8</td>\n",
       "      <td>NaN</td>\n",
       "      <td>NaN</td>\n",
       "      <td>182.3</td>\n",
       "      <td>NaN</td>\n",
       "      <td>29.7</td>\n",
       "      <td>NaN</td>\n",
       "      <td>40.1</td>\n",
       "      <td>42.0</td>\n",
       "      <td>38.2</td>\n",
       "      <td>120.4</td>\n",
       "      <td>108.2</td>\n",
       "    </tr>\n",
       "    <tr>\n",
       "      <th>7</th>\n",
       "      <td>109272.0</td>\n",
       "      <td>7.1</td>\n",
       "      <td>NaN</td>\n",
       "      <td>63.6</td>\n",
       "      <td>NaN</td>\n",
       "      <td>NaN</td>\n",
       "      <td>NaN</td>\n",
       "      <td>NaN</td>\n",
       "      <td>NaN</td>\n",
       "      <td>13.0</td>\n",
       "      <td>15.5</td>\n",
       "      <td>NaN</td>\n",
       "      <td>NaN</td>\n",
       "    </tr>\n",
       "    <tr>\n",
       "      <th>8</th>\n",
       "      <td>109273.0</td>\n",
       "      <td>74.3</td>\n",
       "      <td>NaN</td>\n",
       "      <td>NaN</td>\n",
       "      <td>184.2</td>\n",
       "      <td>NaN</td>\n",
       "      <td>21.9</td>\n",
       "      <td>NaN</td>\n",
       "      <td>41.0</td>\n",
       "      <td>41.1</td>\n",
       "      <td>30.2</td>\n",
       "      <td>86.8</td>\n",
       "      <td>94.5</td>\n",
       "    </tr>\n",
       "    <tr>\n",
       "      <th>9</th>\n",
       "      <td>109274.0</td>\n",
       "      <td>103.7</td>\n",
       "      <td>NaN</td>\n",
       "      <td>NaN</td>\n",
       "      <td>185.3</td>\n",
       "      <td>NaN</td>\n",
       "      <td>30.2</td>\n",
       "      <td>NaN</td>\n",
       "      <td>44.0</td>\n",
       "      <td>47.0</td>\n",
       "      <td>32.0</td>\n",
       "      <td>109.6</td>\n",
       "      <td>107.8</td>\n",
       "    </tr>\n",
       "    <tr>\n",
       "      <th>10</th>\n",
       "      <td>109275.0</td>\n",
       "      <td>20.9</td>\n",
       "      <td>NaN</td>\n",
       "      <td>NaN</td>\n",
       "      <td>120.4</td>\n",
       "      <td>NaN</td>\n",
       "      <td>14.4</td>\n",
       "      <td>2.0</td>\n",
       "      <td>NaN</td>\n",
       "      <td>NaN</td>\n",
       "      <td>NaN</td>\n",
       "      <td>NaN</td>\n",
       "      <td>NaN</td>\n",
       "    </tr>\n",
       "  </tbody>\n",
       "</table>\n",
       "</div>"
      ],
      "text/plain": [
       "    participant_id  weight_kg  weight_comment  recumbent_length_cm  \\\n",
       "1         109264.0       42.2             NaN                  NaN   \n",
       "2         109265.0       12.0             NaN                 91.6   \n",
       "3         109266.0       97.1             NaN                  NaN   \n",
       "4         109269.0       13.6             NaN                 90.9   \n",
       "5         109270.0       75.3             NaN                  NaN   \n",
       "6         109271.0       98.8             NaN                  NaN   \n",
       "7         109272.0        7.1             NaN                 63.6   \n",
       "8         109273.0       74.3             NaN                  NaN   \n",
       "9         109274.0      103.7             NaN                  NaN   \n",
       "10        109275.0       20.9             NaN                  NaN   \n",
       "\n",
       "    standing_height  standing_height_comment   bmi  bmi_category_child  \\\n",
       "1             154.7                      NaN  17.6                 2.0   \n",
       "2              89.3                      NaN  15.0                 2.0   \n",
       "3             160.2                      NaN  37.8                 NaN   \n",
       "4               NaN                      1.0   NaN                 NaN   \n",
       "5             156.0                      NaN  30.9                 4.0   \n",
       "6             182.3                      NaN  29.7                 NaN   \n",
       "7               NaN                      NaN   NaN                 NaN   \n",
       "8             184.2                      NaN  21.9                 NaN   \n",
       "9             185.3                      NaN  30.2                 NaN   \n",
       "10            120.4                      NaN  14.4                 2.0   \n",
       "\n",
       "    upper_leg_cm  upper_arm_cm  arm_circumference_cm  waist_circ_cm  \\\n",
       "1           36.3          33.8                  22.7           63.8   \n",
       "2            NaN          18.6                  14.8           41.2   \n",
       "3           40.8          34.7                  35.8          117.9   \n",
       "4            NaN           NaN                   NaN            NaN   \n",
       "5           42.6          36.1                  31.0           91.4   \n",
       "6           40.1          42.0                  38.2          120.4   \n",
       "7            NaN          13.0                  15.5            NaN   \n",
       "8           41.0          41.1                  30.2           86.8   \n",
       "9           44.0          47.0                  32.0          109.6   \n",
       "10           NaN           NaN                   NaN            NaN   \n",
       "\n",
       "    hip_circ_cm  \n",
       "1          85.0  \n",
       "2           NaN  \n",
       "3         126.1  \n",
       "4           NaN  \n",
       "5           NaN  \n",
       "6         108.2  \n",
       "7           NaN  \n",
       "8          94.5  \n",
       "9         107.8  \n",
       "10          NaN  "
      ]
     },
     "execution_count": 31,
     "metadata": {},
     "output_type": "execute_result"
    }
   ],
   "source": [
    "df_bmx.head(10)"
   ]
  },
  {
   "cell_type": "code",
   "execution_count": 32,
   "id": "a864ed2f-c246-43b7-be8b-872e82d52b3d",
   "metadata": {},
   "outputs": [
    {
     "data": {
      "text/plain": [
       "(14107, 13)"
      ]
     },
     "execution_count": 32,
     "metadata": {},
     "output_type": "execute_result"
    }
   ],
   "source": [
    "df_bmx.shape"
   ]
  },
  {
   "cell_type": "markdown",
   "id": "7ecf4a5d-3c27-4ead-aeac-001567ac003f",
   "metadata": {},
   "source": [
    "The comment sections that are kept have values more than just \"Not Obtained\". These will be interpreted with appropriate comment and translated into string values"
   ]
  },
  {
   "cell_type": "code",
   "execution_count": 33,
   "id": "0e918e5b-da55-4da5-a08a-28a907273d44",
   "metadata": {},
   "outputs": [],
   "source": [
    "df_bmx.to_csv('cleaned_bodymeasures.csv', index=False)"
   ]
  },
  {
   "cell_type": "markdown",
   "id": "d32da71e-6603-4f93-aecc-bf221af2053f",
   "metadata": {},
   "source": [
    "### Lab Results Data Cleaning\n",
    "\n",
    "Laboratory analysis is a vital component of the NHANES 2017–2020 dataset, offering detailed biomarker data that can be leveraged for predictive modeling. The most common sources of lab data are blood and urine samples. To facilitate data cleaning and relational database design, all lab results were categorized into two main groups: blood-based tests and urine-based tests.\n",
    "\n",
    "This separation enhances the clarity and usability of the database structure, especially in the context of developing an obesity prediction model that emphasizes blood biomarkers. While blood tests serve as the primary focus due to their strong association with metabolic health, urine tests are also retained for potential secondary insights.\n",
    "\n",
    "During data cleaning, each lab dataset from the 2017–2020 cycle was examined for completeness, consistent formatting, and variable alignment. Efforts were made to standardize variable names and units across different files to ensure compatibility. Only participants with valid lab results and complete demographic data were retained for analysis."
   ]
  },
  {
   "cell_type": "markdown",
   "id": "e5b99ac0-a4ea-4fe0-8f2a-c81819b80784",
   "metadata": {},
   "source": [
    "#### Urine Labs\n",
    "\n",
    "##### Albumin and Creatinine\n",
    "\n",
    "Albumin is a protein often found in urine if there is damage to the kidneys. Creatinine is waste product that is excreted in urine and helps evaluate the kidney function."
   ]
  },
  {
   "cell_type": "code",
   "execution_count": 34,
   "id": "e5cfd347-c5f7-4f47-b2a8-e5cbf501a73e",
   "metadata": {},
   "outputs": [],
   "source": [
    "file_path = '2017-2020/urine/1.P_ALB_CR.xpt'\n",
    "\n",
    "df, meta = pyreadstat.read_xport(file_path)\n",
    "df = standardize_id_column(df)"
   ]
  },
  {
   "cell_type": "code",
   "execution_count": 35,
   "id": "44ba8d42-b483-46c6-b9fb-bb1021104063",
   "metadata": {},
   "outputs": [
    {
     "data": {
      "text/plain": [
       "(13027, 8)"
      ]
     },
     "execution_count": 35,
     "metadata": {},
     "output_type": "execute_result"
    }
   ],
   "source": [
    "df.shape"
   ]
  },
  {
   "cell_type": "code",
   "execution_count": 36,
   "id": "349c6c2a-b770-40ed-982d-112c9a47d2e5",
   "metadata": {},
   "outputs": [
    {
     "data": {
      "text/html": [
       "<div>\n",
       "<style scoped>\n",
       "    .dataframe tbody tr th:only-of-type {\n",
       "        vertical-align: middle;\n",
       "    }\n",
       "\n",
       "    .dataframe tbody tr th {\n",
       "        vertical-align: top;\n",
       "    }\n",
       "\n",
       "    .dataframe thead th {\n",
       "        text-align: right;\n",
       "    }\n",
       "</style>\n",
       "<table border=\"1\" class=\"dataframe\">\n",
       "  <thead>\n",
       "    <tr style=\"text-align: right;\">\n",
       "      <th></th>\n",
       "      <th>participant_id</th>\n",
       "      <th>URXUMA</th>\n",
       "      <th>URXUMS</th>\n",
       "      <th>URDUMALC</th>\n",
       "      <th>URXUCR</th>\n",
       "      <th>URXCRS</th>\n",
       "      <th>URDUCRLC</th>\n",
       "      <th>URDACT</th>\n",
       "    </tr>\n",
       "  </thead>\n",
       "  <tbody>\n",
       "    <tr>\n",
       "      <th>0</th>\n",
       "      <td>109264.0</td>\n",
       "      <td>NaN</td>\n",
       "      <td>NaN</td>\n",
       "      <td>NaN</td>\n",
       "      <td>NaN</td>\n",
       "      <td>NaN</td>\n",
       "      <td>NaN</td>\n",
       "      <td>NaN</td>\n",
       "    </tr>\n",
       "    <tr>\n",
       "      <th>1</th>\n",
       "      <td>109266.0</td>\n",
       "      <td>5.5</td>\n",
       "      <td>5.5</td>\n",
       "      <td>0.0</td>\n",
       "      <td>36.0</td>\n",
       "      <td>3182.4</td>\n",
       "      <td>0.0</td>\n",
       "      <td>15.28</td>\n",
       "    </tr>\n",
       "    <tr>\n",
       "      <th>2</th>\n",
       "      <td>109270.0</td>\n",
       "      <td>4.0</td>\n",
       "      <td>4.0</td>\n",
       "      <td>0.0</td>\n",
       "      <td>165.0</td>\n",
       "      <td>14586.0</td>\n",
       "      <td>0.0</td>\n",
       "      <td>2.42</td>\n",
       "    </tr>\n",
       "    <tr>\n",
       "      <th>3</th>\n",
       "      <td>109271.0</td>\n",
       "      <td>2.4</td>\n",
       "      <td>2.4</td>\n",
       "      <td>0.0</td>\n",
       "      <td>32.0</td>\n",
       "      <td>2828.8</td>\n",
       "      <td>0.0</td>\n",
       "      <td>7.50</td>\n",
       "    </tr>\n",
       "    <tr>\n",
       "      <th>4</th>\n",
       "      <td>109273.0</td>\n",
       "      <td>4.9</td>\n",
       "      <td>4.9</td>\n",
       "      <td>0.0</td>\n",
       "      <td>121.0</td>\n",
       "      <td>10696.4</td>\n",
       "      <td>0.0</td>\n",
       "      <td>4.05</td>\n",
       "    </tr>\n",
       "    <tr>\n",
       "      <th>5</th>\n",
       "      <td>109274.0</td>\n",
       "      <td>12.8</td>\n",
       "      <td>12.8</td>\n",
       "      <td>0.0</td>\n",
       "      <td>120.0</td>\n",
       "      <td>10608.0</td>\n",
       "      <td>0.0</td>\n",
       "      <td>10.67</td>\n",
       "    </tr>\n",
       "    <tr>\n",
       "      <th>6</th>\n",
       "      <td>109275.0</td>\n",
       "      <td>3.7</td>\n",
       "      <td>3.7</td>\n",
       "      <td>0.0</td>\n",
       "      <td>20.0</td>\n",
       "      <td>1768.0</td>\n",
       "      <td>0.0</td>\n",
       "      <td>18.50</td>\n",
       "    </tr>\n",
       "    <tr>\n",
       "      <th>7</th>\n",
       "      <td>109277.0</td>\n",
       "      <td>14.7</td>\n",
       "      <td>14.7</td>\n",
       "      <td>0.0</td>\n",
       "      <td>244.0</td>\n",
       "      <td>21569.6</td>\n",
       "      <td>0.0</td>\n",
       "      <td>6.02</td>\n",
       "    </tr>\n",
       "    <tr>\n",
       "      <th>8</th>\n",
       "      <td>109278.0</td>\n",
       "      <td>8.4</td>\n",
       "      <td>8.4</td>\n",
       "      <td>0.0</td>\n",
       "      <td>124.0</td>\n",
       "      <td>10961.6</td>\n",
       "      <td>0.0</td>\n",
       "      <td>6.77</td>\n",
       "    </tr>\n",
       "    <tr>\n",
       "      <th>9</th>\n",
       "      <td>109279.0</td>\n",
       "      <td>13.9</td>\n",
       "      <td>13.9</td>\n",
       "      <td>0.0</td>\n",
       "      <td>251.0</td>\n",
       "      <td>22188.4</td>\n",
       "      <td>0.0</td>\n",
       "      <td>5.54</td>\n",
       "    </tr>\n",
       "  </tbody>\n",
       "</table>\n",
       "</div>"
      ],
      "text/plain": [
       "   participant_id  URXUMA  URXUMS  URDUMALC  URXUCR   URXCRS  URDUCRLC  URDACT\n",
       "0        109264.0     NaN     NaN       NaN     NaN      NaN       NaN     NaN\n",
       "1        109266.0     5.5     5.5       0.0    36.0   3182.4       0.0   15.28\n",
       "2        109270.0     4.0     4.0       0.0   165.0  14586.0       0.0    2.42\n",
       "3        109271.0     2.4     2.4       0.0    32.0   2828.8       0.0    7.50\n",
       "4        109273.0     4.9     4.9       0.0   121.0  10696.4       0.0    4.05\n",
       "5        109274.0    12.8    12.8       0.0   120.0  10608.0       0.0   10.67\n",
       "6        109275.0     3.7     3.7       0.0    20.0   1768.0       0.0   18.50\n",
       "7        109277.0    14.7    14.7       0.0   244.0  21569.6       0.0    6.02\n",
       "8        109278.0     8.4     8.4       0.0   124.0  10961.6       0.0    6.77\n",
       "9        109279.0    13.9    13.9       0.0   251.0  22188.4       0.0    5.54"
      ]
     },
     "execution_count": 36,
     "metadata": {},
     "output_type": "execute_result"
    }
   ],
   "source": [
    "df.head(10)"
   ]
  },
  {
   "cell_type": "code",
   "execution_count": 37,
   "id": "a4fff884-dace-410e-8734-3c1e369d4b7c",
   "metadata": {},
   "outputs": [
    {
     "data": {
      "text/plain": [
       "Index(['participant_id', 'URXUMA', 'URXUMS', 'URDUMALC', 'URXUCR', 'URXCRS',\n",
       "       'URDUCRLC', 'URDACT'],\n",
       "      dtype='object')"
      ]
     },
     "execution_count": 37,
     "metadata": {},
     "output_type": "execute_result"
    }
   ],
   "source": [
    "df.columns"
   ]
  },
  {
   "cell_type": "code",
   "execution_count": 38,
   "id": "cbd6d8e5-54d0-4e01-9707-f60fa584c031",
   "metadata": {},
   "outputs": [],
   "source": [
    "df = df.rename(columns={\n",
    "    'URXUMA': 'albumin_urine_ug_mL',\n",
    "    'URXUMS': 'albumin_urine_mg_L', \n",
    "    'URDUMALC': 'alb_comment',\n",
    "    'URXUCR': 'creatinine_urine_mg_dL', \n",
    "    'URXCRS': 'creatinine_urine_umol_L', \n",
    "    'URDUCRLC': 'creatinine_comment',\n",
    "    'URDACT': 'alb_creat_ratio'\n",
    "})"
   ]
  },
  {
   "cell_type": "code",
   "execution_count": 39,
   "id": "2d98155e-0fea-495d-8e83-3eed447c48e8",
   "metadata": {},
   "outputs": [
    {
     "data": {
      "text/plain": [
       "participant_id               0\n",
       "albumin_urine_ug_mL        517\n",
       "albumin_urine_mg_L         517\n",
       "alb_comment                517\n",
       "creatinine_urine_mg_dL     518\n",
       "creatinine_urine_umol_L    518\n",
       "creatinine_comment         518\n",
       "alb_creat_ratio            518\n",
       "dtype: int64"
      ]
     },
     "execution_count": 39,
     "metadata": {},
     "output_type": "execute_result"
    }
   ],
   "source": [
    "df.isnull().sum()"
   ]
  },
  {
   "cell_type": "markdown",
   "id": "2739daf0-35c2-43a2-ac3d-6fdadd253ac3",
   "metadata": {},
   "source": [
    "Some columns contain a similar number of missing (NaN) values, raising the question of whether these missing values occur for the same participants. To assess potential overlap, the following code was executed to identify if the missing values correspond to the same participant IDs. This check helps ensure that removing rows with missing data will not disproportionately reduce the dataset."
   ]
  },
  {
   "cell_type": "code",
   "execution_count": 40,
   "id": "e141e1af-3961-443c-87e8-b04399679e04",
   "metadata": {},
   "outputs": [],
   "source": [
    "# Assuming your dataframe is called df, and participant ID column is 'SEQN'\n",
    "def get_common_nan_ids(df, col1, col2, id_col='participant_id', verbose=True):\n",
    "    \"\"\"\n",
    "    Returns a set of participant IDs where BOTH col1 and col2 are NaN.\n",
    "    \n",
    "    Parameters:\n",
    "    - df: pandas DataFrame\n",
    "    - col1, col2: column names to check for NaNs\n",
    "    - id_col: column name for participant IDs (default 'participant_id')\n",
    "    \n",
    "    Returns:\n",
    "    - Set of participant IDs with NaNs in both columns\n",
    "    \"\"\"\n",
    "    ids_nan_col1 = set(df.loc[df[col1].isna(), id_col])\n",
    "    ids_nan_col2 = set(df.loc[df[col2].isna(), id_col])\n",
    "    common_nan_ids = ids_nan_col1.intersection(ids_nan_col2)\n",
    "    \n",
    "    if verbose:\n",
    "        print(f\"Number of NaNs in {col1}: {len(ids_nan_col1)}\")\n",
    "        print(f\"Number of NaNs in {col2}: {len(ids_nan_col2)}\")\n",
    "        print(f\"Number of IDs with NaNs in both columns: {len(common_nan_ids)}\")\n",
    "    \n",
    "    return common_nan_ids"
   ]
  },
  {
   "cell_type": "code",
   "execution_count": 41,
   "id": "23827d17-2078-4d5d-ae74-c430cbfaf270",
   "metadata": {},
   "outputs": [],
   "source": [
    "def drop_rows_with_common_nan_ids(df, col1, col2, id_col='participant_id'):\n",
    "    \"\"\"\n",
    "    Drops rows where BOTH col1 and col2 are NaN.\n",
    "    Uses get_common_nan_ids() to identify rows.\n",
    "    \n",
    "    Parameters:\n",
    "    - df: pandas DataFrame\n",
    "    - col1, col2: column names to check for NaNs\n",
    "    - id_col: column name for participant IDs (default 'participant_id')\n",
    "    \n",
    "    Returns:\n",
    "    - cleaned DataFrame (copy)\n",
    "    \"\"\"\n",
    "    common_nan_ids = get_common_nan_ids(df, col1, col2, id_col, verbose=False)\n",
    "    rows_dropped = df[id_col].isin(common_nan_ids).sum()\n",
    "    \n",
    "    print(f\"Rows dropped where both {col1} and {col2} were NaN: {rows_dropped}\")\n",
    "    \n",
    "    return df[~(df[col1].isna() & df[col2].isna())].copy()"
   ]
  },
  {
   "cell_type": "code",
   "execution_count": 42,
   "id": "11311546-ff27-4434-a472-26e0a020382d",
   "metadata": {},
   "outputs": [
    {
     "name": "stdout",
     "output_type": "stream",
     "text": [
      "Number of NaNs in albumin_urine_ug_mL: 517\n",
      "Number of NaNs in creatinine_urine_mg_dL: 518\n",
      "Number of IDs with NaNs in both columns: 517\n"
     ]
    }
   ],
   "source": [
    "common_nan = get_common_nan_ids(df,'albumin_urine_ug_mL','creatinine_urine_mg_dL')"
   ]
  },
  {
   "cell_type": "code",
   "execution_count": 43,
   "id": "12ce4f2e-cca6-4a3d-a8a9-ba766fbc57f0",
   "metadata": {},
   "outputs": [
    {
     "name": "stdout",
     "output_type": "stream",
     "text": [
      "Rows dropped where both albumin_urine_ug_mL and creatinine_urine_mg_dL were NaN: 517\n"
     ]
    }
   ],
   "source": [
    "df_cleaned = drop_rows_with_common_nan_ids(df, 'albumin_urine_ug_mL', 'creatinine_urine_mg_dL')"
   ]
  },
  {
   "cell_type": "markdown",
   "id": "607be865-4aa4-4bba-8405-2e4d2a9edac5",
   "metadata": {},
   "source": [
    "##### Arsenic\n",
    "\n",
    "Arsenic is a naturally occurring mineral present in water, air, and soil, existing in both organic and inorganic forms. While the inorganic form is more toxic, exposure to any form of arsenic can be harmful to human health. Elevated arsenic levels have been linked to adverse effects on multiple body systems, including the cardiovascular and endocrine systems [3].\n",
    "\n",
    "Urinary arsenic levels serve as a biomarker reflecting the concentration of arsenic in the bloodstream. Given arsenic’s potential impact on the endocrine system—a key regulator of metabolism and body weight—these lab values are relevant for investigating associations with obesity in this analysis."
   ]
  },
  {
   "cell_type": "markdown",
   "id": "29db9817-e518-4d66-be0d-d2126d825367",
   "metadata": {},
   "source": [
    "##### Total Arsenic"
   ]
  },
  {
   "cell_type": "code",
   "execution_count": 44,
   "id": "22f14b30-e2d3-480b-bb64-d3d8e393cbac",
   "metadata": {},
   "outputs": [],
   "source": [
    "file_path = '2017-2020/urine/2.P_UTAS.xpt'\n",
    "\n",
    "df1, meta = pyreadstat.read_xport(file_path)\n",
    "df1 = standardize_id_column(df1)"
   ]
  },
  {
   "cell_type": "code",
   "execution_count": 45,
   "id": "fdfc22ff-7856-450b-9733-96889f7dcb05",
   "metadata": {},
   "outputs": [
    {
     "data": {
      "text/html": [
       "<div>\n",
       "<style scoped>\n",
       "    .dataframe tbody tr th:only-of-type {\n",
       "        vertical-align: middle;\n",
       "    }\n",
       "\n",
       "    .dataframe tbody tr th {\n",
       "        vertical-align: top;\n",
       "    }\n",
       "\n",
       "    .dataframe thead th {\n",
       "        text-align: right;\n",
       "    }\n",
       "</style>\n",
       "<table border=\"1\" class=\"dataframe\">\n",
       "  <thead>\n",
       "    <tr style=\"text-align: right;\">\n",
       "      <th></th>\n",
       "      <th>participant_id</th>\n",
       "      <th>WTSAPRP</th>\n",
       "      <th>URXUAS</th>\n",
       "      <th>URDUASLC</th>\n",
       "    </tr>\n",
       "  </thead>\n",
       "  <tbody>\n",
       "    <tr>\n",
       "      <th>0</th>\n",
       "      <td>109266.0</td>\n",
       "      <td>28660.015986</td>\n",
       "      <td>2.05</td>\n",
       "      <td>0.0</td>\n",
       "    </tr>\n",
       "    <tr>\n",
       "      <th>1</th>\n",
       "      <td>109270.0</td>\n",
       "      <td>17900.682903</td>\n",
       "      <td>3.25</td>\n",
       "      <td>0.0</td>\n",
       "    </tr>\n",
       "    <tr>\n",
       "      <th>2</th>\n",
       "      <td>109273.0</td>\n",
       "      <td>80106.859617</td>\n",
       "      <td>5.16</td>\n",
       "      <td>0.0</td>\n",
       "    </tr>\n",
       "    <tr>\n",
       "      <th>3</th>\n",
       "      <td>109274.0</td>\n",
       "      <td>24512.276280</td>\n",
       "      <td>2.92</td>\n",
       "      <td>0.0</td>\n",
       "    </tr>\n",
       "    <tr>\n",
       "      <th>4</th>\n",
       "      <td>109287.0</td>\n",
       "      <td>25828.523003</td>\n",
       "      <td>5.80</td>\n",
       "      <td>0.0</td>\n",
       "    </tr>\n",
       "    <tr>\n",
       "      <th>5</th>\n",
       "      <td>109288.0</td>\n",
       "      <td>8535.018174</td>\n",
       "      <td>4.24</td>\n",
       "      <td>0.0</td>\n",
       "    </tr>\n",
       "    <tr>\n",
       "      <th>6</th>\n",
       "      <td>109290.0</td>\n",
       "      <td>12410.268374</td>\n",
       "      <td>144.72</td>\n",
       "      <td>0.0</td>\n",
       "    </tr>\n",
       "    <tr>\n",
       "      <th>7</th>\n",
       "      <td>109295.0</td>\n",
       "      <td>28235.246814</td>\n",
       "      <td>3.48</td>\n",
       "      <td>0.0</td>\n",
       "    </tr>\n",
       "    <tr>\n",
       "      <th>8</th>\n",
       "      <td>109300.0</td>\n",
       "      <td>66737.887353</td>\n",
       "      <td>5.08</td>\n",
       "      <td>0.0</td>\n",
       "    </tr>\n",
       "    <tr>\n",
       "      <th>9</th>\n",
       "      <td>109309.0</td>\n",
       "      <td>33019.729726</td>\n",
       "      <td>0.95</td>\n",
       "      <td>0.0</td>\n",
       "    </tr>\n",
       "  </tbody>\n",
       "</table>\n",
       "</div>"
      ],
      "text/plain": [
       "   participant_id       WTSAPRP  URXUAS  URDUASLC\n",
       "0        109266.0  28660.015986    2.05       0.0\n",
       "1        109270.0  17900.682903    3.25       0.0\n",
       "2        109273.0  80106.859617    5.16       0.0\n",
       "3        109274.0  24512.276280    2.92       0.0\n",
       "4        109287.0  25828.523003    5.80       0.0\n",
       "5        109288.0   8535.018174    4.24       0.0\n",
       "6        109290.0  12410.268374  144.72       0.0\n",
       "7        109295.0  28235.246814    3.48       0.0\n",
       "8        109300.0  66737.887353    5.08       0.0\n",
       "9        109309.0  33019.729726    0.95       0.0"
      ]
     },
     "execution_count": 45,
     "metadata": {},
     "output_type": "execute_result"
    }
   ],
   "source": [
    "df1.head(10)"
   ]
  },
  {
   "cell_type": "code",
   "execution_count": 46,
   "id": "882c7f7b-a992-40c7-881b-6b39b2f520d7",
   "metadata": {},
   "outputs": [
    {
     "data": {
      "text/plain": [
       "Index(['participant_id', 'WTSAPRP', 'URXUAS', 'URDUASLC'], dtype='object')"
      ]
     },
     "execution_count": 46,
     "metadata": {},
     "output_type": "execute_result"
    }
   ],
   "source": [
    "df1.columns"
   ]
  },
  {
   "cell_type": "code",
   "execution_count": 47,
   "id": "9e84ee22-00ce-4fb0-8a44-762032b5a899",
   "metadata": {},
   "outputs": [],
   "source": [
    "df1 = df1.rename(columns={\n",
    "    'URXUAS':'total_arsenic_ug_L',\n",
    "    'URDUASLC': 'total_arsenic_comment'\n",
    "})"
   ]
  },
  {
   "cell_type": "code",
   "execution_count": 48,
   "id": "c4ac0c0c-0baf-4f2b-ad16-677559c185a5",
   "metadata": {},
   "outputs": [],
   "source": [
    "df1.drop('WTSAPRP', axis=1,inplace = True)"
   ]
  },
  {
   "cell_type": "code",
   "execution_count": 49,
   "id": "3bd80a3e-774e-4efd-b3c3-cc78577eb274",
   "metadata": {},
   "outputs": [
    {
     "data": {
      "text/plain": [
       "participant_id             0\n",
       "total_arsenic_ug_L       320\n",
       "total_arsenic_comment    320\n",
       "dtype: int64"
      ]
     },
     "execution_count": 49,
     "metadata": {},
     "output_type": "execute_result"
    }
   ],
   "source": [
    "df1.isna().sum()"
   ]
  },
  {
   "cell_type": "code",
   "execution_count": 50,
   "id": "584fe378-75af-400f-9d14-e40f12947b43",
   "metadata": {},
   "outputs": [],
   "source": [
    "df1.dropna(axis=1, inplace=True)"
   ]
  },
  {
   "cell_type": "markdown",
   "id": "49bf3f2f-f498-4490-8ffb-499eb4305edf",
   "metadata": {},
   "source": [
    "##### Speciated Arsenic"
   ]
  },
  {
   "cell_type": "code",
   "execution_count": 51,
   "id": "81b20f83-21b7-494a-9534-bda1464474b0",
   "metadata": {},
   "outputs": [],
   "source": [
    "file_path = '2017-2020/urine/3.P_UAS.xpt'\n",
    "\n",
    "df2, meta = pyreadstat.read_xport(file_path)\n",
    "df2 = standardize_id_column(df2)"
   ]
  },
  {
   "cell_type": "code",
   "execution_count": 52,
   "id": "c9e24762-3469-43e3-964a-48998865f71e",
   "metadata": {},
   "outputs": [
    {
     "data": {
      "text/plain": [
       "(4890, 14)"
      ]
     },
     "execution_count": 52,
     "metadata": {},
     "output_type": "execute_result"
    }
   ],
   "source": [
    "df2.shape"
   ]
  },
  {
   "cell_type": "code",
   "execution_count": 53,
   "id": "f80267c0-1763-4bef-97b5-1bf91cbe3930",
   "metadata": {},
   "outputs": [
    {
     "data": {
      "text/plain": [
       "Index(['participant_id', 'WTSAPRP', 'URXUAS3', 'URDUA3LC', 'URXUAS5',\n",
       "       'URDUA5LC', 'URXUAB', 'URDUABLC', 'URXUAC', 'URDUACLC', 'URXUDMA',\n",
       "       'URDUDALC', 'URXUMMA', 'URDUMMAL'],\n",
       "      dtype='object')"
      ]
     },
     "execution_count": 53,
     "metadata": {},
     "output_type": "execute_result"
    }
   ],
   "source": [
    "df2.columns"
   ]
  },
  {
   "cell_type": "code",
   "execution_count": 54,
   "id": "a3924cd2-fd42-437d-a6a2-5f2c43bbd265",
   "metadata": {},
   "outputs": [],
   "source": [
    "df2 = df2.drop('WTSAPRP', axis = 1)"
   ]
  },
  {
   "cell_type": "code",
   "execution_count": 55,
   "id": "acdb90ed-162e-4699-9178-11fe53b31324",
   "metadata": {},
   "outputs": [],
   "source": [
    "df2 = df2.rename(columns={\n",
    "    'WTSAPRP': 'subsample_weight',\n",
    "    'URXUAS3':'arsenous_acid_ug_L',\n",
    "    'URDUA3LC':'arsenous_acid_comment', \n",
    "    'URXUAS5': 'arsenic_acid_ug_L',\n",
    "    'URDUA5LC': 'arsenic_acid_comment',\n",
    "    'URXUAB': 'arsenobetaine_ug_L',\n",
    "    'URDUABLC':'arsenobetaine_comment',\n",
    "    'URXUAC': 'arsenocholoine_ug_L',\n",
    "    'URDUACLC': 'arsenocholine_comment',\n",
    "    'URXUDMA': 'dimethylarsinic_acid_ug_L', \n",
    "    'URDUDALC': 'dimethylarsinic_comment',\n",
    "    'URXUMMA': 'monomethylarsonic_acid_ug_L',\n",
    "    'URDUMMAL': 'monometylarsonic_comment'\n",
    "})"
   ]
  },
  {
   "cell_type": "code",
   "execution_count": 56,
   "id": "044d58fe-857a-4ac5-8e44-02c875057c96",
   "metadata": {},
   "outputs": [
    {
     "data": {
      "text/html": [
       "<div>\n",
       "<style scoped>\n",
       "    .dataframe tbody tr th:only-of-type {\n",
       "        vertical-align: middle;\n",
       "    }\n",
       "\n",
       "    .dataframe tbody tr th {\n",
       "        vertical-align: top;\n",
       "    }\n",
       "\n",
       "    .dataframe thead th {\n",
       "        text-align: right;\n",
       "    }\n",
       "</style>\n",
       "<table border=\"1\" class=\"dataframe\">\n",
       "  <thead>\n",
       "    <tr style=\"text-align: right;\">\n",
       "      <th></th>\n",
       "      <th>participant_id</th>\n",
       "      <th>arsenous_acid_ug_L</th>\n",
       "      <th>arsenous_acid_comment</th>\n",
       "      <th>arsenic_acid_ug_L</th>\n",
       "      <th>arsenic_acid_comment</th>\n",
       "      <th>arsenobetaine_ug_L</th>\n",
       "      <th>arsenobetaine_comment</th>\n",
       "      <th>arsenocholoine_ug_L</th>\n",
       "      <th>arsenocholine_comment</th>\n",
       "      <th>dimethylarsinic_acid_ug_L</th>\n",
       "      <th>dimethylarsinic_comment</th>\n",
       "      <th>monomethylarsonic_acid_ug_L</th>\n",
       "      <th>monometylarsonic_comment</th>\n",
       "    </tr>\n",
       "  </thead>\n",
       "  <tbody>\n",
       "    <tr>\n",
       "      <th>0</th>\n",
       "      <td>109266.0</td>\n",
       "      <td>0.08</td>\n",
       "      <td>1.0</td>\n",
       "      <td>0.56</td>\n",
       "      <td>1.0</td>\n",
       "      <td>0.82</td>\n",
       "      <td>1.0</td>\n",
       "      <td>0.08</td>\n",
       "      <td>1.0</td>\n",
       "      <td>1.35</td>\n",
       "      <td>1.0</td>\n",
       "      <td>0.14</td>\n",
       "      <td>1.0</td>\n",
       "    </tr>\n",
       "    <tr>\n",
       "      <th>1</th>\n",
       "      <td>109270.0</td>\n",
       "      <td>0.51</td>\n",
       "      <td>0.0</td>\n",
       "      <td>0.56</td>\n",
       "      <td>1.0</td>\n",
       "      <td>0.82</td>\n",
       "      <td>1.0</td>\n",
       "      <td>0.08</td>\n",
       "      <td>1.0</td>\n",
       "      <td>2.07</td>\n",
       "      <td>0.0</td>\n",
       "      <td>0.14</td>\n",
       "      <td>1.0</td>\n",
       "    </tr>\n",
       "    <tr>\n",
       "      <th>2</th>\n",
       "      <td>109273.0</td>\n",
       "      <td>0.08</td>\n",
       "      <td>1.0</td>\n",
       "      <td>0.56</td>\n",
       "      <td>1.0</td>\n",
       "      <td>2.74</td>\n",
       "      <td>0.0</td>\n",
       "      <td>0.08</td>\n",
       "      <td>1.0</td>\n",
       "      <td>1.35</td>\n",
       "      <td>1.0</td>\n",
       "      <td>0.14</td>\n",
       "      <td>1.0</td>\n",
       "    </tr>\n",
       "    <tr>\n",
       "      <th>3</th>\n",
       "      <td>109274.0</td>\n",
       "      <td>0.08</td>\n",
       "      <td>1.0</td>\n",
       "      <td>0.56</td>\n",
       "      <td>1.0</td>\n",
       "      <td>0.82</td>\n",
       "      <td>1.0</td>\n",
       "      <td>0.08</td>\n",
       "      <td>1.0</td>\n",
       "      <td>1.35</td>\n",
       "      <td>1.0</td>\n",
       "      <td>0.14</td>\n",
       "      <td>1.0</td>\n",
       "    </tr>\n",
       "    <tr>\n",
       "      <th>4</th>\n",
       "      <td>109287.0</td>\n",
       "      <td>0.08</td>\n",
       "      <td>1.0</td>\n",
       "      <td>0.56</td>\n",
       "      <td>1.0</td>\n",
       "      <td>0.82</td>\n",
       "      <td>1.0</td>\n",
       "      <td>0.08</td>\n",
       "      <td>1.0</td>\n",
       "      <td>3.60</td>\n",
       "      <td>0.0</td>\n",
       "      <td>0.14</td>\n",
       "      <td>1.0</td>\n",
       "    </tr>\n",
       "    <tr>\n",
       "      <th>5</th>\n",
       "      <td>109288.0</td>\n",
       "      <td>0.08</td>\n",
       "      <td>1.0</td>\n",
       "      <td>0.56</td>\n",
       "      <td>1.0</td>\n",
       "      <td>0.82</td>\n",
       "      <td>1.0</td>\n",
       "      <td>0.08</td>\n",
       "      <td>1.0</td>\n",
       "      <td>4.22</td>\n",
       "      <td>0.0</td>\n",
       "      <td>0.14</td>\n",
       "      <td>1.0</td>\n",
       "    </tr>\n",
       "    <tr>\n",
       "      <th>6</th>\n",
       "      <td>109290.0</td>\n",
       "      <td>0.44</td>\n",
       "      <td>0.0</td>\n",
       "      <td>0.56</td>\n",
       "      <td>1.0</td>\n",
       "      <td>147.82</td>\n",
       "      <td>0.0</td>\n",
       "      <td>0.76</td>\n",
       "      <td>0.0</td>\n",
       "      <td>6.63</td>\n",
       "      <td>0.0</td>\n",
       "      <td>0.70</td>\n",
       "      <td>0.0</td>\n",
       "    </tr>\n",
       "    <tr>\n",
       "      <th>7</th>\n",
       "      <td>109295.0</td>\n",
       "      <td>0.08</td>\n",
       "      <td>1.0</td>\n",
       "      <td>0.56</td>\n",
       "      <td>1.0</td>\n",
       "      <td>1.28</td>\n",
       "      <td>0.0</td>\n",
       "      <td>0.08</td>\n",
       "      <td>1.0</td>\n",
       "      <td>1.35</td>\n",
       "      <td>1.0</td>\n",
       "      <td>0.14</td>\n",
       "      <td>1.0</td>\n",
       "    </tr>\n",
       "    <tr>\n",
       "      <th>8</th>\n",
       "      <td>109300.0</td>\n",
       "      <td>0.08</td>\n",
       "      <td>1.0</td>\n",
       "      <td>0.56</td>\n",
       "      <td>1.0</td>\n",
       "      <td>3.03</td>\n",
       "      <td>0.0</td>\n",
       "      <td>0.08</td>\n",
       "      <td>1.0</td>\n",
       "      <td>1.35</td>\n",
       "      <td>1.0</td>\n",
       "      <td>0.14</td>\n",
       "      <td>1.0</td>\n",
       "    </tr>\n",
       "    <tr>\n",
       "      <th>9</th>\n",
       "      <td>109309.0</td>\n",
       "      <td>0.08</td>\n",
       "      <td>1.0</td>\n",
       "      <td>0.56</td>\n",
       "      <td>1.0</td>\n",
       "      <td>0.82</td>\n",
       "      <td>1.0</td>\n",
       "      <td>0.08</td>\n",
       "      <td>1.0</td>\n",
       "      <td>1.35</td>\n",
       "      <td>1.0</td>\n",
       "      <td>0.14</td>\n",
       "      <td>1.0</td>\n",
       "    </tr>\n",
       "  </tbody>\n",
       "</table>\n",
       "</div>"
      ],
      "text/plain": [
       "   participant_id  arsenous_acid_ug_L  arsenous_acid_comment  \\\n",
       "0        109266.0                0.08                    1.0   \n",
       "1        109270.0                0.51                    0.0   \n",
       "2        109273.0                0.08                    1.0   \n",
       "3        109274.0                0.08                    1.0   \n",
       "4        109287.0                0.08                    1.0   \n",
       "5        109288.0                0.08                    1.0   \n",
       "6        109290.0                0.44                    0.0   \n",
       "7        109295.0                0.08                    1.0   \n",
       "8        109300.0                0.08                    1.0   \n",
       "9        109309.0                0.08                    1.0   \n",
       "\n",
       "   arsenic_acid_ug_L  arsenic_acid_comment  arsenobetaine_ug_L  \\\n",
       "0               0.56                   1.0                0.82   \n",
       "1               0.56                   1.0                0.82   \n",
       "2               0.56                   1.0                2.74   \n",
       "3               0.56                   1.0                0.82   \n",
       "4               0.56                   1.0                0.82   \n",
       "5               0.56                   1.0                0.82   \n",
       "6               0.56                   1.0              147.82   \n",
       "7               0.56                   1.0                1.28   \n",
       "8               0.56                   1.0                3.03   \n",
       "9               0.56                   1.0                0.82   \n",
       "\n",
       "   arsenobetaine_comment  arsenocholoine_ug_L  arsenocholine_comment  \\\n",
       "0                    1.0                 0.08                    1.0   \n",
       "1                    1.0                 0.08                    1.0   \n",
       "2                    0.0                 0.08                    1.0   \n",
       "3                    1.0                 0.08                    1.0   \n",
       "4                    1.0                 0.08                    1.0   \n",
       "5                    1.0                 0.08                    1.0   \n",
       "6                    0.0                 0.76                    0.0   \n",
       "7                    0.0                 0.08                    1.0   \n",
       "8                    0.0                 0.08                    1.0   \n",
       "9                    1.0                 0.08                    1.0   \n",
       "\n",
       "   dimethylarsinic_acid_ug_L  dimethylarsinic_comment  \\\n",
       "0                       1.35                      1.0   \n",
       "1                       2.07                      0.0   \n",
       "2                       1.35                      1.0   \n",
       "3                       1.35                      1.0   \n",
       "4                       3.60                      0.0   \n",
       "5                       4.22                      0.0   \n",
       "6                       6.63                      0.0   \n",
       "7                       1.35                      1.0   \n",
       "8                       1.35                      1.0   \n",
       "9                       1.35                      1.0   \n",
       "\n",
       "   monomethylarsonic_acid_ug_L  monometylarsonic_comment  \n",
       "0                         0.14                       1.0  \n",
       "1                         0.14                       1.0  \n",
       "2                         0.14                       1.0  \n",
       "3                         0.14                       1.0  \n",
       "4                         0.14                       1.0  \n",
       "5                         0.14                       1.0  \n",
       "6                         0.70                       0.0  \n",
       "7                         0.14                       1.0  \n",
       "8                         0.14                       1.0  \n",
       "9                         0.14                       1.0  "
      ]
     },
     "execution_count": 56,
     "metadata": {},
     "output_type": "execute_result"
    }
   ],
   "source": [
    "df2.head(10)"
   ]
  },
  {
   "cell_type": "code",
   "execution_count": 57,
   "id": "f53b6ef0-b9bd-432f-83e0-412032a74090",
   "metadata": {},
   "outputs": [
    {
     "data": {
      "text/plain": [
       "participant_id                   0\n",
       "arsenous_acid_ug_L             265\n",
       "arsenous_acid_comment          265\n",
       "arsenic_acid_ug_L              265\n",
       "arsenic_acid_comment           265\n",
       "arsenobetaine_ug_L             265\n",
       "arsenobetaine_comment          265\n",
       "arsenocholoine_ug_L            265\n",
       "arsenocholine_comment          265\n",
       "dimethylarsinic_acid_ug_L      265\n",
       "dimethylarsinic_comment        265\n",
       "monomethylarsonic_acid_ug_L    265\n",
       "monometylarsonic_comment       265\n",
       "dtype: int64"
      ]
     },
     "execution_count": 57,
     "metadata": {},
     "output_type": "execute_result"
    }
   ],
   "source": [
    "df2.isna().sum()"
   ]
  },
  {
   "cell_type": "code",
   "execution_count": 58,
   "id": "711d231b-5d86-49db-a8c5-8fcc4e8a97ad",
   "metadata": {},
   "outputs": [
    {
     "name": "stdout",
     "output_type": "stream",
     "text": [
      "Number of rows missing all arsenic values: 265\n"
     ]
    }
   ],
   "source": [
    "value_cols = [col for col in df2.columns if col != 'participant_id']\n",
    "rows_all_nan = df2[value_cols].isna().all(axis=1)\n",
    "print(f\"Number of rows missing all arsenic values: {rows_all_nan.sum()}\")"
   ]
  },
  {
   "cell_type": "code",
   "execution_count": 59,
   "id": "35233cc0-c9ae-476e-a71f-e7fd07984643",
   "metadata": {},
   "outputs": [
    {
     "name": "stdout",
     "output_type": "stream",
     "text": [
      "Number of rows dropped: 265\n"
     ]
    }
   ],
   "source": [
    "df2_cleaned = df2[~rows_all_nan].copy()\n",
    "\n",
    "print(f\"Number of rows dropped: {rows_all_nan.sum()}\")"
   ]
  },
  {
   "cell_type": "markdown",
   "id": "8d7ac1a8-3ee0-46a7-ac56-d5a64d2e56a7",
   "metadata": {},
   "source": [
    "##### Chromium\n",
    "\n",
    "Chromium is a trace mineral found in two main forms: trivalent chromium (Cr³⁺), which is naturally present in food and supplements, and hexavalent chromium (Cr⁶⁺), a toxic by-product of industrial processes such as metal manufacturing \n",
    "[4]. Trivalent chromium has been suggested to play a role in carbohydrate, lipid, and protein metabolism by enhancing insulin action; however, no definitive physiological function has been firmly established. In contrast, hexavalent chromium is recognized as potentially carcinogenic, especially when inhaled or ingested in high amounts. Due to the uncertainty surrounding its physiological role, a standardized reference range for chromium has not been established.\n",
    "\n",
    "For the purposes of this project, which focuses on assessing correlations with obesity, trivalent chromium is of particular interest due to its possible metabolic effects. However, a limitation of the NHANES dataset is that urinary chromium measurements are not specifically categorized by valence state. While this makes it difficult to distinguish between beneficial and harmful forms, urine chromium concentration can still serve as a proxy for overall chromium exposure. Monitoring these levels may offer insight into whether exposure levels are within a potentially physiological or harmful range."
   ]
  },
  {
   "cell_type": "code",
   "execution_count": 60,
   "id": "dc72ee9a-3871-4dae-9eff-4f045df3063d",
   "metadata": {},
   "outputs": [],
   "source": [
    "file_path = '2017-2020/urine/4.P_UCM.xpt'\n",
    "\n",
    "df3, meta = pyreadstat.read_xport(file_path)\n",
    "df3 = standardize_id_column(df3)"
   ]
  },
  {
   "cell_type": "code",
   "execution_count": 61,
   "id": "6fab497e-1864-4f9a-b4ca-bba6f025ed3c",
   "metadata": {},
   "outputs": [
    {
     "data": {
      "text/plain": [
       "Index(['participant_id', 'WTSAPRP', 'URXUCM', 'URDUCMLC'], dtype='object')"
      ]
     },
     "execution_count": 61,
     "metadata": {},
     "output_type": "execute_result"
    }
   ],
   "source": [
    "df3.columns"
   ]
  },
  {
   "cell_type": "code",
   "execution_count": 62,
   "id": "5d9ea5cf-23c5-41db-84a5-7f702ef26892",
   "metadata": {},
   "outputs": [],
   "source": [
    "df3 = df3.drop('WTSAPRP',axis=1)"
   ]
  },
  {
   "cell_type": "code",
   "execution_count": 63,
   "id": "8598cec6-7c89-456f-97f8-937581b7b2c6",
   "metadata": {},
   "outputs": [
    {
     "data": {
      "text/html": [
       "<div>\n",
       "<style scoped>\n",
       "    .dataframe tbody tr th:only-of-type {\n",
       "        vertical-align: middle;\n",
       "    }\n",
       "\n",
       "    .dataframe tbody tr th {\n",
       "        vertical-align: top;\n",
       "    }\n",
       "\n",
       "    .dataframe thead th {\n",
       "        text-align: right;\n",
       "    }\n",
       "</style>\n",
       "<table border=\"1\" class=\"dataframe\">\n",
       "  <thead>\n",
       "    <tr style=\"text-align: right;\">\n",
       "      <th></th>\n",
       "      <th>participant_id</th>\n",
       "      <th>URXUCM</th>\n",
       "      <th>URDUCMLC</th>\n",
       "    </tr>\n",
       "  </thead>\n",
       "  <tbody>\n",
       "    <tr>\n",
       "      <th>0</th>\n",
       "      <td>109266.0</td>\n",
       "      <td>0.13</td>\n",
       "      <td>1.0</td>\n",
       "    </tr>\n",
       "    <tr>\n",
       "      <th>1</th>\n",
       "      <td>109270.0</td>\n",
       "      <td>0.13</td>\n",
       "      <td>1.0</td>\n",
       "    </tr>\n",
       "    <tr>\n",
       "      <th>2</th>\n",
       "      <td>109273.0</td>\n",
       "      <td>0.19</td>\n",
       "      <td>0.0</td>\n",
       "    </tr>\n",
       "    <tr>\n",
       "      <th>3</th>\n",
       "      <td>109274.0</td>\n",
       "      <td>0.40</td>\n",
       "      <td>0.0</td>\n",
       "    </tr>\n",
       "    <tr>\n",
       "      <th>4</th>\n",
       "      <td>109287.0</td>\n",
       "      <td>0.13</td>\n",
       "      <td>1.0</td>\n",
       "    </tr>\n",
       "    <tr>\n",
       "      <th>5</th>\n",
       "      <td>109288.0</td>\n",
       "      <td>0.29</td>\n",
       "      <td>0.0</td>\n",
       "    </tr>\n",
       "    <tr>\n",
       "      <th>6</th>\n",
       "      <td>109290.0</td>\n",
       "      <td>0.27</td>\n",
       "      <td>0.0</td>\n",
       "    </tr>\n",
       "    <tr>\n",
       "      <th>7</th>\n",
       "      <td>109295.0</td>\n",
       "      <td>0.26</td>\n",
       "      <td>0.0</td>\n",
       "    </tr>\n",
       "    <tr>\n",
       "      <th>8</th>\n",
       "      <td>109300.0</td>\n",
       "      <td>0.13</td>\n",
       "      <td>1.0</td>\n",
       "    </tr>\n",
       "    <tr>\n",
       "      <th>9</th>\n",
       "      <td>109309.0</td>\n",
       "      <td>0.13</td>\n",
       "      <td>1.0</td>\n",
       "    </tr>\n",
       "  </tbody>\n",
       "</table>\n",
       "</div>"
      ],
      "text/plain": [
       "   participant_id  URXUCM  URDUCMLC\n",
       "0        109266.0    0.13       1.0\n",
       "1        109270.0    0.13       1.0\n",
       "2        109273.0    0.19       0.0\n",
       "3        109274.0    0.40       0.0\n",
       "4        109287.0    0.13       1.0\n",
       "5        109288.0    0.29       0.0\n",
       "6        109290.0    0.27       0.0\n",
       "7        109295.0    0.26       0.0\n",
       "8        109300.0    0.13       1.0\n",
       "9        109309.0    0.13       1.0"
      ]
     },
     "execution_count": 63,
     "metadata": {},
     "output_type": "execute_result"
    }
   ],
   "source": [
    "df3.head(10)"
   ]
  },
  {
   "cell_type": "code",
   "execution_count": 64,
   "id": "3486b9b7-dea4-44bf-9ab6-cdb8e7b974f1",
   "metadata": {},
   "outputs": [
    {
     "data": {
      "text/plain": [
       "participant_id      0\n",
       "URXUCM            321\n",
       "URDUCMLC          321\n",
       "dtype: int64"
      ]
     },
     "execution_count": 64,
     "metadata": {},
     "output_type": "execute_result"
    }
   ],
   "source": [
    "df3.isna().sum()"
   ]
  },
  {
   "cell_type": "markdown",
   "id": "905361dd-c35f-4234-ba5f-9ad66c22c647",
   "metadata": {},
   "source": [
    "Since there is only one lab value that is being measured in this dataset, any NaN values will be dropped."
   ]
  },
  {
   "cell_type": "code",
   "execution_count": 65,
   "id": "97c60329-54c0-4a91-984e-1a6308900dab",
   "metadata": {},
   "outputs": [],
   "source": [
    "df3 = df3.rename(columns={\n",
    "   'URXUCM': 'chromium_ug_L',\n",
    "    'URDUCMLC': 'chromium_comment'\n",
    "})"
   ]
  },
  {
   "cell_type": "code",
   "execution_count": 66,
   "id": "6f945fb3-0d33-4402-a475-d733882fcd29",
   "metadata": {},
   "outputs": [],
   "source": [
    "df3.dropna(axis=1,inplace=True)"
   ]
  },
  {
   "cell_type": "markdown",
   "id": "50f5f72f-0bf2-457f-a9f8-37b0ce5030fc",
   "metadata": {},
   "source": [
    "##### Flame Retardant\n",
    "\n",
    "Flame retardants (FRs) are chemicals applied to materials such as furniture, electronics, electrical devices, and construction products to reduce flammability and slow the spread of fire. There are several major classes of flame retardants, including brominated flame retardants (BFRs), hexabromocyclododecane (HBCD), organophosphate flame retardants (OPFRs), tetrabromobisphenol A (TBBPA), and polybrominated diphenyl ethers (PBDEs). These compounds are highly persistent in the environment and can accumulate in human tissue due to their resistance to degradation [5].\n",
    "\n",
    "Among them, PBDEs have been extensively studied for their potential adverse health effects, including endocrine and thyroid disruption, immunotoxicity, reproductive toxicity, carcinogenicity, and negative impacts on fetal and child development. Although young children are particularly vulnerable to these effects, adults are also susceptible to long-term exposure. Given their endocrine-disrupting properties, flame retardants may play a role in the development or progression of obesity.\n",
    "\n",
    "According to the documentation from NHANES for this lab, the unit of measurement is all ng/mL."
   ]
  },
  {
   "cell_type": "code",
   "execution_count": 67,
   "id": "413f3a77-f796-4a07-8ef0-6b00c881bfde",
   "metadata": {},
   "outputs": [],
   "source": [
    "file_path = '2017-2020/urine/5.P_FR.xpt'\n",
    "\n",
    "df4, meta = pyreadstat.read_xport(file_path)\n",
    "df4 = standardize_id_column(df4)"
   ]
  },
  {
   "cell_type": "code",
   "execution_count": 68,
   "id": "6220f458-7ce9-4305-9188-04b8abc4195e",
   "metadata": {},
   "outputs": [
    {
     "name": "stdout",
     "output_type": "stream",
     "text": [
      "<class 'pandas.core.frame.DataFrame'>\n",
      "RangeIndex: 4929 entries, 0 to 4928\n",
      "Data columns (total 14 columns):\n",
      " #   Column          Non-Null Count  Dtype  \n",
      "---  ------          --------------  -----  \n",
      " 0   participant_id  4929 non-null   float64\n",
      " 1   WTSBPRP         4929 non-null   float64\n",
      " 2   URXBCPP         4617 non-null   float64\n",
      " 3   URDBCPLC        4617 non-null   float64\n",
      " 4   URXBCEP         4618 non-null   float64\n",
      " 5   URDCEPLC        4618 non-null   float64\n",
      " 6   URXBDCP         4599 non-null   float64\n",
      " 7   URDBDCLC        4599 non-null   float64\n",
      " 8   URXDBUP         4614 non-null   float64\n",
      " 9   URDDUPLC        4614 non-null   float64\n",
      " 10  URXDPHP         4622 non-null   float64\n",
      " 11  URDDPHLC        4622 non-null   float64\n",
      " 12  URXTBBA         4622 non-null   float64\n",
      " 13  URDBBALC        4622 non-null   float64\n",
      "dtypes: float64(14)\n",
      "memory usage: 539.2 KB\n"
     ]
    }
   ],
   "source": [
    "df4.info()"
   ]
  },
  {
   "cell_type": "code",
   "execution_count": 69,
   "id": "948b38ab-be65-4979-8a5b-90a3d477f2a7",
   "metadata": {},
   "outputs": [
    {
     "data": {
      "text/plain": [
       "Index(['participant_id', 'WTSBPRP', 'URXBCPP', 'URDBCPLC', 'URXBCEP',\n",
       "       'URDCEPLC', 'URXBDCP', 'URDBDCLC', 'URXDBUP', 'URDDUPLC', 'URXDPHP',\n",
       "       'URDDPHLC', 'URXTBBA', 'URDBBALC'],\n",
       "      dtype='object')"
      ]
     },
     "execution_count": 69,
     "metadata": {},
     "output_type": "execute_result"
    }
   ],
   "source": [
    "df4.columns"
   ]
  },
  {
   "cell_type": "code",
   "execution_count": 70,
   "id": "992bda62-b5d2-4482-afe6-a7e8ce921663",
   "metadata": {},
   "outputs": [
    {
     "data": {
      "text/html": [
       "<div>\n",
       "<style scoped>\n",
       "    .dataframe tbody tr th:only-of-type {\n",
       "        vertical-align: middle;\n",
       "    }\n",
       "\n",
       "    .dataframe tbody tr th {\n",
       "        vertical-align: top;\n",
       "    }\n",
       "\n",
       "    .dataframe thead th {\n",
       "        text-align: right;\n",
       "    }\n",
       "</style>\n",
       "<table border=\"1\" class=\"dataframe\">\n",
       "  <thead>\n",
       "    <tr style=\"text-align: right;\">\n",
       "      <th></th>\n",
       "      <th>participant_id</th>\n",
       "      <th>WTSBPRP</th>\n",
       "      <th>URXBCPP</th>\n",
       "      <th>URDBCPLC</th>\n",
       "      <th>URXBCEP</th>\n",
       "      <th>URDCEPLC</th>\n",
       "      <th>URXBDCP</th>\n",
       "      <th>URDBDCLC</th>\n",
       "      <th>URXDBUP</th>\n",
       "      <th>URDDUPLC</th>\n",
       "      <th>URXDPHP</th>\n",
       "      <th>URDDPHLC</th>\n",
       "      <th>URXTBBA</th>\n",
       "      <th>URDBBALC</th>\n",
       "    </tr>\n",
       "  </thead>\n",
       "  <tbody>\n",
       "    <tr>\n",
       "      <th>0</th>\n",
       "      <td>109271.0</td>\n",
       "      <td>20156.439742</td>\n",
       "      <td>0.0707</td>\n",
       "      <td>1.0</td>\n",
       "      <td>0.0707</td>\n",
       "      <td>1.0</td>\n",
       "      <td>0.1370</td>\n",
       "      <td>0.0</td>\n",
       "      <td>0.0707</td>\n",
       "      <td>1.0</td>\n",
       "      <td>0.886</td>\n",
       "      <td>0.0</td>\n",
       "      <td>0.0354</td>\n",
       "      <td>1.0</td>\n",
       "    </tr>\n",
       "    <tr>\n",
       "      <th>1</th>\n",
       "      <td>109277.0</td>\n",
       "      <td>51738.369518</td>\n",
       "      <td>0.7090</td>\n",
       "      <td>0.0</td>\n",
       "      <td>0.0707</td>\n",
       "      <td>1.0</td>\n",
       "      <td>1.1500</td>\n",
       "      <td>0.0</td>\n",
       "      <td>0.1380</td>\n",
       "      <td>0.0</td>\n",
       "      <td>1.300</td>\n",
       "      <td>0.0</td>\n",
       "      <td>0.0354</td>\n",
       "      <td>1.0</td>\n",
       "    </tr>\n",
       "    <tr>\n",
       "      <th>2</th>\n",
       "      <td>109282.0</td>\n",
       "      <td>97190.554500</td>\n",
       "      <td>NaN</td>\n",
       "      <td>NaN</td>\n",
       "      <td>4.2300</td>\n",
       "      <td>0.0</td>\n",
       "      <td>3.6600</td>\n",
       "      <td>0.0</td>\n",
       "      <td>0.5010</td>\n",
       "      <td>0.0</td>\n",
       "      <td>2.050</td>\n",
       "      <td>0.0</td>\n",
       "      <td>0.0354</td>\n",
       "      <td>1.0</td>\n",
       "    </tr>\n",
       "    <tr>\n",
       "      <th>3</th>\n",
       "      <td>109285.0</td>\n",
       "      <td>85548.221421</td>\n",
       "      <td>0.0707</td>\n",
       "      <td>1.0</td>\n",
       "      <td>4.4200</td>\n",
       "      <td>0.0</td>\n",
       "      <td>2.2700</td>\n",
       "      <td>0.0</td>\n",
       "      <td>0.0707</td>\n",
       "      <td>1.0</td>\n",
       "      <td>10.300</td>\n",
       "      <td>0.0</td>\n",
       "      <td>0.0620</td>\n",
       "      <td>0.0</td>\n",
       "    </tr>\n",
       "    <tr>\n",
       "      <th>4</th>\n",
       "      <td>109288.0</td>\n",
       "      <td>9103.868995</td>\n",
       "      <td>0.3470</td>\n",
       "      <td>0.0</td>\n",
       "      <td>0.1450</td>\n",
       "      <td>0.0</td>\n",
       "      <td>0.8590</td>\n",
       "      <td>0.0</td>\n",
       "      <td>0.0707</td>\n",
       "      <td>1.0</td>\n",
       "      <td>1.290</td>\n",
       "      <td>0.0</td>\n",
       "      <td>0.0354</td>\n",
       "      <td>1.0</td>\n",
       "    </tr>\n",
       "    <tr>\n",
       "      <th>5</th>\n",
       "      <td>109301.0</td>\n",
       "      <td>14215.937370</td>\n",
       "      <td>0.1160</td>\n",
       "      <td>0.0</td>\n",
       "      <td>0.0707</td>\n",
       "      <td>1.0</td>\n",
       "      <td>5.1800</td>\n",
       "      <td>0.0</td>\n",
       "      <td>0.4500</td>\n",
       "      <td>0.0</td>\n",
       "      <td>0.701</td>\n",
       "      <td>0.0</td>\n",
       "      <td>0.0354</td>\n",
       "      <td>1.0</td>\n",
       "    </tr>\n",
       "    <tr>\n",
       "      <th>6</th>\n",
       "      <td>109302.0</td>\n",
       "      <td>5984.497323</td>\n",
       "      <td>0.0707</td>\n",
       "      <td>1.0</td>\n",
       "      <td>0.0707</td>\n",
       "      <td>1.0</td>\n",
       "      <td>4.8100</td>\n",
       "      <td>0.0</td>\n",
       "      <td>0.1710</td>\n",
       "      <td>0.0</td>\n",
       "      <td>0.732</td>\n",
       "      <td>0.0</td>\n",
       "      <td>0.0354</td>\n",
       "      <td>1.0</td>\n",
       "    </tr>\n",
       "    <tr>\n",
       "      <th>7</th>\n",
       "      <td>109303.0</td>\n",
       "      <td>16549.099643</td>\n",
       "      <td>0.0707</td>\n",
       "      <td>1.0</td>\n",
       "      <td>0.3660</td>\n",
       "      <td>0.0</td>\n",
       "      <td>0.0707</td>\n",
       "      <td>1.0</td>\n",
       "      <td>0.0707</td>\n",
       "      <td>1.0</td>\n",
       "      <td>0.162</td>\n",
       "      <td>0.0</td>\n",
       "      <td>0.0354</td>\n",
       "      <td>1.0</td>\n",
       "    </tr>\n",
       "    <tr>\n",
       "      <th>8</th>\n",
       "      <td>109304.0</td>\n",
       "      <td>40089.354988</td>\n",
       "      <td>0.1740</td>\n",
       "      <td>0.0</td>\n",
       "      <td>0.3860</td>\n",
       "      <td>0.0</td>\n",
       "      <td>2.6800</td>\n",
       "      <td>0.0</td>\n",
       "      <td>0.1400</td>\n",
       "      <td>0.0</td>\n",
       "      <td>1.280</td>\n",
       "      <td>0.0</td>\n",
       "      <td>0.0354</td>\n",
       "      <td>1.0</td>\n",
       "    </tr>\n",
       "    <tr>\n",
       "      <th>9</th>\n",
       "      <td>109307.0</td>\n",
       "      <td>49745.101247</td>\n",
       "      <td>0.0707</td>\n",
       "      <td>1.0</td>\n",
       "      <td>0.0707</td>\n",
       "      <td>1.0</td>\n",
       "      <td>0.9030</td>\n",
       "      <td>0.0</td>\n",
       "      <td>0.0707</td>\n",
       "      <td>1.0</td>\n",
       "      <td>1.550</td>\n",
       "      <td>0.0</td>\n",
       "      <td>0.1210</td>\n",
       "      <td>0.0</td>\n",
       "    </tr>\n",
       "  </tbody>\n",
       "</table>\n",
       "</div>"
      ],
      "text/plain": [
       "   participant_id       WTSBPRP  URXBCPP  URDBCPLC  URXBCEP  URDCEPLC  \\\n",
       "0        109271.0  20156.439742   0.0707       1.0   0.0707       1.0   \n",
       "1        109277.0  51738.369518   0.7090       0.0   0.0707       1.0   \n",
       "2        109282.0  97190.554500      NaN       NaN   4.2300       0.0   \n",
       "3        109285.0  85548.221421   0.0707       1.0   4.4200       0.0   \n",
       "4        109288.0   9103.868995   0.3470       0.0   0.1450       0.0   \n",
       "5        109301.0  14215.937370   0.1160       0.0   0.0707       1.0   \n",
       "6        109302.0   5984.497323   0.0707       1.0   0.0707       1.0   \n",
       "7        109303.0  16549.099643   0.0707       1.0   0.3660       0.0   \n",
       "8        109304.0  40089.354988   0.1740       0.0   0.3860       0.0   \n",
       "9        109307.0  49745.101247   0.0707       1.0   0.0707       1.0   \n",
       "\n",
       "   URXBDCP  URDBDCLC  URXDBUP  URDDUPLC  URXDPHP  URDDPHLC  URXTBBA  URDBBALC  \n",
       "0   0.1370       0.0   0.0707       1.0    0.886       0.0   0.0354       1.0  \n",
       "1   1.1500       0.0   0.1380       0.0    1.300       0.0   0.0354       1.0  \n",
       "2   3.6600       0.0   0.5010       0.0    2.050       0.0   0.0354       1.0  \n",
       "3   2.2700       0.0   0.0707       1.0   10.300       0.0   0.0620       0.0  \n",
       "4   0.8590       0.0   0.0707       1.0    1.290       0.0   0.0354       1.0  \n",
       "5   5.1800       0.0   0.4500       0.0    0.701       0.0   0.0354       1.0  \n",
       "6   4.8100       0.0   0.1710       0.0    0.732       0.0   0.0354       1.0  \n",
       "7   0.0707       1.0   0.0707       1.0    0.162       0.0   0.0354       1.0  \n",
       "8   2.6800       0.0   0.1400       0.0    1.280       0.0   0.0354       1.0  \n",
       "9   0.9030       0.0   0.0707       1.0    1.550       0.0   0.1210       0.0  "
      ]
     },
     "execution_count": 70,
     "metadata": {},
     "output_type": "execute_result"
    }
   ],
   "source": [
    "df4.head(10)"
   ]
  },
  {
   "cell_type": "code",
   "execution_count": 71,
   "id": "0c4d6b29-941a-41fb-a379-ce484fd58e82",
   "metadata": {},
   "outputs": [],
   "source": [
    "df4 = df4.drop('WTSBPRP', axis = 1)"
   ]
  },
  {
   "cell_type": "code",
   "execution_count": 72,
   "id": "e537abfa-ba63-4648-bbd7-90d10d2848cd",
   "metadata": {},
   "outputs": [],
   "source": [
    "df4 = df4.rename(columns={\n",
    "    'URXBCPP': '1_chloro_2_propyl_phosphate', \n",
    "    'URDBCPLC' : '1ch_2pro_comment', \n",
    "    'URXBCEP': 'bis_1_chloroethyl_phosphate',\n",
    "    'URDCEPLC' : 'bis_1_chlo_phos_comment',\n",
    "    'URXBDCP': '1_3_dichloro_2_propyl_phosphate', \n",
    "    'URDBDCLC': '1_3_di_2_pro_comment', \n",
    "    'URXDBUP': 'dibutyl_phosphate',\n",
    "    'URDDUPLC': 'dibutyl_phos_comment', \n",
    "    'URXDPHP': 'diphenyl_phosphate',\n",
    "    'URDDPHLC': 'diphe_phos_comment',\n",
    "    'URXTBBA': '2_3_4_5_tetrabromobenzoic_acid',\n",
    "    'URDBBALC': '2_3_4_5_tet_comment'\n",
    "})"
   ]
  },
  {
   "cell_type": "code",
   "execution_count": 73,
   "id": "78e41aca-6de1-4cf3-a084-22082ca04558",
   "metadata": {},
   "outputs": [
    {
     "data": {
      "text/plain": [
       "participant_id                       0\n",
       "1_chloro_2_propyl_phosphate        312\n",
       "1ch_2pro_comment                   312\n",
       "bis_1_chloroethyl_phosphate        311\n",
       "bis_1_chlo_phos_comment            311\n",
       "1_3_dichloro_2_propyl_phosphate    330\n",
       "1_3_di_2_pro_comment               330\n",
       "dibutyl_phosphate                  315\n",
       "dibutyl_phos_comment               315\n",
       "diphenyl_phosphate                 307\n",
       "diphe_phos_comment                 307\n",
       "2_3_4_5_tetrabromobenzoic_acid     307\n",
       "2_3_4_5_tet_comment                307\n",
       "dtype: int64"
      ]
     },
     "execution_count": 73,
     "metadata": {},
     "output_type": "execute_result"
    }
   ],
   "source": [
    "df4.isnull().sum()"
   ]
  },
  {
   "cell_type": "markdown",
   "id": "8fbbe36a-65ec-41f8-a7da-e89abe40454d",
   "metadata": {},
   "source": [
    "There are multiple columns that have over 300 NaN values. There may be rows that are missing all of these values but there may be rows that are missing some of the values. The decision was made to drop rows that are missing all values to ensure retention of meaningful data."
   ]
  },
  {
   "cell_type": "code",
   "execution_count": 74,
   "id": "e435d8d0-a527-4200-9b09-428c57b1ebf6",
   "metadata": {},
   "outputs": [
    {
     "data": {
      "text/plain": [
       "Index(['participant_id', '1_chloro_2_propyl_phosphate', '1ch_2pro_comment',\n",
       "       'bis_1_chloroethyl_phosphate', 'bis_1_chlo_phos_comment',\n",
       "       '1_3_dichloro_2_propyl_phosphate', '1_3_di_2_pro_comment',\n",
       "       'dibutyl_phosphate', 'dibutyl_phos_comment', 'diphenyl_phosphate',\n",
       "       'diphe_phos_comment', '2_3_4_5_tetrabromobenzoic_acid',\n",
       "       '2_3_4_5_tet_comment'],\n",
       "      dtype='object')"
      ]
     },
     "execution_count": 74,
     "metadata": {},
     "output_type": "execute_result"
    }
   ],
   "source": [
    "df4.columns #to make it easy to copy and paste the names of these columns without risking any typos"
   ]
  },
  {
   "cell_type": "code",
   "execution_count": 75,
   "id": "d852de43-58d9-4829-b968-798fa3ab31f3",
   "metadata": {},
   "outputs": [
    {
     "name": "stdout",
     "output_type": "stream",
     "text": [
      "Number of rows missing all FR values: 307\n"
     ]
    }
   ],
   "source": [
    "value_cols = [col for col in df4.columns if col != 'participant_id']\n",
    "rows_all_nan = df4[value_cols].isna().all(axis=1)\n",
    "print(f\"Number of rows missing all FR values: {rows_all_nan.sum()}\")"
   ]
  },
  {
   "cell_type": "code",
   "execution_count": 76,
   "id": "a5df899e-6782-4363-841c-abdb383b4886",
   "metadata": {},
   "outputs": [
    {
     "name": "stdout",
     "output_type": "stream",
     "text": [
      "Number of rows dropped: 307\n"
     ]
    }
   ],
   "source": [
    "# Drop rows where all value columns are NaN (excluding participant_id)\n",
    "df4_cleaned = df4[~rows_all_nan].copy()\n",
    "\n",
    "print(f\"Number of rows dropped: {rows_all_nan.sum()}\")"
   ]
  },
  {
   "cell_type": "code",
   "execution_count": 77,
   "id": "7987bc61-3f12-42a2-b6fc-c220a6ba289c",
   "metadata": {},
   "outputs": [
    {
     "data": {
      "text/html": [
       "<div>\n",
       "<style scoped>\n",
       "    .dataframe tbody tr th:only-of-type {\n",
       "        vertical-align: middle;\n",
       "    }\n",
       "\n",
       "    .dataframe tbody tr th {\n",
       "        vertical-align: top;\n",
       "    }\n",
       "\n",
       "    .dataframe thead th {\n",
       "        text-align: right;\n",
       "    }\n",
       "</style>\n",
       "<table border=\"1\" class=\"dataframe\">\n",
       "  <thead>\n",
       "    <tr style=\"text-align: right;\">\n",
       "      <th></th>\n",
       "      <th>participant_id</th>\n",
       "      <th>1_chloro_2_propyl_phosphate</th>\n",
       "      <th>1ch_2pro_comment</th>\n",
       "      <th>bis_1_chloroethyl_phosphate</th>\n",
       "      <th>bis_1_chlo_phos_comment</th>\n",
       "      <th>1_3_dichloro_2_propyl_phosphate</th>\n",
       "      <th>1_3_di_2_pro_comment</th>\n",
       "      <th>dibutyl_phosphate</th>\n",
       "      <th>dibutyl_phos_comment</th>\n",
       "      <th>diphenyl_phosphate</th>\n",
       "      <th>diphe_phos_comment</th>\n",
       "      <th>2_3_4_5_tetrabromobenzoic_acid</th>\n",
       "      <th>2_3_4_5_tet_comment</th>\n",
       "    </tr>\n",
       "  </thead>\n",
       "  <tbody>\n",
       "    <tr>\n",
       "      <th>0</th>\n",
       "      <td>109271.0</td>\n",
       "      <td>0.0707</td>\n",
       "      <td>1.0</td>\n",
       "      <td>0.0707</td>\n",
       "      <td>1.0</td>\n",
       "      <td>0.1370</td>\n",
       "      <td>0.0</td>\n",
       "      <td>0.0707</td>\n",
       "      <td>1.0</td>\n",
       "      <td>0.886</td>\n",
       "      <td>0.0</td>\n",
       "      <td>0.0354</td>\n",
       "      <td>1.0</td>\n",
       "    </tr>\n",
       "    <tr>\n",
       "      <th>1</th>\n",
       "      <td>109277.0</td>\n",
       "      <td>0.7090</td>\n",
       "      <td>0.0</td>\n",
       "      <td>0.0707</td>\n",
       "      <td>1.0</td>\n",
       "      <td>1.1500</td>\n",
       "      <td>0.0</td>\n",
       "      <td>0.1380</td>\n",
       "      <td>0.0</td>\n",
       "      <td>1.300</td>\n",
       "      <td>0.0</td>\n",
       "      <td>0.0354</td>\n",
       "      <td>1.0</td>\n",
       "    </tr>\n",
       "    <tr>\n",
       "      <th>2</th>\n",
       "      <td>109282.0</td>\n",
       "      <td>NaN</td>\n",
       "      <td>NaN</td>\n",
       "      <td>4.2300</td>\n",
       "      <td>0.0</td>\n",
       "      <td>3.6600</td>\n",
       "      <td>0.0</td>\n",
       "      <td>0.5010</td>\n",
       "      <td>0.0</td>\n",
       "      <td>2.050</td>\n",
       "      <td>0.0</td>\n",
       "      <td>0.0354</td>\n",
       "      <td>1.0</td>\n",
       "    </tr>\n",
       "    <tr>\n",
       "      <th>3</th>\n",
       "      <td>109285.0</td>\n",
       "      <td>0.0707</td>\n",
       "      <td>1.0</td>\n",
       "      <td>4.4200</td>\n",
       "      <td>0.0</td>\n",
       "      <td>2.2700</td>\n",
       "      <td>0.0</td>\n",
       "      <td>0.0707</td>\n",
       "      <td>1.0</td>\n",
       "      <td>10.300</td>\n",
       "      <td>0.0</td>\n",
       "      <td>0.0620</td>\n",
       "      <td>0.0</td>\n",
       "    </tr>\n",
       "    <tr>\n",
       "      <th>4</th>\n",
       "      <td>109288.0</td>\n",
       "      <td>0.3470</td>\n",
       "      <td>0.0</td>\n",
       "      <td>0.1450</td>\n",
       "      <td>0.0</td>\n",
       "      <td>0.8590</td>\n",
       "      <td>0.0</td>\n",
       "      <td>0.0707</td>\n",
       "      <td>1.0</td>\n",
       "      <td>1.290</td>\n",
       "      <td>0.0</td>\n",
       "      <td>0.0354</td>\n",
       "      <td>1.0</td>\n",
       "    </tr>\n",
       "    <tr>\n",
       "      <th>5</th>\n",
       "      <td>109301.0</td>\n",
       "      <td>0.1160</td>\n",
       "      <td>0.0</td>\n",
       "      <td>0.0707</td>\n",
       "      <td>1.0</td>\n",
       "      <td>5.1800</td>\n",
       "      <td>0.0</td>\n",
       "      <td>0.4500</td>\n",
       "      <td>0.0</td>\n",
       "      <td>0.701</td>\n",
       "      <td>0.0</td>\n",
       "      <td>0.0354</td>\n",
       "      <td>1.0</td>\n",
       "    </tr>\n",
       "    <tr>\n",
       "      <th>6</th>\n",
       "      <td>109302.0</td>\n",
       "      <td>0.0707</td>\n",
       "      <td>1.0</td>\n",
       "      <td>0.0707</td>\n",
       "      <td>1.0</td>\n",
       "      <td>4.8100</td>\n",
       "      <td>0.0</td>\n",
       "      <td>0.1710</td>\n",
       "      <td>0.0</td>\n",
       "      <td>0.732</td>\n",
       "      <td>0.0</td>\n",
       "      <td>0.0354</td>\n",
       "      <td>1.0</td>\n",
       "    </tr>\n",
       "    <tr>\n",
       "      <th>7</th>\n",
       "      <td>109303.0</td>\n",
       "      <td>0.0707</td>\n",
       "      <td>1.0</td>\n",
       "      <td>0.3660</td>\n",
       "      <td>0.0</td>\n",
       "      <td>0.0707</td>\n",
       "      <td>1.0</td>\n",
       "      <td>0.0707</td>\n",
       "      <td>1.0</td>\n",
       "      <td>0.162</td>\n",
       "      <td>0.0</td>\n",
       "      <td>0.0354</td>\n",
       "      <td>1.0</td>\n",
       "    </tr>\n",
       "    <tr>\n",
       "      <th>8</th>\n",
       "      <td>109304.0</td>\n",
       "      <td>0.1740</td>\n",
       "      <td>0.0</td>\n",
       "      <td>0.3860</td>\n",
       "      <td>0.0</td>\n",
       "      <td>2.6800</td>\n",
       "      <td>0.0</td>\n",
       "      <td>0.1400</td>\n",
       "      <td>0.0</td>\n",
       "      <td>1.280</td>\n",
       "      <td>0.0</td>\n",
       "      <td>0.0354</td>\n",
       "      <td>1.0</td>\n",
       "    </tr>\n",
       "    <tr>\n",
       "      <th>9</th>\n",
       "      <td>109307.0</td>\n",
       "      <td>0.0707</td>\n",
       "      <td>1.0</td>\n",
       "      <td>0.0707</td>\n",
       "      <td>1.0</td>\n",
       "      <td>0.9030</td>\n",
       "      <td>0.0</td>\n",
       "      <td>0.0707</td>\n",
       "      <td>1.0</td>\n",
       "      <td>1.550</td>\n",
       "      <td>0.0</td>\n",
       "      <td>0.1210</td>\n",
       "      <td>0.0</td>\n",
       "    </tr>\n",
       "  </tbody>\n",
       "</table>\n",
       "</div>"
      ],
      "text/plain": [
       "   participant_id  1_chloro_2_propyl_phosphate  1ch_2pro_comment  \\\n",
       "0        109271.0                       0.0707               1.0   \n",
       "1        109277.0                       0.7090               0.0   \n",
       "2        109282.0                          NaN               NaN   \n",
       "3        109285.0                       0.0707               1.0   \n",
       "4        109288.0                       0.3470               0.0   \n",
       "5        109301.0                       0.1160               0.0   \n",
       "6        109302.0                       0.0707               1.0   \n",
       "7        109303.0                       0.0707               1.0   \n",
       "8        109304.0                       0.1740               0.0   \n",
       "9        109307.0                       0.0707               1.0   \n",
       "\n",
       "   bis_1_chloroethyl_phosphate  bis_1_chlo_phos_comment  \\\n",
       "0                       0.0707                      1.0   \n",
       "1                       0.0707                      1.0   \n",
       "2                       4.2300                      0.0   \n",
       "3                       4.4200                      0.0   \n",
       "4                       0.1450                      0.0   \n",
       "5                       0.0707                      1.0   \n",
       "6                       0.0707                      1.0   \n",
       "7                       0.3660                      0.0   \n",
       "8                       0.3860                      0.0   \n",
       "9                       0.0707                      1.0   \n",
       "\n",
       "   1_3_dichloro_2_propyl_phosphate  1_3_di_2_pro_comment  dibutyl_phosphate  \\\n",
       "0                           0.1370                   0.0             0.0707   \n",
       "1                           1.1500                   0.0             0.1380   \n",
       "2                           3.6600                   0.0             0.5010   \n",
       "3                           2.2700                   0.0             0.0707   \n",
       "4                           0.8590                   0.0             0.0707   \n",
       "5                           5.1800                   0.0             0.4500   \n",
       "6                           4.8100                   0.0             0.1710   \n",
       "7                           0.0707                   1.0             0.0707   \n",
       "8                           2.6800                   0.0             0.1400   \n",
       "9                           0.9030                   0.0             0.0707   \n",
       "\n",
       "   dibutyl_phos_comment  diphenyl_phosphate  diphe_phos_comment  \\\n",
       "0                   1.0               0.886                 0.0   \n",
       "1                   0.0               1.300                 0.0   \n",
       "2                   0.0               2.050                 0.0   \n",
       "3                   1.0              10.300                 0.0   \n",
       "4                   1.0               1.290                 0.0   \n",
       "5                   0.0               0.701                 0.0   \n",
       "6                   0.0               0.732                 0.0   \n",
       "7                   1.0               0.162                 0.0   \n",
       "8                   0.0               1.280                 0.0   \n",
       "9                   1.0               1.550                 0.0   \n",
       "\n",
       "   2_3_4_5_tetrabromobenzoic_acid  2_3_4_5_tet_comment  \n",
       "0                          0.0354                  1.0  \n",
       "1                          0.0354                  1.0  \n",
       "2                          0.0354                  1.0  \n",
       "3                          0.0620                  0.0  \n",
       "4                          0.0354                  1.0  \n",
       "5                          0.0354                  1.0  \n",
       "6                          0.0354                  1.0  \n",
       "7                          0.0354                  1.0  \n",
       "8                          0.0354                  1.0  \n",
       "9                          0.1210                  0.0  "
      ]
     },
     "execution_count": 77,
     "metadata": {},
     "output_type": "execute_result"
    }
   ],
   "source": [
    "df4_cleaned.head(10)"
   ]
  },
  {
   "cell_type": "code",
   "execution_count": 78,
   "id": "e6db79f4-38ca-4875-a89d-502f0eca60b9",
   "metadata": {},
   "outputs": [],
   "source": [
    "file_path = '2017-2020/urine/6.P_SSFR.xpt'\n",
    "\n",
    "df5, meta = pyreadstat.read_xport(file_path)\n",
    "df5 = standardize_id_column(df5)"
   ]
  },
  {
   "cell_type": "code",
   "execution_count": 79,
   "id": "f8dd6816-aa83-4b92-bc7f-73116f32bcfa",
   "metadata": {},
   "outputs": [
    {
     "name": "stdout",
     "output_type": "stream",
     "text": [
      "<class 'pandas.core.frame.DataFrame'>\n",
      "RangeIndex: 4929 entries, 0 to 4928\n",
      "Data columns (total 6 columns):\n",
      " #   Column          Non-Null Count  Dtype  \n",
      "---  ------          --------------  -----  \n",
      " 0   participant_id  4929 non-null   float64\n",
      " 1   WTSSBPP         4929 non-null   float64\n",
      " 2   SSIPPP          3913 non-null   float64\n",
      " 3   SSIPPPL         3913 non-null   float64\n",
      " 4   SSBPPP          3923 non-null   float64\n",
      " 5   SSBPPPL         3923 non-null   float64\n",
      "dtypes: float64(6)\n",
      "memory usage: 231.2 KB\n"
     ]
    }
   ],
   "source": [
    "df5.info()"
   ]
  },
  {
   "cell_type": "code",
   "execution_count": 80,
   "id": "0058c08d-5f63-4064-be80-7231389dc985",
   "metadata": {},
   "outputs": [
    {
     "data": {
      "text/plain": [
       "participant_id       0\n",
       "WTSSBPP              0\n",
       "SSIPPP            1016\n",
       "SSIPPPL           1016\n",
       "SSBPPP            1006\n",
       "SSBPPPL           1006\n",
       "dtype: int64"
      ]
     },
     "execution_count": 80,
     "metadata": {},
     "output_type": "execute_result"
    }
   ],
   "source": [
    "df5.isnull().sum()"
   ]
  },
  {
   "cell_type": "code",
   "execution_count": 81,
   "id": "4ae8c206-4960-4fe5-a28d-ffac8a303e01",
   "metadata": {},
   "outputs": [],
   "source": [
    "df5 = df5.drop('WTSSBPP', axis=1)"
   ]
  },
  {
   "cell_type": "code",
   "execution_count": 82,
   "id": "dc016d0f-0cfb-4e98-a7e8-761c515a8f7d",
   "metadata": {},
   "outputs": [],
   "source": [
    "df5 = df5.rename(columns={\n",
    "    'SSIPPP' : '2_isopropylphenyl_phenyl_phosphate',\n",
    "    'SSIPPPL' : '2_isopropylphenyl_phenyl_phosphate_comment',\n",
    "    'SSBPPP' : '4_tert_butylphenyl_phenyl_phosphate',\n",
    "    'SSBPPPL' : '4_tert_butylphenyl_phenyl_phosphate_comment'\n",
    "})\n"
   ]
  },
  {
   "cell_type": "code",
   "execution_count": 83,
   "id": "034ee256-f993-4930-a546-d8089ab8e044",
   "metadata": {},
   "outputs": [
    {
     "name": "stdout",
     "output_type": "stream",
     "text": [
      "Number of NaNs in 2_isopropylphenyl_phenyl_phosphate: 1016\n",
      "Number of NaNs in 4_tert_butylphenyl_phenyl_phosphate: 1006\n",
      "Number of IDs with NaNs in both columns: 1006\n"
     ]
    }
   ],
   "source": [
    "common_nan = get_common_nan_ids(df5, '2_isopropylphenyl_phenyl_phosphate', '4_tert_butylphenyl_phenyl_phosphate', id_col='participant_id')"
   ]
  },
  {
   "cell_type": "code",
   "execution_count": 84,
   "id": "0cbd147d-303d-42d9-940a-14ae5b952bbe",
   "metadata": {},
   "outputs": [
    {
     "name": "stdout",
     "output_type": "stream",
     "text": [
      "Rows dropped where both 2_isopropylphenyl_phenyl_phosphate and 4_tert_butylphenyl_phenyl_phosphate were NaN: 1006\n"
     ]
    }
   ],
   "source": [
    "df5_cleaned = drop_rows_with_common_nan_ids(df5, '2_isopropylphenyl_phenyl_phosphate', '4_tert_butylphenyl_phenyl_phosphate', id_col='participant_id')"
   ]
  },
  {
   "cell_type": "markdown",
   "id": "ac9006b9-f3fd-4f61-b2af-7dd96081107b",
   "metadata": {},
   "source": [
    "##### Iodine\n",
    "\n",
    "Iodine is a trace element commonly found in foods and iodized salt, playing a critical role in thyroid function. The thyroid gland is essential for regulating metabolism and is particularly important for fetal and infant development [6].\n",
    "\n",
    "Approximately 90% of ingested iodine is excreted in the urine. While urinary iodine concentration is not considered a reliable indicator of iodine status at the individual level, it can be used for assessing iodine sufficiency across populations [7]."
   ]
  },
  {
   "cell_type": "code",
   "execution_count": 85,
   "id": "245e28b9-2f5d-4d5d-b75a-6e7cd099c802",
   "metadata": {},
   "outputs": [],
   "source": [
    "file_path = '2017-2020/urine/7.P_UIO.xpt'\n",
    "\n",
    "df6, meta = pyreadstat.read_xport(file_path)\n",
    "df6 = standardize_id_column(df6)"
   ]
  },
  {
   "cell_type": "code",
   "execution_count": 86,
   "id": "d1c525d3-2919-4e46-848c-81d30358bdfb",
   "metadata": {},
   "outputs": [
    {
     "name": "stdout",
     "output_type": "stream",
     "text": [
      "<class 'pandas.core.frame.DataFrame'>\n",
      "RangeIndex: 4890 entries, 0 to 4889\n",
      "Data columns (total 4 columns):\n",
      " #   Column          Non-Null Count  Dtype  \n",
      "---  ------          --------------  -----  \n",
      " 0   participant_id  4890 non-null   float64\n",
      " 1   WTSAPRP         4890 non-null   float64\n",
      " 2   URXUIO          4600 non-null   float64\n",
      " 3   URDUIOLC        4600 non-null   float64\n",
      "dtypes: float64(4)\n",
      "memory usage: 152.9 KB\n"
     ]
    }
   ],
   "source": [
    "df6.info()"
   ]
  },
  {
   "cell_type": "code",
   "execution_count": 87,
   "id": "87532674-a3e5-4ed0-96f5-8688fb7036c5",
   "metadata": {},
   "outputs": [],
   "source": [
    "df6 = df6.drop('WTSAPRP', axis = 1)"
   ]
  },
  {
   "cell_type": "code",
   "execution_count": 88,
   "id": "38e7e02b-7700-4dec-ab67-518c25abfa1f",
   "metadata": {},
   "outputs": [],
   "source": [
    "df6 = df6.rename(columns={\n",
    "    'URXUIO' : 'urine_iodine',\n",
    "    'URDUIOLC' : 'urine_iodine_comment'\n",
    "})"
   ]
  },
  {
   "cell_type": "code",
   "execution_count": 89,
   "id": "79cee15b-9763-4967-991f-c9b2870c3372",
   "metadata": {},
   "outputs": [
    {
     "data": {
      "text/plain": [
       "participant_id            0\n",
       "urine_iodine            290\n",
       "urine_iodine_comment    290\n",
       "dtype: int64"
      ]
     },
     "execution_count": 89,
     "metadata": {},
     "output_type": "execute_result"
    }
   ],
   "source": [
    "df6.isna().sum()"
   ]
  },
  {
   "cell_type": "code",
   "execution_count": 90,
   "id": "3041c231-04e6-4aa7-a43b-361155ad5244",
   "metadata": {},
   "outputs": [],
   "source": [
    "df6_clean = df6.dropna(subset = ['urine_iodine'])"
   ]
  },
  {
   "cell_type": "markdown",
   "id": "916b4812-c49d-4d17-8f8e-c16b3ca0e3c4",
   "metadata": {},
   "source": [
    "##### Mercury\n",
    "\n",
    "Mercury is a heavy metal historically used in devices such as barometers and thermometers. At elevated levels, it is known to cause neurotoxicity, with particularly severe effects on fetal development. Environmental exposure—especially in occupational settings involving manufacturing or chemical production—is a common source of mercury-related toxicity.\n",
    "\n",
    "Urinary mercury concentration is a standard method for assessing inorganic mercury exposure. Clinical symptoms may begin to appear at concentrations around 100 µg/L, and levels exceeding 800 µg/L can be fatal [9]."
   ]
  },
  {
   "cell_type": "code",
   "execution_count": 91,
   "id": "276a5b5c-f440-4437-9226-f00fecbc5952",
   "metadata": {},
   "outputs": [],
   "source": [
    "file_path = '2017-2020/urine/8.P_UHG.xpt'\n",
    "\n",
    "df7, meta = pyreadstat.read_xport(file_path)\n",
    "df7 = standardize_id_column(df7)"
   ]
  },
  {
   "cell_type": "code",
   "execution_count": 92,
   "id": "3737b487-fced-4837-a932-c3a680ec4603",
   "metadata": {},
   "outputs": [
    {
     "data": {
      "text/html": [
       "<div>\n",
       "<style scoped>\n",
       "    .dataframe tbody tr th:only-of-type {\n",
       "        vertical-align: middle;\n",
       "    }\n",
       "\n",
       "    .dataframe tbody tr th {\n",
       "        vertical-align: top;\n",
       "    }\n",
       "\n",
       "    .dataframe thead th {\n",
       "        text-align: right;\n",
       "    }\n",
       "</style>\n",
       "<table border=\"1\" class=\"dataframe\">\n",
       "  <thead>\n",
       "    <tr style=\"text-align: right;\">\n",
       "      <th></th>\n",
       "      <th>participant_id</th>\n",
       "      <th>WTSAPRP</th>\n",
       "      <th>URXUHG</th>\n",
       "      <th>URDUHGLC</th>\n",
       "    </tr>\n",
       "  </thead>\n",
       "  <tbody>\n",
       "    <tr>\n",
       "      <th>0</th>\n",
       "      <td>109266.0</td>\n",
       "      <td>28660.015986</td>\n",
       "      <td>0.09</td>\n",
       "      <td>1.0</td>\n",
       "    </tr>\n",
       "    <tr>\n",
       "      <th>1</th>\n",
       "      <td>109270.0</td>\n",
       "      <td>17900.682903</td>\n",
       "      <td>0.09</td>\n",
       "      <td>1.0</td>\n",
       "    </tr>\n",
       "    <tr>\n",
       "      <th>2</th>\n",
       "      <td>109273.0</td>\n",
       "      <td>80106.859617</td>\n",
       "      <td>0.09</td>\n",
       "      <td>1.0</td>\n",
       "    </tr>\n",
       "    <tr>\n",
       "      <th>3</th>\n",
       "      <td>109274.0</td>\n",
       "      <td>24512.276280</td>\n",
       "      <td>0.09</td>\n",
       "      <td>1.0</td>\n",
       "    </tr>\n",
       "    <tr>\n",
       "      <th>4</th>\n",
       "      <td>109287.0</td>\n",
       "      <td>25828.523003</td>\n",
       "      <td>0.09</td>\n",
       "      <td>1.0</td>\n",
       "    </tr>\n",
       "    <tr>\n",
       "      <th>5</th>\n",
       "      <td>109288.0</td>\n",
       "      <td>8535.018174</td>\n",
       "      <td>0.09</td>\n",
       "      <td>1.0</td>\n",
       "    </tr>\n",
       "    <tr>\n",
       "      <th>6</th>\n",
       "      <td>109290.0</td>\n",
       "      <td>12410.268374</td>\n",
       "      <td>1.27</td>\n",
       "      <td>0.0</td>\n",
       "    </tr>\n",
       "    <tr>\n",
       "      <th>7</th>\n",
       "      <td>109295.0</td>\n",
       "      <td>28235.246814</td>\n",
       "      <td>0.09</td>\n",
       "      <td>1.0</td>\n",
       "    </tr>\n",
       "    <tr>\n",
       "      <th>8</th>\n",
       "      <td>109300.0</td>\n",
       "      <td>66737.887353</td>\n",
       "      <td>0.09</td>\n",
       "      <td>1.0</td>\n",
       "    </tr>\n",
       "    <tr>\n",
       "      <th>9</th>\n",
       "      <td>109309.0</td>\n",
       "      <td>33019.729726</td>\n",
       "      <td>0.09</td>\n",
       "      <td>1.0</td>\n",
       "    </tr>\n",
       "  </tbody>\n",
       "</table>\n",
       "</div>"
      ],
      "text/plain": [
       "   participant_id       WTSAPRP  URXUHG  URDUHGLC\n",
       "0        109266.0  28660.015986    0.09       1.0\n",
       "1        109270.0  17900.682903    0.09       1.0\n",
       "2        109273.0  80106.859617    0.09       1.0\n",
       "3        109274.0  24512.276280    0.09       1.0\n",
       "4        109287.0  25828.523003    0.09       1.0\n",
       "5        109288.0   8535.018174    0.09       1.0\n",
       "6        109290.0  12410.268374    1.27       0.0\n",
       "7        109295.0  28235.246814    0.09       1.0\n",
       "8        109300.0  66737.887353    0.09       1.0\n",
       "9        109309.0  33019.729726    0.09       1.0"
      ]
     },
     "execution_count": 92,
     "metadata": {},
     "output_type": "execute_result"
    }
   ],
   "source": [
    "df7.head(10)"
   ]
  },
  {
   "cell_type": "code",
   "execution_count": 93,
   "id": "d9a858d2-da0f-4edd-acca-99d26aab0c55",
   "metadata": {},
   "outputs": [
    {
     "name": "stdout",
     "output_type": "stream",
     "text": [
      "<class 'pandas.core.frame.DataFrame'>\n",
      "RangeIndex: 4890 entries, 0 to 4889\n",
      "Data columns (total 4 columns):\n",
      " #   Column          Non-Null Count  Dtype  \n",
      "---  ------          --------------  -----  \n",
      " 0   participant_id  4890 non-null   float64\n",
      " 1   WTSAPRP         4890 non-null   float64\n",
      " 2   URXUHG          4600 non-null   float64\n",
      " 3   URDUHGLC        4600 non-null   float64\n",
      "dtypes: float64(4)\n",
      "memory usage: 152.9 KB\n"
     ]
    }
   ],
   "source": [
    "df7.info()"
   ]
  },
  {
   "cell_type": "code",
   "execution_count": 94,
   "id": "efba472f-a551-4860-8999-afd701499716",
   "metadata": {},
   "outputs": [],
   "source": [
    "df7 = df7.drop('WTSAPRP', axis =1)"
   ]
  },
  {
   "cell_type": "code",
   "execution_count": 95,
   "id": "81b0b560-424a-4b1e-aa61-0274ffc613eb",
   "metadata": {},
   "outputs": [],
   "source": [
    "df7 = df7.rename(columns={\n",
    "    'URXUHG' : 'urine_mercury',\n",
    "    'URDUHGLC' : 'urine_mercury_comment'\n",
    "})"
   ]
  },
  {
   "cell_type": "code",
   "execution_count": 96,
   "id": "fa5eba06-546a-4330-89bc-5533cf0e4d7f",
   "metadata": {},
   "outputs": [],
   "source": [
    "df7_clean = df7.dropna(subset=['urine_mercury'])"
   ]
  },
  {
   "cell_type": "code",
   "execution_count": 97,
   "id": "ede5fbca-5b55-4f5e-a8dd-b7dc23546d49",
   "metadata": {},
   "outputs": [
    {
     "data": {
      "text/html": [
       "<div>\n",
       "<style scoped>\n",
       "    .dataframe tbody tr th:only-of-type {\n",
       "        vertical-align: middle;\n",
       "    }\n",
       "\n",
       "    .dataframe tbody tr th {\n",
       "        vertical-align: top;\n",
       "    }\n",
       "\n",
       "    .dataframe thead th {\n",
       "        text-align: right;\n",
       "    }\n",
       "</style>\n",
       "<table border=\"1\" class=\"dataframe\">\n",
       "  <thead>\n",
       "    <tr style=\"text-align: right;\">\n",
       "      <th></th>\n",
       "      <th>participant_id</th>\n",
       "      <th>urine_mercury</th>\n",
       "      <th>urine_mercury_comment</th>\n",
       "    </tr>\n",
       "  </thead>\n",
       "  <tbody>\n",
       "    <tr>\n",
       "      <th>0</th>\n",
       "      <td>109266.0</td>\n",
       "      <td>0.09</td>\n",
       "      <td>1.0</td>\n",
       "    </tr>\n",
       "    <tr>\n",
       "      <th>1</th>\n",
       "      <td>109270.0</td>\n",
       "      <td>0.09</td>\n",
       "      <td>1.0</td>\n",
       "    </tr>\n",
       "    <tr>\n",
       "      <th>2</th>\n",
       "      <td>109273.0</td>\n",
       "      <td>0.09</td>\n",
       "      <td>1.0</td>\n",
       "    </tr>\n",
       "    <tr>\n",
       "      <th>3</th>\n",
       "      <td>109274.0</td>\n",
       "      <td>0.09</td>\n",
       "      <td>1.0</td>\n",
       "    </tr>\n",
       "    <tr>\n",
       "      <th>4</th>\n",
       "      <td>109287.0</td>\n",
       "      <td>0.09</td>\n",
       "      <td>1.0</td>\n",
       "    </tr>\n",
       "  </tbody>\n",
       "</table>\n",
       "</div>"
      ],
      "text/plain": [
       "   participant_id  urine_mercury  urine_mercury_comment\n",
       "0        109266.0           0.09                    1.0\n",
       "1        109270.0           0.09                    1.0\n",
       "2        109273.0           0.09                    1.0\n",
       "3        109274.0           0.09                    1.0\n",
       "4        109287.0           0.09                    1.0"
      ]
     },
     "execution_count": 97,
     "metadata": {},
     "output_type": "execute_result"
    }
   ],
   "source": [
    "df7_clean.head(5)"
   ]
  },
  {
   "cell_type": "markdown",
   "id": "ca26f7ff-a22c-492e-8e72-458a455432c7",
   "metadata": {},
   "source": [
    "##### Metals\n",
    "\n",
    "There are other types of metals that can be found in urine. From this dataset from NHANES, the metals tested are: barium, cadmium, cobalt, cesium, molybdenum, manganese, lead, antiomny, tin, thallium, and tungsten. \n",
    "\n",
    "Barium, if consumed in high concentrations, it can cause cardiac arrhythmias or paralysis [8]\n",
    "\n",
    "Cadmium is a known carcinogen which is excreted primarily by the renal system. Cadminum can lead to various health conditions throughout the body including kidney and liver dysfunctions. [10]\n",
    "\n",
    "\n"
   ]
  },
  {
   "cell_type": "code",
   "execution_count": 98,
   "id": "6b608800-f78c-4e5d-a1f2-4900123699f8",
   "metadata": {},
   "outputs": [],
   "source": [
    "file_path = '2017-2020/urine/9.P_UM.xpt'\n",
    "\n",
    "df8, meta = pyreadstat.read_xport(file_path)\n",
    "df8 = standardize_id_column(df8)"
   ]
  },
  {
   "cell_type": "code",
   "execution_count": 99,
   "id": "e7ccb6c6-4f26-4644-abbf-47b7151061da",
   "metadata": {},
   "outputs": [
    {
     "data": {
      "text/plain": [
       "['participant_id',\n",
       " 'WTSAPRP',\n",
       " 'URXUBA',\n",
       " 'URDUBALC',\n",
       " 'URXUCD',\n",
       " 'URDUCDLC',\n",
       " 'URXUCO',\n",
       " 'URDUCOLC',\n",
       " 'URXUCS',\n",
       " 'URDUCSLC',\n",
       " 'URXUMO',\n",
       " 'URDUMOLC',\n",
       " 'URXUMN',\n",
       " 'URDUMNLC',\n",
       " 'URXUPB',\n",
       " 'URDUPBLC',\n",
       " 'URXUSB',\n",
       " 'URDUSBLC',\n",
       " 'URXUSN',\n",
       " 'URDUSNLC',\n",
       " 'URXUTL',\n",
       " 'URDUTLLC',\n",
       " 'URXUTU',\n",
       " 'URDUTULC']"
      ]
     },
     "execution_count": 99,
     "metadata": {},
     "output_type": "execute_result"
    }
   ],
   "source": [
    "df8.columns.to_list()"
   ]
  },
  {
   "cell_type": "code",
   "execution_count": 100,
   "id": "9b79e6e2-53c2-4bdd-a5dc-d4e652e15e2f",
   "metadata": {},
   "outputs": [],
   "source": [
    "df8 = df8.rename(columns = {\n",
    "    'URXUBA': 'urine_barium',\n",
    "    'URDUBALC': 'barium_comment',\n",
    "    'URXUCD': 'urine_cadmium',\n",
    "    'URDUCDLC': 'cadmium_comment',\n",
    "    'URXUCO': 'urine_cobalt',\n",
    "    'URDUCOLC': 'cobalt_comment',\n",
    "     'URXUCS': 'urine_cesium',\n",
    "     'URDUCSLC': 'cesium_comment',\n",
    "     'URXUMO': 'urine_molybdenum',\n",
    "     'URDUMOLC': 'molybdenum_comment',\n",
    "     'URXUMN': 'urine_manganese',\n",
    "     'URDUMNLC':'manganese_comment',\n",
    "     'URXUPB':'urine_lead',\n",
    "     'URDUPBLC':'lead_comment',\n",
    "     'URXUSB':'urine_antimony',\n",
    "     'URDUSBLC':'antimony_comment',\n",
    "     'URXUSN':'urine_tin',\n",
    "     'URDUSNLC':'tin_comment',\n",
    "     'URXUTL':'urine_thallium',\n",
    "     'URDUTLLC':'thallium_comment',\n",
    "     'URXUTU':'urine_tungsten',\n",
    "     'URDUTULC':'tungsten_comment'\n",
    "})"
   ]
  },
  {
   "cell_type": "code",
   "execution_count": 101,
   "id": "f9f02bdf-b376-4db1-a3c8-34ebca0d8518",
   "metadata": {},
   "outputs": [],
   "source": [
    "df8 = df8.drop('WTSAPRP', axis = 1)"
   ]
  },
  {
   "cell_type": "code",
   "execution_count": 102,
   "id": "56f41406-4f27-4db3-b5d0-f1a59ed6ed5c",
   "metadata": {},
   "outputs": [
    {
     "data": {
      "text/html": [
       "<div>\n",
       "<style scoped>\n",
       "    .dataframe tbody tr th:only-of-type {\n",
       "        vertical-align: middle;\n",
       "    }\n",
       "\n",
       "    .dataframe tbody tr th {\n",
       "        vertical-align: top;\n",
       "    }\n",
       "\n",
       "    .dataframe thead th {\n",
       "        text-align: right;\n",
       "    }\n",
       "</style>\n",
       "<table border=\"1\" class=\"dataframe\">\n",
       "  <thead>\n",
       "    <tr style=\"text-align: right;\">\n",
       "      <th></th>\n",
       "      <th>participant_id</th>\n",
       "      <th>urine_barium</th>\n",
       "      <th>barium_comment</th>\n",
       "      <th>urine_cadmium</th>\n",
       "      <th>cadmium_comment</th>\n",
       "      <th>urine_cobalt</th>\n",
       "      <th>cobalt_comment</th>\n",
       "      <th>urine_cesium</th>\n",
       "      <th>cesium_comment</th>\n",
       "      <th>urine_molybdenum</th>\n",
       "      <th>...</th>\n",
       "      <th>urine_lead</th>\n",
       "      <th>lead_comment</th>\n",
       "      <th>urine_antimony</th>\n",
       "      <th>antimony_comment</th>\n",
       "      <th>urine_tin</th>\n",
       "      <th>tin_comment</th>\n",
       "      <th>urine_thallium</th>\n",
       "      <th>thallium_comment</th>\n",
       "      <th>urine_tungsten</th>\n",
       "      <th>tungsten_comment</th>\n",
       "    </tr>\n",
       "  </thead>\n",
       "  <tbody>\n",
       "    <tr>\n",
       "      <th>0</th>\n",
       "      <td>109266.0</td>\n",
       "      <td>0.359</td>\n",
       "      <td>0.0</td>\n",
       "      <td>0.039</td>\n",
       "      <td>1.0</td>\n",
       "      <td>0.214</td>\n",
       "      <td>0.0</td>\n",
       "      <td>2.160</td>\n",
       "      <td>0.0</td>\n",
       "      <td>8.00</td>\n",
       "      <td>...</td>\n",
       "      <td>0.170</td>\n",
       "      <td>0.0</td>\n",
       "      <td>0.016</td>\n",
       "      <td>1.0</td>\n",
       "      <td>0.14</td>\n",
       "      <td>1.0</td>\n",
       "      <td>0.064</td>\n",
       "      <td>0.0</td>\n",
       "      <td>0.013</td>\n",
       "      <td>1.0</td>\n",
       "    </tr>\n",
       "    <tr>\n",
       "      <th>1</th>\n",
       "      <td>109270.0</td>\n",
       "      <td>2.422</td>\n",
       "      <td>0.0</td>\n",
       "      <td>0.868</td>\n",
       "      <td>0.0</td>\n",
       "      <td>0.449</td>\n",
       "      <td>0.0</td>\n",
       "      <td>9.640</td>\n",
       "      <td>0.0</td>\n",
       "      <td>78.66</td>\n",
       "      <td>...</td>\n",
       "      <td>0.532</td>\n",
       "      <td>0.0</td>\n",
       "      <td>0.046</td>\n",
       "      <td>0.0</td>\n",
       "      <td>2.35</td>\n",
       "      <td>0.0</td>\n",
       "      <td>0.354</td>\n",
       "      <td>0.0</td>\n",
       "      <td>0.271</td>\n",
       "      <td>0.0</td>\n",
       "    </tr>\n",
       "    <tr>\n",
       "      <th>2</th>\n",
       "      <td>109273.0</td>\n",
       "      <td>0.370</td>\n",
       "      <td>0.0</td>\n",
       "      <td>0.213</td>\n",
       "      <td>0.0</td>\n",
       "      <td>0.274</td>\n",
       "      <td>0.0</td>\n",
       "      <td>2.330</td>\n",
       "      <td>0.0</td>\n",
       "      <td>33.09</td>\n",
       "      <td>...</td>\n",
       "      <td>0.280</td>\n",
       "      <td>0.0</td>\n",
       "      <td>0.082</td>\n",
       "      <td>0.0</td>\n",
       "      <td>0.14</td>\n",
       "      <td>1.0</td>\n",
       "      <td>0.078</td>\n",
       "      <td>0.0</td>\n",
       "      <td>0.036</td>\n",
       "      <td>0.0</td>\n",
       "    </tr>\n",
       "    <tr>\n",
       "      <th>3</th>\n",
       "      <td>109274.0</td>\n",
       "      <td>1.720</td>\n",
       "      <td>0.0</td>\n",
       "      <td>0.184</td>\n",
       "      <td>0.0</td>\n",
       "      <td>0.482</td>\n",
       "      <td>0.0</td>\n",
       "      <td>2.803</td>\n",
       "      <td>0.0</td>\n",
       "      <td>74.82</td>\n",
       "      <td>...</td>\n",
       "      <td>0.300</td>\n",
       "      <td>0.0</td>\n",
       "      <td>0.053</td>\n",
       "      <td>0.0</td>\n",
       "      <td>4.09</td>\n",
       "      <td>0.0</td>\n",
       "      <td>0.159</td>\n",
       "      <td>0.0</td>\n",
       "      <td>0.099</td>\n",
       "      <td>0.0</td>\n",
       "    </tr>\n",
       "    <tr>\n",
       "      <th>4</th>\n",
       "      <td>109287.0</td>\n",
       "      <td>7.531</td>\n",
       "      <td>0.0</td>\n",
       "      <td>0.215</td>\n",
       "      <td>0.0</td>\n",
       "      <td>0.303</td>\n",
       "      <td>0.0</td>\n",
       "      <td>2.850</td>\n",
       "      <td>0.0</td>\n",
       "      <td>142.88</td>\n",
       "      <td>...</td>\n",
       "      <td>0.244</td>\n",
       "      <td>0.0</td>\n",
       "      <td>0.092</td>\n",
       "      <td>0.0</td>\n",
       "      <td>3.91</td>\n",
       "      <td>0.0</td>\n",
       "      <td>0.161</td>\n",
       "      <td>0.0</td>\n",
       "      <td>0.231</td>\n",
       "      <td>0.0</td>\n",
       "    </tr>\n",
       "    <tr>\n",
       "      <th>5</th>\n",
       "      <td>109288.0</td>\n",
       "      <td>0.271</td>\n",
       "      <td>0.0</td>\n",
       "      <td>0.039</td>\n",
       "      <td>1.0</td>\n",
       "      <td>0.097</td>\n",
       "      <td>0.0</td>\n",
       "      <td>5.980</td>\n",
       "      <td>0.0</td>\n",
       "      <td>36.21</td>\n",
       "      <td>...</td>\n",
       "      <td>NaN</td>\n",
       "      <td>NaN</td>\n",
       "      <td>0.067</td>\n",
       "      <td>0.0</td>\n",
       "      <td>0.97</td>\n",
       "      <td>0.0</td>\n",
       "      <td>0.175</td>\n",
       "      <td>0.0</td>\n",
       "      <td>0.036</td>\n",
       "      <td>0.0</td>\n",
       "    </tr>\n",
       "    <tr>\n",
       "      <th>6</th>\n",
       "      <td>109290.0</td>\n",
       "      <td>0.720</td>\n",
       "      <td>0.0</td>\n",
       "      <td>0.631</td>\n",
       "      <td>0.0</td>\n",
       "      <td>0.379</td>\n",
       "      <td>0.0</td>\n",
       "      <td>11.910</td>\n",
       "      <td>0.0</td>\n",
       "      <td>111.07</td>\n",
       "      <td>...</td>\n",
       "      <td>0.641</td>\n",
       "      <td>0.0</td>\n",
       "      <td>0.116</td>\n",
       "      <td>0.0</td>\n",
       "      <td>1.31</td>\n",
       "      <td>0.0</td>\n",
       "      <td>0.577</td>\n",
       "      <td>0.0</td>\n",
       "      <td>0.057</td>\n",
       "      <td>0.0</td>\n",
       "    </tr>\n",
       "    <tr>\n",
       "      <th>7</th>\n",
       "      <td>109295.0</td>\n",
       "      <td>1.270</td>\n",
       "      <td>0.0</td>\n",
       "      <td>0.039</td>\n",
       "      <td>1.0</td>\n",
       "      <td>0.323</td>\n",
       "      <td>0.0</td>\n",
       "      <td>4.145</td>\n",
       "      <td>0.0</td>\n",
       "      <td>25.76</td>\n",
       "      <td>...</td>\n",
       "      <td>0.060</td>\n",
       "      <td>0.0</td>\n",
       "      <td>0.022</td>\n",
       "      <td>0.0</td>\n",
       "      <td>0.14</td>\n",
       "      <td>1.0</td>\n",
       "      <td>0.147</td>\n",
       "      <td>0.0</td>\n",
       "      <td>0.020</td>\n",
       "      <td>0.0</td>\n",
       "    </tr>\n",
       "    <tr>\n",
       "      <th>8</th>\n",
       "      <td>109300.0</td>\n",
       "      <td>0.690</td>\n",
       "      <td>0.0</td>\n",
       "      <td>0.166</td>\n",
       "      <td>0.0</td>\n",
       "      <td>0.171</td>\n",
       "      <td>0.0</td>\n",
       "      <td>2.129</td>\n",
       "      <td>0.0</td>\n",
       "      <td>15.42</td>\n",
       "      <td>...</td>\n",
       "      <td>0.130</td>\n",
       "      <td>0.0</td>\n",
       "      <td>0.016</td>\n",
       "      <td>1.0</td>\n",
       "      <td>0.14</td>\n",
       "      <td>1.0</td>\n",
       "      <td>0.063</td>\n",
       "      <td>0.0</td>\n",
       "      <td>0.013</td>\n",
       "      <td>1.0</td>\n",
       "    </tr>\n",
       "    <tr>\n",
       "      <th>9</th>\n",
       "      <td>109309.0</td>\n",
       "      <td>0.610</td>\n",
       "      <td>0.0</td>\n",
       "      <td>0.039</td>\n",
       "      <td>1.0</td>\n",
       "      <td>0.263</td>\n",
       "      <td>0.0</td>\n",
       "      <td>1.673</td>\n",
       "      <td>0.0</td>\n",
       "      <td>5.14</td>\n",
       "      <td>...</td>\n",
       "      <td>NaN</td>\n",
       "      <td>NaN</td>\n",
       "      <td>0.028</td>\n",
       "      <td>0.0</td>\n",
       "      <td>0.30</td>\n",
       "      <td>0.0</td>\n",
       "      <td>0.099</td>\n",
       "      <td>0.0</td>\n",
       "      <td>0.030</td>\n",
       "      <td>0.0</td>\n",
       "    </tr>\n",
       "  </tbody>\n",
       "</table>\n",
       "<p>10 rows × 23 columns</p>\n",
       "</div>"
      ],
      "text/plain": [
       "   participant_id  urine_barium  barium_comment  urine_cadmium  \\\n",
       "0        109266.0         0.359             0.0          0.039   \n",
       "1        109270.0         2.422             0.0          0.868   \n",
       "2        109273.0         0.370             0.0          0.213   \n",
       "3        109274.0         1.720             0.0          0.184   \n",
       "4        109287.0         7.531             0.0          0.215   \n",
       "5        109288.0         0.271             0.0          0.039   \n",
       "6        109290.0         0.720             0.0          0.631   \n",
       "7        109295.0         1.270             0.0          0.039   \n",
       "8        109300.0         0.690             0.0          0.166   \n",
       "9        109309.0         0.610             0.0          0.039   \n",
       "\n",
       "   cadmium_comment  urine_cobalt  cobalt_comment  urine_cesium  \\\n",
       "0              1.0         0.214             0.0         2.160   \n",
       "1              0.0         0.449             0.0         9.640   \n",
       "2              0.0         0.274             0.0         2.330   \n",
       "3              0.0         0.482             0.0         2.803   \n",
       "4              0.0         0.303             0.0         2.850   \n",
       "5              1.0         0.097             0.0         5.980   \n",
       "6              0.0         0.379             0.0        11.910   \n",
       "7              1.0         0.323             0.0         4.145   \n",
       "8              0.0         0.171             0.0         2.129   \n",
       "9              1.0         0.263             0.0         1.673   \n",
       "\n",
       "   cesium_comment  urine_molybdenum  ...  urine_lead  lead_comment  \\\n",
       "0             0.0              8.00  ...       0.170           0.0   \n",
       "1             0.0             78.66  ...       0.532           0.0   \n",
       "2             0.0             33.09  ...       0.280           0.0   \n",
       "3             0.0             74.82  ...       0.300           0.0   \n",
       "4             0.0            142.88  ...       0.244           0.0   \n",
       "5             0.0             36.21  ...         NaN           NaN   \n",
       "6             0.0            111.07  ...       0.641           0.0   \n",
       "7             0.0             25.76  ...       0.060           0.0   \n",
       "8             0.0             15.42  ...       0.130           0.0   \n",
       "9             0.0              5.14  ...         NaN           NaN   \n",
       "\n",
       "   urine_antimony  antimony_comment  urine_tin  tin_comment  urine_thallium  \\\n",
       "0           0.016               1.0       0.14          1.0           0.064   \n",
       "1           0.046               0.0       2.35          0.0           0.354   \n",
       "2           0.082               0.0       0.14          1.0           0.078   \n",
       "3           0.053               0.0       4.09          0.0           0.159   \n",
       "4           0.092               0.0       3.91          0.0           0.161   \n",
       "5           0.067               0.0       0.97          0.0           0.175   \n",
       "6           0.116               0.0       1.31          0.0           0.577   \n",
       "7           0.022               0.0       0.14          1.0           0.147   \n",
       "8           0.016               1.0       0.14          1.0           0.063   \n",
       "9           0.028               0.0       0.30          0.0           0.099   \n",
       "\n",
       "   thallium_comment  urine_tungsten  tungsten_comment  \n",
       "0               0.0           0.013               1.0  \n",
       "1               0.0           0.271               0.0  \n",
       "2               0.0           0.036               0.0  \n",
       "3               0.0           0.099               0.0  \n",
       "4               0.0           0.231               0.0  \n",
       "5               0.0           0.036               0.0  \n",
       "6               0.0           0.057               0.0  \n",
       "7               0.0           0.020               0.0  \n",
       "8               0.0           0.013               1.0  \n",
       "9               0.0           0.030               0.0  \n",
       "\n",
       "[10 rows x 23 columns]"
      ]
     },
     "execution_count": 102,
     "metadata": {},
     "output_type": "execute_result"
    }
   ],
   "source": [
    "df8.head(10)"
   ]
  },
  {
   "cell_type": "code",
   "execution_count": 103,
   "id": "ac5d574f-bcbe-426a-996d-6a36adf06da8",
   "metadata": {},
   "outputs": [
    {
     "data": {
      "text/plain": [
       "participant_id          0\n",
       "urine_barium          295\n",
       "barium_comment        295\n",
       "urine_cadmium         295\n",
       "cadmium_comment       295\n",
       "urine_cobalt          296\n",
       "cobalt_comment        296\n",
       "urine_cesium          295\n",
       "cesium_comment        295\n",
       "urine_molybdenum      295\n",
       "molybdenum_comment    295\n",
       "urine_manganese       295\n",
       "manganese_comment     295\n",
       "urine_lead            953\n",
       "lead_comment          953\n",
       "urine_antimony        295\n",
       "antimony_comment      295\n",
       "urine_tin             295\n",
       "tin_comment           295\n",
       "urine_thallium        295\n",
       "thallium_comment      295\n",
       "urine_tungsten        295\n",
       "tungsten_comment      295\n",
       "dtype: int64"
      ]
     },
     "execution_count": 103,
     "metadata": {},
     "output_type": "execute_result"
    }
   ],
   "source": [
    "df8.isnull().sum()"
   ]
  },
  {
   "cell_type": "markdown",
   "id": "eb293670-b8e0-4af2-ace8-856e7594a2ed",
   "metadata": {},
   "source": [
    "As done prior, the plan is to delete rows that are missing most, if not all, of these values. "
   ]
  },
  {
   "cell_type": "code",
   "execution_count": 104,
   "id": "789ee5fb-a3ad-494f-833f-027d503bed91",
   "metadata": {},
   "outputs": [
    {
     "data": {
      "text/plain": [
       "['participant_id',\n",
       " 'urine_barium',\n",
       " 'barium_comment',\n",
       " 'urine_cadmium',\n",
       " 'cadmium_comment',\n",
       " 'urine_cobalt',\n",
       " 'cobalt_comment',\n",
       " 'urine_cesium',\n",
       " 'cesium_comment',\n",
       " 'urine_molybdenum',\n",
       " 'molybdenum_comment',\n",
       " 'urine_manganese',\n",
       " 'manganese_comment',\n",
       " 'urine_lead',\n",
       " 'lead_comment',\n",
       " 'urine_antimony',\n",
       " 'antimony_comment',\n",
       " 'urine_tin',\n",
       " 'tin_comment',\n",
       " 'urine_thallium',\n",
       " 'thallium_comment',\n",
       " 'urine_tungsten',\n",
       " 'tungsten_comment']"
      ]
     },
     "execution_count": 104,
     "metadata": {},
     "output_type": "execute_result"
    }
   ],
   "source": [
    "df8.columns.to_list()"
   ]
  },
  {
   "cell_type": "code",
   "execution_count": 105,
   "id": "ea4225d7-ba25-4abf-bf70-b3a10a9f8e3f",
   "metadata": {},
   "outputs": [
    {
     "name": "stdout",
     "output_type": "stream",
     "text": [
      "Number of rows missing all metal values: 295\n"
     ]
    }
   ],
   "source": [
    "value_cols = [col for col in df8.columns if col != 'participant_id']\n",
    "rows_all_nan = df8[value_cols].isna().all(axis=1)\n",
    "print(f\"Number of rows missing all metal values: {rows_all_nan.sum()}\")"
   ]
  },
  {
   "cell_type": "code",
   "execution_count": 106,
   "id": "3c32509c-b1e3-4672-bf69-54d8336db50d",
   "metadata": {},
   "outputs": [
    {
     "name": "stdout",
     "output_type": "stream",
     "text": [
      "Number of rows dropped: 295\n"
     ]
    }
   ],
   "source": [
    "# Drop rows where all value columns are NaN (excluding participant_id)\n",
    "df8_cleaned = df8[~rows_all_nan].copy()\n",
    "\n",
    "print(f\"Number of rows dropped: {rows_all_nan.sum()}\")"
   ]
  },
  {
   "cell_type": "markdown",
   "id": "0b313ff7-175b-476e-8598-509b49e0799a",
   "metadata": {},
   "source": [
    "##### Nickel\n",
    "\n",
    "Nickel is another heavy metal that can potentially cause health risks if exposed at high levels. The most common reaction to nickel is contact dermatitis; however, inhalation and ingestion is also a possibility. When assessing urine samples, greater than 10 mg/dL in nickel concentration may indicate excessive exposure and calls for thorough evaluation [11]."
   ]
  },
  {
   "cell_type": "code",
   "execution_count": 107,
   "id": "c1874d4a-f3e3-49f0-a7c8-4212deff7b34",
   "metadata": {},
   "outputs": [],
   "source": [
    "file_path = '2017-2020/urine/10.P_UNI.xpt'\n",
    "\n",
    "df9, meta = pyreadstat.read_xport(file_path)\n",
    "df9 = standardize_id_column(df9)"
   ]
  },
  {
   "cell_type": "code",
   "execution_count": 108,
   "id": "c677959d-d685-422f-a9f0-80c11bc2acf3",
   "metadata": {},
   "outputs": [
    {
     "data": {
      "text/plain": [
       "['participant_id', 'WTSAPRP', 'URXUNI', 'URDUNILC']"
      ]
     },
     "execution_count": 108,
     "metadata": {},
     "output_type": "execute_result"
    }
   ],
   "source": [
    "df9.columns.to_list()"
   ]
  },
  {
   "cell_type": "code",
   "execution_count": 109,
   "id": "683b2253-8664-4a5d-8c84-16f625ecda62",
   "metadata": {},
   "outputs": [],
   "source": [
    "df9 = df9.drop('WTSAPRP', axis=1)"
   ]
  },
  {
   "cell_type": "code",
   "execution_count": 110,
   "id": "cd0e63a2-d6dd-4af5-8adc-04e459b3499d",
   "metadata": {},
   "outputs": [],
   "source": [
    "df9 = df9.rename(columns={\n",
    "    'URXUNI': 'urine_nickel',\n",
    "    'URDUNILC': 'urine_nickel_comment'\n",
    "})"
   ]
  },
  {
   "cell_type": "code",
   "execution_count": 111,
   "id": "e427cf38-3cd6-4414-830e-4c408dd44457",
   "metadata": {},
   "outputs": [],
   "source": [
    "df9 = df9.dropna(subset=['urine_nickel'])"
   ]
  },
  {
   "cell_type": "code",
   "execution_count": 112,
   "id": "da57c88d-3990-4ded-861c-e2464a28a8c6",
   "metadata": {},
   "outputs": [
    {
     "data": {
      "text/html": [
       "<div>\n",
       "<style scoped>\n",
       "    .dataframe tbody tr th:only-of-type {\n",
       "        vertical-align: middle;\n",
       "    }\n",
       "\n",
       "    .dataframe tbody tr th {\n",
       "        vertical-align: top;\n",
       "    }\n",
       "\n",
       "    .dataframe thead th {\n",
       "        text-align: right;\n",
       "    }\n",
       "</style>\n",
       "<table border=\"1\" class=\"dataframe\">\n",
       "  <thead>\n",
       "    <tr style=\"text-align: right;\">\n",
       "      <th></th>\n",
       "      <th>participant_id</th>\n",
       "      <th>urine_nickel</th>\n",
       "      <th>urine_nickel_comment</th>\n",
       "    </tr>\n",
       "  </thead>\n",
       "  <tbody>\n",
       "    <tr>\n",
       "      <th>0</th>\n",
       "      <td>109266.0</td>\n",
       "      <td>0.46</td>\n",
       "      <td>0.0</td>\n",
       "    </tr>\n",
       "    <tr>\n",
       "      <th>1</th>\n",
       "      <td>109270.0</td>\n",
       "      <td>1.08</td>\n",
       "      <td>0.0</td>\n",
       "    </tr>\n",
       "    <tr>\n",
       "      <th>2</th>\n",
       "      <td>109273.0</td>\n",
       "      <td>0.91</td>\n",
       "      <td>0.0</td>\n",
       "    </tr>\n",
       "    <tr>\n",
       "      <th>3</th>\n",
       "      <td>109274.0</td>\n",
       "      <td>1.17</td>\n",
       "      <td>0.0</td>\n",
       "    </tr>\n",
       "    <tr>\n",
       "      <th>4</th>\n",
       "      <td>109287.0</td>\n",
       "      <td>4.01</td>\n",
       "      <td>0.0</td>\n",
       "    </tr>\n",
       "    <tr>\n",
       "      <th>5</th>\n",
       "      <td>109288.0</td>\n",
       "      <td>1.08</td>\n",
       "      <td>0.0</td>\n",
       "    </tr>\n",
       "    <tr>\n",
       "      <th>6</th>\n",
       "      <td>109290.0</td>\n",
       "      <td>2.72</td>\n",
       "      <td>0.0</td>\n",
       "    </tr>\n",
       "    <tr>\n",
       "      <th>7</th>\n",
       "      <td>109295.0</td>\n",
       "      <td>0.22</td>\n",
       "      <td>1.0</td>\n",
       "    </tr>\n",
       "    <tr>\n",
       "      <th>8</th>\n",
       "      <td>109300.0</td>\n",
       "      <td>0.55</td>\n",
       "      <td>0.0</td>\n",
       "    </tr>\n",
       "    <tr>\n",
       "      <th>9</th>\n",
       "      <td>109309.0</td>\n",
       "      <td>0.92</td>\n",
       "      <td>0.0</td>\n",
       "    </tr>\n",
       "  </tbody>\n",
       "</table>\n",
       "</div>"
      ],
      "text/plain": [
       "   participant_id  urine_nickel  urine_nickel_comment\n",
       "0        109266.0          0.46                   0.0\n",
       "1        109270.0          1.08                   0.0\n",
       "2        109273.0          0.91                   0.0\n",
       "3        109274.0          1.17                   0.0\n",
       "4        109287.0          4.01                   0.0\n",
       "5        109288.0          1.08                   0.0\n",
       "6        109290.0          2.72                   0.0\n",
       "7        109295.0          0.22                   1.0\n",
       "8        109300.0          0.55                   0.0\n",
       "9        109309.0          0.92                   0.0"
      ]
     },
     "execution_count": 112,
     "metadata": {},
     "output_type": "execute_result"
    }
   ],
   "source": [
    "df9.head(10)"
   ]
  },
  {
   "cell_type": "markdown",
   "id": "7e24f46e-24b2-48fb-b1ed-b5ba1a706a75",
   "metadata": {},
   "source": [
    "##### Organophosphate Insecticides\n",
    "\n",
    "The lower limit of detection for the insecticide is 0.1 ng/mL."
   ]
  },
  {
   "cell_type": "code",
   "execution_count": 113,
   "id": "ae45c8a7-39a3-415d-940b-8ad02c9d5dc6",
   "metadata": {},
   "outputs": [],
   "source": [
    "file_path = '2017-2020/urine/11.P_OPD.xpt'\n",
    "\n",
    "df10, meta = pyreadstat.read_xport(file_path)\n",
    "df10 = standardize_id_column(df10)"
   ]
  },
  {
   "cell_type": "code",
   "execution_count": 114,
   "id": "61d088d9-3979-45c5-b5de-e3c9d4c94f43",
   "metadata": {},
   "outputs": [
    {
     "data": {
      "text/html": [
       "<div>\n",
       "<style scoped>\n",
       "    .dataframe tbody tr th:only-of-type {\n",
       "        vertical-align: middle;\n",
       "    }\n",
       "\n",
       "    .dataframe tbody tr th {\n",
       "        vertical-align: top;\n",
       "    }\n",
       "\n",
       "    .dataframe thead th {\n",
       "        text-align: right;\n",
       "    }\n",
       "</style>\n",
       "<table border=\"1\" class=\"dataframe\">\n",
       "  <thead>\n",
       "    <tr style=\"text-align: right;\">\n",
       "      <th></th>\n",
       "      <th>participant_id</th>\n",
       "      <th>WTSBPRP</th>\n",
       "      <th>URXOP1</th>\n",
       "      <th>URDOP1LC</th>\n",
       "      <th>URXOP2</th>\n",
       "      <th>URDOP2LC</th>\n",
       "      <th>URXOP3</th>\n",
       "      <th>URDOP3LC</th>\n",
       "      <th>URXOP4</th>\n",
       "      <th>URDOP4LC</th>\n",
       "      <th>URXOP5</th>\n",
       "      <th>URDOP5LC</th>\n",
       "      <th>URXOP6</th>\n",
       "      <th>URDOP6LC</th>\n",
       "    </tr>\n",
       "  </thead>\n",
       "  <tbody>\n",
       "    <tr>\n",
       "      <th>0</th>\n",
       "      <td>109271.0</td>\n",
       "      <td>20156.439742</td>\n",
       "      <td>0.682</td>\n",
       "      <td>0.0</td>\n",
       "      <td>0.288</td>\n",
       "      <td>0.0</td>\n",
       "      <td>0.1790</td>\n",
       "      <td>0.0</td>\n",
       "      <td>0.0707</td>\n",
       "      <td>1.0</td>\n",
       "      <td>0.0707</td>\n",
       "      <td>1.0</td>\n",
       "      <td>0.0707</td>\n",
       "      <td>1.0</td>\n",
       "    </tr>\n",
       "    <tr>\n",
       "      <th>1</th>\n",
       "      <td>109277.0</td>\n",
       "      <td>51738.369518</td>\n",
       "      <td>4.450</td>\n",
       "      <td>0.0</td>\n",
       "      <td>15.400</td>\n",
       "      <td>0.0</td>\n",
       "      <td>2.5900</td>\n",
       "      <td>0.0</td>\n",
       "      <td>0.2810</td>\n",
       "      <td>0.0</td>\n",
       "      <td>0.3770</td>\n",
       "      <td>0.0</td>\n",
       "      <td>0.0707</td>\n",
       "      <td>1.0</td>\n",
       "    </tr>\n",
       "    <tr>\n",
       "      <th>2</th>\n",
       "      <td>109282.0</td>\n",
       "      <td>97190.554500</td>\n",
       "      <td>1.580</td>\n",
       "      <td>0.0</td>\n",
       "      <td>21.000</td>\n",
       "      <td>0.0</td>\n",
       "      <td>1.3100</td>\n",
       "      <td>0.0</td>\n",
       "      <td>1.0800</td>\n",
       "      <td>0.0</td>\n",
       "      <td>0.2600</td>\n",
       "      <td>0.0</td>\n",
       "      <td>0.0707</td>\n",
       "      <td>1.0</td>\n",
       "    </tr>\n",
       "    <tr>\n",
       "      <th>3</th>\n",
       "      <td>109285.0</td>\n",
       "      <td>85548.221421</td>\n",
       "      <td>1.260</td>\n",
       "      <td>0.0</td>\n",
       "      <td>1.300</td>\n",
       "      <td>0.0</td>\n",
       "      <td>0.4900</td>\n",
       "      <td>0.0</td>\n",
       "      <td>0.0707</td>\n",
       "      <td>1.0</td>\n",
       "      <td>0.0707</td>\n",
       "      <td>1.0</td>\n",
       "      <td>0.0707</td>\n",
       "      <td>1.0</td>\n",
       "    </tr>\n",
       "    <tr>\n",
       "      <th>4</th>\n",
       "      <td>109288.0</td>\n",
       "      <td>9103.868995</td>\n",
       "      <td>0.196</td>\n",
       "      <td>0.0</td>\n",
       "      <td>1.120</td>\n",
       "      <td>0.0</td>\n",
       "      <td>0.0707</td>\n",
       "      <td>1.0</td>\n",
       "      <td>0.0707</td>\n",
       "      <td>1.0</td>\n",
       "      <td>0.0707</td>\n",
       "      <td>1.0</td>\n",
       "      <td>0.0707</td>\n",
       "      <td>1.0</td>\n",
       "    </tr>\n",
       "    <tr>\n",
       "      <th>5</th>\n",
       "      <td>109301.0</td>\n",
       "      <td>14215.937370</td>\n",
       "      <td>1.580</td>\n",
       "      <td>0.0</td>\n",
       "      <td>1.430</td>\n",
       "      <td>0.0</td>\n",
       "      <td>0.5190</td>\n",
       "      <td>0.0</td>\n",
       "      <td>0.0707</td>\n",
       "      <td>1.0</td>\n",
       "      <td>0.1500</td>\n",
       "      <td>0.0</td>\n",
       "      <td>0.0707</td>\n",
       "      <td>1.0</td>\n",
       "    </tr>\n",
       "    <tr>\n",
       "      <th>6</th>\n",
       "      <td>109302.0</td>\n",
       "      <td>5984.497323</td>\n",
       "      <td>3.290</td>\n",
       "      <td>0.0</td>\n",
       "      <td>35.800</td>\n",
       "      <td>0.0</td>\n",
       "      <td>1.1800</td>\n",
       "      <td>0.0</td>\n",
       "      <td>1.1300</td>\n",
       "      <td>0.0</td>\n",
       "      <td>0.4560</td>\n",
       "      <td>0.0</td>\n",
       "      <td>0.0707</td>\n",
       "      <td>1.0</td>\n",
       "    </tr>\n",
       "    <tr>\n",
       "      <th>7</th>\n",
       "      <td>109303.0</td>\n",
       "      <td>16549.099643</td>\n",
       "      <td>0.426</td>\n",
       "      <td>0.0</td>\n",
       "      <td>NaN</td>\n",
       "      <td>NaN</td>\n",
       "      <td>0.2020</td>\n",
       "      <td>0.0</td>\n",
       "      <td>0.0707</td>\n",
       "      <td>1.0</td>\n",
       "      <td>0.0707</td>\n",
       "      <td>1.0</td>\n",
       "      <td>0.0707</td>\n",
       "      <td>1.0</td>\n",
       "    </tr>\n",
       "    <tr>\n",
       "      <th>8</th>\n",
       "      <td>109304.0</td>\n",
       "      <td>40089.354988</td>\n",
       "      <td>1.520</td>\n",
       "      <td>0.0</td>\n",
       "      <td>3.530</td>\n",
       "      <td>0.0</td>\n",
       "      <td>1.5000</td>\n",
       "      <td>0.0</td>\n",
       "      <td>0.0707</td>\n",
       "      <td>1.0</td>\n",
       "      <td>0.1040</td>\n",
       "      <td>0.0</td>\n",
       "      <td>0.0707</td>\n",
       "      <td>1.0</td>\n",
       "    </tr>\n",
       "    <tr>\n",
       "      <th>9</th>\n",
       "      <td>109307.0</td>\n",
       "      <td>49745.101247</td>\n",
       "      <td>4.050</td>\n",
       "      <td>0.0</td>\n",
       "      <td>0.825</td>\n",
       "      <td>0.0</td>\n",
       "      <td>NaN</td>\n",
       "      <td>NaN</td>\n",
       "      <td>0.1270</td>\n",
       "      <td>0.0</td>\n",
       "      <td>0.0707</td>\n",
       "      <td>1.0</td>\n",
       "      <td>0.0707</td>\n",
       "      <td>1.0</td>\n",
       "    </tr>\n",
       "  </tbody>\n",
       "</table>\n",
       "</div>"
      ],
      "text/plain": [
       "   participant_id       WTSBPRP  URXOP1  URDOP1LC  URXOP2  URDOP2LC  URXOP3  \\\n",
       "0        109271.0  20156.439742   0.682       0.0   0.288       0.0  0.1790   \n",
       "1        109277.0  51738.369518   4.450       0.0  15.400       0.0  2.5900   \n",
       "2        109282.0  97190.554500   1.580       0.0  21.000       0.0  1.3100   \n",
       "3        109285.0  85548.221421   1.260       0.0   1.300       0.0  0.4900   \n",
       "4        109288.0   9103.868995   0.196       0.0   1.120       0.0  0.0707   \n",
       "5        109301.0  14215.937370   1.580       0.0   1.430       0.0  0.5190   \n",
       "6        109302.0   5984.497323   3.290       0.0  35.800       0.0  1.1800   \n",
       "7        109303.0  16549.099643   0.426       0.0     NaN       NaN  0.2020   \n",
       "8        109304.0  40089.354988   1.520       0.0   3.530       0.0  1.5000   \n",
       "9        109307.0  49745.101247   4.050       0.0   0.825       0.0     NaN   \n",
       "\n",
       "   URDOP3LC  URXOP4  URDOP4LC  URXOP5  URDOP5LC  URXOP6  URDOP6LC  \n",
       "0       0.0  0.0707       1.0  0.0707       1.0  0.0707       1.0  \n",
       "1       0.0  0.2810       0.0  0.3770       0.0  0.0707       1.0  \n",
       "2       0.0  1.0800       0.0  0.2600       0.0  0.0707       1.0  \n",
       "3       0.0  0.0707       1.0  0.0707       1.0  0.0707       1.0  \n",
       "4       1.0  0.0707       1.0  0.0707       1.0  0.0707       1.0  \n",
       "5       0.0  0.0707       1.0  0.1500       0.0  0.0707       1.0  \n",
       "6       0.0  1.1300       0.0  0.4560       0.0  0.0707       1.0  \n",
       "7       0.0  0.0707       1.0  0.0707       1.0  0.0707       1.0  \n",
       "8       0.0  0.0707       1.0  0.1040       0.0  0.0707       1.0  \n",
       "9       NaN  0.1270       0.0  0.0707       1.0  0.0707       1.0  "
      ]
     },
     "execution_count": 114,
     "metadata": {},
     "output_type": "execute_result"
    }
   ],
   "source": [
    "df10.head(10)"
   ]
  },
  {
   "cell_type": "code",
   "execution_count": 115,
   "id": "8322313b-7194-4fa0-a288-e99c4ffc748c",
   "metadata": {},
   "outputs": [
    {
     "data": {
      "text/plain": [
       "(4929, 14)"
      ]
     },
     "execution_count": 115,
     "metadata": {},
     "output_type": "execute_result"
    }
   ],
   "source": [
    "df10.shape"
   ]
  },
  {
   "cell_type": "code",
   "execution_count": 116,
   "id": "62aad6db-f9b8-4056-8774-28d380a521d4",
   "metadata": {},
   "outputs": [
    {
     "name": "stdout",
     "output_type": "stream",
     "text": [
      "<class 'pandas.core.frame.DataFrame'>\n",
      "RangeIndex: 4929 entries, 0 to 4928\n",
      "Data columns (total 14 columns):\n",
      " #   Column          Non-Null Count  Dtype  \n",
      "---  ------          --------------  -----  \n",
      " 0   participant_id  4929 non-null   float64\n",
      " 1   WTSBPRP         4929 non-null   float64\n",
      " 2   URXOP1          4618 non-null   float64\n",
      " 3   URDOP1LC        4618 non-null   float64\n",
      " 4   URXOP2          4607 non-null   float64\n",
      " 5   URDOP2LC        4607 non-null   float64\n",
      " 6   URXOP3          4604 non-null   float64\n",
      " 7   URDOP3LC        4604 non-null   float64\n",
      " 8   URXOP4          4611 non-null   float64\n",
      " 9   URDOP4LC        4611 non-null   float64\n",
      " 10  URXOP5          4621 non-null   float64\n",
      " 11  URDOP5LC        4621 non-null   float64\n",
      " 12  URXOP6          4620 non-null   float64\n",
      " 13  URDOP6LC        4620 non-null   float64\n",
      "dtypes: float64(14)\n",
      "memory usage: 539.2 KB\n"
     ]
    }
   ],
   "source": [
    "df10.info()"
   ]
  },
  {
   "cell_type": "code",
   "execution_count": 117,
   "id": "f7dbb697-fead-49d1-a26c-8f73152f8f7e",
   "metadata": {},
   "outputs": [
    {
     "data": {
      "text/plain": [
       "participant_id      0\n",
       "WTSBPRP             0\n",
       "URXOP1            311\n",
       "URDOP1LC          311\n",
       "URXOP2            322\n",
       "URDOP2LC          322\n",
       "URXOP3            325\n",
       "URDOP3LC          325\n",
       "URXOP4            318\n",
       "URDOP4LC          318\n",
       "URXOP5            308\n",
       "URDOP5LC          308\n",
       "URXOP6            309\n",
       "URDOP6LC          309\n",
       "dtype: int64"
      ]
     },
     "execution_count": 117,
     "metadata": {},
     "output_type": "execute_result"
    }
   ],
   "source": [
    "df10.isnull().sum()"
   ]
  },
  {
   "cell_type": "code",
   "execution_count": 118,
   "id": "7f11e53f-f667-483a-afe4-75eb35530e15",
   "metadata": {},
   "outputs": [
    {
     "data": {
      "text/plain": [
       "['participant_id',\n",
       " 'WTSBPRP',\n",
       " 'URXOP1',\n",
       " 'URDOP1LC',\n",
       " 'URXOP2',\n",
       " 'URDOP2LC',\n",
       " 'URXOP3',\n",
       " 'URDOP3LC',\n",
       " 'URXOP4',\n",
       " 'URDOP4LC',\n",
       " 'URXOP5',\n",
       " 'URDOP5LC',\n",
       " 'URXOP6',\n",
       " 'URDOP6LC']"
      ]
     },
     "execution_count": 118,
     "metadata": {},
     "output_type": "execute_result"
    }
   ],
   "source": [
    "df10.columns.to_list()"
   ]
  },
  {
   "cell_type": "code",
   "execution_count": 119,
   "id": "704925cd-6227-4064-837a-53782c7d5941",
   "metadata": {},
   "outputs": [],
   "source": [
    "df10 = df10.drop('WTSBPRP', axis = 1)"
   ]
  },
  {
   "cell_type": "code",
   "execution_count": 120,
   "id": "6f797b83-9b25-4c9b-8a18-d93441d2e5db",
   "metadata": {},
   "outputs": [],
   "source": [
    "df10 = df10.rename(columns={\n",
    " 'URXOP1': 'dimethylphosphate_ng_mL',\n",
    " 'URDOP1LC' : 'dimethylphosphate_comment',\n",
    " 'URXOP2' : 'diethylphosphate_ng_mL',\n",
    " 'URDOP2LC' : 'diethylphosphate_comment',\n",
    " 'URXOP3' : 'dimethylthiophosphate_ng_mL',\n",
    " 'URDOP3LC' :'dimethylthiophosphate_comment',\n",
    " 'URXOP4': 'diethylthiophosphate_ng_mL',\n",
    " 'URDOP4LC' :'diethylthiophosphate_comment',\n",
    " 'URXOP5':'dimethyldithiophosphate_ng_mL',\n",
    " 'URDOP5LC' :'dimethyldithiophosphate_comment' ,\n",
    " 'URXOP6':'diethyldithiophosphate_ng_mL',\n",
    " 'URDOP6LC':'diethyldithiophosphate_comment'\n",
    "})"
   ]
  },
  {
   "cell_type": "code",
   "execution_count": 121,
   "id": "9e008965-ba88-45b4-943e-a0f7d6f9b0b8",
   "metadata": {},
   "outputs": [
    {
     "data": {
      "text/plain": [
       "['participant_id',\n",
       " 'dimethylphosphate_ng_mL',\n",
       " 'dimethylphosphate_comment',\n",
       " 'diethylphosphate_ng_mL',\n",
       " 'diethylphosphate_comment',\n",
       " 'dimethylthiophosphate_ng_mL',\n",
       " 'dimethylthiophosphate_comment',\n",
       " 'diethylthiophosphate_ng_mL',\n",
       " 'diethylthiophosphate_comment',\n",
       " 'dimethyldithiophosphate_ng_mL',\n",
       " 'dimethyldithiophosphate_comment',\n",
       " 'diethyldithiophosphate_ng_mL',\n",
       " 'diethyldithiophosphate_comment']"
      ]
     },
     "execution_count": 121,
     "metadata": {},
     "output_type": "execute_result"
    }
   ],
   "source": [
    "df10.columns.to_list()"
   ]
  },
  {
   "cell_type": "code",
   "execution_count": 122,
   "id": "1ad2fc6c-b4a7-44ed-9fc2-e098d87ebf73",
   "metadata": {},
   "outputs": [
    {
     "name": "stdout",
     "output_type": "stream",
     "text": [
      "Number of rows missing all OPD values: 307\n"
     ]
    }
   ],
   "source": [
    "value_cols = [col for col in df10.columns if col != 'participant_id']\n",
    "rows_all_nan = df10[value_cols].isna().all(axis=1)\n",
    "print(f\"Number of rows missing all OPD values: {rows_all_nan.sum()}\")"
   ]
  },
  {
   "cell_type": "code",
   "execution_count": 123,
   "id": "4a37c474-ee2d-41c2-834e-275ae4fbc37b",
   "metadata": {},
   "outputs": [
    {
     "name": "stdout",
     "output_type": "stream",
     "text": [
      "Number of rows dropped: 307\n"
     ]
    }
   ],
   "source": [
    "# Drop rows where all value columns are NaN (excluding participant_id)\n",
    "df10_cleaned = df10[~rows_all_nan].copy()\n",
    "\n",
    "print(f\"Number of rows dropped: {rows_all_nan.sum()}\")"
   ]
  },
  {
   "cell_type": "markdown",
   "id": "9cca6176-a684-426f-a962-a134b7e022c8",
   "metadata": {},
   "source": [
    "##### Perchlorate, Nitrate & Thiocyanate\n",
    "\n"
   ]
  },
  {
   "cell_type": "code",
   "execution_count": 124,
   "id": "5ce76144-d782-4193-a9dd-b5d4b1dde5b9",
   "metadata": {},
   "outputs": [],
   "source": [
    "file_path = '2017-2020/urine/12.P_PERNT.xpt'\n",
    "\n",
    "df11, meta = pyreadstat.read_xport(file_path)\n",
    "df11 = standardize_id_column(df11)"
   ]
  },
  {
   "cell_type": "code",
   "execution_count": 125,
   "id": "844a34d7-ac57-4dd2-aade-ffb9450b25b1",
   "metadata": {},
   "outputs": [
    {
     "data": {
      "text/html": [
       "<div>\n",
       "<style scoped>\n",
       "    .dataframe tbody tr th:only-of-type {\n",
       "        vertical-align: middle;\n",
       "    }\n",
       "\n",
       "    .dataframe tbody tr th {\n",
       "        vertical-align: top;\n",
       "    }\n",
       "\n",
       "    .dataframe thead th {\n",
       "        text-align: right;\n",
       "    }\n",
       "</style>\n",
       "<table border=\"1\" class=\"dataframe\">\n",
       "  <thead>\n",
       "    <tr style=\"text-align: right;\">\n",
       "      <th></th>\n",
       "      <th>participant_id</th>\n",
       "      <th>WTSAPRP</th>\n",
       "      <th>URXUP8</th>\n",
       "      <th>URDUP8LC</th>\n",
       "      <th>URXNO3</th>\n",
       "      <th>URDNO3LC</th>\n",
       "      <th>URXSCN</th>\n",
       "      <th>URDSCNLC</th>\n",
       "    </tr>\n",
       "  </thead>\n",
       "  <tbody>\n",
       "    <tr>\n",
       "      <th>0</th>\n",
       "      <td>109266.0</td>\n",
       "      <td>28660.015986</td>\n",
       "      <td>0.570</td>\n",
       "      <td>0.0</td>\n",
       "      <td>36900.0</td>\n",
       "      <td>0.0</td>\n",
       "      <td>223.0</td>\n",
       "      <td>0.0</td>\n",
       "    </tr>\n",
       "    <tr>\n",
       "      <th>1</th>\n",
       "      <td>109270.0</td>\n",
       "      <td>17900.682903</td>\n",
       "      <td>4.020</td>\n",
       "      <td>0.0</td>\n",
       "      <td>48200.0</td>\n",
       "      <td>0.0</td>\n",
       "      <td>2960.0</td>\n",
       "      <td>0.0</td>\n",
       "    </tr>\n",
       "    <tr>\n",
       "      <th>2</th>\n",
       "      <td>109273.0</td>\n",
       "      <td>80106.859617</td>\n",
       "      <td>2.170</td>\n",
       "      <td>0.0</td>\n",
       "      <td>49900.0</td>\n",
       "      <td>0.0</td>\n",
       "      <td>4740.0</td>\n",
       "      <td>0.0</td>\n",
       "    </tr>\n",
       "    <tr>\n",
       "      <th>3</th>\n",
       "      <td>109274.0</td>\n",
       "      <td>24512.276280</td>\n",
       "      <td>6.950</td>\n",
       "      <td>0.0</td>\n",
       "      <td>2410.0</td>\n",
       "      <td>0.0</td>\n",
       "      <td>5290.0</td>\n",
       "      <td>0.0</td>\n",
       "    </tr>\n",
       "    <tr>\n",
       "      <th>4</th>\n",
       "      <td>109287.0</td>\n",
       "      <td>25828.523003</td>\n",
       "      <td>7.290</td>\n",
       "      <td>0.0</td>\n",
       "      <td>78700.0</td>\n",
       "      <td>0.0</td>\n",
       "      <td>603.0</td>\n",
       "      <td>0.0</td>\n",
       "    </tr>\n",
       "    <tr>\n",
       "      <th>5</th>\n",
       "      <td>109288.0</td>\n",
       "      <td>8535.018174</td>\n",
       "      <td>2.140</td>\n",
       "      <td>0.0</td>\n",
       "      <td>50600.0</td>\n",
       "      <td>0.0</td>\n",
       "      <td>370.0</td>\n",
       "      <td>0.0</td>\n",
       "    </tr>\n",
       "    <tr>\n",
       "      <th>6</th>\n",
       "      <td>109290.0</td>\n",
       "      <td>12410.268374</td>\n",
       "      <td>2.970</td>\n",
       "      <td>0.0</td>\n",
       "      <td>70600.0</td>\n",
       "      <td>0.0</td>\n",
       "      <td>1470.0</td>\n",
       "      <td>0.0</td>\n",
       "    </tr>\n",
       "    <tr>\n",
       "      <th>7</th>\n",
       "      <td>109295.0</td>\n",
       "      <td>28235.246814</td>\n",
       "      <td>2.140</td>\n",
       "      <td>0.0</td>\n",
       "      <td>24700.0</td>\n",
       "      <td>0.0</td>\n",
       "      <td>1010.0</td>\n",
       "      <td>0.0</td>\n",
       "    </tr>\n",
       "    <tr>\n",
       "      <th>8</th>\n",
       "      <td>109300.0</td>\n",
       "      <td>66737.887353</td>\n",
       "      <td>0.876</td>\n",
       "      <td>0.0</td>\n",
       "      <td>10800.0</td>\n",
       "      <td>0.0</td>\n",
       "      <td>270.0</td>\n",
       "      <td>0.0</td>\n",
       "    </tr>\n",
       "    <tr>\n",
       "      <th>9</th>\n",
       "      <td>109309.0</td>\n",
       "      <td>33019.729726</td>\n",
       "      <td>1.510</td>\n",
       "      <td>0.0</td>\n",
       "      <td>16800.0</td>\n",
       "      <td>0.0</td>\n",
       "      <td>171.0</td>\n",
       "      <td>0.0</td>\n",
       "    </tr>\n",
       "  </tbody>\n",
       "</table>\n",
       "</div>"
      ],
      "text/plain": [
       "   participant_id       WTSAPRP  URXUP8  URDUP8LC   URXNO3  URDNO3LC  URXSCN  \\\n",
       "0        109266.0  28660.015986   0.570       0.0  36900.0       0.0   223.0   \n",
       "1        109270.0  17900.682903   4.020       0.0  48200.0       0.0  2960.0   \n",
       "2        109273.0  80106.859617   2.170       0.0  49900.0       0.0  4740.0   \n",
       "3        109274.0  24512.276280   6.950       0.0   2410.0       0.0  5290.0   \n",
       "4        109287.0  25828.523003   7.290       0.0  78700.0       0.0   603.0   \n",
       "5        109288.0   8535.018174   2.140       0.0  50600.0       0.0   370.0   \n",
       "6        109290.0  12410.268374   2.970       0.0  70600.0       0.0  1470.0   \n",
       "7        109295.0  28235.246814   2.140       0.0  24700.0       0.0  1010.0   \n",
       "8        109300.0  66737.887353   0.876       0.0  10800.0       0.0   270.0   \n",
       "9        109309.0  33019.729726   1.510       0.0  16800.0       0.0   171.0   \n",
       "\n",
       "   URDSCNLC  \n",
       "0       0.0  \n",
       "1       0.0  \n",
       "2       0.0  \n",
       "3       0.0  \n",
       "4       0.0  \n",
       "5       0.0  \n",
       "6       0.0  \n",
       "7       0.0  \n",
       "8       0.0  \n",
       "9       0.0  "
      ]
     },
     "execution_count": 125,
     "metadata": {},
     "output_type": "execute_result"
    }
   ],
   "source": [
    "df11.head(10)"
   ]
  },
  {
   "cell_type": "code",
   "execution_count": 126,
   "id": "9377ce4f-a656-4d5b-b9b7-703fd5e33b18",
   "metadata": {},
   "outputs": [
    {
     "data": {
      "text/plain": [
       "['participant_id',\n",
       " 'WTSAPRP',\n",
       " 'URXUP8',\n",
       " 'URDUP8LC',\n",
       " 'URXNO3',\n",
       " 'URDNO3LC',\n",
       " 'URXSCN',\n",
       " 'URDSCNLC']"
      ]
     },
     "execution_count": 126,
     "metadata": {},
     "output_type": "execute_result"
    }
   ],
   "source": [
    "df11.columns.to_list()"
   ]
  },
  {
   "cell_type": "code",
   "execution_count": 127,
   "id": "3adcad28-f867-4451-993d-113524c211ea",
   "metadata": {},
   "outputs": [],
   "source": [
    "df11 = df11.drop('WTSAPRP', axis =1)"
   ]
  },
  {
   "cell_type": "code",
   "execution_count": 128,
   "id": "70f1f234-2d1f-42ec-a748-c25623862106",
   "metadata": {},
   "outputs": [],
   "source": [
    "df11 = df11.rename(columns = {\n",
    " 'URXUP8': 'perchlorate_urine_ng_mL',\n",
    " 'URDUP8LC': 'perchlorate_comment',\n",
    " 'URXNO3':'nitrate_urine_ng_mL',\n",
    " 'URDNO3LC':'nitrate_comment',\n",
    " 'URXSCN':'thiocyanate_urine_ng_mL',\n",
    " 'URDSCNLC': 'thiocyanate_comment'\n",
    "})"
   ]
  },
  {
   "cell_type": "code",
   "execution_count": 129,
   "id": "a1f42fd3-14ae-40f0-83e4-2f14b03bb4da",
   "metadata": {},
   "outputs": [
    {
     "data": {
      "text/plain": [
       "['participant_id',\n",
       " 'perchlorate_urine_ng_mL',\n",
       " 'perchlorate_comment',\n",
       " 'nitrate_urine_ng_mL',\n",
       " 'nitrate_comment',\n",
       " 'thiocyanate_urine_ng_mL',\n",
       " 'thiocyanate_comment']"
      ]
     },
     "execution_count": 129,
     "metadata": {},
     "output_type": "execute_result"
    }
   ],
   "source": [
    "df11.columns.to_list()"
   ]
  },
  {
   "cell_type": "code",
   "execution_count": 130,
   "id": "602ea59d-a426-4664-a54e-f15b40f9d513",
   "metadata": {},
   "outputs": [
    {
     "name": "stdout",
     "output_type": "stream",
     "text": [
      "Number of rows missing all PERNT values: 391\n"
     ]
    }
   ],
   "source": [
    "value_cols = [col for col in df11.columns if col != 'participant_id']\n",
    "rows_all_nan = df11[value_cols].isna().all(axis=1)\n",
    "print(f\"Number of rows missing all PERNT values: {rows_all_nan.sum()}\")"
   ]
  },
  {
   "cell_type": "code",
   "execution_count": 131,
   "id": "7007c111-d021-4792-9ecd-499e974a993f",
   "metadata": {},
   "outputs": [
    {
     "name": "stdout",
     "output_type": "stream",
     "text": [
      "Number of rows dropped: 391\n"
     ]
    }
   ],
   "source": [
    "# Drop rows where all value columns are NaN (excluding participant_id)\n",
    "df11_cleaned = df11[~rows_all_nan].copy()\n",
    "\n",
    "print(f\"Number of rows dropped: {rows_all_nan.sum()}\")"
   ]
  },
  {
   "cell_type": "markdown",
   "id": "9a260c21-8c33-4600-ad54-968c4bd961ed",
   "metadata": {},
   "source": [
    "##### Urine Pregnancy Test\n",
    "\n",
    "Point of care urine pregnancy test was performed on women 20-44 years of age. "
   ]
  },
  {
   "cell_type": "code",
   "execution_count": 132,
   "id": "2018f518-b23b-4d27-9eee-6f9acb08dd1a",
   "metadata": {},
   "outputs": [],
   "source": [
    "file_path = '2017-2020/urine/13.P_UCPREG.xpt'\n",
    "\n",
    "df12, meta = pyreadstat.read_xport(file_path)\n",
    "df12 = standardize_id_column(df12)"
   ]
  },
  {
   "cell_type": "code",
   "execution_count": 133,
   "id": "76c034c6-f539-4fb7-80ea-c68582d1fd86",
   "metadata": {},
   "outputs": [
    {
     "data": {
      "text/html": [
       "<div>\n",
       "<style scoped>\n",
       "    .dataframe tbody tr th:only-of-type {\n",
       "        vertical-align: middle;\n",
       "    }\n",
       "\n",
       "    .dataframe tbody tr th {\n",
       "        vertical-align: top;\n",
       "    }\n",
       "\n",
       "    .dataframe thead th {\n",
       "        text-align: right;\n",
       "    }\n",
       "</style>\n",
       "<table border=\"1\" class=\"dataframe\">\n",
       "  <thead>\n",
       "    <tr style=\"text-align: right;\">\n",
       "      <th></th>\n",
       "      <th>participant_id</th>\n",
       "      <th>URXPREG</th>\n",
       "    </tr>\n",
       "  </thead>\n",
       "  <tbody>\n",
       "    <tr>\n",
       "      <th>0</th>\n",
       "      <td>109266.0</td>\n",
       "      <td>2.0</td>\n",
       "    </tr>\n",
       "    <tr>\n",
       "      <th>1</th>\n",
       "      <td>109284.0</td>\n",
       "      <td>2.0</td>\n",
       "    </tr>\n",
       "    <tr>\n",
       "      <th>2</th>\n",
       "      <td>109286.0</td>\n",
       "      <td>1.0</td>\n",
       "    </tr>\n",
       "    <tr>\n",
       "      <th>3</th>\n",
       "      <td>109291.0</td>\n",
       "      <td>2.0</td>\n",
       "    </tr>\n",
       "    <tr>\n",
       "      <th>4</th>\n",
       "      <td>109297.0</td>\n",
       "      <td>2.0</td>\n",
       "    </tr>\n",
       "  </tbody>\n",
       "</table>\n",
       "</div>"
      ],
      "text/plain": [
       "   participant_id  URXPREG\n",
       "0        109266.0      2.0\n",
       "1        109284.0      2.0\n",
       "2        109286.0      1.0\n",
       "3        109291.0      2.0\n",
       "4        109297.0      2.0"
      ]
     },
     "execution_count": 133,
     "metadata": {},
     "output_type": "execute_result"
    }
   ],
   "source": [
    "df12.head()"
   ]
  },
  {
   "cell_type": "code",
   "execution_count": 134,
   "id": "7e65f089-bc6b-46be-b10e-62e0d51abb8c",
   "metadata": {},
   "outputs": [],
   "source": [
    "df12 = df12.rename(columns = {\n",
    "    'URXPREG' : 'pregnancy_test_result'\n",
    "})"
   ]
  },
  {
   "cell_type": "code",
   "execution_count": 135,
   "id": "054c77ab-0b85-41b8-b004-72f746a0a71d",
   "metadata": {},
   "outputs": [],
   "source": [
    "df12 = df12.dropna(subset=['pregnancy_test_result'])"
   ]
  },
  {
   "cell_type": "markdown",
   "id": "5c1e6c5e-ed04-4a6a-b8de-708bf59a6bf3",
   "metadata": {},
   "source": [
    "##### Volatile Organic Compound (VOC) Metabolites\n",
    "\n",
    "On the NHANES lab dataset, there are two VOC tables: P_UVOC and P_UVOC2. \n"
   ]
  },
  {
   "cell_type": "code",
   "execution_count": 136,
   "id": "2d8592b4-15e0-4ad2-a178-35e2cfeeee9a",
   "metadata": {},
   "outputs": [],
   "source": [
    "file_path = '2017-2020/urine/14.P_UVOC.xpt'\n",
    "\n",
    "df13, meta = pyreadstat.read_xport(file_path)\n",
    "df13 = standardize_id_column(df13)"
   ]
  },
  {
   "cell_type": "code",
   "execution_count": 137,
   "id": "7ccb7007-be9c-4419-9b2a-d2f511b45607",
   "metadata": {},
   "outputs": [
    {
     "data": {
      "text/plain": [
       "['participant_id',\n",
       " 'WTSAPRP',\n",
       " 'URX2MH',\n",
       " 'URD2MHLC',\n",
       " 'URX34M',\n",
       " 'URD34MLC',\n",
       " 'URXAAM',\n",
       " 'URDAAMLC',\n",
       " 'URXAMC',\n",
       " 'URDAMCLC',\n",
       " 'URXATC',\n",
       " 'URDATCLC',\n",
       " 'URXBMA',\n",
       " 'URDBMALC',\n",
       " 'URXBPM',\n",
       " 'URDBPMLC',\n",
       " 'URXCEM',\n",
       " 'URDCEMLC',\n",
       " 'URXCYHA',\n",
       " 'URDCYALC',\n",
       " 'URXCYM',\n",
       " 'URDCYMLC',\n",
       " 'URXDHB',\n",
       " 'URDDHBLC',\n",
       " 'URXGAM',\n",
       " 'URDGAMLC',\n",
       " 'URXHEM',\n",
       " 'URDHEMLC',\n",
       " 'URXHP2',\n",
       " 'URDHP2LC',\n",
       " 'URXHPM',\n",
       " 'URDHPMLC',\n",
       " 'URXIPM3',\n",
       " 'URDPM3LC',\n",
       " 'URXMAD',\n",
       " 'URDMADLC',\n",
       " 'URXMB3',\n",
       " 'URDMB3LC',\n",
       " 'URXPHG',\n",
       " 'URDPHGLC',\n",
       " 'URXPMM',\n",
       " 'URDPMMLC',\n",
       " 'URXTTC',\n",
       " 'URDTTCLC']"
      ]
     },
     "execution_count": 137,
     "metadata": {},
     "output_type": "execute_result"
    }
   ],
   "source": [
    "df13.columns.to_list()"
   ]
  },
  {
   "cell_type": "code",
   "execution_count": 138,
   "id": "295b00bc-f0f5-4eeb-8a92-56294fc22bc1",
   "metadata": {},
   "outputs": [],
   "source": [
    "import requests\n",
    "from bs4 import BeautifulSoup\n",
    "import pandas as pd\n",
    "\n",
    "url = \"https://wwwn.cdc.gov/Nchs/Data/Nhanes/Public/2017/DataFiles/P_UVOC.htm\"\n",
    "response = requests.get(url)\n",
    "soup = BeautifulSoup(response.content, 'html.parser')\n",
    "\n",
    "# Get the first table\n",
    "table = soup.find('table')\n",
    "rows = table.find_all('tr')\n",
    "\n",
    "# Extract header and rows\n",
    "headers = [th.get_text(strip=True) for th in rows[0].find_all('th')]\n",
    "data = [\n",
    "    [td.get_text(strip=True) for td in row.find_all('td')]\n",
    "    for row in rows[1:]\n",
    "]\n",
    "\n",
    "df_info = pd.DataFrame(data, columns=headers)\n",
    "\n",
    "#Concurrently working on IBM data science certificate and a new learned skill was webscraping so the decision was made to utilize the skill to future-proof the cleaning process and to ensure there are no typos/the names are accurate"
   ]
  },
  {
   "cell_type": "code",
   "execution_count": 139,
   "id": "ec527879-9353-48a4-a1e8-61e6d3b2c004",
   "metadata": {},
   "outputs": [],
   "source": [
    "import re\n",
    "\n",
    "# Clean text to snake_case\n",
    "def to_snake_case(text):\n",
    "    text = text.lower()\n",
    "    text = text.replace(\"-\", \"_\")            # Hyphens → underscores\n",
    "    text = text.replace(\"/\", \"_\")            # Slashes → underscores\n",
    "    text = re.sub(r\"[^\\w\\s_]\", \"\", text)     # Remove punctuation except underscores\n",
    "    text = re.sub(r\"\\s+\", \"_\", text)         # Spaces → underscores\n",
    "    return text\n",
    "\n",
    "# Step 1: Create initial rename_dict from table (matching only columns in df13)\n",
    "rename_dict = {\n",
    "    row[\"VARIABLE NAME\"]: to_snake_case(row[\"ANALYTE NAME\"])\n",
    "    for _, row in df_info.iterrows()\n",
    "    if row[\"VARIABLE NAME\"] in df13.columns\n",
    "}\n",
    "\n",
    "# Step 2: Clean comment code columns (ending in \"LC\")\n",
    "unit_suffixes = [\"_ng_ml\", \"_ug_l\", \"_mg_dl\", \"_umol_l\", \"_nmol_l\"]\n",
    "comment_renames = {}\n",
    "\n",
    "for col in df13.columns:\n",
    "    if col.endswith(\"LC\") and col not in rename_dict:\n",
    "        base_col = col[:-2]  # Remove 'LC'\n",
    "        match_col = base_col.replace(\"URD\", \"URX\")\n",
    "\n",
    "        if match_col in rename_dict:\n",
    "            clean_name = rename_dict[match_col]\n",
    "\n",
    "            # Strip any unit suffix\n",
    "            for unit in unit_suffixes:\n",
    "                if clean_name.endswith(unit):\n",
    "                    clean_name = clean_name[: -len(unit)]\n",
    "                    break\n",
    "\n",
    "            comment_renames[col] = f\"{clean_name}_comment\"\n",
    "\n",
    "# Step 3: Merge comment renames into main rename_dict\n",
    "rename_dict.update(comment_renames)"
   ]
  },
  {
   "cell_type": "code",
   "execution_count": 140,
   "id": "0b1c784c-3826-4720-89c9-dd2cd15af93f",
   "metadata": {},
   "outputs": [],
   "source": [
    "df13_cleaned = df13.rename(columns=rename_dict)"
   ]
  },
  {
   "cell_type": "code",
   "execution_count": 141,
   "id": "0dfc96bf-b8d5-48b5-ae19-625daa25021f",
   "metadata": {},
   "outputs": [
    {
     "data": {
      "text/html": [
       "<div>\n",
       "<style scoped>\n",
       "    .dataframe tbody tr th:only-of-type {\n",
       "        vertical-align: middle;\n",
       "    }\n",
       "\n",
       "    .dataframe tbody tr th {\n",
       "        vertical-align: top;\n",
       "    }\n",
       "\n",
       "    .dataframe thead th {\n",
       "        text-align: right;\n",
       "    }\n",
       "</style>\n",
       "<table border=\"1\" class=\"dataframe\">\n",
       "  <thead>\n",
       "    <tr style=\"text-align: right;\">\n",
       "      <th></th>\n",
       "      <th>participant_id</th>\n",
       "      <th>WTSAPRP</th>\n",
       "      <th>2_methylhippuric_acid_ng_ml</th>\n",
       "      <th>2_methylhippuric_acid_comment</th>\n",
       "      <th>3__and_4_methylhippuric_acid_ng_ml</th>\n",
       "      <th>3__and_4_methylhippuric_acid_comment</th>\n",
       "      <th>n_acetyl_s_2_carbamoylethyl_l_cysteine_ng_ml</th>\n",
       "      <th>n_acetyl_s_2_carbamoylethyl_l_cysteine_comment</th>\n",
       "      <th>n_acetyl_s_n_methylcarbamoyl_l_cysteine_ng_ml</th>\n",
       "      <th>n_acetyl_s_n_methylcarbamoyl_l_cysteine_comment</th>\n",
       "      <th>...</th>\n",
       "      <th>mandelic_acid_ng_ml</th>\n",
       "      <th>mandelic_acid_comment</th>\n",
       "      <th>n_acetyl_s_4_hydroxy_2_butenyl_l_cysteine_ng_ml</th>\n",
       "      <th>n_acetyl_s_4_hydroxy_2_butenyl_l_cysteine_comment</th>\n",
       "      <th>phenylglyoxylic_acid_ng_ml</th>\n",
       "      <th>phenylglyoxylic_acid_comment</th>\n",
       "      <th>n_acetyl_s_3_hydroxypropyl_1_methyl_l_cysteine_ng_ml</th>\n",
       "      <th>n_acetyl_s_3_hydroxypropyl_1_methyl_l_cysteine_comment</th>\n",
       "      <th>2_thioxothiazolidine_4_carboxylic_acid</th>\n",
       "      <th>2_thioxothiazolidine_4_carboxylic_acid_comment</th>\n",
       "    </tr>\n",
       "  </thead>\n",
       "  <tbody>\n",
       "    <tr>\n",
       "      <th>0</th>\n",
       "      <td>109266.0</td>\n",
       "      <td>28660.015986</td>\n",
       "      <td>3.54</td>\n",
       "      <td>1.0</td>\n",
       "      <td>18.7</td>\n",
       "      <td>0.0</td>\n",
       "      <td>19.0</td>\n",
       "      <td>0.0</td>\n",
       "      <td>12.9</td>\n",
       "      <td>0.0</td>\n",
       "      <td>...</td>\n",
       "      <td>37.2</td>\n",
       "      <td>0.0</td>\n",
       "      <td>0.424</td>\n",
       "      <td>1.0</td>\n",
       "      <td>75.6</td>\n",
       "      <td>0.0</td>\n",
       "      <td>60.6</td>\n",
       "      <td>0.0</td>\n",
       "      <td>7.9</td>\n",
       "      <td>1.0</td>\n",
       "    </tr>\n",
       "    <tr>\n",
       "      <th>1</th>\n",
       "      <td>109270.0</td>\n",
       "      <td>17900.682903</td>\n",
       "      <td>9.33</td>\n",
       "      <td>0.0</td>\n",
       "      <td>106.0</td>\n",
       "      <td>0.0</td>\n",
       "      <td>184.0</td>\n",
       "      <td>0.0</td>\n",
       "      <td>91.0</td>\n",
       "      <td>0.0</td>\n",
       "      <td>...</td>\n",
       "      <td>210.0</td>\n",
       "      <td>0.0</td>\n",
       "      <td>5.630</td>\n",
       "      <td>0.0</td>\n",
       "      <td>298.0</td>\n",
       "      <td>0.0</td>\n",
       "      <td>257.0</td>\n",
       "      <td>0.0</td>\n",
       "      <td>7.9</td>\n",
       "      <td>1.0</td>\n",
       "    </tr>\n",
       "    <tr>\n",
       "      <th>2</th>\n",
       "      <td>109273.0</td>\n",
       "      <td>80106.859617</td>\n",
       "      <td>90.10</td>\n",
       "      <td>0.0</td>\n",
       "      <td>491.0</td>\n",
       "      <td>0.0</td>\n",
       "      <td>122.0</td>\n",
       "      <td>0.0</td>\n",
       "      <td>543.0</td>\n",
       "      <td>0.0</td>\n",
       "      <td>...</td>\n",
       "      <td>213.0</td>\n",
       "      <td>0.0</td>\n",
       "      <td>31.200</td>\n",
       "      <td>0.0</td>\n",
       "      <td>438.0</td>\n",
       "      <td>0.0</td>\n",
       "      <td>927.0</td>\n",
       "      <td>0.0</td>\n",
       "      <td>7.9</td>\n",
       "      <td>1.0</td>\n",
       "    </tr>\n",
       "    <tr>\n",
       "      <th>3</th>\n",
       "      <td>109274.0</td>\n",
       "      <td>24512.276280</td>\n",
       "      <td>39.90</td>\n",
       "      <td>0.0</td>\n",
       "      <td>118.0</td>\n",
       "      <td>0.0</td>\n",
       "      <td>90.0</td>\n",
       "      <td>0.0</td>\n",
       "      <td>129.0</td>\n",
       "      <td>0.0</td>\n",
       "      <td>...</td>\n",
       "      <td>222.0</td>\n",
       "      <td>0.0</td>\n",
       "      <td>9.710</td>\n",
       "      <td>0.0</td>\n",
       "      <td>230.0</td>\n",
       "      <td>0.0</td>\n",
       "      <td>2350.0</td>\n",
       "      <td>0.0</td>\n",
       "      <td>37.2</td>\n",
       "      <td>0.0</td>\n",
       "    </tr>\n",
       "    <tr>\n",
       "      <th>4</th>\n",
       "      <td>109287.0</td>\n",
       "      <td>25828.523003</td>\n",
       "      <td>14.70</td>\n",
       "      <td>0.0</td>\n",
       "      <td>121.0</td>\n",
       "      <td>0.0</td>\n",
       "      <td>135.0</td>\n",
       "      <td>0.0</td>\n",
       "      <td>64.0</td>\n",
       "      <td>0.0</td>\n",
       "      <td>...</td>\n",
       "      <td>1270.0</td>\n",
       "      <td>0.0</td>\n",
       "      <td>11.200</td>\n",
       "      <td>0.0</td>\n",
       "      <td>807.0</td>\n",
       "      <td>0.0</td>\n",
       "      <td>240.0</td>\n",
       "      <td>0.0</td>\n",
       "      <td>7.9</td>\n",
       "      <td>1.0</td>\n",
       "    </tr>\n",
       "  </tbody>\n",
       "</table>\n",
       "<p>5 rows × 44 columns</p>\n",
       "</div>"
      ],
      "text/plain": [
       "   participant_id       WTSAPRP  2_methylhippuric_acid_ng_ml  \\\n",
       "0        109266.0  28660.015986                         3.54   \n",
       "1        109270.0  17900.682903                         9.33   \n",
       "2        109273.0  80106.859617                        90.10   \n",
       "3        109274.0  24512.276280                        39.90   \n",
       "4        109287.0  25828.523003                        14.70   \n",
       "\n",
       "   2_methylhippuric_acid_comment  3__and_4_methylhippuric_acid_ng_ml  \\\n",
       "0                            1.0                                18.7   \n",
       "1                            0.0                               106.0   \n",
       "2                            0.0                               491.0   \n",
       "3                            0.0                               118.0   \n",
       "4                            0.0                               121.0   \n",
       "\n",
       "   3__and_4_methylhippuric_acid_comment  \\\n",
       "0                                   0.0   \n",
       "1                                   0.0   \n",
       "2                                   0.0   \n",
       "3                                   0.0   \n",
       "4                                   0.0   \n",
       "\n",
       "   n_acetyl_s_2_carbamoylethyl_l_cysteine_ng_ml  \\\n",
       "0                                          19.0   \n",
       "1                                         184.0   \n",
       "2                                         122.0   \n",
       "3                                          90.0   \n",
       "4                                         135.0   \n",
       "\n",
       "   n_acetyl_s_2_carbamoylethyl_l_cysteine_comment  \\\n",
       "0                                             0.0   \n",
       "1                                             0.0   \n",
       "2                                             0.0   \n",
       "3                                             0.0   \n",
       "4                                             0.0   \n",
       "\n",
       "   n_acetyl_s_n_methylcarbamoyl_l_cysteine_ng_ml  \\\n",
       "0                                           12.9   \n",
       "1                                           91.0   \n",
       "2                                          543.0   \n",
       "3                                          129.0   \n",
       "4                                           64.0   \n",
       "\n",
       "   n_acetyl_s_n_methylcarbamoyl_l_cysteine_comment  ...  mandelic_acid_ng_ml  \\\n",
       "0                                              0.0  ...                 37.2   \n",
       "1                                              0.0  ...                210.0   \n",
       "2                                              0.0  ...                213.0   \n",
       "3                                              0.0  ...                222.0   \n",
       "4                                              0.0  ...               1270.0   \n",
       "\n",
       "   mandelic_acid_comment  n_acetyl_s_4_hydroxy_2_butenyl_l_cysteine_ng_ml  \\\n",
       "0                    0.0                                            0.424   \n",
       "1                    0.0                                            5.630   \n",
       "2                    0.0                                           31.200   \n",
       "3                    0.0                                            9.710   \n",
       "4                    0.0                                           11.200   \n",
       "\n",
       "   n_acetyl_s_4_hydroxy_2_butenyl_l_cysteine_comment  \\\n",
       "0                                                1.0   \n",
       "1                                                0.0   \n",
       "2                                                0.0   \n",
       "3                                                0.0   \n",
       "4                                                0.0   \n",
       "\n",
       "   phenylglyoxylic_acid_ng_ml  phenylglyoxylic_acid_comment  \\\n",
       "0                        75.6                           0.0   \n",
       "1                       298.0                           0.0   \n",
       "2                       438.0                           0.0   \n",
       "3                       230.0                           0.0   \n",
       "4                       807.0                           0.0   \n",
       "\n",
       "   n_acetyl_s_3_hydroxypropyl_1_methyl_l_cysteine_ng_ml  \\\n",
       "0                                               60.6      \n",
       "1                                              257.0      \n",
       "2                                              927.0      \n",
       "3                                             2350.0      \n",
       "4                                              240.0      \n",
       "\n",
       "   n_acetyl_s_3_hydroxypropyl_1_methyl_l_cysteine_comment  \\\n",
       "0                                                0.0        \n",
       "1                                                0.0        \n",
       "2                                                0.0        \n",
       "3                                                0.0        \n",
       "4                                                0.0        \n",
       "\n",
       "   2_thioxothiazolidine_4_carboxylic_acid  \\\n",
       "0                                     7.9   \n",
       "1                                     7.9   \n",
       "2                                     7.9   \n",
       "3                                    37.2   \n",
       "4                                     7.9   \n",
       "\n",
       "   2_thioxothiazolidine_4_carboxylic_acid_comment  \n",
       "0                                             1.0  \n",
       "1                                             1.0  \n",
       "2                                             1.0  \n",
       "3                                             0.0  \n",
       "4                                             1.0  \n",
       "\n",
       "[5 rows x 44 columns]"
      ]
     },
     "execution_count": 141,
     "metadata": {},
     "output_type": "execute_result"
    }
   ],
   "source": [
    "df13_cleaned.head()"
   ]
  },
  {
   "cell_type": "code",
   "execution_count": 142,
   "id": "a3f536a0-fb7b-48ff-b253-e0fe639f2172",
   "metadata": {},
   "outputs": [],
   "source": [
    "df13_cleaned = df13_cleaned.drop('WTSAPRP',axis=1)"
   ]
  },
  {
   "cell_type": "code",
   "execution_count": 143,
   "id": "6fb82105-1a28-425b-b058-009ced5fb84b",
   "metadata": {},
   "outputs": [
    {
     "data": {
      "text/plain": [
       "participant_id                                                0\n",
       "2_methylhippuric_acid_ng_ml                                 565\n",
       "2_methylhippuric_acid_comment                               565\n",
       "3__and_4_methylhippuric_acid_ng_ml                          565\n",
       "3__and_4_methylhippuric_acid_comment                        565\n",
       "n_acetyl_s_2_carbamoylethyl_l_cysteine_ng_ml                565\n",
       "n_acetyl_s_2_carbamoylethyl_l_cysteine_comment              565\n",
       "n_acetyl_s_n_methylcarbamoyl_l_cysteine_ng_ml               565\n",
       "n_acetyl_s_n_methylcarbamoyl_l_cysteine_comment             565\n",
       "2_aminothiazoline_4_carboxylic_acid_ng_ml                   565\n",
       "2_aminothiazoline_4_carboxylic_acid_comment                 565\n",
       "n_acetyl_s_benzyl_l_cysteine_ng_ml                          565\n",
       "n_acetyl_s_benzyl_l_cysteine_comment                        565\n",
       "n_acetyl_s_n_propyl_l_cysteine_ng_ml                        565\n",
       "n_acetyl_s_n_propyl_l_cysteine_comment                      565\n",
       "n_acetyl_s_2_carboxyethyl_l_cysteine_ng_ml                  565\n",
       "n_acetyl_s_2_carboxyethyl_l_cysteine_comment                565\n",
       "n_acetyl_s_1_cyano_2_hydroxyethyl_l_cysteine_ng_ml          565\n",
       "URDCYALC                                                    565\n",
       "n_acetyl_s_2_cyanoethyl_l_cysteine_ng_ml                    565\n",
       "n_acetyl_s_2_cyanoethyl_l_cysteine_comment                  565\n",
       "n_acetyl_s_34_dihydroxybutyl_l_cysteine_ng_ml               565\n",
       "n_acetyl_s_34_dihydroxybutyl_l_cysteine_comment             565\n",
       "n_acetyl_s_2_carbamoyl_2_hydroxyethyl_l_cysteine_ng_ml      565\n",
       "n_acetyl_s_2_carbamoyl_2_hydroxyethyl_l_cysteine_comment    565\n",
       "n_acetyl_s_2_hydroxyethyl_l_cysteine_ng_ml                  565\n",
       "n_acetyl_s_2_hydroxyethyl_l_cysteine_comment                565\n",
       "n_acetyl_s_2_hydroxypropyl_l_cysteine_ng_ml                 565\n",
       "n_acetyl_s_2_hydroxypropyl_l_cysteine_comment               565\n",
       "n_acetyl_s_3_hydroxypropyl_l_cysteine_ng_ml                 565\n",
       "n_acetyl_s_3_hydroxypropyl_l_cysteine_comment               565\n",
       "n_acetyl_s_4_hydroxy_2_methyl_2_butenyl_l_cysteine_ng_ml    566\n",
       "URDPM3LC                                                    566\n",
       "mandelic_acid_ng_ml                                         565\n",
       "mandelic_acid_comment                                       565\n",
       "n_acetyl_s_4_hydroxy_2_butenyl_l_cysteine_ng_ml             565\n",
       "n_acetyl_s_4_hydroxy_2_butenyl_l_cysteine_comment           565\n",
       "phenylglyoxylic_acid_ng_ml                                  565\n",
       "phenylglyoxylic_acid_comment                                565\n",
       "n_acetyl_s_3_hydroxypropyl_1_methyl_l_cysteine_ng_ml        565\n",
       "n_acetyl_s_3_hydroxypropyl_1_methyl_l_cysteine_comment      565\n",
       "2_thioxothiazolidine_4_carboxylic_acid                      565\n",
       "2_thioxothiazolidine_4_carboxylic_acid_comment              565\n",
       "dtype: int64"
      ]
     },
     "execution_count": 143,
     "metadata": {},
     "output_type": "execute_result"
    }
   ],
   "source": [
    "df13_cleaned.isnull().sum()"
   ]
  },
  {
   "cell_type": "code",
   "execution_count": 144,
   "id": "caa2bbae-31db-4b32-a1bb-cdde1f899b6c",
   "metadata": {},
   "outputs": [],
   "source": [
    "# The three columns were missed since they did not follow the exact pattern. They were manually renamed\n",
    "\n",
    "df13_cleaned = df13_cleaned.rename(columns ={\n",
    "    'SEQN':'participant_id',\n",
    "    'URDCYALC':'n_acetyl_s_1_cyano_2_hydroxyethyl_l_cysteine_comment',\n",
    "    'URDPM3LC': 'n_acetyl_s_4_hydroxy_2_methyl_2_butenyl_l_cysteine_comment'\n",
    "})"
   ]
  },
  {
   "cell_type": "code",
   "execution_count": 145,
   "id": "744b9614-8efe-46c7-b3d2-07ac2608e7e8",
   "metadata": {},
   "outputs": [
    {
     "data": {
      "text/plain": [
       "['participant_id',\n",
       " '2_methylhippuric_acid_ng_ml',\n",
       " '2_methylhippuric_acid_comment',\n",
       " '3__and_4_methylhippuric_acid_ng_ml',\n",
       " '3__and_4_methylhippuric_acid_comment',\n",
       " 'n_acetyl_s_2_carbamoylethyl_l_cysteine_ng_ml',\n",
       " 'n_acetyl_s_2_carbamoylethyl_l_cysteine_comment',\n",
       " 'n_acetyl_s_n_methylcarbamoyl_l_cysteine_ng_ml',\n",
       " 'n_acetyl_s_n_methylcarbamoyl_l_cysteine_comment',\n",
       " '2_aminothiazoline_4_carboxylic_acid_ng_ml',\n",
       " '2_aminothiazoline_4_carboxylic_acid_comment',\n",
       " 'n_acetyl_s_benzyl_l_cysteine_ng_ml',\n",
       " 'n_acetyl_s_benzyl_l_cysteine_comment',\n",
       " 'n_acetyl_s_n_propyl_l_cysteine_ng_ml',\n",
       " 'n_acetyl_s_n_propyl_l_cysteine_comment',\n",
       " 'n_acetyl_s_2_carboxyethyl_l_cysteine_ng_ml',\n",
       " 'n_acetyl_s_2_carboxyethyl_l_cysteine_comment',\n",
       " 'n_acetyl_s_1_cyano_2_hydroxyethyl_l_cysteine_ng_ml',\n",
       " 'n_acetyl_s_1_cyano_2_hydroxyethyl_l_cysteine_comment',\n",
       " 'n_acetyl_s_2_cyanoethyl_l_cysteine_ng_ml',\n",
       " 'n_acetyl_s_2_cyanoethyl_l_cysteine_comment',\n",
       " 'n_acetyl_s_34_dihydroxybutyl_l_cysteine_ng_ml',\n",
       " 'n_acetyl_s_34_dihydroxybutyl_l_cysteine_comment',\n",
       " 'n_acetyl_s_2_carbamoyl_2_hydroxyethyl_l_cysteine_ng_ml',\n",
       " 'n_acetyl_s_2_carbamoyl_2_hydroxyethyl_l_cysteine_comment',\n",
       " 'n_acetyl_s_2_hydroxyethyl_l_cysteine_ng_ml',\n",
       " 'n_acetyl_s_2_hydroxyethyl_l_cysteine_comment',\n",
       " 'n_acetyl_s_2_hydroxypropyl_l_cysteine_ng_ml',\n",
       " 'n_acetyl_s_2_hydroxypropyl_l_cysteine_comment',\n",
       " 'n_acetyl_s_3_hydroxypropyl_l_cysteine_ng_ml',\n",
       " 'n_acetyl_s_3_hydroxypropyl_l_cysteine_comment',\n",
       " 'n_acetyl_s_4_hydroxy_2_methyl_2_butenyl_l_cysteine_ng_ml',\n",
       " 'n_acetyl_s_4_hydroxy_2_methyl_2_butenyl_l_cysteine_comment',\n",
       " 'mandelic_acid_ng_ml',\n",
       " 'mandelic_acid_comment',\n",
       " 'n_acetyl_s_4_hydroxy_2_butenyl_l_cysteine_ng_ml',\n",
       " 'n_acetyl_s_4_hydroxy_2_butenyl_l_cysteine_comment',\n",
       " 'phenylglyoxylic_acid_ng_ml',\n",
       " 'phenylglyoxylic_acid_comment',\n",
       " 'n_acetyl_s_3_hydroxypropyl_1_methyl_l_cysteine_ng_ml',\n",
       " 'n_acetyl_s_3_hydroxypropyl_1_methyl_l_cysteine_comment',\n",
       " '2_thioxothiazolidine_4_carboxylic_acid',\n",
       " '2_thioxothiazolidine_4_carboxylic_acid_comment']"
      ]
     },
     "execution_count": 145,
     "metadata": {},
     "output_type": "execute_result"
    }
   ],
   "source": [
    "df13_cleaned.columns.to_list()"
   ]
  },
  {
   "cell_type": "code",
   "execution_count": 146,
   "id": "6ac54d95-269a-4824-b8af-262b387b77f5",
   "metadata": {},
   "outputs": [
    {
     "name": "stdout",
     "output_type": "stream",
     "text": [
      "Number of rows missing all VOC values: 565\n"
     ]
    }
   ],
   "source": [
    "value_cols = [col for col in df13_cleaned.columns if col != 'participant_id']\n",
    "rows_all_nan = df13_cleaned[value_cols].isna().all(axis=1)\n",
    "print(f\"Number of rows missing all VOC values: {rows_all_nan.sum()}\")"
   ]
  },
  {
   "cell_type": "code",
   "execution_count": 147,
   "id": "f04fa778-3cf3-4f5a-a808-2c4bed87cdcc",
   "metadata": {},
   "outputs": [
    {
     "name": "stdout",
     "output_type": "stream",
     "text": [
      "Number of rows dropped: 565\n"
     ]
    }
   ],
   "source": [
    "# Drop rows where all value columns are NaN (excluding participant_id)\n",
    "df13_cleaned = df13_cleaned[~rows_all_nan].copy()\n",
    "\n",
    "print(f\"Number of rows dropped: {rows_all_nan.sum()}\")\n"
   ]
  },
  {
   "cell_type": "code",
   "execution_count": 148,
   "id": "4505350d-e0ac-47c2-91f9-e0722f64b391",
   "metadata": {},
   "outputs": [],
   "source": [
    "file_path = '2017-2020/urine/15.P_UVOC2.xpt'\n",
    "\n",
    "df14, meta = pyreadstat.read_xport(file_path)\n",
    "df14 = standardize_id_column(df14)"
   ]
  },
  {
   "cell_type": "code",
   "execution_count": 149,
   "id": "c91d6379-3f81-4fe0-84f6-737372bc45da",
   "metadata": {},
   "outputs": [
    {
     "data": {
      "text/html": [
       "<div>\n",
       "<style scoped>\n",
       "    .dataframe tbody tr th:only-of-type {\n",
       "        vertical-align: middle;\n",
       "    }\n",
       "\n",
       "    .dataframe tbody tr th {\n",
       "        vertical-align: top;\n",
       "    }\n",
       "\n",
       "    .dataframe thead th {\n",
       "        text-align: right;\n",
       "    }\n",
       "</style>\n",
       "<table border=\"1\" class=\"dataframe\">\n",
       "  <thead>\n",
       "    <tr style=\"text-align: right;\">\n",
       "      <th></th>\n",
       "      <th>participant_id</th>\n",
       "      <th>WTVOC2PP</th>\n",
       "      <th>URXMUCA</th>\n",
       "      <th>URDMUCLC</th>\n",
       "      <th>URXPHMA</th>\n",
       "      <th>URDPMALC</th>\n",
       "    </tr>\n",
       "  </thead>\n",
       "  <tbody>\n",
       "    <tr>\n",
       "      <th>0</th>\n",
       "      <td>109266.0</td>\n",
       "      <td>29122.785906</td>\n",
       "      <td>6.94</td>\n",
       "      <td>1.0</td>\n",
       "      <td>0.106</td>\n",
       "      <td>1.0</td>\n",
       "    </tr>\n",
       "    <tr>\n",
       "      <th>1</th>\n",
       "      <td>109270.0</td>\n",
       "      <td>18436.336755</td>\n",
       "      <td>213.00</td>\n",
       "      <td>0.0</td>\n",
       "      <td>0.185</td>\n",
       "      <td>0.0</td>\n",
       "    </tr>\n",
       "    <tr>\n",
       "      <th>2</th>\n",
       "      <td>109273.0</td>\n",
       "      <td>93177.905637</td>\n",
       "      <td>147.00</td>\n",
       "      <td>0.0</td>\n",
       "      <td>1.100</td>\n",
       "      <td>0.0</td>\n",
       "    </tr>\n",
       "    <tr>\n",
       "      <th>3</th>\n",
       "      <td>109274.0</td>\n",
       "      <td>27374.984127</td>\n",
       "      <td>244.00</td>\n",
       "      <td>0.0</td>\n",
       "      <td>0.171</td>\n",
       "      <td>0.0</td>\n",
       "    </tr>\n",
       "    <tr>\n",
       "      <th>4</th>\n",
       "      <td>109287.0</td>\n",
       "      <td>25946.229537</td>\n",
       "      <td>130.00</td>\n",
       "      <td>0.0</td>\n",
       "      <td>0.153</td>\n",
       "      <td>0.0</td>\n",
       "    </tr>\n",
       "  </tbody>\n",
       "</table>\n",
       "</div>"
      ],
      "text/plain": [
       "   participant_id      WTVOC2PP  URXMUCA  URDMUCLC  URXPHMA  URDPMALC\n",
       "0        109266.0  29122.785906     6.94       1.0    0.106       1.0\n",
       "1        109270.0  18436.336755   213.00       0.0    0.185       0.0\n",
       "2        109273.0  93177.905637   147.00       0.0    1.100       0.0\n",
       "3        109274.0  27374.984127   244.00       0.0    0.171       0.0\n",
       "4        109287.0  25946.229537   130.00       0.0    0.153       0.0"
      ]
     },
     "execution_count": 149,
     "metadata": {},
     "output_type": "execute_result"
    }
   ],
   "source": [
    "df14.head()"
   ]
  },
  {
   "cell_type": "code",
   "execution_count": 150,
   "id": "c01b49e6-f1ed-4e0d-b9cc-4502991d626f",
   "metadata": {},
   "outputs": [],
   "source": [
    "df14 = df14.rename(columns={\n",
    "    'URXMUCA': 'trans_trans_muconic_acid_ng_ml',\n",
    "    'URDMUCLC': 'trans_trans_muconic_acid_comment',\n",
    "    'URXPHMA': 'phenylmercapturic_acid_ng_ml',\n",
    "    'URDPMALC': 'phenylmercapturic_acid_comment'\n",
    "})   "
   ]
  },
  {
   "cell_type": "code",
   "execution_count": 151,
   "id": "3c5e50df-7614-4413-9700-47920b7b67b6",
   "metadata": {},
   "outputs": [],
   "source": [
    "df14 = df14.drop('WTVOC2PP', axis=1)"
   ]
  },
  {
   "cell_type": "code",
   "execution_count": 152,
   "id": "79913626-6bd9-4eee-8d7e-0572d0bbde2b",
   "metadata": {},
   "outputs": [
    {
     "data": {
      "text/plain": [
       "participant_id                        0\n",
       "trans_trans_muconic_acid_ng_ml      994\n",
       "trans_trans_muconic_acid_comment    994\n",
       "phenylmercapturic_acid_ng_ml        994\n",
       "phenylmercapturic_acid_comment      994\n",
       "dtype: int64"
      ]
     },
     "execution_count": 152,
     "metadata": {},
     "output_type": "execute_result"
    }
   ],
   "source": [
    "df14.isnull().sum()"
   ]
  },
  {
   "cell_type": "code",
   "execution_count": 153,
   "id": "d4d3c5f6-b430-469b-8d49-c3b3c00a5a46",
   "metadata": {},
   "outputs": [
    {
     "name": "stdout",
     "output_type": "stream",
     "text": [
      "Number of NaNs in trans_trans_muconic_acid_ng_ml: 994\n",
      "Number of NaNs in phenylmercapturic_acid_ng_ml: 994\n",
      "Number of IDs with NaNs in both columns: 994\n"
     ]
    }
   ],
   "source": [
    "common_nan = get_common_nan_ids(df14, 'trans_trans_muconic_acid_ng_ml', 'phenylmercapturic_acid_ng_ml', id_col='participant_id')"
   ]
  },
  {
   "cell_type": "code",
   "execution_count": 154,
   "id": "b5a10769-7d71-4889-8b5b-3bf8a4e81323",
   "metadata": {},
   "outputs": [
    {
     "name": "stdout",
     "output_type": "stream",
     "text": [
      "Rows dropped where both trans_trans_muconic_acid_ng_ml and phenylmercapturic_acid_ng_ml were NaN: 994\n"
     ]
    }
   ],
   "source": [
    "df14_cleaned = drop_rows_with_common_nan_ids(df14, 'trans_trans_muconic_acid_ng_ml', 'phenylmercapturic_acid_ng_ml', id_col='participant_id')"
   ]
  },
  {
   "cell_type": "markdown",
   "id": "d59b269d-6a03-46fb-aeba-205c07e167d1",
   "metadata": {},
   "source": [
    "All of the urine labs have been cleaned. The dataframes from all of the urine labs will be collated into one large dataframe named urine_labs into csv file."
   ]
  },
  {
   "cell_type": "code",
   "execution_count": 155,
   "id": "2c50d4c7-bf6a-4c83-8b58-8f710f5031a3",
   "metadata": {},
   "outputs": [
    {
     "name": "stdout",
     "output_type": "stream",
     "text": [
      "['__', 'df_demo', '_4', '_9', '_13', '_15', '_18', 'df_bmx', '_21', '_29', '_31', 'df', '_36', 'df_cleaned', 'df1', '_45', 'df2', '_56', 'df2_cleaned', 'df3', '_63', 'df4', '_70', 'df4_cleaned', '_77', 'df5', 'df5_cleaned', 'df6', 'df6_clean', 'df7', '_92', 'df7_clean', '_97', 'df8', '_102', 'df8_cleaned', 'df9', '_112', 'df10', '_114', 'df10_cleaned', 'df11', '_125', 'df11_cleaned', 'df12', '_133', 'df13', 'df_info', 'df13_cleaned', '_141', 'df14', '_149', 'df14_cleaned']\n"
     ]
    }
   ],
   "source": [
    "df_names = [var for var in globals() if isinstance(globals()[var], pd.DataFrame)]\n",
    "print(df_names)"
   ]
  },
  {
   "cell_type": "code",
   "execution_count": 156,
   "id": "b7a8bd6c-b1d6-49f7-9c1a-3e4b6ae1af70",
   "metadata": {},
   "outputs": [],
   "source": [
    "urine_dfs = [\n",
    "    df_cleaned,\n",
    "    df1,\n",
    "    df2_cleaned,\n",
    "    df3,\n",
    "    df4_cleaned,\n",
    "    df5_cleaned,\n",
    "    df6_clean,\n",
    "    df7_clean,\n",
    "    df8_cleaned,\n",
    "    df9,\n",
    "    df10_cleaned,\n",
    "    df11_cleaned,\n",
    "    df12,\n",
    "    df13_cleaned,\n",
    "    df14_cleaned\n",
    "]\n",
    "\n",
    "from functools import reduce\n",
    "\n",
    "df_urine_combined = reduce(\n",
    "    lambda left, right: pd.merge(left, right, on=\"participant_id\", how=\"outer\"),\n",
    "    urine_dfs\n",
    ")"
   ]
  },
  {
   "cell_type": "code",
   "execution_count": 157,
   "id": "23cfb9ce-dd8d-4d96-b9cf-099bf1a4f962",
   "metadata": {},
   "outputs": [],
   "source": [
    "df_urine_combined.to_csv(\"cleaned_urine_labs_combined.csv\", index=False)"
   ]
  },
  {
   "cell_type": "code",
   "execution_count": 158,
   "id": "5e851d5d-a0f0-47ce-8d77-e170c8ee3319",
   "metadata": {},
   "outputs": [
    {
     "data": {
      "text/html": [
       "<div>\n",
       "<style scoped>\n",
       "    .dataframe tbody tr th:only-of-type {\n",
       "        vertical-align: middle;\n",
       "    }\n",
       "\n",
       "    .dataframe tbody tr th {\n",
       "        vertical-align: top;\n",
       "    }\n",
       "\n",
       "    .dataframe thead th {\n",
       "        text-align: right;\n",
       "    }\n",
       "</style>\n",
       "<table border=\"1\" class=\"dataframe\">\n",
       "  <thead>\n",
       "    <tr style=\"text-align: right;\">\n",
       "      <th></th>\n",
       "      <th>participant_id</th>\n",
       "      <th>albumin_urine_ug_mL</th>\n",
       "      <th>albumin_urine_mg_L</th>\n",
       "      <th>alb_comment</th>\n",
       "      <th>creatinine_urine_mg_dL</th>\n",
       "      <th>creatinine_urine_umol_L</th>\n",
       "      <th>creatinine_comment</th>\n",
       "      <th>alb_creat_ratio</th>\n",
       "      <th>arsenous_acid_ug_L</th>\n",
       "      <th>arsenous_acid_comment</th>\n",
       "      <th>...</th>\n",
       "      <th>phenylglyoxylic_acid_ng_ml</th>\n",
       "      <th>phenylglyoxylic_acid_comment</th>\n",
       "      <th>n_acetyl_s_3_hydroxypropyl_1_methyl_l_cysteine_ng_ml</th>\n",
       "      <th>n_acetyl_s_3_hydroxypropyl_1_methyl_l_cysteine_comment</th>\n",
       "      <th>2_thioxothiazolidine_4_carboxylic_acid</th>\n",
       "      <th>2_thioxothiazolidine_4_carboxylic_acid_comment</th>\n",
       "      <th>trans_trans_muconic_acid_ng_ml</th>\n",
       "      <th>trans_trans_muconic_acid_comment</th>\n",
       "      <th>phenylmercapturic_acid_ng_ml</th>\n",
       "      <th>phenylmercapturic_acid_comment</th>\n",
       "    </tr>\n",
       "  </thead>\n",
       "  <tbody>\n",
       "    <tr>\n",
       "      <th>0</th>\n",
       "      <td>109266.0</td>\n",
       "      <td>5.5</td>\n",
       "      <td>5.5</td>\n",
       "      <td>0.0</td>\n",
       "      <td>36.0</td>\n",
       "      <td>3182.4</td>\n",
       "      <td>0.0</td>\n",
       "      <td>15.28</td>\n",
       "      <td>0.08</td>\n",
       "      <td>1.0</td>\n",
       "      <td>...</td>\n",
       "      <td>75.6</td>\n",
       "      <td>0.0</td>\n",
       "      <td>60.6</td>\n",
       "      <td>0.0</td>\n",
       "      <td>7.9</td>\n",
       "      <td>1.0</td>\n",
       "      <td>6.94</td>\n",
       "      <td>1.0</td>\n",
       "      <td>0.106</td>\n",
       "      <td>1.0</td>\n",
       "    </tr>\n",
       "    <tr>\n",
       "      <th>1</th>\n",
       "      <td>109270.0</td>\n",
       "      <td>4.0</td>\n",
       "      <td>4.0</td>\n",
       "      <td>0.0</td>\n",
       "      <td>165.0</td>\n",
       "      <td>14586.0</td>\n",
       "      <td>0.0</td>\n",
       "      <td>2.42</td>\n",
       "      <td>0.51</td>\n",
       "      <td>0.0</td>\n",
       "      <td>...</td>\n",
       "      <td>298.0</td>\n",
       "      <td>0.0</td>\n",
       "      <td>257.0</td>\n",
       "      <td>0.0</td>\n",
       "      <td>7.9</td>\n",
       "      <td>1.0</td>\n",
       "      <td>213.00</td>\n",
       "      <td>0.0</td>\n",
       "      <td>0.185</td>\n",
       "      <td>0.0</td>\n",
       "    </tr>\n",
       "    <tr>\n",
       "      <th>2</th>\n",
       "      <td>109271.0</td>\n",
       "      <td>2.4</td>\n",
       "      <td>2.4</td>\n",
       "      <td>0.0</td>\n",
       "      <td>32.0</td>\n",
       "      <td>2828.8</td>\n",
       "      <td>0.0</td>\n",
       "      <td>7.50</td>\n",
       "      <td>NaN</td>\n",
       "      <td>NaN</td>\n",
       "      <td>...</td>\n",
       "      <td>NaN</td>\n",
       "      <td>NaN</td>\n",
       "      <td>NaN</td>\n",
       "      <td>NaN</td>\n",
       "      <td>NaN</td>\n",
       "      <td>NaN</td>\n",
       "      <td>NaN</td>\n",
       "      <td>NaN</td>\n",
       "      <td>NaN</td>\n",
       "      <td>NaN</td>\n",
       "    </tr>\n",
       "    <tr>\n",
       "      <th>3</th>\n",
       "      <td>109273.0</td>\n",
       "      <td>4.9</td>\n",
       "      <td>4.9</td>\n",
       "      <td>0.0</td>\n",
       "      <td>121.0</td>\n",
       "      <td>10696.4</td>\n",
       "      <td>0.0</td>\n",
       "      <td>4.05</td>\n",
       "      <td>0.08</td>\n",
       "      <td>1.0</td>\n",
       "      <td>...</td>\n",
       "      <td>438.0</td>\n",
       "      <td>0.0</td>\n",
       "      <td>927.0</td>\n",
       "      <td>0.0</td>\n",
       "      <td>7.9</td>\n",
       "      <td>1.0</td>\n",
       "      <td>147.00</td>\n",
       "      <td>0.0</td>\n",
       "      <td>1.100</td>\n",
       "      <td>0.0</td>\n",
       "    </tr>\n",
       "    <tr>\n",
       "      <th>4</th>\n",
       "      <td>109274.0</td>\n",
       "      <td>12.8</td>\n",
       "      <td>12.8</td>\n",
       "      <td>0.0</td>\n",
       "      <td>120.0</td>\n",
       "      <td>10608.0</td>\n",
       "      <td>0.0</td>\n",
       "      <td>10.67</td>\n",
       "      <td>0.08</td>\n",
       "      <td>1.0</td>\n",
       "      <td>...</td>\n",
       "      <td>230.0</td>\n",
       "      <td>0.0</td>\n",
       "      <td>2350.0</td>\n",
       "      <td>0.0</td>\n",
       "      <td>37.2</td>\n",
       "      <td>0.0</td>\n",
       "      <td>244.00</td>\n",
       "      <td>0.0</td>\n",
       "      <td>0.171</td>\n",
       "      <td>0.0</td>\n",
       "    </tr>\n",
       "    <tr>\n",
       "      <th>5</th>\n",
       "      <td>109275.0</td>\n",
       "      <td>3.7</td>\n",
       "      <td>3.7</td>\n",
       "      <td>0.0</td>\n",
       "      <td>20.0</td>\n",
       "      <td>1768.0</td>\n",
       "      <td>0.0</td>\n",
       "      <td>18.50</td>\n",
       "      <td>NaN</td>\n",
       "      <td>NaN</td>\n",
       "      <td>...</td>\n",
       "      <td>NaN</td>\n",
       "      <td>NaN</td>\n",
       "      <td>NaN</td>\n",
       "      <td>NaN</td>\n",
       "      <td>NaN</td>\n",
       "      <td>NaN</td>\n",
       "      <td>NaN</td>\n",
       "      <td>NaN</td>\n",
       "      <td>NaN</td>\n",
       "      <td>NaN</td>\n",
       "    </tr>\n",
       "    <tr>\n",
       "      <th>6</th>\n",
       "      <td>109277.0</td>\n",
       "      <td>14.7</td>\n",
       "      <td>14.7</td>\n",
       "      <td>0.0</td>\n",
       "      <td>244.0</td>\n",
       "      <td>21569.6</td>\n",
       "      <td>0.0</td>\n",
       "      <td>6.02</td>\n",
       "      <td>NaN</td>\n",
       "      <td>NaN</td>\n",
       "      <td>...</td>\n",
       "      <td>NaN</td>\n",
       "      <td>NaN</td>\n",
       "      <td>NaN</td>\n",
       "      <td>NaN</td>\n",
       "      <td>NaN</td>\n",
       "      <td>NaN</td>\n",
       "      <td>NaN</td>\n",
       "      <td>NaN</td>\n",
       "      <td>NaN</td>\n",
       "      <td>NaN</td>\n",
       "    </tr>\n",
       "    <tr>\n",
       "      <th>7</th>\n",
       "      <td>109278.0</td>\n",
       "      <td>8.4</td>\n",
       "      <td>8.4</td>\n",
       "      <td>0.0</td>\n",
       "      <td>124.0</td>\n",
       "      <td>10961.6</td>\n",
       "      <td>0.0</td>\n",
       "      <td>6.77</td>\n",
       "      <td>NaN</td>\n",
       "      <td>NaN</td>\n",
       "      <td>...</td>\n",
       "      <td>NaN</td>\n",
       "      <td>NaN</td>\n",
       "      <td>NaN</td>\n",
       "      <td>NaN</td>\n",
       "      <td>NaN</td>\n",
       "      <td>NaN</td>\n",
       "      <td>NaN</td>\n",
       "      <td>NaN</td>\n",
       "      <td>NaN</td>\n",
       "      <td>NaN</td>\n",
       "    </tr>\n",
       "    <tr>\n",
       "      <th>8</th>\n",
       "      <td>109279.0</td>\n",
       "      <td>13.9</td>\n",
       "      <td>13.9</td>\n",
       "      <td>0.0</td>\n",
       "      <td>251.0</td>\n",
       "      <td>22188.4</td>\n",
       "      <td>0.0</td>\n",
       "      <td>5.54</td>\n",
       "      <td>NaN</td>\n",
       "      <td>NaN</td>\n",
       "      <td>...</td>\n",
       "      <td>NaN</td>\n",
       "      <td>NaN</td>\n",
       "      <td>NaN</td>\n",
       "      <td>NaN</td>\n",
       "      <td>NaN</td>\n",
       "      <td>NaN</td>\n",
       "      <td>NaN</td>\n",
       "      <td>NaN</td>\n",
       "      <td>NaN</td>\n",
       "      <td>NaN</td>\n",
       "    </tr>\n",
       "    <tr>\n",
       "      <th>9</th>\n",
       "      <td>109282.0</td>\n",
       "      <td>16.0</td>\n",
       "      <td>16.0</td>\n",
       "      <td>0.0</td>\n",
       "      <td>192.0</td>\n",
       "      <td>16972.8</td>\n",
       "      <td>0.0</td>\n",
       "      <td>8.33</td>\n",
       "      <td>NaN</td>\n",
       "      <td>NaN</td>\n",
       "      <td>...</td>\n",
       "      <td>NaN</td>\n",
       "      <td>NaN</td>\n",
       "      <td>NaN</td>\n",
       "      <td>NaN</td>\n",
       "      <td>NaN</td>\n",
       "      <td>NaN</td>\n",
       "      <td>NaN</td>\n",
       "      <td>NaN</td>\n",
       "      <td>NaN</td>\n",
       "      <td>NaN</td>\n",
       "    </tr>\n",
       "  </tbody>\n",
       "</table>\n",
       "<p>10 rows × 129 columns</p>\n",
       "</div>"
      ],
      "text/plain": [
       "   participant_id  albumin_urine_ug_mL  albumin_urine_mg_L  alb_comment  \\\n",
       "0        109266.0                  5.5                 5.5          0.0   \n",
       "1        109270.0                  4.0                 4.0          0.0   \n",
       "2        109271.0                  2.4                 2.4          0.0   \n",
       "3        109273.0                  4.9                 4.9          0.0   \n",
       "4        109274.0                 12.8                12.8          0.0   \n",
       "5        109275.0                  3.7                 3.7          0.0   \n",
       "6        109277.0                 14.7                14.7          0.0   \n",
       "7        109278.0                  8.4                 8.4          0.0   \n",
       "8        109279.0                 13.9                13.9          0.0   \n",
       "9        109282.0                 16.0                16.0          0.0   \n",
       "\n",
       "   creatinine_urine_mg_dL  creatinine_urine_umol_L  creatinine_comment  \\\n",
       "0                    36.0                   3182.4                 0.0   \n",
       "1                   165.0                  14586.0                 0.0   \n",
       "2                    32.0                   2828.8                 0.0   \n",
       "3                   121.0                  10696.4                 0.0   \n",
       "4                   120.0                  10608.0                 0.0   \n",
       "5                    20.0                   1768.0                 0.0   \n",
       "6                   244.0                  21569.6                 0.0   \n",
       "7                   124.0                  10961.6                 0.0   \n",
       "8                   251.0                  22188.4                 0.0   \n",
       "9                   192.0                  16972.8                 0.0   \n",
       "\n",
       "   alb_creat_ratio  arsenous_acid_ug_L  arsenous_acid_comment  ...  \\\n",
       "0            15.28                0.08                    1.0  ...   \n",
       "1             2.42                0.51                    0.0  ...   \n",
       "2             7.50                 NaN                    NaN  ...   \n",
       "3             4.05                0.08                    1.0  ...   \n",
       "4            10.67                0.08                    1.0  ...   \n",
       "5            18.50                 NaN                    NaN  ...   \n",
       "6             6.02                 NaN                    NaN  ...   \n",
       "7             6.77                 NaN                    NaN  ...   \n",
       "8             5.54                 NaN                    NaN  ...   \n",
       "9             8.33                 NaN                    NaN  ...   \n",
       "\n",
       "   phenylglyoxylic_acid_ng_ml  phenylglyoxylic_acid_comment  \\\n",
       "0                        75.6                           0.0   \n",
       "1                       298.0                           0.0   \n",
       "2                         NaN                           NaN   \n",
       "3                       438.0                           0.0   \n",
       "4                       230.0                           0.0   \n",
       "5                         NaN                           NaN   \n",
       "6                         NaN                           NaN   \n",
       "7                         NaN                           NaN   \n",
       "8                         NaN                           NaN   \n",
       "9                         NaN                           NaN   \n",
       "\n",
       "   n_acetyl_s_3_hydroxypropyl_1_methyl_l_cysteine_ng_ml  \\\n",
       "0                                               60.6      \n",
       "1                                              257.0      \n",
       "2                                                NaN      \n",
       "3                                              927.0      \n",
       "4                                             2350.0      \n",
       "5                                                NaN      \n",
       "6                                                NaN      \n",
       "7                                                NaN      \n",
       "8                                                NaN      \n",
       "9                                                NaN      \n",
       "\n",
       "   n_acetyl_s_3_hydroxypropyl_1_methyl_l_cysteine_comment  \\\n",
       "0                                                0.0        \n",
       "1                                                0.0        \n",
       "2                                                NaN        \n",
       "3                                                0.0        \n",
       "4                                                0.0        \n",
       "5                                                NaN        \n",
       "6                                                NaN        \n",
       "7                                                NaN        \n",
       "8                                                NaN        \n",
       "9                                                NaN        \n",
       "\n",
       "   2_thioxothiazolidine_4_carboxylic_acid  \\\n",
       "0                                     7.9   \n",
       "1                                     7.9   \n",
       "2                                     NaN   \n",
       "3                                     7.9   \n",
       "4                                    37.2   \n",
       "5                                     NaN   \n",
       "6                                     NaN   \n",
       "7                                     NaN   \n",
       "8                                     NaN   \n",
       "9                                     NaN   \n",
       "\n",
       "   2_thioxothiazolidine_4_carboxylic_acid_comment  \\\n",
       "0                                             1.0   \n",
       "1                                             1.0   \n",
       "2                                             NaN   \n",
       "3                                             1.0   \n",
       "4                                             0.0   \n",
       "5                                             NaN   \n",
       "6                                             NaN   \n",
       "7                                             NaN   \n",
       "8                                             NaN   \n",
       "9                                             NaN   \n",
       "\n",
       "   trans_trans_muconic_acid_ng_ml  trans_trans_muconic_acid_comment  \\\n",
       "0                            6.94                               1.0   \n",
       "1                          213.00                               0.0   \n",
       "2                             NaN                               NaN   \n",
       "3                          147.00                               0.0   \n",
       "4                          244.00                               0.0   \n",
       "5                             NaN                               NaN   \n",
       "6                             NaN                               NaN   \n",
       "7                             NaN                               NaN   \n",
       "8                             NaN                               NaN   \n",
       "9                             NaN                               NaN   \n",
       "\n",
       "   phenylmercapturic_acid_ng_ml  phenylmercapturic_acid_comment  \n",
       "0                         0.106                             1.0  \n",
       "1                         0.185                             0.0  \n",
       "2                           NaN                             NaN  \n",
       "3                         1.100                             0.0  \n",
       "4                         0.171                             0.0  \n",
       "5                           NaN                             NaN  \n",
       "6                           NaN                             NaN  \n",
       "7                           NaN                             NaN  \n",
       "8                           NaN                             NaN  \n",
       "9                           NaN                             NaN  \n",
       "\n",
       "[10 rows x 129 columns]"
      ]
     },
     "execution_count": 158,
     "metadata": {},
     "output_type": "execute_result"
    }
   ],
   "source": [
    "urine_df = pd.read_csv('cleaned_urine_labs_combined.csv')\n",
    "\n",
    "urine_df.head(10)"
   ]
  },
  {
   "cell_type": "code",
   "execution_count": 159,
   "id": "0db46d5d-399e-4cfd-a536-9a520e059b76",
   "metadata": {},
   "outputs": [
    {
     "data": {
      "text/plain": [
       "(12795, 129)"
      ]
     },
     "execution_count": 159,
     "metadata": {},
     "output_type": "execute_result"
    }
   ],
   "source": [
    "urine_df.shape"
   ]
  },
  {
   "cell_type": "markdown",
   "id": "882125cb-9efa-4c18-a9f6-a00d0a82ccad",
   "metadata": {},
   "source": [
    "#### Blood Labs"
   ]
  },
  {
   "cell_type": "markdown",
   "id": "4dcf6920-c5cc-4815-b7a9-e70ce3ed2348",
   "metadata": {},
   "source": [
    "**Alpha-1-acid glycoprotein (AGP)**\n",
    "\n",
    "Alpha-1-acid glycoprotein (AGP), also known as orosomucoid (ORM), is an acute-phase serum protein present in humans and many animal species. It is produced in response to inflammation, although its precise biological role remains under investigation and somewhat ambiguous [2]. According to Ceciliani et al. (2019), AGP may play a role in immunometabolism, a function potentially relevant to understanding the obesity epidemic in the U.S.\n",
    "\n",
    "In the NHANES dataset, AGP levels were measured in children aged 3–5 years and females aged 12–49 years. This data offers an opportunity to explore potential correlations between AGP serum concentrations and obesity prevalence among the female participants in the study."
   ]
  },
  {
   "cell_type": "code",
   "execution_count": 160,
   "id": "65828a52-3c8d-491c-bf52-bd181c513cac",
   "metadata": {},
   "outputs": [],
   "source": [
    "file_path = '2017-2020/blood/1.P_SSAGP.xpt'\n",
    "\n",
    "df_b1, meta = pyreadstat.read_xport(file_path)\n",
    "df_b1 = standardize_id_column(df_b1)"
   ]
  },
  {
   "cell_type": "code",
   "execution_count": 161,
   "id": "996d5dc4-643c-463c-9efd-c7fd9e240ce6",
   "metadata": {},
   "outputs": [
    {
     "data": {
      "text/html": [
       "<div>\n",
       "<style scoped>\n",
       "    .dataframe tbody tr th:only-of-type {\n",
       "        vertical-align: middle;\n",
       "    }\n",
       "\n",
       "    .dataframe tbody tr th {\n",
       "        vertical-align: top;\n",
       "    }\n",
       "\n",
       "    .dataframe thead th {\n",
       "        text-align: right;\n",
       "    }\n",
       "</style>\n",
       "<table border=\"1\" class=\"dataframe\">\n",
       "  <thead>\n",
       "    <tr style=\"text-align: right;\">\n",
       "      <th></th>\n",
       "      <th>participant_id</th>\n",
       "      <th>WTSSAGPP</th>\n",
       "      <th>SSAGP</th>\n",
       "    </tr>\n",
       "  </thead>\n",
       "  <tbody>\n",
       "    <tr>\n",
       "      <th>0</th>\n",
       "      <td>109264.0</td>\n",
       "      <td>0.000000</td>\n",
       "      <td>NaN</td>\n",
       "    </tr>\n",
       "    <tr>\n",
       "      <th>1</th>\n",
       "      <td>109266.0</td>\n",
       "      <td>10003.783188</td>\n",
       "      <td>0.796</td>\n",
       "    </tr>\n",
       "    <tr>\n",
       "      <th>2</th>\n",
       "      <td>109277.0</td>\n",
       "      <td>23329.384783</td>\n",
       "      <td>0.746</td>\n",
       "    </tr>\n",
       "    <tr>\n",
       "      <th>3</th>\n",
       "      <td>109279.0</td>\n",
       "      <td>14416.168293</td>\n",
       "      <td>0.940</td>\n",
       "    </tr>\n",
       "    <tr>\n",
       "      <th>4</th>\n",
       "      <td>109284.0</td>\n",
       "      <td>17705.030492</td>\n",
       "      <td>1.080</td>\n",
       "    </tr>\n",
       "    <tr>\n",
       "      <th>5</th>\n",
       "      <td>109286.0</td>\n",
       "      <td>21951.734438</td>\n",
       "      <td>0.358</td>\n",
       "    </tr>\n",
       "    <tr>\n",
       "      <th>6</th>\n",
       "      <td>109288.0</td>\n",
       "      <td>0.000000</td>\n",
       "      <td>NaN</td>\n",
       "    </tr>\n",
       "    <tr>\n",
       "      <th>7</th>\n",
       "      <td>109291.0</td>\n",
       "      <td>25981.105960</td>\n",
       "      <td>0.766</td>\n",
       "    </tr>\n",
       "    <tr>\n",
       "      <th>8</th>\n",
       "      <td>109297.0</td>\n",
       "      <td>0.000000</td>\n",
       "      <td>NaN</td>\n",
       "    </tr>\n",
       "    <tr>\n",
       "      <th>9</th>\n",
       "      <td>109309.0</td>\n",
       "      <td>0.000000</td>\n",
       "      <td>NaN</td>\n",
       "    </tr>\n",
       "  </tbody>\n",
       "</table>\n",
       "</div>"
      ],
      "text/plain": [
       "   participant_id      WTSSAGPP  SSAGP\n",
       "0        109264.0      0.000000    NaN\n",
       "1        109266.0  10003.783188  0.796\n",
       "2        109277.0  23329.384783  0.746\n",
       "3        109279.0  14416.168293  0.940\n",
       "4        109284.0  17705.030492  1.080\n",
       "5        109286.0  21951.734438  0.358\n",
       "6        109288.0      0.000000    NaN\n",
       "7        109291.0  25981.105960  0.766\n",
       "8        109297.0      0.000000    NaN\n",
       "9        109309.0      0.000000    NaN"
      ]
     },
     "execution_count": 161,
     "metadata": {},
     "output_type": "execute_result"
    }
   ],
   "source": [
    "df_b1.head(10)"
   ]
  },
  {
   "cell_type": "code",
   "execution_count": 162,
   "id": "4d222f76-6dd5-4a5f-8fa2-2a2ef5421e49",
   "metadata": {},
   "outputs": [
    {
     "data": {
      "text/plain": [
       "(3823, 3)"
      ]
     },
     "execution_count": 162,
     "metadata": {},
     "output_type": "execute_result"
    }
   ],
   "source": [
    "df_b1.shape"
   ]
  },
  {
   "cell_type": "code",
   "execution_count": 163,
   "id": "e5c48cd1-035f-42da-bf73-4404fb3c8bbc",
   "metadata": {},
   "outputs": [],
   "source": [
    "df_b1 = df_b1.rename(columns={\n",
    "    'SSAGP': 'alpha_1_agp_g_l'\n",
    "})"
   ]
  },
  {
   "cell_type": "code",
   "execution_count": 164,
   "id": "4acb1c44-3ce1-48da-99a6-f1d19a87ed6e",
   "metadata": {},
   "outputs": [
    {
     "data": {
      "text/html": [
       "<div>\n",
       "<style scoped>\n",
       "    .dataframe tbody tr th:only-of-type {\n",
       "        vertical-align: middle;\n",
       "    }\n",
       "\n",
       "    .dataframe tbody tr th {\n",
       "        vertical-align: top;\n",
       "    }\n",
       "\n",
       "    .dataframe thead th {\n",
       "        text-align: right;\n",
       "    }\n",
       "</style>\n",
       "<table border=\"1\" class=\"dataframe\">\n",
       "  <thead>\n",
       "    <tr style=\"text-align: right;\">\n",
       "      <th></th>\n",
       "      <th>participant_id</th>\n",
       "      <th>WTSSAGPP</th>\n",
       "      <th>alpha_1_agp_g_l</th>\n",
       "    </tr>\n",
       "  </thead>\n",
       "  <tbody>\n",
       "    <tr>\n",
       "      <th>0</th>\n",
       "      <td>109264.0</td>\n",
       "      <td>0.000000</td>\n",
       "      <td>NaN</td>\n",
       "    </tr>\n",
       "    <tr>\n",
       "      <th>1</th>\n",
       "      <td>109266.0</td>\n",
       "      <td>10003.783188</td>\n",
       "      <td>0.796</td>\n",
       "    </tr>\n",
       "    <tr>\n",
       "      <th>2</th>\n",
       "      <td>109277.0</td>\n",
       "      <td>23329.384783</td>\n",
       "      <td>0.746</td>\n",
       "    </tr>\n",
       "    <tr>\n",
       "      <th>3</th>\n",
       "      <td>109279.0</td>\n",
       "      <td>14416.168293</td>\n",
       "      <td>0.940</td>\n",
       "    </tr>\n",
       "    <tr>\n",
       "      <th>4</th>\n",
       "      <td>109284.0</td>\n",
       "      <td>17705.030492</td>\n",
       "      <td>1.080</td>\n",
       "    </tr>\n",
       "  </tbody>\n",
       "</table>\n",
       "</div>"
      ],
      "text/plain": [
       "   participant_id      WTSSAGPP  alpha_1_agp_g_l\n",
       "0        109264.0      0.000000              NaN\n",
       "1        109266.0  10003.783188            0.796\n",
       "2        109277.0  23329.384783            0.746\n",
       "3        109279.0  14416.168293            0.940\n",
       "4        109284.0  17705.030492            1.080"
      ]
     },
     "execution_count": 164,
     "metadata": {},
     "output_type": "execute_result"
    }
   ],
   "source": [
    "df_b1.head()"
   ]
  },
  {
   "cell_type": "code",
   "execution_count": 165,
   "id": "613798b0-121f-447d-8304-b968513fd78f",
   "metadata": {},
   "outputs": [],
   "source": [
    "df_b1 = df_b1.drop('WTSSAGPP', axis=1)"
   ]
  },
  {
   "cell_type": "code",
   "execution_count": 166,
   "id": "908e8222-9304-466c-859b-7abad536ddfa",
   "metadata": {},
   "outputs": [],
   "source": [
    "df_b1 = df_b1.dropna(subset = ['alpha_1_agp_g_l'])"
   ]
  },
  {
   "cell_type": "code",
   "execution_count": 167,
   "id": "8e4b6fd6-c841-4fcd-aec7-ed8f4f95aeb1",
   "metadata": {},
   "outputs": [
    {
     "data": {
      "text/html": [
       "<div>\n",
       "<style scoped>\n",
       "    .dataframe tbody tr th:only-of-type {\n",
       "        vertical-align: middle;\n",
       "    }\n",
       "\n",
       "    .dataframe tbody tr th {\n",
       "        vertical-align: top;\n",
       "    }\n",
       "\n",
       "    .dataframe thead th {\n",
       "        text-align: right;\n",
       "    }\n",
       "</style>\n",
       "<table border=\"1\" class=\"dataframe\">\n",
       "  <thead>\n",
       "    <tr style=\"text-align: right;\">\n",
       "      <th></th>\n",
       "      <th>participant_id</th>\n",
       "      <th>alpha_1_agp_g_l</th>\n",
       "    </tr>\n",
       "  </thead>\n",
       "  <tbody>\n",
       "    <tr>\n",
       "      <th>1</th>\n",
       "      <td>109266.0</td>\n",
       "      <td>0.796</td>\n",
       "    </tr>\n",
       "    <tr>\n",
       "      <th>2</th>\n",
       "      <td>109277.0</td>\n",
       "      <td>0.746</td>\n",
       "    </tr>\n",
       "    <tr>\n",
       "      <th>3</th>\n",
       "      <td>109279.0</td>\n",
       "      <td>0.940</td>\n",
       "    </tr>\n",
       "    <tr>\n",
       "      <th>4</th>\n",
       "      <td>109284.0</td>\n",
       "      <td>1.080</td>\n",
       "    </tr>\n",
       "    <tr>\n",
       "      <th>5</th>\n",
       "      <td>109286.0</td>\n",
       "      <td>0.358</td>\n",
       "    </tr>\n",
       "  </tbody>\n",
       "</table>\n",
       "</div>"
      ],
      "text/plain": [
       "   participant_id  alpha_1_agp_g_l\n",
       "1        109266.0            0.796\n",
       "2        109277.0            0.746\n",
       "3        109279.0            0.940\n",
       "4        109284.0            1.080\n",
       "5        109286.0            0.358"
      ]
     },
     "execution_count": 167,
     "metadata": {},
     "output_type": "execute_result"
    }
   ],
   "source": [
    "df_b1.head(5)"
   ]
  },
  {
   "cell_type": "markdown",
   "id": "a406708d-8990-40c5-bdfe-15841ba89474",
   "metadata": {},
   "source": [
    "**Lipid Panel**\n",
    "\n",
    "Lipids are essential molecules that support a range of physiological functions, including hormone production and cellular structure. However, excessive lipid levels—particularly certain types—are associated with increased risk of cardiovascular disease.\n",
    "\n",
    "To assess lipid status, a fasting lipid panel is commonly used. This test typically includes measurements of:\n",
    "- LDL (low-density lipoprotein, or “bad” cholesterol),\n",
    "- HDL (high-density lipoprotein, or “good” cholesterol),\n",
    "- Total cholesterol, and\n",
    "- Triglycerides\n",
    "\n",
    "The NHANES dataset includes all of these values, enabling analysis of lipid profiles across a large representative population. This section focuses on cleaning and preparing these variables for analysis."
   ]
  },
  {
   "cell_type": "code",
   "execution_count": 168,
   "id": "c726d069-ea0a-4b4b-90f0-0e69e07e8227",
   "metadata": {},
   "outputs": [],
   "source": [
    "file_path = '2017-2020/blood/2.P_HDL.xpt'\n",
    "\n",
    "df_b2, meta = pyreadstat.read_xport(file_path)\n",
    "df_b2 = standardize_id_column(df_b2)"
   ]
  },
  {
   "cell_type": "code",
   "execution_count": 169,
   "id": "af83f0d1-ca2d-4cf1-ae50-1d5ecdc525cf",
   "metadata": {},
   "outputs": [
    {
     "data": {
      "text/html": [
       "<div>\n",
       "<style scoped>\n",
       "    .dataframe tbody tr th:only-of-type {\n",
       "        vertical-align: middle;\n",
       "    }\n",
       "\n",
       "    .dataframe tbody tr th {\n",
       "        vertical-align: top;\n",
       "    }\n",
       "\n",
       "    .dataframe thead th {\n",
       "        text-align: right;\n",
       "    }\n",
       "</style>\n",
       "<table border=\"1\" class=\"dataframe\">\n",
       "  <thead>\n",
       "    <tr style=\"text-align: right;\">\n",
       "      <th></th>\n",
       "      <th>participant_id</th>\n",
       "      <th>LBDHDD</th>\n",
       "      <th>LBDHDDSI</th>\n",
       "    </tr>\n",
       "  </thead>\n",
       "  <tbody>\n",
       "    <tr>\n",
       "      <th>0</th>\n",
       "      <td>109264.0</td>\n",
       "      <td>72.0</td>\n",
       "      <td>1.86</td>\n",
       "    </tr>\n",
       "    <tr>\n",
       "      <th>1</th>\n",
       "      <td>109266.0</td>\n",
       "      <td>56.0</td>\n",
       "      <td>1.45</td>\n",
       "    </tr>\n",
       "    <tr>\n",
       "      <th>2</th>\n",
       "      <td>109270.0</td>\n",
       "      <td>47.0</td>\n",
       "      <td>1.22</td>\n",
       "    </tr>\n",
       "    <tr>\n",
       "      <th>3</th>\n",
       "      <td>109271.0</td>\n",
       "      <td>33.0</td>\n",
       "      <td>0.85</td>\n",
       "    </tr>\n",
       "    <tr>\n",
       "      <th>4</th>\n",
       "      <td>109273.0</td>\n",
       "      <td>42.0</td>\n",
       "      <td>1.09</td>\n",
       "    </tr>\n",
       "  </tbody>\n",
       "</table>\n",
       "</div>"
      ],
      "text/plain": [
       "   participant_id  LBDHDD  LBDHDDSI\n",
       "0        109264.0    72.0      1.86\n",
       "1        109266.0    56.0      1.45\n",
       "2        109270.0    47.0      1.22\n",
       "3        109271.0    33.0      0.85\n",
       "4        109273.0    42.0      1.09"
      ]
     },
     "execution_count": 169,
     "metadata": {},
     "output_type": "execute_result"
    }
   ],
   "source": [
    "df_b2.head()"
   ]
  },
  {
   "cell_type": "code",
   "execution_count": 170,
   "id": "8d3dbe8a-7f22-4667-bb7e-e37398d29786",
   "metadata": {},
   "outputs": [],
   "source": [
    "df_b2 = df_b2.rename(columns ={\n",
    "    'LBDHDD':'direct_hdl_mg_dl',\n",
    "    'LBDHDDSI':'direct_hdl_mmol_l'\n",
    "})"
   ]
  },
  {
   "cell_type": "code",
   "execution_count": 171,
   "id": "da1270aa-f676-46ee-bbb5-885015913c7a",
   "metadata": {
    "tags": []
   },
   "outputs": [
    {
     "data": {
      "text/plain": [
       "participant_id          0\n",
       "direct_hdl_mg_dl     1370\n",
       "direct_hdl_mmol_l    1370\n",
       "dtype: int64"
      ]
     },
     "execution_count": 171,
     "metadata": {},
     "output_type": "execute_result"
    }
   ],
   "source": [
    "df_b2.isnull().sum()"
   ]
  },
  {
   "cell_type": "code",
   "execution_count": 172,
   "id": "ad89dd4d-ded3-4865-9b3c-3e2a93e8c9c4",
   "metadata": {},
   "outputs": [
    {
     "name": "stdout",
     "output_type": "stream",
     "text": [
      "Number of NaNs in direct_hdl_mg_dl: 1370\n",
      "Number of NaNs in direct_hdl_mmol_l: 1370\n",
      "Number of IDs with NaNs in both columns: 1370\n"
     ]
    }
   ],
   "source": [
    "common_nan = get_common_nan_ids(df_b2, 'direct_hdl_mg_dl', 'direct_hdl_mmol_l', id_col='participant_id')"
   ]
  },
  {
   "cell_type": "code",
   "execution_count": 173,
   "id": "7b5a2ec8-19ef-4161-becd-05905d44a7e0",
   "metadata": {},
   "outputs": [
    {
     "name": "stdout",
     "output_type": "stream",
     "text": [
      "Rows dropped where both direct_hdl_mg_dl and direct_hdl_mmol_l were NaN: 1370\n"
     ]
    }
   ],
   "source": [
    "df_b2 = drop_rows_with_common_nan_ids(df_b2, 'direct_hdl_mg_dl', 'direct_hdl_mmol_l', id_col='participant_id')"
   ]
  },
  {
   "cell_type": "code",
   "execution_count": 174,
   "id": "8c9f396f-42e4-401b-aa45-838e1f9d7666",
   "metadata": {},
   "outputs": [],
   "source": [
    "file_path = '2017-2020/blood/3.P_TRIGLY.xpt'\n",
    "\n",
    "df_b3, meta = pyreadstat.read_xport(file_path)\n",
    "df_b3 = standardize_id_column(df_b3)"
   ]
  },
  {
   "cell_type": "code",
   "execution_count": 175,
   "id": "96fba87e-669e-4f72-9d6b-9e7523d54a9f",
   "metadata": {},
   "outputs": [
    {
     "data": {
      "text/plain": [
       "['participant_id',\n",
       " 'WTSAFPRP',\n",
       " 'LBXTR',\n",
       " 'LBDTRSI',\n",
       " 'LBDLDL',\n",
       " 'LBDLDLSI',\n",
       " 'LBDLDLM',\n",
       " 'LBDLDMSI',\n",
       " 'LBDLDLN',\n",
       " 'LBDLDNSI']"
      ]
     },
     "execution_count": 175,
     "metadata": {},
     "output_type": "execute_result"
    }
   ],
   "source": [
    "df_b3.columns.to_list()"
   ]
  },
  {
   "cell_type": "code",
   "execution_count": 176,
   "id": "a2f32bea-fdb5-491a-bac1-2573be2536db",
   "metadata": {},
   "outputs": [],
   "source": [
    "df_b3 = df_b3.rename(columns={\n",
    "    'LBXTR':'triglyceride_mg_dl',\n",
    "    'LBDTRSI':'triglyceride_mmol_l',\n",
    "    'LBDLDL':'ldl_friedewald_mg_dl',\n",
    "    'LBDLDLSI':'ldl_friedwalkd_mmol_l',\n",
    "    'LBDLDLM': 'ldl_martin_hopkins_mg_dl',\n",
    "    'LBDLDMSI': 'ldl_martin_hopkins_mmol_l',\n",
    "    'LBDLDLN':'ldl_nih_mg_dl',\n",
    "    'LBDLDNSI':'ldl_nih_mmol_l'\n",
    "})"
   ]
  },
  {
   "cell_type": "code",
   "execution_count": 177,
   "id": "a5246cca-4c0d-4801-a485-f3ca0db0f074",
   "metadata": {},
   "outputs": [],
   "source": [
    "df_b3 = df_b3.drop('WTSAFPRP', axis=1)"
   ]
  },
  {
   "cell_type": "code",
   "execution_count": 178,
   "id": "4c9d300a-3a1a-4392-b678-7e780ae225c7",
   "metadata": {},
   "outputs": [
    {
     "data": {
      "text/plain": [
       "participant_id                 0\n",
       "triglyceride_mg_dl           440\n",
       "triglyceride_mmol_l          440\n",
       "ldl_friedewald_mg_dl         473\n",
       "ldl_friedwalkd_mmol_l        473\n",
       "ldl_martin_hopkins_mg_dl     473\n",
       "ldl_martin_hopkins_mmol_l    473\n",
       "ldl_nih_mg_dl                448\n",
       "ldl_nih_mmol_l               448\n",
       "dtype: int64"
      ]
     },
     "execution_count": 178,
     "metadata": {},
     "output_type": "execute_result"
    }
   ],
   "source": [
    "df_b3.isnull().sum()"
   ]
  },
  {
   "cell_type": "code",
   "execution_count": 179,
   "id": "b54bf8c5-bbb2-49f6-8e18-bbb1606bb759",
   "metadata": {},
   "outputs": [
    {
     "name": "stdout",
     "output_type": "stream",
     "text": [
      "Number of rows missing all cholesterol values: 440\n"
     ]
    }
   ],
   "source": [
    "value_cols = [col for col in df_b3.columns if col != 'participant_id']\n",
    "rows_all_nan = df_b3[value_cols].isna().all(axis=1)\n",
    "print(f\"Number of rows missing all cholesterol values: {rows_all_nan.sum()}\")"
   ]
  },
  {
   "cell_type": "code",
   "execution_count": 180,
   "id": "5bfdbf24-6af1-4083-a0db-b53ff43b6ba8",
   "metadata": {},
   "outputs": [
    {
     "name": "stdout",
     "output_type": "stream",
     "text": [
      "Number of rows dropped: 440\n"
     ]
    }
   ],
   "source": [
    "# Drop rows where all value columns are NaN (excluding participant_id)\n",
    "df_b3_cleaned = df_b3[~rows_all_nan].copy()\n",
    "\n",
    "print(f\"Number of rows dropped: {rows_all_nan.sum()}\")"
   ]
  },
  {
   "cell_type": "code",
   "execution_count": 181,
   "id": "38041476-7c8a-4cff-8786-445aa9c4d663",
   "metadata": {},
   "outputs": [],
   "source": [
    "file_path = '2017-2020/blood/4.P_TCHOL.xpt'\n",
    "\n",
    "df_b4, meta = pyreadstat.read_xport(file_path)\n",
    "df_b4 = standardize_id_column(df_b4)"
   ]
  },
  {
   "cell_type": "code",
   "execution_count": 182,
   "id": "da396365-77de-42bf-b47c-737aa5caeffa",
   "metadata": {},
   "outputs": [
    {
     "data": {
      "text/html": [
       "<div>\n",
       "<style scoped>\n",
       "    .dataframe tbody tr th:only-of-type {\n",
       "        vertical-align: middle;\n",
       "    }\n",
       "\n",
       "    .dataframe tbody tr th {\n",
       "        vertical-align: top;\n",
       "    }\n",
       "\n",
       "    .dataframe thead th {\n",
       "        text-align: right;\n",
       "    }\n",
       "</style>\n",
       "<table border=\"1\" class=\"dataframe\">\n",
       "  <thead>\n",
       "    <tr style=\"text-align: right;\">\n",
       "      <th></th>\n",
       "      <th>participant_id</th>\n",
       "      <th>LBXTC</th>\n",
       "      <th>LBDTCSI</th>\n",
       "    </tr>\n",
       "  </thead>\n",
       "  <tbody>\n",
       "    <tr>\n",
       "      <th>0</th>\n",
       "      <td>109264.0</td>\n",
       "      <td>166.0</td>\n",
       "      <td>4.29</td>\n",
       "    </tr>\n",
       "    <tr>\n",
       "      <th>1</th>\n",
       "      <td>109266.0</td>\n",
       "      <td>195.0</td>\n",
       "      <td>5.04</td>\n",
       "    </tr>\n",
       "    <tr>\n",
       "      <th>2</th>\n",
       "      <td>109270.0</td>\n",
       "      <td>103.0</td>\n",
       "      <td>2.66</td>\n",
       "    </tr>\n",
       "    <tr>\n",
       "      <th>3</th>\n",
       "      <td>109271.0</td>\n",
       "      <td>147.0</td>\n",
       "      <td>3.80</td>\n",
       "    </tr>\n",
       "    <tr>\n",
       "      <th>4</th>\n",
       "      <td>109273.0</td>\n",
       "      <td>164.0</td>\n",
       "      <td>4.24</td>\n",
       "    </tr>\n",
       "  </tbody>\n",
       "</table>\n",
       "</div>"
      ],
      "text/plain": [
       "   participant_id  LBXTC  LBDTCSI\n",
       "0        109264.0  166.0     4.29\n",
       "1        109266.0  195.0     5.04\n",
       "2        109270.0  103.0     2.66\n",
       "3        109271.0  147.0     3.80\n",
       "4        109273.0  164.0     4.24"
      ]
     },
     "execution_count": 182,
     "metadata": {},
     "output_type": "execute_result"
    }
   ],
   "source": [
    "df_b4.head()"
   ]
  },
  {
   "cell_type": "code",
   "execution_count": 183,
   "id": "67d4becb-bd75-44a8-8420-6e8be909dd4e",
   "metadata": {},
   "outputs": [],
   "source": [
    "df_b4 = df_b4.rename(columns={\n",
    "    'LBXTC': 'total_cholesterol_mg_dl',\n",
    "    'LBDTCSI':'total_cholesterol_mmol_l'\n",
    "})"
   ]
  },
  {
   "cell_type": "code",
   "execution_count": 184,
   "id": "611efd7c-59a6-4772-aa6a-1328aafa4215",
   "metadata": {},
   "outputs": [
    {
     "data": {
      "text/plain": [
       "participant_id                 0\n",
       "total_cholesterol_mg_dl     1370\n",
       "total_cholesterol_mmol_l    1370\n",
       "dtype: int64"
      ]
     },
     "execution_count": 184,
     "metadata": {},
     "output_type": "execute_result"
    }
   ],
   "source": [
    "df_b4.isnull().sum()"
   ]
  },
  {
   "cell_type": "code",
   "execution_count": 185,
   "id": "06f57ada-ad05-40bb-bdff-d3ed9d08e7dd",
   "metadata": {},
   "outputs": [
    {
     "name": "stdout",
     "output_type": "stream",
     "text": [
      "Number of NaNs in total_cholesterol_mg_dl: 1370\n",
      "Number of NaNs in total_cholesterol_mmol_l: 1370\n",
      "Number of IDs with NaNs in both columns: 1370\n"
     ]
    }
   ],
   "source": [
    "common_nan = get_common_nan_ids(df_b4, 'total_cholesterol_mg_dl', 'total_cholesterol_mmol_l', id_col='participant_id')"
   ]
  },
  {
   "cell_type": "code",
   "execution_count": 186,
   "id": "88522768-29fa-427c-ba4b-b4bcf57143d6",
   "metadata": {},
   "outputs": [
    {
     "name": "stdout",
     "output_type": "stream",
     "text": [
      "Rows dropped where both total_cholesterol_mg_dl and total_cholesterol_mmol_l were NaN: 1370\n"
     ]
    }
   ],
   "source": [
    "df_b4 = drop_rows_with_common_nan_ids(df_b4, 'total_cholesterol_mg_dl', 'total_cholesterol_mmol_l', id_col='participant_id')"
   ]
  },
  {
   "cell_type": "markdown",
   "id": "17a35f5c-df31-41c5-89b8-5351f03beb74",
   "metadata": {},
   "source": [
    "**Chromium and Cobalt (Blood)**\n",
    "\n",
    "NHANES data on chromium and cobalt levels were collected on patients aged 40-150 years old. "
   ]
  },
  {
   "cell_type": "code",
   "execution_count": 187,
   "id": "a695b9a6-62fc-43d0-9ca3-49246c9a82dc",
   "metadata": {},
   "outputs": [],
   "source": [
    "file_path = '2017-2020/blood/5.P_CRCO.xpt'\n",
    "\n",
    "df_b5, meta = pyreadstat.read_xport(file_path)\n",
    "df_b5 = standardize_id_column(df_b5)"
   ]
  },
  {
   "cell_type": "code",
   "execution_count": 188,
   "id": "37804596-860b-458f-994b-e0a9eb99a786",
   "metadata": {},
   "outputs": [
    {
     "data": {
      "text/plain": [
       "['participant_id',\n",
       " 'LBXBCR',\n",
       " 'LBDBCRSI',\n",
       " 'LBDBCRLC',\n",
       " 'LBXBCO',\n",
       " 'LBDBCOSI',\n",
       " 'LBDBCOLC']"
      ]
     },
     "execution_count": 188,
     "metadata": {},
     "output_type": "execute_result"
    }
   ],
   "source": [
    "df_b5.columns.to_list()"
   ]
  },
  {
   "cell_type": "code",
   "execution_count": 189,
   "id": "2da32fa6-56f6-4fe3-b4b9-8b3196b16fbf",
   "metadata": {},
   "outputs": [],
   "source": [
    "df_b5 = df_b5.rename(columns={\n",
    "    'LBXBCR':'chromium_blood_ug_l', \n",
    "    'LBDBCRSI': 'chromium_blood_nmol_l',\n",
    "    'LBDBCRLC':'chromium_blood_comment', \n",
    "    'LBXBCO':'cobalt_blood_ug_l', \n",
    "    'LBDBCOSI':'cobalt_blood_nmol_l', \n",
    "    'LBDBCOLC' :'cobalt_blood_comment'\n",
    "})"
   ]
  },
  {
   "cell_type": "code",
   "execution_count": 190,
   "id": "c6dd7958-81b8-4435-a49a-29af7065cc9b",
   "metadata": {},
   "outputs": [
    {
     "data": {
      "text/plain": [
       "participant_id              0\n",
       "chromium_blood_ug_l       302\n",
       "chromium_blood_nmol_l     302\n",
       "chromium_blood_comment    302\n",
       "cobalt_blood_ug_l         299\n",
       "cobalt_blood_nmol_l       299\n",
       "cobalt_blood_comment      299\n",
       "dtype: int64"
      ]
     },
     "execution_count": 190,
     "metadata": {},
     "output_type": "execute_result"
    }
   ],
   "source": [
    "df_b5.isnull().sum()"
   ]
  },
  {
   "cell_type": "code",
   "execution_count": 191,
   "id": "4b07da69-fa98-4daa-8cde-f014666b08fb",
   "metadata": {},
   "outputs": [
    {
     "name": "stdout",
     "output_type": "stream",
     "text": [
      "Number of NaNs in chromium_blood_ug_l: 302\n",
      "Number of NaNs in cobalt_blood_ug_l: 299\n",
      "Number of IDs with NaNs in both columns: 297\n"
     ]
    }
   ],
   "source": [
    "common_nan = get_common_nan_ids(df_b5, 'chromium_blood_ug_l', 'cobalt_blood_ug_l', id_col='participant_id')"
   ]
  },
  {
   "cell_type": "code",
   "execution_count": 192,
   "id": "e35b3ca9-7260-4336-a5a9-991116d07db3",
   "metadata": {},
   "outputs": [
    {
     "name": "stdout",
     "output_type": "stream",
     "text": [
      "Rows dropped where both chromium_blood_ug_l and cobalt_blood_ug_l were NaN: 297\n"
     ]
    }
   ],
   "source": [
    "df_b5 = drop_rows_with_common_nan_ids(df_b5, 'chromium_blood_ug_l', 'cobalt_blood_ug_l', id_col='participant_id')"
   ]
  },
  {
   "cell_type": "markdown",
   "id": "9f53c159-8ea0-4625-bfca-bd7c8daaf8fb",
   "metadata": {},
   "source": [
    "**Complete Blood Count with Differential**\n",
    "\n",
    "CBC with diff is the most common blood work that is ordered for a baseline lab. CBC can be useful to assess the patients for acute inflammation in the body and anemia. \n",
    "\n",
    "There are many values that are extracted and assessed through the CBC panel. To more efficiently extract the information, the decision was made to utilize webscraping rather than individually typing out each lab value. The units for each of the columns is included in the README file for this project."
   ]
  },
  {
   "cell_type": "code",
   "execution_count": 193,
   "id": "c1233628-35a0-498b-9fb3-f36c2b144dfc",
   "metadata": {},
   "outputs": [],
   "source": [
    "file_path = '2017-2020/blood/6.P_CBC.xpt'\n",
    "\n",
    "df_b6, meta = pyreadstat.read_xport(file_path)\n",
    "df_b6 = standardize_id_column(df_b6)"
   ]
  },
  {
   "cell_type": "code",
   "execution_count": 194,
   "id": "4959589c-da23-46ac-a576-6843fe096774",
   "metadata": {},
   "outputs": [],
   "source": [
    "url = \"https://wwwn.cdc.gov/Nchs/Data/Nhanes/Public/2017/DataFiles/P_CBC.htm\"\n",
    "\n",
    "df_info_raw = pd.read_html(url)[0]\n",
    "\n",
    "# Use the first row as the header\n",
    "df_info_raw.columns = df_info_raw.iloc[0]\n",
    "df_info = df_info_raw.drop(index=0).reset_index(drop=True)"
   ]
  },
  {
   "cell_type": "code",
   "execution_count": 195,
   "id": "bd103247-8188-4102-abb9-abf45b1c7b0d",
   "metadata": {},
   "outputs": [
    {
     "data": {
      "text/html": [
       "<div>\n",
       "<style scoped>\n",
       "    .dataframe tbody tr th:only-of-type {\n",
       "        vertical-align: middle;\n",
       "    }\n",
       "\n",
       "    .dataframe tbody tr th {\n",
       "        vertical-align: top;\n",
       "    }\n",
       "\n",
       "    .dataframe thead th {\n",
       "        text-align: right;\n",
       "    }\n",
       "</style>\n",
       "<table border=\"1\" class=\"dataframe\">\n",
       "  <thead>\n",
       "    <tr style=\"text-align: right;\">\n",
       "      <th></th>\n",
       "      <th>Variable  Name</th>\n",
       "      <th>Analyte  Description</th>\n",
       "      <th>LLOD</th>\n",
       "      <th>ULOD</th>\n",
       "      <th>Units</th>\n",
       "    </tr>\n",
       "  </thead>\n",
       "  <tbody>\n",
       "    <tr>\n",
       "      <th>0</th>\n",
       "      <td>LBXWBCSI</td>\n",
       "      <td>White blood cell count</td>\n",
       "      <td>0.020</td>\n",
       "      <td>363.000</td>\n",
       "      <td>x  103 cells/uL</td>\n",
       "    </tr>\n",
       "    <tr>\n",
       "      <th>1</th>\n",
       "      <td>LBXLYPCT</td>\n",
       "      <td>Lymphocyte percent</td>\n",
       "      <td>0.00</td>\n",
       "      <td>100.00</td>\n",
       "      <td>%</td>\n",
       "    </tr>\n",
       "    <tr>\n",
       "      <th>2</th>\n",
       "      <td>LBXMOPCT</td>\n",
       "      <td>Monocyte percent</td>\n",
       "      <td>0.00</td>\n",
       "      <td>100.00</td>\n",
       "      <td>%</td>\n",
       "    </tr>\n",
       "    <tr>\n",
       "      <th>3</th>\n",
       "      <td>LBXNEPCT</td>\n",
       "      <td>Segmented neutrophils percent</td>\n",
       "      <td>0.00</td>\n",
       "      <td>100.00</td>\n",
       "      <td>%</td>\n",
       "    </tr>\n",
       "    <tr>\n",
       "      <th>4</th>\n",
       "      <td>LBXEOPCT</td>\n",
       "      <td>Eosinophils percent</td>\n",
       "      <td>0.00</td>\n",
       "      <td>100.00</td>\n",
       "      <td>%</td>\n",
       "    </tr>\n",
       "  </tbody>\n",
       "</table>\n",
       "</div>"
      ],
      "text/plain": [
       "0 Variable  Name           Analyte  Description   LLOD     ULOD  \\\n",
       "0       LBXWBCSI         White blood cell count  0.020  363.000   \n",
       "1       LBXLYPCT             Lymphocyte percent   0.00   100.00   \n",
       "2       LBXMOPCT               Monocyte percent   0.00   100.00   \n",
       "3       LBXNEPCT  Segmented neutrophils percent   0.00   100.00   \n",
       "4       LBXEOPCT            Eosinophils percent   0.00   100.00   \n",
       "\n",
       "0            Units  \n",
       "0  x  103 cells/uL  \n",
       "1                %  \n",
       "2                %  \n",
       "3                %  \n",
       "4                %  "
      ]
     },
     "execution_count": 195,
     "metadata": {},
     "output_type": "execute_result"
    }
   ],
   "source": [
    "df_info.head()"
   ]
  },
  {
   "cell_type": "code",
   "execution_count": 196,
   "id": "03e65aa3-35fd-41ac-862e-221c3185e688",
   "metadata": {},
   "outputs": [
    {
     "data": {
      "text/plain": [
       "['Variable  Name', 'Analyte  Description', 'LLOD', 'ULOD', 'Units']"
      ]
     },
     "execution_count": 196,
     "metadata": {},
     "output_type": "execute_result"
    }
   ],
   "source": [
    "df_info.columns.to_list()"
   ]
  },
  {
   "cell_type": "code",
   "execution_count": 197,
   "id": "03e085db-2c49-49ad-9340-3eac6abf8185",
   "metadata": {},
   "outputs": [],
   "source": [
    "rename_dict = {\n",
    "    row[\"Variable  Name\"]: to_snake_case(row[\"Analyte  Description\"])\n",
    "    for _, row in df_info.iterrows()\n",
    "    if row[\"Variable  Name\"] in df_b6.columns\n",
    "}"
   ]
  },
  {
   "cell_type": "code",
   "execution_count": 198,
   "id": "d7e7a2bc-cf1a-4ce2-8367-880f7fd97e6d",
   "metadata": {},
   "outputs": [],
   "source": [
    "df_b6 = df_b6.rename(columns=rename_dict)"
   ]
  },
  {
   "cell_type": "code",
   "execution_count": 199,
   "id": "fcce7b8d-0cbb-4d95-9055-187a19b2b41a",
   "metadata": {},
   "outputs": [
    {
     "data": {
      "text/html": [
       "<div>\n",
       "<style scoped>\n",
       "    .dataframe tbody tr th:only-of-type {\n",
       "        vertical-align: middle;\n",
       "    }\n",
       "\n",
       "    .dataframe tbody tr th {\n",
       "        vertical-align: top;\n",
       "    }\n",
       "\n",
       "    .dataframe thead th {\n",
       "        text-align: right;\n",
       "    }\n",
       "</style>\n",
       "<table border=\"1\" class=\"dataframe\">\n",
       "  <thead>\n",
       "    <tr style=\"text-align: right;\">\n",
       "      <th></th>\n",
       "      <th>participant_id</th>\n",
       "      <th>white_blood_cell_count</th>\n",
       "      <th>lymphocyte_percent</th>\n",
       "      <th>monocyte_percent</th>\n",
       "      <th>segmented_neutrophils_percent</th>\n",
       "      <th>eosinophils_percent</th>\n",
       "      <th>basophils_percent</th>\n",
       "      <th>LBDLYMNO</th>\n",
       "      <th>LBDMONO</th>\n",
       "      <th>LBDNENO</th>\n",
       "      <th>...</th>\n",
       "      <th>red_blood_cell_count</th>\n",
       "      <th>hemoglobin</th>\n",
       "      <th>LBXHCT</th>\n",
       "      <th>mean_cell_volume</th>\n",
       "      <th>LBXMC</th>\n",
       "      <th>LBXMCHSI</th>\n",
       "      <th>red_cell_distribution_width</th>\n",
       "      <th>platelet_count</th>\n",
       "      <th>mean_platelet_volume</th>\n",
       "      <th>LBXNRBC</th>\n",
       "    </tr>\n",
       "  </thead>\n",
       "  <tbody>\n",
       "    <tr>\n",
       "      <th>0</th>\n",
       "      <td>109263.0</td>\n",
       "      <td>NaN</td>\n",
       "      <td>NaN</td>\n",
       "      <td>NaN</td>\n",
       "      <td>NaN</td>\n",
       "      <td>NaN</td>\n",
       "      <td>NaN</td>\n",
       "      <td>NaN</td>\n",
       "      <td>NaN</td>\n",
       "      <td>NaN</td>\n",
       "      <td>...</td>\n",
       "      <td>NaN</td>\n",
       "      <td>NaN</td>\n",
       "      <td>NaN</td>\n",
       "      <td>NaN</td>\n",
       "      <td>NaN</td>\n",
       "      <td>NaN</td>\n",
       "      <td>NaN</td>\n",
       "      <td>NaN</td>\n",
       "      <td>NaN</td>\n",
       "      <td>NaN</td>\n",
       "    </tr>\n",
       "    <tr>\n",
       "      <th>1</th>\n",
       "      <td>109264.0</td>\n",
       "      <td>4.5</td>\n",
       "      <td>45.6</td>\n",
       "      <td>6.2</td>\n",
       "      <td>46.4</td>\n",
       "      <td>1.4</td>\n",
       "      <td>0.5</td>\n",
       "      <td>2.1</td>\n",
       "      <td>0.3</td>\n",
       "      <td>2.1</td>\n",
       "      <td>...</td>\n",
       "      <td>4.80</td>\n",
       "      <td>13.7</td>\n",
       "      <td>40.5</td>\n",
       "      <td>84.3</td>\n",
       "      <td>33.7</td>\n",
       "      <td>28.4</td>\n",
       "      <td>13.1</td>\n",
       "      <td>263.0</td>\n",
       "      <td>8.2</td>\n",
       "      <td>0.1</td>\n",
       "    </tr>\n",
       "    <tr>\n",
       "      <th>2</th>\n",
       "      <td>109265.0</td>\n",
       "      <td>9.5</td>\n",
       "      <td>46.4</td>\n",
       "      <td>10.9</td>\n",
       "      <td>39.2</td>\n",
       "      <td>2.9</td>\n",
       "      <td>0.7</td>\n",
       "      <td>4.4</td>\n",
       "      <td>1.0</td>\n",
       "      <td>3.7</td>\n",
       "      <td>...</td>\n",
       "      <td>4.50</td>\n",
       "      <td>12.6</td>\n",
       "      <td>36.6</td>\n",
       "      <td>81.2</td>\n",
       "      <td>34.4</td>\n",
       "      <td>27.9</td>\n",
       "      <td>13.1</td>\n",
       "      <td>286.0</td>\n",
       "      <td>6.6</td>\n",
       "      <td>0.1</td>\n",
       "    </tr>\n",
       "    <tr>\n",
       "      <th>3</th>\n",
       "      <td>109266.0</td>\n",
       "      <td>7.8</td>\n",
       "      <td>34.5</td>\n",
       "      <td>6.0</td>\n",
       "      <td>58.3</td>\n",
       "      <td>0.8</td>\n",
       "      <td>0.5</td>\n",
       "      <td>2.7</td>\n",
       "      <td>0.5</td>\n",
       "      <td>4.5</td>\n",
       "      <td>...</td>\n",
       "      <td>4.35</td>\n",
       "      <td>12.3</td>\n",
       "      <td>36.5</td>\n",
       "      <td>83.7</td>\n",
       "      <td>33.6</td>\n",
       "      <td>28.1</td>\n",
       "      <td>14.0</td>\n",
       "      <td>314.0</td>\n",
       "      <td>6.9</td>\n",
       "      <td>0.1</td>\n",
       "    </tr>\n",
       "    <tr>\n",
       "      <th>4</th>\n",
       "      <td>109269.0</td>\n",
       "      <td>9.1</td>\n",
       "      <td>38.3</td>\n",
       "      <td>7.8</td>\n",
       "      <td>48.8</td>\n",
       "      <td>4.1</td>\n",
       "      <td>1.1</td>\n",
       "      <td>3.5</td>\n",
       "      <td>0.7</td>\n",
       "      <td>4.4</td>\n",
       "      <td>...</td>\n",
       "      <td>4.21</td>\n",
       "      <td>11.7</td>\n",
       "      <td>33.5</td>\n",
       "      <td>79.6</td>\n",
       "      <td>34.9</td>\n",
       "      <td>27.8</td>\n",
       "      <td>13.4</td>\n",
       "      <td>287.0</td>\n",
       "      <td>6.9</td>\n",
       "      <td>0.1</td>\n",
       "    </tr>\n",
       "  </tbody>\n",
       "</table>\n",
       "<p>5 rows × 22 columns</p>\n",
       "</div>"
      ],
      "text/plain": [
       "   participant_id  white_blood_cell_count  lymphocyte_percent  \\\n",
       "0        109263.0                     NaN                 NaN   \n",
       "1        109264.0                     4.5                45.6   \n",
       "2        109265.0                     9.5                46.4   \n",
       "3        109266.0                     7.8                34.5   \n",
       "4        109269.0                     9.1                38.3   \n",
       "\n",
       "   monocyte_percent  segmented_neutrophils_percent  eosinophils_percent  \\\n",
       "0               NaN                            NaN                  NaN   \n",
       "1               6.2                           46.4                  1.4   \n",
       "2              10.9                           39.2                  2.9   \n",
       "3               6.0                           58.3                  0.8   \n",
       "4               7.8                           48.8                  4.1   \n",
       "\n",
       "   basophils_percent  LBDLYMNO  LBDMONO  LBDNENO  ...  red_blood_cell_count  \\\n",
       "0                NaN       NaN      NaN      NaN  ...                   NaN   \n",
       "1                0.5       2.1      0.3      2.1  ...                  4.80   \n",
       "2                0.7       4.4      1.0      3.7  ...                  4.50   \n",
       "3                0.5       2.7      0.5      4.5  ...                  4.35   \n",
       "4                1.1       3.5      0.7      4.4  ...                  4.21   \n",
       "\n",
       "   hemoglobin  LBXHCT  mean_cell_volume  LBXMC  LBXMCHSI  \\\n",
       "0         NaN     NaN               NaN    NaN       NaN   \n",
       "1        13.7    40.5              84.3   33.7      28.4   \n",
       "2        12.6    36.6              81.2   34.4      27.9   \n",
       "3        12.3    36.5              83.7   33.6      28.1   \n",
       "4        11.7    33.5              79.6   34.9      27.8   \n",
       "\n",
       "   red_cell_distribution_width  platelet_count  mean_platelet_volume  LBXNRBC  \n",
       "0                          NaN             NaN                   NaN      NaN  \n",
       "1                         13.1           263.0                   8.2      0.1  \n",
       "2                         13.1           286.0                   6.6      0.1  \n",
       "3                         14.0           314.0                   6.9      0.1  \n",
       "4                         13.4           287.0                   6.9      0.1  \n",
       "\n",
       "[5 rows x 22 columns]"
      ]
     },
     "execution_count": 199,
     "metadata": {},
     "output_type": "execute_result"
    }
   ],
   "source": [
    "df_b6.head()"
   ]
  },
  {
   "cell_type": "code",
   "execution_count": 200,
   "id": "efacdfcd-d00a-4b4a-9f4a-f504fff79147",
   "metadata": {},
   "outputs": [
    {
     "data": {
      "text/plain": [
       "['participant_id',\n",
       " 'white_blood_cell_count',\n",
       " 'lymphocyte_percent',\n",
       " 'monocyte_percent',\n",
       " 'segmented_neutrophils_percent',\n",
       " 'eosinophils_percent',\n",
       " 'basophils_percent',\n",
       " 'LBDLYMNO',\n",
       " 'LBDMONO',\n",
       " 'LBDNENO',\n",
       " 'LBDEONO',\n",
       " 'LBDBANO',\n",
       " 'red_blood_cell_count',\n",
       " 'hemoglobin',\n",
       " 'LBXHCT',\n",
       " 'mean_cell_volume',\n",
       " 'LBXMC',\n",
       " 'LBXMCHSI',\n",
       " 'red_cell_distribution_width',\n",
       " 'platelet_count',\n",
       " 'mean_platelet_volume',\n",
       " 'LBXNRBC']"
      ]
     },
     "execution_count": 200,
     "metadata": {},
     "output_type": "execute_result"
    }
   ],
   "source": [
    "df_b6.columns.to_list()\n",
    "\n",
    "#Some of the names were renamed based on what was available on the first table in the URL. For the other ones that were not, they were manually renamed"
   ]
  },
  {
   "cell_type": "code",
   "execution_count": 201,
   "id": "2b76fa7e-53b3-4d3f-bd2a-f4888d896c0f",
   "metadata": {},
   "outputs": [],
   "source": [
    "df_b6 = df_b6.rename(columns={\n",
    " 'LBDLYMNO': 'lymphocyte_number',\n",
    " 'LBDMONO': 'monocyte_number',\n",
    " 'LBDNENO':'segmented_neutrophils_number',\n",
    " 'LBDEONO':'eosinophils_number',\n",
    " 'LBDBANO':'basophils_number',\n",
    " 'LBXHCT':'hematocrit_percent',\n",
    " 'LBXMC':'mean_cell_hgb_concentration',\n",
    " 'LBXMCHSI':'mean_cell_hemoglobin',\n",
    " 'LBXNRBC':'nucelated_red_blood_cells'\n",
    "})"
   ]
  },
  {
   "cell_type": "code",
   "execution_count": 202,
   "id": "271ed122-cf84-4a46-8ffe-5f555bbd695f",
   "metadata": {},
   "outputs": [
    {
     "data": {
      "text/plain": [
       "Index(['participant_id', 'white_blood_cell_count', 'lymphocyte_percent',\n",
       "       'monocyte_percent', 'segmented_neutrophils_percent',\n",
       "       'eosinophils_percent', 'basophils_percent', 'lymphocyte_number',\n",
       "       'monocyte_number', 'segmented_neutrophils_number', 'eosinophils_number',\n",
       "       'basophils_number', 'red_blood_cell_count', 'hemoglobin',\n",
       "       'hematocrit_percent', 'mean_cell_volume', 'mean_cell_hgb_concentration',\n",
       "       'mean_cell_hemoglobin', 'red_cell_distribution_width', 'platelet_count',\n",
       "       'mean_platelet_volume', 'nucelated_red_blood_cells'],\n",
       "      dtype='object')"
      ]
     },
     "execution_count": 202,
     "metadata": {},
     "output_type": "execute_result"
    }
   ],
   "source": [
    "df_b6.columns"
   ]
  },
  {
   "cell_type": "code",
   "execution_count": 203,
   "id": "c347a7fc-f08b-4992-88f4-911cd1d65992",
   "metadata": {},
   "outputs": [
    {
     "data": {
      "text/plain": [
       "participant_id                      0\n",
       "white_blood_cell_count           1616\n",
       "lymphocyte_percent               1621\n",
       "monocyte_percent                 1621\n",
       "segmented_neutrophils_percent    1621\n",
       "eosinophils_percent              1621\n",
       "basophils_percent                1621\n",
       "lymphocyte_number                1621\n",
       "monocyte_number                  1621\n",
       "segmented_neutrophils_number     1621\n",
       "eosinophils_number               1621\n",
       "basophils_number                 1621\n",
       "red_blood_cell_count             1616\n",
       "hemoglobin                       1616\n",
       "hematocrit_percent               1616\n",
       "mean_cell_volume                 1616\n",
       "mean_cell_hgb_concentration      1616\n",
       "mean_cell_hemoglobin             1616\n",
       "red_cell_distribution_width      1616\n",
       "platelet_count                   1616\n",
       "mean_platelet_volume             1616\n",
       "nucelated_red_blood_cells        1621\n",
       "dtype: int64"
      ]
     },
     "execution_count": 203,
     "metadata": {},
     "output_type": "execute_result"
    }
   ],
   "source": [
    "df_b6.isnull().sum()"
   ]
  },
  {
   "cell_type": "code",
   "execution_count": 204,
   "id": "7b97c4f3-c036-4a97-a920-2b827d03745a",
   "metadata": {},
   "outputs": [
    {
     "name": "stdout",
     "output_type": "stream",
     "text": [
      "Number of rows missing all CBC values: 1616\n"
     ]
    }
   ],
   "source": [
    "value_cols = [col for col in df_b6.columns if col != 'participant_id']\n",
    "rows_all_nan = df_b6[value_cols].isna().all(axis=1)\n",
    "print(f\"Number of rows missing all CBC values: {rows_all_nan.sum()}\")"
   ]
  },
  {
   "cell_type": "code",
   "execution_count": 205,
   "id": "5ca7fd06-7f85-4599-9c9e-da2a63449ef5",
   "metadata": {},
   "outputs": [
    {
     "name": "stdout",
     "output_type": "stream",
     "text": [
      "Number of rows dropped: 1616\n"
     ]
    }
   ],
   "source": [
    "# Drop rows where all value columns are NaN (excluding participant_id)\n",
    "df_b6_cleaned = df_b6[~rows_all_nan].copy()\n",
    "\n",
    "print(f\"Number of rows dropped: {rows_all_nan.sum()}\")"
   ]
  },
  {
   "cell_type": "markdown",
   "id": "2d9fb6ee-10d5-4019-a0e8-5dd404425ac9",
   "metadata": {},
   "source": [
    "**Cotinine**\n",
    "\n",
    "Cotinine is a metabolite that is produced when nicotine is processed. Its long half-life makes it a good marker for assessing tobacco exposure or usage. "
   ]
  },
  {
   "cell_type": "code",
   "execution_count": 206,
   "id": "a8fafd75-10da-45e1-8223-3913f98e7c09",
   "metadata": {},
   "outputs": [],
   "source": [
    "file_path = '2017-2020/blood/7.P_COT.xpt'\n",
    "\n",
    "df_b7, meta = pyreadstat.read_xport(file_path)\n",
    "df_b7 = standardize_id_column(df_b7)"
   ]
  },
  {
   "cell_type": "code",
   "execution_count": 207,
   "id": "5927b7a3-2191-4725-be29-0d2f10345d88",
   "metadata": {},
   "outputs": [
    {
     "data": {
      "text/plain": [
       "['participant_id', 'LBXCOT', 'LBDCOTLC', 'LBXHCOT', 'LBDHCOLC']"
      ]
     },
     "execution_count": 207,
     "metadata": {},
     "output_type": "execute_result"
    }
   ],
   "source": [
    "df_b7.columns.to_list()"
   ]
  },
  {
   "cell_type": "code",
   "execution_count": 208,
   "id": "277e4b5e-4a56-45b1-bef3-b83ddab595ae",
   "metadata": {},
   "outputs": [],
   "source": [
    "df_b7 = df_b7.rename(columns={\n",
    "    'LBXCOT':'serum_cotinine_ng_ml',\n",
    "    'LBDCOTLC':'serum_cotinine_comment',\n",
    "    'LBXHCOT':'serum_hydroxycotinine_ng_ml',\n",
    "    'LBDHCOLC':'serum_hydroxycotinine_comment'\n",
    "})"
   ]
  },
  {
   "cell_type": "code",
   "execution_count": 209,
   "id": "44384c75-3062-4ee8-9713-2343939feea9",
   "metadata": {},
   "outputs": [
    {
     "data": {
      "text/plain": [
       "participant_id                      0\n",
       "serum_cotinine_ng_ml             1632\n",
       "serum_cotinine_comment           1632\n",
       "serum_hydroxycotinine_ng_ml      1632\n",
       "serum_hydroxycotinine_comment    1632\n",
       "dtype: int64"
      ]
     },
     "execution_count": 209,
     "metadata": {},
     "output_type": "execute_result"
    }
   ],
   "source": [
    "df_b7.isnull().sum()"
   ]
  },
  {
   "cell_type": "code",
   "execution_count": 210,
   "id": "aaa90d0d-11a8-4470-9344-5f85ed662dfa",
   "metadata": {},
   "outputs": [
    {
     "name": "stdout",
     "output_type": "stream",
     "text": [
      "Number of NaNs in serum_cotinine_ng_ml: 1632\n",
      "Number of NaNs in serum_hydroxycotinine_ng_ml: 1632\n",
      "Number of IDs with NaNs in both columns: 1632\n"
     ]
    }
   ],
   "source": [
    "common_nan = get_common_nan_ids(df_b7, 'serum_cotinine_ng_ml', 'serum_hydroxycotinine_ng_ml', id_col='participant_id')"
   ]
  },
  {
   "cell_type": "code",
   "execution_count": 211,
   "id": "f20ac82a-9495-4535-9576-ede2da2b9406",
   "metadata": {},
   "outputs": [
    {
     "name": "stdout",
     "output_type": "stream",
     "text": [
      "Rows dropped where both serum_cotinine_ng_ml and serum_hydroxycotinine_ng_ml were NaN: 1632\n"
     ]
    }
   ],
   "source": [
    "df_b7 = drop_rows_with_common_nan_ids(df_b7, 'serum_cotinine_ng_ml', 'serum_hydroxycotinine_ng_ml', id_col='participant_id')"
   ]
  },
  {
   "cell_type": "markdown",
   "id": "791c9d12-69a7-490b-bf17-5fb28ddc03d7",
   "metadata": {},
   "source": [
    "**Cytomegalovirus**\n",
    "\n",
    "Cytomegalovirus (CMV) is a double-stranded DNA virus that causes flu-like symptoms in immunocompetant population but can cause organ damage in immunocompromised (i.e. HIV/AIDS) population. CMV virus is transmitted via bodily fluids including sexual contact [12]. \n",
    "\n",
    "Avidity tests for whether the CMV infection was recent or in the past. Low avidity shows recent infection and high avidity shows past infeciton."
   ]
  },
  {
   "cell_type": "code",
   "execution_count": 212,
   "id": "df0eddb6-1b3f-4a9c-8239-f14322bbaeb6",
   "metadata": {},
   "outputs": [],
   "source": [
    "file_path = '2017-2020/blood/8.P_CMV.xpt'\n",
    "\n",
    "df_b8, meta = pyreadstat.read_xport(file_path)\n",
    "df_b8 = standardize_id_column(df_b8)"
   ]
  },
  {
   "cell_type": "code",
   "execution_count": 213,
   "id": "9e9d1b7d-3b3e-41eb-8a25-80be6b032648",
   "metadata": {},
   "outputs": [
    {
     "data": {
      "text/plain": [
       "['participant_id', 'LBXIGG', 'LBXIGM', 'LBXIGGA']"
      ]
     },
     "execution_count": 213,
     "metadata": {},
     "output_type": "execute_result"
    }
   ],
   "source": [
    "df_b8.columns.to_list()"
   ]
  },
  {
   "cell_type": "code",
   "execution_count": 214,
   "id": "816d5469-930b-4d60-8508-f861bb852d29",
   "metadata": {},
   "outputs": [],
   "source": [
    "df_b8 = df_b8.rename(columns={\n",
    "    'LBXIGG':'cmv_igg',\n",
    "    'LBXIGM':'cmv_igm', \n",
    "    'LBXIGGA':'cmv_igg_avidity'\n",
    "})"
   ]
  },
  {
   "cell_type": "code",
   "execution_count": 215,
   "id": "aba8988f-63e8-451a-80ce-9e300d0d472f",
   "metadata": {},
   "outputs": [
    {
     "data": {
      "text/plain": [
       "participant_id        0\n",
       "cmv_igg             617\n",
       "cmv_igm             617\n",
       "cmv_igg_avidity    1307\n",
       "dtype: int64"
      ]
     },
     "execution_count": 215,
     "metadata": {},
     "output_type": "execute_result"
    }
   ],
   "source": [
    "df_b8.isnull().sum()\n",
    "\n",
    "#there are missing avidity value which would indicate that the person was never infected with CMV. The null values for the IgG and IgM would indicate missing data so rows without these two values will be dropped"
   ]
  },
  {
   "cell_type": "code",
   "execution_count": 216,
   "id": "46268ac4-492b-43dc-9eb4-de217ab4cb39",
   "metadata": {},
   "outputs": [
    {
     "name": "stdout",
     "output_type": "stream",
     "text": [
      "Number of NaNs in cmv_igg: 617\n",
      "Number of NaNs in cmv_igm: 617\n",
      "Number of IDs with NaNs in both columns: 617\n"
     ]
    }
   ],
   "source": [
    "common_nan = get_common_nan_ids(df_b8, 'cmv_igg', 'cmv_igm', id_col='participant_id')"
   ]
  },
  {
   "cell_type": "code",
   "execution_count": 217,
   "id": "b5443e9e-75aa-4c71-bd74-2dc0d8ba5710",
   "metadata": {},
   "outputs": [
    {
     "name": "stdout",
     "output_type": "stream",
     "text": [
      "Rows dropped where both cmv_igg and cmv_igm were NaN: 617\n"
     ]
    }
   ],
   "source": [
    "df_b8 = drop_rows_with_common_nan_ids(df_b8, 'cmv_igg', 'cmv_igm', id_col='participant_id')"
   ]
  },
  {
   "cell_type": "markdown",
   "id": "e3f9a690-d14f-4f7d-9c11-45dafbc31b02",
   "metadata": {},
   "source": [
    "**Ethylene Oxide**\n",
    "\n",
    "Ethylene Oxide (EtO) is a colorless gas that is used to produce various materials as well as sterilize medical equipments. Exposure to EtO most often is due to aerosolization. EtO is a well-known carcinogen and long term exposure to this substance could lead to blood cancers such as non-Hodgkin lymphoma, myeloma and lymphocytic leukemia [13].\n",
    "\n",
    "The unit for EtO measurement in the blood is picomoles per gram of hemoglobin (pmol/g Hb)."
   ]
  },
  {
   "cell_type": "code",
   "execution_count": 218,
   "id": "ee6790b9-cc7e-4b62-b174-c1b33e6e5695",
   "metadata": {},
   "outputs": [],
   "source": [
    "file_path = '2017-2020/blood/9.P_ETHOX.xpt'\n",
    "\n",
    "df_b9, meta = pyreadstat.read_xport(file_path)\n",
    "df_b9 = standardize_id_column(df_b9)"
   ]
  },
  {
   "cell_type": "code",
   "execution_count": 219,
   "id": "5c6bc601-a0e3-4836-b9a7-15fc3daaf3cb",
   "metadata": {},
   "outputs": [
    {
     "data": {
      "text/plain": [
       "['participant_id', 'WTSAPRP', 'LBXEOA', 'LBDEOALC']"
      ]
     },
     "execution_count": 219,
     "metadata": {},
     "output_type": "execute_result"
    }
   ],
   "source": [
    "df_b9.columns.to_list()"
   ]
  },
  {
   "cell_type": "code",
   "execution_count": 220,
   "id": "7f4bb0a9-599c-4f0a-b7a3-430ccdfa1ff6",
   "metadata": {},
   "outputs": [],
   "source": [
    "df_b9 = df_b9.drop('WTSAPRP',axis=1)"
   ]
  },
  {
   "cell_type": "code",
   "execution_count": 221,
   "id": "e87b4215-847d-4732-bb49-ebc1523319ee",
   "metadata": {},
   "outputs": [],
   "source": [
    "df_b9 = df_b9.rename(columns={\n",
    "    'LBXEOA':'eto_pmol_g_hb',\n",
    "    'LBDEOALC':'eto_comment'\n",
    "})"
   ]
  },
  {
   "cell_type": "code",
   "execution_count": 222,
   "id": "b314aaa5-b674-4ff5-ab7b-1007b5ecd220",
   "metadata": {},
   "outputs": [
    {
     "data": {
      "text/plain": [
       "participant_id      0\n",
       "eto_pmol_g_hb     424\n",
       "eto_comment       424\n",
       "dtype: int64"
      ]
     },
     "execution_count": 222,
     "metadata": {},
     "output_type": "execute_result"
    }
   ],
   "source": [
    "df_b9.isnull().sum()"
   ]
  },
  {
   "cell_type": "code",
   "execution_count": 223,
   "id": "0d950d60-efdc-4457-b485-ac47a0446ae8",
   "metadata": {},
   "outputs": [],
   "source": [
    "df_b9 = df_b9.dropna(subset=['eto_pmol_g_hb'])"
   ]
  },
  {
   "cell_type": "code",
   "execution_count": 224,
   "id": "12f4c53a-b7ae-44f3-ac06-8a085ac9ca92",
   "metadata": {},
   "outputs": [
    {
     "data": {
      "text/html": [
       "<div>\n",
       "<style scoped>\n",
       "    .dataframe tbody tr th:only-of-type {\n",
       "        vertical-align: middle;\n",
       "    }\n",
       "\n",
       "    .dataframe tbody tr th {\n",
       "        vertical-align: top;\n",
       "    }\n",
       "\n",
       "    .dataframe thead th {\n",
       "        text-align: right;\n",
       "    }\n",
       "</style>\n",
       "<table border=\"1\" class=\"dataframe\">\n",
       "  <thead>\n",
       "    <tr style=\"text-align: right;\">\n",
       "      <th></th>\n",
       "      <th>participant_id</th>\n",
       "      <th>eto_pmol_g_hb</th>\n",
       "      <th>eto_comment</th>\n",
       "    </tr>\n",
       "  </thead>\n",
       "  <tbody>\n",
       "    <tr>\n",
       "      <th>0</th>\n",
       "      <td>109266.0</td>\n",
       "      <td>18.7</td>\n",
       "      <td>0.0</td>\n",
       "    </tr>\n",
       "    <tr>\n",
       "      <th>1</th>\n",
       "      <td>109270.0</td>\n",
       "      <td>37.7</td>\n",
       "      <td>0.0</td>\n",
       "    </tr>\n",
       "    <tr>\n",
       "      <th>2</th>\n",
       "      <td>109273.0</td>\n",
       "      <td>359.0</td>\n",
       "      <td>0.0</td>\n",
       "    </tr>\n",
       "    <tr>\n",
       "      <th>3</th>\n",
       "      <td>109274.0</td>\n",
       "      <td>61.2</td>\n",
       "      <td>0.0</td>\n",
       "    </tr>\n",
       "    <tr>\n",
       "      <th>5</th>\n",
       "      <td>109290.0</td>\n",
       "      <td>25.5</td>\n",
       "      <td>0.0</td>\n",
       "    </tr>\n",
       "  </tbody>\n",
       "</table>\n",
       "</div>"
      ],
      "text/plain": [
       "   participant_id  eto_pmol_g_hb  eto_comment\n",
       "0        109266.0           18.7          0.0\n",
       "1        109270.0           37.7          0.0\n",
       "2        109273.0          359.0          0.0\n",
       "3        109274.0           61.2          0.0\n",
       "5        109290.0           25.5          0.0"
      ]
     },
     "execution_count": 224,
     "metadata": {},
     "output_type": "execute_result"
    }
   ],
   "source": [
    "df_b9.head()"
   ]
  },
  {
   "cell_type": "markdown",
   "id": "2ab269c0-bacc-4e44-bac5-01a167205806",
   "metadata": {},
   "source": [
    "**Ferritin and iron panel**\n",
    "\n",
    "Ferritin and iron panel are used to assess someone's iron status. Low values in the iron panel and ferritin along with clinical symptoms are corroborated to diagnose iron deficiency anemia. "
   ]
  },
  {
   "cell_type": "code",
   "execution_count": 225,
   "id": "4d501566-8065-47a1-8e5c-f34eb1a38a4a",
   "metadata": {},
   "outputs": [],
   "source": [
    "file_path = '2017-2020/blood/10.P_FERTIN.xpt'\n",
    "\n",
    "df_b10, meta = pyreadstat.read_xport(file_path)\n",
    "df_b10 = standardize_id_column(df_b10)"
   ]
  },
  {
   "cell_type": "code",
   "execution_count": 226,
   "id": "cff0b78a-bd79-4720-ac44-139688476c25",
   "metadata": {},
   "outputs": [
    {
     "data": {
      "text/html": [
       "<div>\n",
       "<style scoped>\n",
       "    .dataframe tbody tr th:only-of-type {\n",
       "        vertical-align: middle;\n",
       "    }\n",
       "\n",
       "    .dataframe tbody tr th {\n",
       "        vertical-align: top;\n",
       "    }\n",
       "\n",
       "    .dataframe thead th {\n",
       "        text-align: right;\n",
       "    }\n",
       "</style>\n",
       "<table border=\"1\" class=\"dataframe\">\n",
       "  <thead>\n",
       "    <tr style=\"text-align: right;\">\n",
       "      <th></th>\n",
       "      <th>participant_id</th>\n",
       "      <th>LBXFER</th>\n",
       "      <th>LBDFERSI</th>\n",
       "    </tr>\n",
       "  </thead>\n",
       "  <tbody>\n",
       "    <tr>\n",
       "      <th>0</th>\n",
       "      <td>109263.0</td>\n",
       "      <td>NaN</td>\n",
       "      <td>NaN</td>\n",
       "    </tr>\n",
       "    <tr>\n",
       "      <th>1</th>\n",
       "      <td>109264.0</td>\n",
       "      <td>15.7</td>\n",
       "      <td>15.7</td>\n",
       "    </tr>\n",
       "    <tr>\n",
       "      <th>2</th>\n",
       "      <td>109265.0</td>\n",
       "      <td>42.1</td>\n",
       "      <td>42.1</td>\n",
       "    </tr>\n",
       "    <tr>\n",
       "      <th>3</th>\n",
       "      <td>109266.0</td>\n",
       "      <td>11.6</td>\n",
       "      <td>11.6</td>\n",
       "    </tr>\n",
       "    <tr>\n",
       "      <th>4</th>\n",
       "      <td>109269.0</td>\n",
       "      <td>41.7</td>\n",
       "      <td>41.7</td>\n",
       "    </tr>\n",
       "  </tbody>\n",
       "</table>\n",
       "</div>"
      ],
      "text/plain": [
       "   participant_id  LBXFER  LBDFERSI\n",
       "0        109263.0     NaN       NaN\n",
       "1        109264.0    15.7      15.7\n",
       "2        109265.0    42.1      42.1\n",
       "3        109266.0    11.6      11.6\n",
       "4        109269.0    41.7      41.7"
      ]
     },
     "execution_count": 226,
     "metadata": {},
     "output_type": "execute_result"
    }
   ],
   "source": [
    "df_b10.head()"
   ]
  },
  {
   "cell_type": "code",
   "execution_count": 227,
   "id": "0af7e69c-2364-4806-b192-789be63aa159",
   "metadata": {},
   "outputs": [],
   "source": [
    "df_b10 = df_b10.rename(columns={\n",
    "    'LBXFER':'ferritin_ng_ml',\n",
    "    'LBDFERSI':'ferritin_ug_l'\n",
    "})"
   ]
  },
  {
   "cell_type": "code",
   "execution_count": 228,
   "id": "2d2e16d7-99ce-4b07-8223-d1ef00ae8cc3",
   "metadata": {},
   "outputs": [
    {
     "data": {
      "text/plain": [
       "participant_id       0\n",
       "ferritin_ng_ml    1426\n",
       "ferritin_ug_l     1426\n",
       "dtype: int64"
      ]
     },
     "execution_count": 228,
     "metadata": {},
     "output_type": "execute_result"
    }
   ],
   "source": [
    "df_b10.isnull().sum()"
   ]
  },
  {
   "cell_type": "code",
   "execution_count": 229,
   "id": "66b36820-11c3-475c-94cf-6932c6cc9275",
   "metadata": {},
   "outputs": [
    {
     "name": "stdout",
     "output_type": "stream",
     "text": [
      "Number of NaNs in ferritin_ng_ml: 1426\n",
      "Number of NaNs in ferritin_ug_l: 1426\n",
      "Number of IDs with NaNs in both columns: 1426\n"
     ]
    }
   ],
   "source": [
    "common_nan = get_common_nan_ids(df_b10, 'ferritin_ng_ml', 'ferritin_ug_l', id_col='participant_id')"
   ]
  },
  {
   "cell_type": "code",
   "execution_count": 230,
   "id": "7f8c669a-597d-487c-831f-be157e27b64e",
   "metadata": {},
   "outputs": [
    {
     "name": "stdout",
     "output_type": "stream",
     "text": [
      "Rows dropped where both ferritin_ng_ml and ferritin_ug_l were NaN: 1426\n"
     ]
    }
   ],
   "source": [
    "df_b10 = drop_rows_with_common_nan_ids(df_b10, 'ferritin_ng_ml', 'ferritin_ug_l', id_col='participant_id')"
   ]
  },
  {
   "cell_type": "code",
   "execution_count": 231,
   "id": "1539c34c-3244-409e-b046-0cd9e87fddbc",
   "metadata": {},
   "outputs": [],
   "source": [
    "file_path = '2017-2020/blood/11.P_FETIB.xpt'\n",
    "\n",
    "df_b11, meta = pyreadstat.read_xport(file_path)\n",
    "df_b11 = standardize_id_column(df_b11)"
   ]
  },
  {
   "cell_type": "code",
   "execution_count": 232,
   "id": "b9483ede-da8a-49b7-9a18-508070faf40f",
   "metadata": {},
   "outputs": [
    {
     "data": {
      "text/plain": [
       "['participant_id',\n",
       " 'LBXIRN',\n",
       " 'LBDIRNSI',\n",
       " 'LBXUIB',\n",
       " 'LBDUIBLC',\n",
       " 'LBDUIBSI',\n",
       " 'LBDTIB',\n",
       " 'LBDTIBSI',\n",
       " 'LBDPCT']"
      ]
     },
     "execution_count": 232,
     "metadata": {},
     "output_type": "execute_result"
    }
   ],
   "source": [
    "df_b11.columns.to_list()"
   ]
  },
  {
   "cell_type": "code",
   "execution_count": 233,
   "id": "cf0840e2-cbe6-4f70-ac79-dd07aa2279c6",
   "metadata": {},
   "outputs": [],
   "source": [
    "df_b11 = df_b11.rename(columns={\n",
    " 'LBXIRN':'iron_frozen_ug_dl',\n",
    " 'LBDIRNSI':'iron_frozen_umol_l',\n",
    " 'LBXUIB':'uibc_ug_dl',\n",
    " 'LBDUIBLC':'uibc_comment',\n",
    " 'LBDUIBSI':'uibc_umol_l',\n",
    " 'LBDTIB':'tibc_ug_dl',\n",
    " 'LBDTIBSI':'tibc_umol_l',\n",
    " 'LBDPCT':'transferrin_saturation'\n",
    "})"
   ]
  },
  {
   "cell_type": "code",
   "execution_count": 234,
   "id": "d6d03fca-74cf-4cb3-a96b-81b1a9e74200",
   "metadata": {},
   "outputs": [
    {
     "data": {
      "text/plain": [
       "participant_id              0\n",
       "iron_frozen_ug_dl         904\n",
       "iron_frozen_umol_l        904\n",
       "uibc_ug_dl                949\n",
       "uibc_comment              949\n",
       "uibc_umol_l               949\n",
       "tibc_ug_dl                956\n",
       "tibc_umol_l               956\n",
       "transferrin_saturation    956\n",
       "dtype: int64"
      ]
     },
     "execution_count": 234,
     "metadata": {},
     "output_type": "execute_result"
    }
   ],
   "source": [
    "df_b11.isnull().sum()"
   ]
  },
  {
   "cell_type": "code",
   "execution_count": 235,
   "id": "969b0567-4748-4fd5-9f1b-53aa2e84a6ff",
   "metadata": {},
   "outputs": [
    {
     "name": "stdout",
     "output_type": "stream",
     "text": [
      "Number of rows missing all iron panel values: 904\n"
     ]
    }
   ],
   "source": [
    "value_cols = [col for col in df_b11.columns if col != 'participant_id']\n",
    "rows_all_nan = df_b11[value_cols].isna().all(axis=1)\n",
    "print(f\"Number of rows missing all iron panel values: {rows_all_nan.sum()}\")"
   ]
  },
  {
   "cell_type": "code",
   "execution_count": 236,
   "id": "828c4037-094d-4054-b9c2-5d0bfc5f08f9",
   "metadata": {},
   "outputs": [
    {
     "name": "stdout",
     "output_type": "stream",
     "text": [
      "Number of rows dropped: 904\n"
     ]
    }
   ],
   "source": [
    "# Drop rows where all value columns are NaN (excluding participant_id)\n",
    "df_b11_cleaned = df_b11[~rows_all_nan].copy()\n",
    "\n",
    "print(f\"Number of rows dropped: {rows_all_nan.sum()}\")"
   ]
  },
  {
   "cell_type": "markdown",
   "id": "b8ffa888-072a-4187-a158-e79f6dc0f38b",
   "metadata": {},
   "source": [
    "**Folate**\n",
    "\n"
   ]
  },
  {
   "cell_type": "code",
   "execution_count": 237,
   "id": "07a8052a-6320-4bbd-9b92-99a9fd5df6a3",
   "metadata": {},
   "outputs": [],
   "source": [
    "file_path = '2017-2020/blood/12.P_FOLATE.xpt'\n",
    "\n",
    "df_b12, meta = pyreadstat.read_xport(file_path)\n",
    "df_b12 = standardize_id_column(df_b12)"
   ]
  },
  {
   "cell_type": "code",
   "execution_count": 238,
   "id": "5f69c319-03f9-4fd1-8d6a-452df390ad72",
   "metadata": {},
   "outputs": [
    {
     "data": {
      "text/plain": [
       "Index(['participant_id', 'WTFOLPRP', 'LBDRFO', 'LBDRFOSI'], dtype='object')"
      ]
     },
     "execution_count": 238,
     "metadata": {},
     "output_type": "execute_result"
    }
   ],
   "source": [
    "df_b12.columns"
   ]
  },
  {
   "cell_type": "code",
   "execution_count": 239,
   "id": "f1a48119-b84d-4254-be49-b4f4518e1303",
   "metadata": {},
   "outputs": [],
   "source": [
    "df_b12 = df_b12.drop('WTFOLPRP', axis=1)"
   ]
  },
  {
   "cell_type": "code",
   "execution_count": 240,
   "id": "bbdd7048-7fea-4392-a0ee-2f8ef1bdef3d",
   "metadata": {},
   "outputs": [],
   "source": [
    "df_b12 = df_b12.rename(columns={\n",
    "    'LBDRFO':'rbc_folate_ng_ml',\n",
    "    'LBDRFOSI':'rbc_folate_nmol_l'\n",
    "})"
   ]
  },
  {
   "cell_type": "code",
   "execution_count": 241,
   "id": "8e8faf65-3ba9-4e52-8017-b705221459a8",
   "metadata": {},
   "outputs": [
    {
     "data": {
      "text/plain": [
       "participant_id         0\n",
       "rbc_folate_ng_ml     966\n",
       "rbc_folate_nmol_l    966\n",
       "dtype: int64"
      ]
     },
     "execution_count": 241,
     "metadata": {},
     "output_type": "execute_result"
    }
   ],
   "source": [
    "df_b12.isnull().sum()"
   ]
  },
  {
   "cell_type": "code",
   "execution_count": 242,
   "id": "abac0b61-755d-489c-af20-6da58828182b",
   "metadata": {},
   "outputs": [
    {
     "name": "stdout",
     "output_type": "stream",
     "text": [
      "Number of NaNs in rbc_folate_ng_ml: 966\n",
      "Number of NaNs in rbc_folate_nmol_l: 966\n",
      "Number of IDs with NaNs in both columns: 966\n"
     ]
    }
   ],
   "source": [
    "common_nan = get_common_nan_ids(df_b12, 'rbc_folate_ng_ml', 'rbc_folate_nmol_l', id_col='participant_id')"
   ]
  },
  {
   "cell_type": "code",
   "execution_count": 243,
   "id": "559cb8ba-3bab-4f29-9700-1b450489e286",
   "metadata": {},
   "outputs": [
    {
     "name": "stdout",
     "output_type": "stream",
     "text": [
      "Rows dropped where both rbc_folate_ng_ml and rbc_folate_nmol_l were NaN: 966\n"
     ]
    }
   ],
   "source": [
    "df_b12 = drop_rows_with_common_nan_ids(df_b12, 'rbc_folate_ng_ml', 'rbc_folate_nmol_l', id_col='participant_id')"
   ]
  },
  {
   "cell_type": "code",
   "execution_count": 255,
   "id": "5e2d320b-9282-4200-91bb-401c85a261ea",
   "metadata": {},
   "outputs": [],
   "source": [
    "file_path = '2017-2020/blood/13.P_FOLFMS.xpt'\n",
    "\n",
    "df_b13, meta = pyreadstat.read_xport(file_path)\n",
    "df_b13 = standardize_id_column(df_b13)\n",
    "\n",
    "#There are a lot of technical names for these values so webscraping will be done instead of manual renaming of the columns"
   ]
  },
  {
   "cell_type": "code",
   "execution_count": 253,
   "id": "c33477bd-dc5d-4ab5-abd4-6e22aff6b214",
   "metadata": {},
   "outputs": [],
   "source": [
    "url = \"https://wwwn.cdc.gov/Nchs/Data/Nhanes/Public/2017/DataFiles/P_FOLFMS.htm\"\n",
    "\n",
    "df_info_raw = pd.read_html(url)[1]\n",
    "\n",
    "# Use the first row as the header\n",
    "df_info_raw.columns = df_info_raw.iloc[0]"
   ]
  },
  {
   "cell_type": "code",
   "execution_count": 254,
   "id": "7fc10914-ba55-4528-9f28-65c52d9c1b60",
   "metadata": {},
   "outputs": [
    {
     "data": {
      "text/plain": [
       "Index(['LBXSF1SI', '5-Methyltetrahydrofolate', 0.13], dtype='object', name=0)"
      ]
     },
     "execution_count": 254,
     "metadata": {},
     "output_type": "execute_result"
    }
   ],
   "source": [
    "df_info_raw.columns"
   ]
  },
  {
   "cell_type": "code",
   "execution_count": 249,
   "id": "f37c6701-3c7e-4737-9ed6-e6cd30edcfab",
   "metadata": {},
   "outputs": [
    {
     "ename": "KeyError",
     "evalue": "'Variable Name'",
     "output_type": "error",
     "traceback": [
      "\u001b[1;31m---------------------------------------------------------------------------\u001b[0m",
      "\u001b[1;31mKeyError\u001b[0m                                  Traceback (most recent call last)",
      "File \u001b[1;32m~\\anaconda3\\Lib\\site-packages\\pandas\\core\\indexes\\base.py:3805\u001b[0m, in \u001b[0;36mIndex.get_loc\u001b[1;34m(self, key)\u001b[0m\n\u001b[0;32m   3804\u001b[0m \u001b[38;5;28;01mtry\u001b[39;00m:\n\u001b[1;32m-> 3805\u001b[0m     \u001b[38;5;28;01mreturn\u001b[39;00m \u001b[38;5;28mself\u001b[39m\u001b[38;5;241m.\u001b[39m_engine\u001b[38;5;241m.\u001b[39mget_loc(casted_key)\n\u001b[0;32m   3806\u001b[0m \u001b[38;5;28;01mexcept\u001b[39;00m \u001b[38;5;167;01mKeyError\u001b[39;00m \u001b[38;5;28;01mas\u001b[39;00m err:\n",
      "File \u001b[1;32mindex.pyx:167\u001b[0m, in \u001b[0;36mpandas._libs.index.IndexEngine.get_loc\u001b[1;34m()\u001b[0m\n",
      "File \u001b[1;32mindex.pyx:196\u001b[0m, in \u001b[0;36mpandas._libs.index.IndexEngine.get_loc\u001b[1;34m()\u001b[0m\n",
      "File \u001b[1;32mpandas\\\\_libs\\\\hashtable_class_helper.pxi:7081\u001b[0m, in \u001b[0;36mpandas._libs.hashtable.PyObjectHashTable.get_item\u001b[1;34m()\u001b[0m\n",
      "File \u001b[1;32mpandas\\\\_libs\\\\hashtable_class_helper.pxi:7089\u001b[0m, in \u001b[0;36mpandas._libs.hashtable.PyObjectHashTable.get_item\u001b[1;34m()\u001b[0m\n",
      "\u001b[1;31mKeyError\u001b[0m: 'Variable Name'",
      "\nThe above exception was the direct cause of the following exception:\n",
      "\u001b[1;31mKeyError\u001b[0m                                  Traceback (most recent call last)",
      "Cell \u001b[1;32mIn[249], line 4\u001b[0m\n\u001b[0;32m      1\u001b[0m rename_dict \u001b[38;5;241m=\u001b[39m {\n\u001b[0;32m      2\u001b[0m     row[\u001b[38;5;124m\"\u001b[39m\u001b[38;5;124mVariable Name\u001b[39m\u001b[38;5;124m\"\u001b[39m]: to_snake_case(row[\u001b[38;5;124m\"\u001b[39m\u001b[38;5;124mAnalyte Description\u001b[39m\u001b[38;5;124m\"\u001b[39m])\n\u001b[0;32m      3\u001b[0m     \u001b[38;5;28;01mfor\u001b[39;00m _, row \u001b[38;5;129;01min\u001b[39;00m df_info\u001b[38;5;241m.\u001b[39miterrows()\n\u001b[1;32m----> 4\u001b[0m     \u001b[38;5;28;01mif\u001b[39;00m row[\u001b[38;5;124m\"\u001b[39m\u001b[38;5;124mVariable Name\u001b[39m\u001b[38;5;124m\"\u001b[39m] \u001b[38;5;129;01min\u001b[39;00m df_b13\u001b[38;5;241m.\u001b[39mcolumns\n\u001b[0;32m      5\u001b[0m }\n",
      "File \u001b[1;32m~\\anaconda3\\Lib\\site-packages\\pandas\\core\\series.py:1121\u001b[0m, in \u001b[0;36mSeries.__getitem__\u001b[1;34m(self, key)\u001b[0m\n\u001b[0;32m   1118\u001b[0m     \u001b[38;5;28;01mreturn\u001b[39;00m \u001b[38;5;28mself\u001b[39m\u001b[38;5;241m.\u001b[39m_values[key]\n\u001b[0;32m   1120\u001b[0m \u001b[38;5;28;01melif\u001b[39;00m key_is_scalar:\n\u001b[1;32m-> 1121\u001b[0m     \u001b[38;5;28;01mreturn\u001b[39;00m \u001b[38;5;28mself\u001b[39m\u001b[38;5;241m.\u001b[39m_get_value(key)\n\u001b[0;32m   1123\u001b[0m \u001b[38;5;66;03m# Convert generator to list before going through hashable part\u001b[39;00m\n\u001b[0;32m   1124\u001b[0m \u001b[38;5;66;03m# (We will iterate through the generator there to check for slices)\u001b[39;00m\n\u001b[0;32m   1125\u001b[0m \u001b[38;5;28;01mif\u001b[39;00m is_iterator(key):\n",
      "File \u001b[1;32m~\\anaconda3\\Lib\\site-packages\\pandas\\core\\series.py:1237\u001b[0m, in \u001b[0;36mSeries._get_value\u001b[1;34m(self, label, takeable)\u001b[0m\n\u001b[0;32m   1234\u001b[0m     \u001b[38;5;28;01mreturn\u001b[39;00m \u001b[38;5;28mself\u001b[39m\u001b[38;5;241m.\u001b[39m_values[label]\n\u001b[0;32m   1236\u001b[0m \u001b[38;5;66;03m# Similar to Index.get_value, but we do not fall back to positional\u001b[39;00m\n\u001b[1;32m-> 1237\u001b[0m loc \u001b[38;5;241m=\u001b[39m \u001b[38;5;28mself\u001b[39m\u001b[38;5;241m.\u001b[39mindex\u001b[38;5;241m.\u001b[39mget_loc(label)\n\u001b[0;32m   1239\u001b[0m \u001b[38;5;28;01mif\u001b[39;00m is_integer(loc):\n\u001b[0;32m   1240\u001b[0m     \u001b[38;5;28;01mreturn\u001b[39;00m \u001b[38;5;28mself\u001b[39m\u001b[38;5;241m.\u001b[39m_values[loc]\n",
      "File \u001b[1;32m~\\anaconda3\\Lib\\site-packages\\pandas\\core\\indexes\\base.py:3812\u001b[0m, in \u001b[0;36mIndex.get_loc\u001b[1;34m(self, key)\u001b[0m\n\u001b[0;32m   3807\u001b[0m     \u001b[38;5;28;01mif\u001b[39;00m \u001b[38;5;28misinstance\u001b[39m(casted_key, \u001b[38;5;28mslice\u001b[39m) \u001b[38;5;129;01mor\u001b[39;00m (\n\u001b[0;32m   3808\u001b[0m         \u001b[38;5;28misinstance\u001b[39m(casted_key, abc\u001b[38;5;241m.\u001b[39mIterable)\n\u001b[0;32m   3809\u001b[0m         \u001b[38;5;129;01mand\u001b[39;00m \u001b[38;5;28many\u001b[39m(\u001b[38;5;28misinstance\u001b[39m(x, \u001b[38;5;28mslice\u001b[39m) \u001b[38;5;28;01mfor\u001b[39;00m x \u001b[38;5;129;01min\u001b[39;00m casted_key)\n\u001b[0;32m   3810\u001b[0m     ):\n\u001b[0;32m   3811\u001b[0m         \u001b[38;5;28;01mraise\u001b[39;00m InvalidIndexError(key)\n\u001b[1;32m-> 3812\u001b[0m     \u001b[38;5;28;01mraise\u001b[39;00m \u001b[38;5;167;01mKeyError\u001b[39;00m(key) \u001b[38;5;28;01mfrom\u001b[39;00m \u001b[38;5;21;01merr\u001b[39;00m\n\u001b[0;32m   3813\u001b[0m \u001b[38;5;28;01mexcept\u001b[39;00m \u001b[38;5;167;01mTypeError\u001b[39;00m:\n\u001b[0;32m   3814\u001b[0m     \u001b[38;5;66;03m# If we have a listlike key, _check_indexing_error will raise\u001b[39;00m\n\u001b[0;32m   3815\u001b[0m     \u001b[38;5;66;03m#  InvalidIndexError. Otherwise we fall through and re-raise\u001b[39;00m\n\u001b[0;32m   3816\u001b[0m     \u001b[38;5;66;03m#  the TypeError.\u001b[39;00m\n\u001b[0;32m   3817\u001b[0m     \u001b[38;5;28mself\u001b[39m\u001b[38;5;241m.\u001b[39m_check_indexing_error(key)\n",
      "\u001b[1;31mKeyError\u001b[0m: 'Variable Name'"
     ]
    }
   ],
   "source": [
    "rename_dict = {\n",
    "    row[\"Variable Name\"]: to_snake_case(row[\"Analyte Description\"])\n",
    "    for _, row in df_info.iterrows()\n",
    "    if row[\"Variable Name\"] in df_b13.columns\n",
    "}"
   ]
  },
  {
   "cell_type": "markdown",
   "id": "aaaea82c-c380-4418-b6c7-deae694a161a",
   "metadata": {},
   "source": [
    "## References\n",
    "\n",
    "2. Ceciliani, F., & Lecchi, C. (2019). The immune functions of α1 acid glycoprotein. Current Protein & Peptide Science, 20(6), 505–524. https://doi.org/10.2174/1389203720666190405101138\n",
    "3. National Institute of Environmental Health Sciences. (n.d.). Arsenic. U.S. Department of Health and Human Services. Retrieved July 3, 2025, from https://www.niehs.nih.gov/health/topics/agents/arsenic\n",
    "4. Office of Dietary Supplements. (2022, June 2). Chromium: Health professional fact sheet. U.S. Department of Health and Human Services. Retrieved July 6, 2025, from https://ods.od.nih.gov/factsheets/Chromium-HealthProfessional/\n",
    "5. National Institute of Environmental Health Sciences. (2025, January 30). Flame retardants. U.S. Department of Health and Human Services. Retrieved July 7, 2025, from https://www.niehs.nih.gov/health/topics/agents/flame_retardants\n",
    "6. Office of Dietary Supplements. (2024, November 5). Iodine: Health professional fact sheet. U.S. Department of Health and Human Services, National Institutes of Health. Retrieved July 8, 2025, from https://ods.od.nih.gov/factsheets/Iodine-HealthProfessional/\n",
    "7. Pearce, E. N., & Caldwell, K. L. (2016). Urinary iodine, thyroid function, and thyroglobulin as biomarkers of iodine status. The American Journal of Clinical Nutrition, 104(Suppl 3), 898S–901S. https://doi.org/10.3945/ajcn.115.110395\n",
    "8. Agency for Toxic Substances and Disease Registry. (2007, August). Toxicological profile for barium and barium compounds: Public health statement. U.S. Department of Health and Human Services. https://www.ncbi.nlm.nih.gov/books/NBK598787/\n",
    "9. Ye, B. J., Kim, B. G., Jeon, M. J., Kim, S. Y., Kim, H. C., Jang, T. W., Chae, H. J., Choi, W. J., Ha, M. N., & Hong, Y. S. (2016). Evaluation of mercury exposure level, clinical diagnosis and treatment for mercury intoxication. Annals of occupational and environmental medicine, 28, 5. https://doi.org/10.1186/s40557-015-0086-8\n",
    "10. Genchi, G., Sinicropi, M. S., Lauria, G., Carocci, A., & Catalano, A. (2020). The Effects of Cadmium Toxicity. International journal of environmental research and public health, 17(11), 3782. https://doi.org/10.3390/ijerph17113782\n",
    "11. Gates, A., Jakubowski, J. A., & Regina, A. C. (2025). Nickel toxicology. In StatPearls. StatPearls Publishing. Retrieved May 20, 2023, from https://www.ncbi.nlm.nih.gov/books/NBK592400/\n",
    "12. Gupta, M., & Shorman, M. (2025). Cytomegalovirus Infections. In StatPearls. StatPearls Publishing.\n",
    "13. U.S. Environmental Protection Agency. (n.d.). Our current understanding of ethylene oxide (EtO). EPA. Retrieved July 16, 2025, from https://www.epa.gov/hazardous-air-pollutants-ethylene-oxide/our-current-understanding-ethylene-oxide-eto"
   ]
  },
  {
   "cell_type": "code",
   "execution_count": null,
   "id": "aaa56ad7-deb2-4f97-9c6f-7240b992f5bb",
   "metadata": {},
   "outputs": [],
   "source": []
  }
 ],
 "metadata": {
  "kernelspec": {
   "display_name": "Python 3 (ipykernel)",
   "language": "python",
   "name": "python3"
  },
  "language_info": {
   "codemirror_mode": {
    "name": "ipython",
    "version": 3
   },
   "file_extension": ".py",
   "mimetype": "text/x-python",
   "name": "python",
   "nbconvert_exporter": "python",
   "pygments_lexer": "ipython3",
   "version": "3.12.7"
  }
 },
 "nbformat": 4,
 "nbformat_minor": 5
}
