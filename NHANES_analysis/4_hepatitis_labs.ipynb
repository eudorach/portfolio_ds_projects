{
 "cells": [
  {
   "cell_type": "markdown",
   "id": "8f5e1dc9-0207-4dce-b98a-75168e363473",
   "metadata": {},
   "source": [
    "# Hepatitis Panel"
   ]
  },
  {
   "cell_type": "code",
   "execution_count": 3,
   "id": "52554615-f3e0-4a39-86c9-5228b6247b4c",
   "metadata": {},
   "outputs": [
    {
     "name": "stdout",
     "output_type": "stream",
     "text": [
      "Defaulting to user installation because normal site-packages is not writeable\n",
      "Requirement already satisfied: pyreadstat in c:\\users\\chungs4\\appdata\\roaming\\python\\python312\\site-packages (1.3.0)\n",
      "Requirement already satisfied: pandas>=1.2.0 in c:\\programdata\\anaconda3\\lib\\site-packages (from pyreadstat) (2.2.2)\n",
      "Requirement already satisfied: numpy>=1.26.0 in c:\\programdata\\anaconda3\\lib\\site-packages (from pandas>=1.2.0->pyreadstat) (1.26.4)\n",
      "Requirement already satisfied: python-dateutil>=2.8.2 in c:\\programdata\\anaconda3\\lib\\site-packages (from pandas>=1.2.0->pyreadstat) (2.9.0.post0)\n",
      "Requirement already satisfied: pytz>=2020.1 in c:\\programdata\\anaconda3\\lib\\site-packages (from pandas>=1.2.0->pyreadstat) (2024.1)\n",
      "Requirement already satisfied: tzdata>=2022.7 in c:\\programdata\\anaconda3\\lib\\site-packages (from pandas>=1.2.0->pyreadstat) (2023.3)\n",
      "Requirement already satisfied: six>=1.5 in c:\\programdata\\anaconda3\\lib\\site-packages (from python-dateutil>=2.8.2->pandas>=1.2.0->pyreadstat) (1.16.0)\n"
     ]
    }
   ],
   "source": [
    "import pandas as pd\n",
    "import numpy as np\n",
    "import seaborn as sns\n",
    "import os\n",
    "!pip install pyreadstat\n",
    "import pyreadstat #since the data files are .xpt files, this library is needed to import the table\n",
    "import re\n",
    "import requests\n",
    "from bs4 import BeautifulSoup\n",
    "from nhanes_utils import to_snake_case, get_common_nan_ids, standardize_id_column, drop_rows_with_common_nan_ids"
   ]
  },
  {
   "cell_type": "markdown",
   "id": "b68713bb-a196-4283-8c5e-6eee4516cc11",
   "metadata": {},
   "source": [
    "## Hep A"
   ]
  },
  {
   "cell_type": "code",
   "execution_count": 7,
   "id": "ba8fd12f-0108-48b5-b8b7-dfe4cdfd7db0",
   "metadata": {},
   "outputs": [],
   "source": [
    "file_path = '2017-2020/hepatitis/P_HEPA.xpt'\n",
    "\n",
    "df_h1, meta = pyreadstat.read_xport(file_path)\n",
    "df_h1 = standardize_id_column(df_h1)"
   ]
  },
  {
   "cell_type": "code",
   "execution_count": 9,
   "id": "371c942e-8024-4533-9798-b7132a8506d2",
   "metadata": {},
   "outputs": [],
   "source": [
    "df_h1 = df_h1.rename(columns = {'LBXHA' : 'hepatitis_a_antibody'})"
   ]
  },
  {
   "cell_type": "code",
   "execution_count": null,
   "id": "c7350a8c-acc7-4149-b378-8b9cc53c5c6b",
   "metadata": {},
   "outputs": [],
   "source": []
  }
 ],
 "metadata": {
  "kernelspec": {
   "display_name": "Python [conda env:base] *",
   "language": "python",
   "name": "conda-base-py"
  },
  "language_info": {
   "codemirror_mode": {
    "name": "ipython",
    "version": 3
   },
   "file_extension": ".py",
   "mimetype": "text/x-python",
   "name": "python",
   "nbconvert_exporter": "python",
   "pygments_lexer": "ipython3",
   "version": "3.12.7"
  }
 },
 "nbformat": 4,
 "nbformat_minor": 5
}
