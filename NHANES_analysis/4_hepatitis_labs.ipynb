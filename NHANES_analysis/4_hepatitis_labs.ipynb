{
 "cells": [
  {
   "cell_type": "markdown",
   "id": "8f5e1dc9-0207-4dce-b98a-75168e363473",
   "metadata": {},
   "source": [
    "# Hepatitis Panel"
   ]
  },
  {
   "cell_type": "code",
   "execution_count": 1,
   "id": "52554615-f3e0-4a39-86c9-5228b6247b4c",
   "metadata": {},
   "outputs": [
    {
     "name": "stdout",
     "output_type": "stream",
     "text": [
      "Requirement already satisfied: pyreadstat in c:\\users\\rschu\\anaconda3\\lib\\site-packages (1.3.0)\n",
      "Requirement already satisfied: pandas>=1.2.0 in c:\\users\\rschu\\anaconda3\\lib\\site-packages (from pyreadstat) (2.2.2)\n",
      "Requirement already satisfied: numpy>=1.26.0 in c:\\users\\rschu\\anaconda3\\lib\\site-packages (from pandas>=1.2.0->pyreadstat) (1.26.4)\n",
      "Requirement already satisfied: python-dateutil>=2.8.2 in c:\\users\\rschu\\anaconda3\\lib\\site-packages (from pandas>=1.2.0->pyreadstat) (2.9.0.post0)\n",
      "Requirement already satisfied: pytz>=2020.1 in c:\\users\\rschu\\anaconda3\\lib\\site-packages (from pandas>=1.2.0->pyreadstat) (2024.1)\n",
      "Requirement already satisfied: tzdata>=2022.7 in c:\\users\\rschu\\anaconda3\\lib\\site-packages (from pandas>=1.2.0->pyreadstat) (2023.3)\n",
      "Requirement already satisfied: six>=1.5 in c:\\users\\rschu\\anaconda3\\lib\\site-packages (from python-dateutil>=2.8.2->pandas>=1.2.0->pyreadstat) (1.16.0)\n"
     ]
    }
   ],
   "source": [
    "import pandas as pd\n",
    "import numpy as np\n",
    "import seaborn as sns\n",
    "import os\n",
    "!pip install pyreadstat\n",
    "import pyreadstat #since the data files are .xpt files, this library is needed to import the table\n",
    "import re\n",
    "import requests\n",
    "from bs4 import BeautifulSoup\n",
    "from nhanes_utils import to_snake_case, get_common_nan_ids, standardize_id_column, drop_rows_with_common_nan_ids"
   ]
  },
  {
   "cell_type": "markdown",
   "id": "b68713bb-a196-4283-8c5e-6eee4516cc11",
   "metadata": {},
   "source": [
    "## Hep A"
   ]
  },
  {
   "cell_type": "code",
   "execution_count": 2,
   "id": "ba8fd12f-0108-48b5-b8b7-dfe4cdfd7db0",
   "metadata": {},
   "outputs": [],
   "source": [
    "file_path = '2017-2020/hepatitis/P_HEPA.xpt'\n",
    "\n",
    "df_h1, meta = pyreadstat.read_xport(file_path)\n",
    "df_h1 = standardize_id_column(df_h1)"
   ]
  },
  {
   "cell_type": "code",
   "execution_count": 3,
   "id": "371c942e-8024-4533-9798-b7132a8506d2",
   "metadata": {},
   "outputs": [],
   "source": [
    "df_h1 = df_h1.rename(columns = {'LBXHA' : 'hepatitis_a_antibody'})"
   ]
  },
  {
   "cell_type": "code",
   "execution_count": 4,
   "id": "c7350a8c-acc7-4149-b378-8b9cc53c5c6b",
   "metadata": {},
   "outputs": [
    {
     "data": {
      "text/html": [
       "<div>\n",
       "<style scoped>\n",
       "    .dataframe tbody tr th:only-of-type {\n",
       "        vertical-align: middle;\n",
       "    }\n",
       "\n",
       "    .dataframe tbody tr th {\n",
       "        vertical-align: top;\n",
       "    }\n",
       "\n",
       "    .dataframe thead th {\n",
       "        text-align: right;\n",
       "    }\n",
       "</style>\n",
       "<table border=\"1\" class=\"dataframe\">\n",
       "  <thead>\n",
       "    <tr style=\"text-align: right;\">\n",
       "      <th></th>\n",
       "      <th>participant_id</th>\n",
       "      <th>hepatitis_a_antibody</th>\n",
       "    </tr>\n",
       "  </thead>\n",
       "  <tbody>\n",
       "    <tr>\n",
       "      <th>0</th>\n",
       "      <td>109263.0</td>\n",
       "      <td>NaN</td>\n",
       "    </tr>\n",
       "    <tr>\n",
       "      <th>1</th>\n",
       "      <td>109264.0</td>\n",
       "      <td>1.0</td>\n",
       "    </tr>\n",
       "    <tr>\n",
       "      <th>2</th>\n",
       "      <td>109265.0</td>\n",
       "      <td>1.0</td>\n",
       "    </tr>\n",
       "    <tr>\n",
       "      <th>3</th>\n",
       "      <td>109266.0</td>\n",
       "      <td>1.0</td>\n",
       "    </tr>\n",
       "    <tr>\n",
       "      <th>4</th>\n",
       "      <td>109269.0</td>\n",
       "      <td>1.0</td>\n",
       "    </tr>\n",
       "  </tbody>\n",
       "</table>\n",
       "</div>"
      ],
      "text/plain": [
       "   participant_id  hepatitis_a_antibody\n",
       "0        109263.0                   NaN\n",
       "1        109264.0                   1.0\n",
       "2        109265.0                   1.0\n",
       "3        109266.0                   1.0\n",
       "4        109269.0                   1.0"
      ]
     },
     "execution_count": 4,
     "metadata": {},
     "output_type": "execute_result"
    }
   ],
   "source": [
    "df_h1.head()"
   ]
  },
  {
   "cell_type": "code",
   "execution_count": 5,
   "id": "77057de3-de1b-414e-9de9-3c8e057bff0d",
   "metadata": {},
   "outputs": [
    {
     "data": {
      "text/plain": [
       "participant_id             0\n",
       "hepatitis_a_antibody    1894\n",
       "dtype: int64"
      ]
     },
     "execution_count": 5,
     "metadata": {},
     "output_type": "execute_result"
    }
   ],
   "source": [
    "df_h1.isnull().sum()"
   ]
  },
  {
   "cell_type": "code",
   "execution_count": 6,
   "id": "c5a796ba-3fae-4c27-9159-9865311f2ea6",
   "metadata": {},
   "outputs": [],
   "source": [
    "df_h1 = df_h1.dropna()"
   ]
  },
  {
   "cell_type": "markdown",
   "id": "cbcde02b-f3f0-4adf-93e5-7290ea0010d4",
   "metadata": {},
   "source": [
    "### Hep B"
   ]
  },
  {
   "cell_type": "code",
   "execution_count": 8,
   "id": "30f0227f-5789-46f5-94b8-87e428110f31",
   "metadata": {},
   "outputs": [],
   "source": [
    "file_path = '2017-2020/hepatitis/P_HEPB_S.xpt'\n",
    "\n",
    "df_h2, meta = pyreadstat.read_xport(file_path)\n",
    "df_h2 = standardize_id_column(df_h2)"
   ]
  },
  {
   "cell_type": "code",
   "execution_count": 12,
   "id": "5202aa72-a1a5-4c0c-9e26-ad7c36852b47",
   "metadata": {},
   "outputs": [],
   "source": [
    "df_h2 = df_h2.rename(columns = {'LBXHBS' : 'hepatitis_b_surface_antibody'})"
   ]
  },
  {
   "cell_type": "code",
   "execution_count": 10,
   "id": "405f0f64-379f-4463-9d88-7843935a9624",
   "metadata": {},
   "outputs": [
    {
     "data": {
      "text/plain": [
       "participant_id             0\n",
       "hepatitis_b_antibody    1805\n",
       "dtype: int64"
      ]
     },
     "execution_count": 10,
     "metadata": {},
     "output_type": "execute_result"
    }
   ],
   "source": [
    "df_h2.isnull().sum()"
   ]
  },
  {
   "cell_type": "code",
   "execution_count": 11,
   "id": "7564b503-8aff-4ec5-b624-c9d44341eb20",
   "metadata": {},
   "outputs": [],
   "source": [
    "df_h2 = df_h2.dropna()"
   ]
  },
  {
   "cell_type": "code",
   "execution_count": 13,
   "id": "5aacf8af-6ee8-480a-b887-de0fb1eaf2e6",
   "metadata": {},
   "outputs": [],
   "source": [
    "file_path = '2017-2020/hepatitis/P_HEPBD.xpt'\n",
    "\n",
    "df_h3, meta = pyreadstat.read_xport(file_path)\n",
    "df_h3 = standardize_id_column(df_h3)"
   ]
  },
  {
   "cell_type": "code",
   "execution_count": 14,
   "id": "4c560074-4422-49e0-9a4d-ec327d670f45",
   "metadata": {},
   "outputs": [],
   "source": [
    "url = \"https://wwwn.cdc.gov/Nchs/Data/Nhanes/Public/2017/DataFiles/P_HEPBD.htm\"\n",
    "response = requests.get(url)\n",
    "soup = BeautifulSoup(response.content, \"html.parser\")\n",
    "\n",
    "pattern = re.compile(r'^([A-Z0-9_]+)\\s*-\\s*(.+)$')\n",
    "\n",
    "rename_dict = {}\n",
    "\n",
    "# Loop through all h3 tags and filter those that match our pattern\n",
    "for tag in soup.find_all('h3'):\n",
    "    text = tag.get_text(strip=True)\n",
    "    match = pattern.match(text)\n",
    "    if match:\n",
    "        var_name = match.group(1)\n",
    "        description = match.group(2)\n",
    "                \n",
    "        clean_name = to_snake_case(description)\n",
    "        rename_dict[var_name] = clean_name"
   ]
  },
  {
   "cell_type": "code",
   "execution_count": 15,
   "id": "2c300cda-949d-40f5-9064-c9872a09debf",
   "metadata": {},
   "outputs": [],
   "source": [
    "filtered_rename_dict = {\n",
    "    k: v for k, v in rename_dict.items() if k in df_h3.columns\n",
    "}\n",
    "\n",
    "df_h3 = df_h3.rename(columns=filtered_rename_dict)"
   ]
  },
  {
   "cell_type": "code",
   "execution_count": 16,
   "id": "fe197d5d-877c-4e56-8d6f-86bcb62d9e5e",
   "metadata": {},
   "outputs": [
    {
     "data": {
      "text/plain": [
       "participant_id                       0\n",
       "hepatitis_b_core_antibody         1281\n",
       "hepatitis_b_surface_antigen      11558\n",
       "hepatitis_d_antibody_anti_hdv    11559\n",
       "dtype: int64"
      ]
     },
     "execution_count": 16,
     "metadata": {},
     "output_type": "execute_result"
    }
   ],
   "source": [
    "df_h3.isnull().sum()"
   ]
  },
  {
   "cell_type": "code",
   "execution_count": 19,
   "id": "fa4cd58d-3d4b-4788-9ec7-e928f1e08400",
   "metadata": {},
   "outputs": [
    {
     "name": "stdout",
     "output_type": "stream",
     "text": [
      "Number of rows missing Hep B values: 1281\n"
     ]
    }
   ],
   "source": [
    "value_cols = [col for col in df_h3.columns if col != 'participant_id']\n",
    "rows_all_nan = df_h3[value_cols].isna().all(axis=1)\n",
    "print(f\"Number of rows missing Hep B values: {rows_all_nan.sum()}\")"
   ]
  },
  {
   "cell_type": "code",
   "execution_count": 20,
   "id": "3a4ed4e7-12dd-4a1b-98cf-a211b5fd92d6",
   "metadata": {},
   "outputs": [
    {
     "name": "stdout",
     "output_type": "stream",
     "text": [
      "Number of rows dropped: 1281\n"
     ]
    }
   ],
   "source": [
    "# Drop rows where all value columns are NaN (excluding participant_id)\n",
    "df_h3_cleaned = df_h3[~rows_all_nan].copy()\n",
    "\n",
    "print(f\"Number of rows dropped: {rows_all_nan.sum()}\")"
   ]
  },
  {
   "cell_type": "markdown",
   "id": "f177e33e-3e84-4440-9e5b-bb94a4e1e5bf",
   "metadata": {},
   "source": [
    "### Hep C"
   ]
  },
  {
   "cell_type": "code",
   "execution_count": 21,
   "id": "d2a16980-cfff-45a6-aa3b-3bc693032b49",
   "metadata": {},
   "outputs": [],
   "source": [
    "file_path = '2017-2020/hepatitis/P_HEPC.xpt'\n",
    "\n",
    "df_h4, meta = pyreadstat.read_xport(file_path)\n",
    "df_h4 = standardize_id_column(df_h4)"
   ]
  },
  {
   "cell_type": "code",
   "execution_count": 22,
   "id": "73836f48-a211-445b-be75-a7848585927b",
   "metadata": {},
   "outputs": [],
   "source": [
    "url = \"https://wwwn.cdc.gov/Nchs/Data/Nhanes/Public/2017/DataFiles/P_HEPC.htm\"\n",
    "response = requests.get(url)\n",
    "soup = BeautifulSoup(response.content, \"html.parser\")\n",
    "\n",
    "pattern = re.compile(r'^([A-Z0-9_]+)\\s*-\\s*(.+)$')\n",
    "\n",
    "rename_dict = {}\n",
    "\n",
    "# Loop through all h3 tags and filter those that match our pattern\n",
    "for tag in soup.find_all('h3'):\n",
    "    text = tag.get_text(strip=True)\n",
    "    match = pattern.match(text)\n",
    "    if match:\n",
    "        var_name = match.group(1)\n",
    "        description = match.group(2)\n",
    "                \n",
    "        clean_name = to_snake_case(description)\n",
    "        rename_dict[var_name] = clean_name"
   ]
  },
  {
   "cell_type": "code",
   "execution_count": 23,
   "id": "851d1d30-4633-4a66-83c9-ff18fe81b941",
   "metadata": {},
   "outputs": [],
   "source": [
    "filtered_rename_dict = {\n",
    "    k: v for k, v in rename_dict.items() if k in df_h4.columns\n",
    "}\n",
    "\n",
    "df_h4 = df_h4.rename(columns=filtered_rename_dict)"
   ]
  },
  {
   "cell_type": "code",
   "execution_count": 24,
   "id": "fa198c54-4c80-48ab-a542-d01818fce2ee",
   "metadata": {},
   "outputs": [
    {
     "name": "stdout",
     "output_type": "stream",
     "text": [
      "Number of rows missing Hep C values: 1391\n"
     ]
    }
   ],
   "source": [
    "value_cols = [col for col in df_h4.columns if col != 'participant_id']\n",
    "rows_all_nan = df_h4[value_cols].isna().all(axis=1)\n",
    "print(f\"Number of rows missing Hep C values: {rows_all_nan.sum()}\")"
   ]
  },
  {
   "cell_type": "code",
   "execution_count": 25,
   "id": "23a1be7b-bb54-4d03-abce-c92a8be4a9c9",
   "metadata": {},
   "outputs": [
    {
     "name": "stdout",
     "output_type": "stream",
     "text": [
      "Number of rows dropped: 1391\n"
     ]
    }
   ],
   "source": [
    "# Drop rows where all value columns are NaN (excluding participant_id)\n",
    "df_h4_cleaned = df_h4[~rows_all_nan].copy()\n",
    "\n",
    "print(f\"Number of rows dropped: {rows_all_nan.sum()}\")"
   ]
  },
  {
   "cell_type": "markdown",
   "id": "439a05f7-82dd-4b37-b7bd-fcdd4fe7bc04",
   "metadata": {},
   "source": [
    "### Hep E"
   ]
  },
  {
   "cell_type": "code",
   "execution_count": 26,
   "id": "39737de2-b057-4ce1-a4dc-a9c51cdcf658",
   "metadata": {},
   "outputs": [],
   "source": [
    "file_path = '2017-2020/hepatitis/P_HEPE.xpt'\n",
    "\n",
    "df_h5, meta = pyreadstat.read_xport(file_path)\n",
    "df_h5 = standardize_id_column(df_h5)"
   ]
  },
  {
   "cell_type": "code",
   "execution_count": 27,
   "id": "0d031ea2-e51d-432c-acac-f41499930b78",
   "metadata": {},
   "outputs": [],
   "source": [
    "url = \"https://wwwn.cdc.gov/Nchs/Data/Nhanes/Public/2017/DataFiles/P_HEPE.htm\"\n",
    "response = requests.get(url)\n",
    "soup = BeautifulSoup(response.content, \"html.parser\")\n",
    "\n",
    "pattern = re.compile(r'^([A-Z0-9_]+)\\s*-\\s*(.+)$')\n",
    "\n",
    "rename_dict = {}\n",
    "\n",
    "# Loop through all h3 tags and filter those that match our pattern\n",
    "for tag in soup.find_all('h3'):\n",
    "    text = tag.get_text(strip=True)\n",
    "    match = pattern.match(text)\n",
    "    if match:\n",
    "        var_name = match.group(1)\n",
    "        description = match.group(2)\n",
    "                \n",
    "        clean_name = to_snake_case(description)\n",
    "        rename_dict[var_name] = clean_name"
   ]
  },
  {
   "cell_type": "code",
   "execution_count": 28,
   "id": "04dc05dd-2ab6-4cf1-b50d-e841ac1d325c",
   "metadata": {},
   "outputs": [],
   "source": [
    "filtered_rename_dict = {\n",
    "    k: v for k, v in rename_dict.items() if k in df_h5.columns\n",
    "}\n",
    "\n",
    "df_h5 = df_h5.rename(columns=filtered_rename_dict)"
   ]
  },
  {
   "cell_type": "code",
   "execution_count": 29,
   "id": "acaaf4b7-f6c0-4753-b686-7e163ff022dd",
   "metadata": {},
   "outputs": [
    {
     "name": "stdout",
     "output_type": "stream",
     "text": [
      "Number of rows missing Hep E values: 1282\n"
     ]
    }
   ],
   "source": [
    "value_cols = [col for col in df_h5.columns if col != 'participant_id']\n",
    "rows_all_nan = df_h5[value_cols].isna().all(axis=1)\n",
    "print(f\"Number of rows missing Hep E values: {rows_all_nan.sum()}\")"
   ]
  },
  {
   "cell_type": "code",
   "execution_count": 30,
   "id": "41f9583a-235d-49f3-a113-74ff4f616087",
   "metadata": {},
   "outputs": [
    {
     "name": "stdout",
     "output_type": "stream",
     "text": [
      "Number of rows dropped: 1282\n"
     ]
    }
   ],
   "source": [
    "# Drop rows where all value columns are NaN (excluding participant_id)\n",
    "df_h5_cleaned = df_h5[~rows_all_nan].copy()\n",
    "\n",
    "print(f\"Number of rows dropped: {rows_all_nan.sum()}\")"
   ]
  },
  {
   "cell_type": "code",
   "execution_count": 31,
   "id": "556ca5b9-3621-4597-a0e6-141d86a4d024",
   "metadata": {},
   "outputs": [
    {
     "name": "stdout",
     "output_type": "stream",
     "text": [
      "['df_h1', '_4', 'df_h2', 'df_h3', '_17', 'df_h3_cleaned', 'df_h4', 'df_h4_cleaned', 'df_h5', 'df_h5_cleaned']\n"
     ]
    }
   ],
   "source": [
    "df_names = [var for var in globals() if isinstance(globals()[var], pd.DataFrame)]\n",
    "print(df_names)"
   ]
  },
  {
   "cell_type": "code",
   "execution_count": 32,
   "id": "b78f6231-6024-414e-a8eb-71ec34335575",
   "metadata": {},
   "outputs": [],
   "source": [
    "hep_dfs = [\n",
    "    df_h1,\n",
    "    df_h2,\n",
    "    df_h3_cleaned,\n",
    "    df_h4_cleaned,\n",
    "    df_h5_cleaned\n",
    "]\n",
    "\n",
    "from functools import reduce\n",
    "\n",
    "df_hep_combined = reduce(\n",
    "    lambda left, right: pd.merge(left, right, on=\"participant_id\", how=\"outer\"),\n",
    "    hep_dfs\n",
    ")"
   ]
  },
  {
   "cell_type": "code",
   "execution_count": 33,
   "id": "509a1ffc-2787-4f64-8ce8-1cd4052f987e",
   "metadata": {},
   "outputs": [],
   "source": [
    "df_hep_combined.to_csv(\"cleaned_hep_labs_combined.csv\", index=False)"
   ]
  },
  {
   "cell_type": "code",
   "execution_count": 34,
   "id": "40dc4187-6f08-4432-a0cf-f5afc2ce02e4",
   "metadata": {},
   "outputs": [],
   "source": [
    "df_hep = pd.read_csv('cleaned_hep_labs_combined.csv')"
   ]
  },
  {
   "cell_type": "code",
   "execution_count": 35,
   "id": "c3bea395-c615-49d6-88be-3ee3721667e6",
   "metadata": {},
   "outputs": [
    {
     "data": {
      "text/html": [
       "<div>\n",
       "<style scoped>\n",
       "    .dataframe tbody tr th:only-of-type {\n",
       "        vertical-align: middle;\n",
       "    }\n",
       "\n",
       "    .dataframe tbody tr th {\n",
       "        vertical-align: top;\n",
       "    }\n",
       "\n",
       "    .dataframe thead th {\n",
       "        text-align: right;\n",
       "    }\n",
       "</style>\n",
       "<table border=\"1\" class=\"dataframe\">\n",
       "  <thead>\n",
       "    <tr style=\"text-align: right;\">\n",
       "      <th></th>\n",
       "      <th>participant_id</th>\n",
       "      <th>hepatitis_a_antibody</th>\n",
       "      <th>hepatitis_b_antibody</th>\n",
       "      <th>hepatitis_b_core_antibody</th>\n",
       "      <th>hepatitis_b_surface_antigen</th>\n",
       "      <th>hepatitis_d_antibody_anti_hdv</th>\n",
       "      <th>hepatitis_c_rna</th>\n",
       "      <th>hepatitis_c_antibody_confirmed</th>\n",
       "      <th>hepatitis_c_genotype</th>\n",
       "      <th>hepatitis_e_igg_anti_hev</th>\n",
       "      <th>hepatitis_e_igm_anti_hev</th>\n",
       "    </tr>\n",
       "  </thead>\n",
       "  <tbody>\n",
       "    <tr>\n",
       "      <th>0</th>\n",
       "      <td>109264.0</td>\n",
       "      <td>1.0</td>\n",
       "      <td>2.0</td>\n",
       "      <td>2.0</td>\n",
       "      <td>NaN</td>\n",
       "      <td>NaN</td>\n",
       "      <td>3.0</td>\n",
       "      <td>3.0</td>\n",
       "      <td>NaN</td>\n",
       "      <td>2.0</td>\n",
       "      <td>2.0</td>\n",
       "    </tr>\n",
       "    <tr>\n",
       "      <th>1</th>\n",
       "      <td>109265.0</td>\n",
       "      <td>1.0</td>\n",
       "      <td>NaN</td>\n",
       "      <td>NaN</td>\n",
       "      <td>NaN</td>\n",
       "      <td>NaN</td>\n",
       "      <td>NaN</td>\n",
       "      <td>NaN</td>\n",
       "      <td>NaN</td>\n",
       "      <td>NaN</td>\n",
       "      <td>NaN</td>\n",
       "    </tr>\n",
       "    <tr>\n",
       "      <th>2</th>\n",
       "      <td>109266.0</td>\n",
       "      <td>1.0</td>\n",
       "      <td>1.0</td>\n",
       "      <td>2.0</td>\n",
       "      <td>NaN</td>\n",
       "      <td>NaN</td>\n",
       "      <td>3.0</td>\n",
       "      <td>3.0</td>\n",
       "      <td>NaN</td>\n",
       "      <td>2.0</td>\n",
       "      <td>2.0</td>\n",
       "    </tr>\n",
       "    <tr>\n",
       "      <th>3</th>\n",
       "      <td>109269.0</td>\n",
       "      <td>1.0</td>\n",
       "      <td>1.0</td>\n",
       "      <td>NaN</td>\n",
       "      <td>NaN</td>\n",
       "      <td>NaN</td>\n",
       "      <td>NaN</td>\n",
       "      <td>NaN</td>\n",
       "      <td>NaN</td>\n",
       "      <td>NaN</td>\n",
       "      <td>NaN</td>\n",
       "    </tr>\n",
       "    <tr>\n",
       "      <th>4</th>\n",
       "      <td>109270.0</td>\n",
       "      <td>1.0</td>\n",
       "      <td>1.0</td>\n",
       "      <td>2.0</td>\n",
       "      <td>NaN</td>\n",
       "      <td>NaN</td>\n",
       "      <td>3.0</td>\n",
       "      <td>3.0</td>\n",
       "      <td>NaN</td>\n",
       "      <td>2.0</td>\n",
       "      <td>2.0</td>\n",
       "    </tr>\n",
       "  </tbody>\n",
       "</table>\n",
       "</div>"
      ],
      "text/plain": [
       "   participant_id  hepatitis_a_antibody  hepatitis_b_antibody  \\\n",
       "0        109264.0                   1.0                   2.0   \n",
       "1        109265.0                   1.0                   NaN   \n",
       "2        109266.0                   1.0                   1.0   \n",
       "3        109269.0                   1.0                   1.0   \n",
       "4        109270.0                   1.0                   1.0   \n",
       "\n",
       "   hepatitis_b_core_antibody  hepatitis_b_surface_antigen  \\\n",
       "0                        2.0                          NaN   \n",
       "1                        NaN                          NaN   \n",
       "2                        2.0                          NaN   \n",
       "3                        NaN                          NaN   \n",
       "4                        2.0                          NaN   \n",
       "\n",
       "   hepatitis_d_antibody_anti_hdv  hepatitis_c_rna  \\\n",
       "0                            NaN              3.0   \n",
       "1                            NaN              NaN   \n",
       "2                            NaN              3.0   \n",
       "3                            NaN              NaN   \n",
       "4                            NaN              3.0   \n",
       "\n",
       "   hepatitis_c_antibody_confirmed  hepatitis_c_genotype  \\\n",
       "0                             3.0                   NaN   \n",
       "1                             NaN                   NaN   \n",
       "2                             3.0                   NaN   \n",
       "3                             NaN                   NaN   \n",
       "4                             3.0                   NaN   \n",
       "\n",
       "   hepatitis_e_igg_anti_hev  hepatitis_e_igm_anti_hev  \n",
       "0                       2.0                       2.0  \n",
       "1                       NaN                       NaN  \n",
       "2                       2.0                       2.0  \n",
       "3                       NaN                       NaN  \n",
       "4                       2.0                       2.0  "
      ]
     },
     "execution_count": 35,
     "metadata": {},
     "output_type": "execute_result"
    }
   ],
   "source": [
    "df_hep.head()"
   ]
  },
  {
   "cell_type": "code",
   "execution_count": null,
   "id": "c8daf45f-7baa-496e-95d2-0a00d56fed30",
   "metadata": {},
   "outputs": [],
   "source": []
  }
 ],
 "metadata": {
  "kernelspec": {
   "display_name": "Python 3 (ipykernel)",
   "language": "python",
   "name": "python3"
  },
  "language_info": {
   "codemirror_mode": {
    "name": "ipython",
    "version": 3
   },
   "file_extension": ".py",
   "mimetype": "text/x-python",
   "name": "python",
   "nbconvert_exporter": "python",
   "pygments_lexer": "ipython3",
   "version": "3.12.7"
  }
 },
 "nbformat": 4,
 "nbformat_minor": 5
}
