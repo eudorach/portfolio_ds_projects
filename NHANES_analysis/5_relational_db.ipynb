{
 "cells": [
  {
   "cell_type": "markdown",
   "id": "6f9b407c-4e10-4e2c-9ed1-6ad114b3bcc5",
   "metadata": {},
   "source": [
    "# Creating Relational Database\n",
    "\n",
    "The demographic information, biometric measurements, blood labs, urine labs, and hepatitis tables were cleaned and exported to CSV files. "
   ]
  }
 ],
 "metadata": {
  "kernelspec": {
   "display_name": "Python 3 (ipykernel)",
   "language": "python",
   "name": "python3"
  },
  "language_info": {
   "codemirror_mode": {
    "name": "ipython",
    "version": 3
   },
   "file_extension": ".py",
   "mimetype": "text/x-python",
   "name": "python",
   "nbconvert_exporter": "python",
   "pygments_lexer": "ipython3",
   "version": "3.10.9"
  }
 },
 "nbformat": 4,
 "nbformat_minor": 5
}
